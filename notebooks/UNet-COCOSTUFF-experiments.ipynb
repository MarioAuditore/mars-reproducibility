{
 "cells": [
  {
   "cell_type": "code",
   "execution_count": 38,
   "id": "cc1c4273",
   "metadata": {
    "cellId": "v5qe1sexttgqpx1bhin18",
    "collapsed": true,
    "jupyter": {
     "outputs_hidden": true
    }
   },
   "outputs": [
    {
     "name": "stdout",
     "output_type": "stream",
     "text": [
      "Defaulting to user installation because normal site-packages is not writeable\n",
      "Requirement already satisfied: torchsummary in /usr/local/lib/python3.10/dist-packages (1.5.1)\n",
      "Collecting pytorch-lightning\n",
      "  Obtaining dependency information for pytorch-lightning from https://files.pythonhosted.org/packages/60/eb/f29a4511a2675c9c14ca31cde4562f7676cf70396cf9e599210dca2f1e66/pytorch_lightning-2.1.2-py3-none-any.whl.metadata\n",
      "  Using cached pytorch_lightning-2.1.2-py3-none-any.whl.metadata (21 kB)\n",
      "Requirement already satisfied: albumentations==1.2.1 in /usr/local/lib/python3.10/dist-packages (1.2.1)\n",
      "Requirement already satisfied: numpy>=1.11.1 in /usr/local/lib/python3.10/dist-packages (from albumentations==1.2.1) (1.22.4)\n",
      "Requirement already satisfied: scipy in /usr/local/lib/python3.10/dist-packages (from albumentations==1.2.1) (1.10.1)\n",
      "Requirement already satisfied: scikit-image>=0.16.1 in /usr/local/lib/python3.10/dist-packages (from albumentations==1.2.1) (0.19.3)\n",
      "Requirement already satisfied: PyYAML in /usr/local/lib/python3.10/dist-packages (from albumentations==1.2.1) (6.0.1)\n",
      "Requirement already satisfied: qudida>=0.0.4 in /usr/local/lib/python3.10/dist-packages (from albumentations==1.2.1) (0.0.4)\n",
      "Requirement already satisfied: opencv-python-headless>=4.1.1 in /usr/local/lib/python3.10/dist-packages (from albumentations==1.2.1) (4.8.0.74)\n",
      "Requirement already satisfied: torch>=1.12.0 in /usr/local/lib/python3.10/dist-packages (from pytorch-lightning) (2.0.1+cu118)\n",
      "Requirement already satisfied: tqdm>=4.57.0 in /usr/local/lib/python3.10/dist-packages (from pytorch-lightning) (4.65.0)\n",
      "Requirement already satisfied: fsspec[http]>2021.06.0 in /home/jupyter/.local/lib/python3.10/site-packages (from pytorch-lightning) (2023.10.0)\n",
      "Collecting torchmetrics>=0.7.0 (from pytorch-lightning)\n",
      "  Obtaining dependency information for torchmetrics>=0.7.0 from https://files.pythonhosted.org/packages/62/17/eedb48177a4679b75b82185492f8ad2b4d010e032fd38160e157b0e22028/torchmetrics-1.2.1-py3-none-any.whl.metadata\n",
      "  Using cached torchmetrics-1.2.1-py3-none-any.whl.metadata (20 kB)\n",
      "Requirement already satisfied: packaging>=20.0 in /kernel/lib/python3.10/site-packages (from pytorch-lightning) (23.2)\n",
      "Requirement already satisfied: typing-extensions>=4.0.0 in /kernel/lib/python3.10/site-packages (from pytorch-lightning) (4.8.0)\n",
      "Collecting lightning-utilities>=0.8.0 (from pytorch-lightning)\n",
      "  Obtaining dependency information for lightning-utilities>=0.8.0 from https://files.pythonhosted.org/packages/5e/f4/07b748cb9834848de16aaeb1ae38bc9cfcfe3adc22ee2c8ebbe11db82795/lightning_utilities-0.10.0-py3-none-any.whl.metadata\n",
      "  Using cached lightning_utilities-0.10.0-py3-none-any.whl.metadata (4.8 kB)\n",
      "Requirement already satisfied: requests in /usr/local/lib/python3.10/dist-packages (from fsspec[http]>2021.06.0->pytorch-lightning) (2.27.1)\n",
      "Requirement already satisfied: aiohttp!=4.0.0a0,!=4.0.0a1 in /usr/local/lib/python3.10/dist-packages (from fsspec[http]>2021.06.0->pytorch-lightning) (3.8.5)\n",
      "Requirement already satisfied: setuptools in /kernel/lib/python3.10/site-packages (from lightning-utilities>=0.8.0->pytorch-lightning) (51.0.0)\n",
      "Requirement already satisfied: scikit-learn>=0.19.1 in /usr/local/lib/python3.10/dist-packages (from qudida>=0.0.4->albumentations==1.2.1) (1.2.2)\n",
      "Requirement already satisfied: networkx>=2.2 in /usr/local/lib/python3.10/dist-packages (from scikit-image>=0.16.1->albumentations==1.2.1) (3.1)\n",
      "Requirement already satisfied: pillow!=7.1.0,!=7.1.1,!=8.3.0,>=6.1.0 in /kernel/lib/python3.10/site-packages (from scikit-image>=0.16.1->albumentations==1.2.1) (10.1.0)\n",
      "Requirement already satisfied: imageio>=2.4.1 in /usr/local/lib/python3.10/dist-packages (from scikit-image>=0.16.1->albumentations==1.2.1) (2.25.1)\n",
      "Requirement already satisfied: tifffile>=2019.7.26 in /usr/local/lib/python3.10/dist-packages (from scikit-image>=0.16.1->albumentations==1.2.1) (2023.7.18)\n",
      "Requirement already satisfied: PyWavelets>=1.1.1 in /usr/local/lib/python3.10/dist-packages (from scikit-image>=0.16.1->albumentations==1.2.1) (1.4.1)\n",
      "Requirement already satisfied: filelock in /usr/local/lib/python3.10/dist-packages (from torch>=1.12.0->pytorch-lightning) (3.12.2)\n",
      "Requirement already satisfied: sympy in /usr/local/lib/python3.10/dist-packages (from torch>=1.12.0->pytorch-lightning) (1.11.1)\n",
      "Requirement already satisfied: jinja2 in /kernel/lib/python3.10/site-packages (from torch>=1.12.0->pytorch-lightning) (3.1.2)\n",
      "Requirement already satisfied: triton==2.0.0 in /usr/local/lib/python3.10/dist-packages (from torch>=1.12.0->pytorch-lightning) (2.0.0)\n",
      "Requirement already satisfied: cmake in /usr/local/lib/python3.10/dist-packages (from triton==2.0.0->torch>=1.12.0->pytorch-lightning) (3.25.2)\n",
      "Requirement already satisfied: lit in /usr/local/lib/python3.10/dist-packages (from triton==2.0.0->torch>=1.12.0->pytorch-lightning) (16.0.6)\n",
      "Requirement already satisfied: attrs>=17.3.0 in /kernel/lib/python3.10/site-packages (from aiohttp!=4.0.0a0,!=4.0.0a1->fsspec[http]>2021.06.0->pytorch-lightning) (23.1.0)\n",
      "Requirement already satisfied: charset-normalizer<4.0,>=2.0 in /kernel/lib/python3.10/site-packages (from aiohttp!=4.0.0a0,!=4.0.0a1->fsspec[http]>2021.06.0->pytorch-lightning) (3.3.2)\n",
      "Requirement already satisfied: multidict<7.0,>=4.5 in /usr/local/lib/python3.10/dist-packages (from aiohttp!=4.0.0a0,!=4.0.0a1->fsspec[http]>2021.06.0->pytorch-lightning) (6.0.4)\n",
      "Requirement already satisfied: async-timeout<5.0,>=4.0.0a3 in /usr/local/lib/python3.10/dist-packages (from aiohttp!=4.0.0a0,!=4.0.0a1->fsspec[http]>2021.06.0->pytorch-lightning) (4.0.2)\n",
      "Requirement already satisfied: yarl<2.0,>=1.0 in /usr/local/lib/python3.10/dist-packages (from aiohttp!=4.0.0a0,!=4.0.0a1->fsspec[http]>2021.06.0->pytorch-lightning) (1.9.2)\n",
      "Requirement already satisfied: frozenlist>=1.1.1 in /usr/local/lib/python3.10/dist-packages (from aiohttp!=4.0.0a0,!=4.0.0a1->fsspec[http]>2021.06.0->pytorch-lightning) (1.4.0)\n",
      "Requirement already satisfied: aiosignal>=1.1.2 in /usr/local/lib/python3.10/dist-packages (from aiohttp!=4.0.0a0,!=4.0.0a1->fsspec[http]>2021.06.0->pytorch-lightning) (1.3.1)\n",
      "Requirement already satisfied: joblib>=1.1.1 in /usr/local/lib/python3.10/dist-packages (from scikit-learn>=0.19.1->qudida>=0.0.4->albumentations==1.2.1) (1.3.1)\n",
      "Requirement already satisfied: threadpoolctl>=2.0.0 in /usr/local/lib/python3.10/dist-packages (from scikit-learn>=0.19.1->qudida>=0.0.4->albumentations==1.2.1) (3.2.0)\n",
      "Requirement already satisfied: MarkupSafe>=2.0 in /kernel/lib/python3.10/site-packages (from jinja2->torch>=1.12.0->pytorch-lightning) (2.1.3)\n",
      "Requirement already satisfied: urllib3<1.27,>=1.21.1 in /kernel/lib/python3.10/site-packages (from requests->fsspec[http]>2021.06.0->pytorch-lightning) (1.25.11)\n",
      "Requirement already satisfied: certifi>=2017.4.17 in /kernel/lib/python3.10/site-packages (from requests->fsspec[http]>2021.06.0->pytorch-lightning) (2023.11.17)\n",
      "Collecting charset-normalizer<4.0,>=2.0 (from aiohttp!=4.0.0a0,!=4.0.0a1->fsspec[http]>2021.06.0->pytorch-lightning)\n",
      "  Downloading charset_normalizer-2.0.12-py3-none-any.whl (39 kB)\n",
      "Requirement already satisfied: idna<4,>=2.5 in /kernel/lib/python3.10/site-packages (from requests->fsspec[http]>2021.06.0->pytorch-lightning) (3.6)\n",
      "Requirement already satisfied: mpmath>=0.19 in /usr/local/lib/python3.10/dist-packages (from sympy->torch>=1.12.0->pytorch-lightning) (1.3.0)\n",
      "Downloading pytorch_lightning-2.1.2-py3-none-any.whl (776 kB)\n",
      "\u001b[2K   \u001b[90m━━━━━━━━━━━━━━━━━━━━━━━━━━━━━━━━━━━━━━━━\u001b[0m \u001b[32m776.9/776.9 kB\u001b[0m \u001b[31m9.2 MB/s\u001b[0m eta \u001b[36m0:00:00\u001b[0m:00:01\u001b[0m0:01\u001b[0m\n",
      "\u001b[?25hDownloading lightning_utilities-0.10.0-py3-none-any.whl (24 kB)\n",
      "Downloading torchmetrics-1.2.1-py3-none-any.whl (806 kB)\n",
      "\u001b[2K   \u001b[90m━━━━━━━━━━━━━━━━━━━━━━━━━━━━━━━━━━━━━━━━\u001b[0m \u001b[32m806.1/806.1 kB\u001b[0m \u001b[31m31.3 MB/s\u001b[0m eta \u001b[36m0:00:00\u001b[0m\n",
      "\u001b[?25hInstalling collected packages: lightning-utilities, charset-normalizer, torchmetrics, pytorch-lightning\n",
      "\u001b[33m  WARNING: The script normalizer is installed in '/home/jupyter/.local/bin' which is not on PATH.\n",
      "  Consider adding this directory to PATH or, if you prefer to suppress this warning, use --no-warn-script-location.\u001b[0m\u001b[33m\n",
      "\u001b[0m\u001b[31mERROR: pip's dependency resolver does not currently take into account all the packages that are installed. This behaviour is the source of the following dependency conflicts.\n",
      "gcsfs 2023.6.0 requires fsspec==2023.6.0, but you have fsspec 2023.10.0 which is incompatible.\u001b[0m\u001b[31m\n",
      "\u001b[0mSuccessfully installed charset-normalizer-2.0.12 lightning-utilities-0.10.0 pytorch-lightning-2.1.2 torchmetrics-1.2.1\n",
      "\n",
      "\u001b[1m[\u001b[0m\u001b[34;49mnotice\u001b[0m\u001b[1;39;49m]\u001b[0m\u001b[39;49m A new release of pip is available: \u001b[0m\u001b[31;49m23.2.1\u001b[0m\u001b[39;49m -> \u001b[0m\u001b[32;49m23.3.2\u001b[0m\n",
      "\u001b[1m[\u001b[0m\u001b[34;49mnotice\u001b[0m\u001b[1;39;49m]\u001b[0m\u001b[39;49m To update, run: \u001b[0m\u001b[32;49mpython3 -m pip install --upgrade pip\u001b[0m\n"
     ]
    }
   ],
   "source": [
    "#!g1.1\n",
    "# %pip install torchsummary pytorch-lightning albumentations==1.2.1 numpy~=1.19.2 pandas~=1.1.0 seaborn\n",
    "%pip install torchsummary pytorch-lightning albumentations==1.2.1 # numpy~=1.19.2 pandas~=1.1.0 seaborn"
   ]
  },
  {
   "cell_type": "markdown",
   "id": "8dfd9c70",
   "metadata": {
    "cellId": "9rd57jqiijnau0vjs2ojyb",
    "execution_id": "ab760562-63c7-42f3-8745-9811191f981d"
   },
   "source": [
    "## Imports and constants"
   ]
  },
  {
   "cell_type": "code",
   "execution_count": 126,
   "id": "bd0303fd",
   "metadata": {
    "cellId": "nmlrjefebqi83yzl4tea7w"
   },
   "outputs": [],
   "source": [
    "#!g1.1\n",
    "from functools import lru_cache\n",
    "import gc\n",
    "import os\n",
    "import time\n",
    "import glob\n",
    "import copy\n",
    "import json\n",
    "import random\n",
    "import shutil\n",
    "import requests\n",
    "import subprocess\n",
    "from urllib.request import urlretrieve\n",
    "from typing import Any, Callable, Dict, Iterable, List, Tuple\n",
    "from collections import defaultdict, OrderedDict\n",
    "\n",
    "import warnings\n",
    "warnings.simplefilter(action='ignore', category=FutureWarning)\n",
    "warnings.simplefilter(action='ignore', category=UserWarning)\n",
    "warnings.filterwarnings(\"ignore\")\n",
    "\n",
    "from joblib import load, dump\n",
    "\n",
    "import matplotlib.pyplot as plt\n",
    "import numpy as np\n",
    "import pandas as pd\n",
    "from tqdm.notebook import tqdm\n",
    "\n",
    "# Библиотеки для обучения\n",
    "import torch\n",
    "import torch.nn as nn\n",
    "import torch.nn.functional as F\n",
    "import pytorch_lightning as pl\n",
    "\n",
    "from torch.utils.data import Dataset, DataLoader, random_split\n",
    "from torch.nn.utils.rnn import pad_sequence\n",
    "\n",
    "from sklearn.model_selection import train_test_split\n",
    "from sklearn.metrics import precision_recall_curve\n",
    "from sklearn.utils.random import sample_without_replacement\n",
    "\n",
    "from torchsummary import summary\n",
    "\n",
    "# Библиотеки для обработки изображений\n",
    "import albumentations as A\n",
    "from albumentations.pytorch import ToTensorV2\n",
    "import cv2\n",
    "import scipy.io\n",
    "\n",
    "# Библиотеки для визуализации\n",
    "import ipywidgets as widgets\n",
    "from IPython.display import clear_output\n",
    "from IPython import display"
   ]
  },
  {
   "cell_type": "code",
   "execution_count": 127,
   "id": "b6bb98cf",
   "metadata": {
    "cellId": "q5fgasiqnrd52rj18d1ni"
   },
   "outputs": [],
   "source": [
    "#!g1.1\n",
    "INPUT_SIZE = 320\n",
    "\n",
    "PREFERABLE_BATCH_SIZE = 32\n",
    "BATCH_SIZE = 32\n",
    "ACCUM_GRAD = (PREFERABLE_BATCH_SIZE - 1) // BATCH_SIZE + 1\n",
    "\n",
    "CLASS_INFO = {\n",
    "    \"people\": {\n",
    "        \"filename\": \"cocostuff_people_1_3.5k_0.1.csv\",\n",
    "        \"idx\": 1,\n",
    "    },\n",
    "    \"tree\": {\n",
    "        \"filename\": \"cocostuff_tree_169_2.5k_0.2.csv\",\n",
    "        \"idx\": 169,\n",
    "    },\n",
    "}\n",
    "\n",
    "CHOSEN_CLASS = \"tree\"\n",
    "CLASS_IDX = CLASS_INFO[CHOSEN_CLASS][\"idx\"]\n",
    "SPLIT_FILENAME = CLASS_INFO[CHOSEN_CLASS][\"filename\"]"
   ]
  },
  {
   "cell_type": "markdown",
   "id": "fe5064da",
   "metadata": {
    "cellId": "wcxyw3bbfxm98b4vn6mqp",
    "execution_id": "b08e92b2-9c64-4a69-827b-ae27e9d97f9a"
   },
   "source": [
    "### Data"
   ]
  },
  {
   "cell_type": "markdown",
   "id": "7e43def6",
   "metadata": {
    "cellId": "av5x3df64sltsev32h5rs9",
    "execution_id": "9d80e691-4cf1-44f5-a909-8ec1dffc174d"
   },
   "source": [
    "#### Dataset Loading: Cocostuff"
   ]
  },
  {
   "cell_type": "code",
   "execution_count": 1,
   "id": "8fc85aee",
   "metadata": {
    "cellId": "6p7vmpp64oyvbok1oiu9ni"
   },
   "outputs": [],
   "source": [
    "#!g1.1\n",
    "# !rm -rf ./datasets\n",
    "# !mkdir ./datasets\n",
    "\n",
    "# !rm -rf ./checkpoints\n",
    "# !mkdir ./checkpoints"
   ]
  },
  {
   "cell_type": "code",
   "execution_count": 2,
   "id": "33c20f99",
   "metadata": {
    "cellId": "g4ommx4bmwoqapmwk18wyb"
   },
   "outputs": [],
   "source": [
    "#!g1.1\n",
    "# !wget -q http://calvin.inf.ed.ac.uk/wp-content/uploads/data/cocostuffdataset/cocostuff-10k-v1.1.zip\n",
    "# !unzip -qn cocostuff-10k-v1.1.zip -d ./datasets/COCOSTUFF\n",
    "# !rm -rf cocostuff-10k-v1.1.zip"
   ]
  },
  {
   "cell_type": "code",
   "execution_count": 128,
   "id": "37ed62a5",
   "metadata": {
    "cellId": "yej1im3fh49oxnnu0htevj"
   },
   "outputs": [
    {
     "data": {
      "text/plain": [
       "(10000,\n",
       " ['COCO_train2014_000000000077.mat',\n",
       "  'COCO_train2014_000000000113.mat',\n",
       "  'COCO_train2014_000000000127.mat',\n",
       "  'COCO_train2014_000000000260.mat',\n",
       "  'COCO_train2014_000000000349.mat',\n",
       "  'COCO_train2014_000000000368.mat',\n",
       "  'COCO_train2014_000000000389.mat',\n",
       "  'COCO_train2014_000000000431.mat',\n",
       "  'COCO_train2014_000000000446.mat',\n",
       "  'COCO_train2014_000000000575.mat'],\n",
       " 10000,\n",
       " ['COCO_train2014_000000000077.jpg',\n",
       "  'COCO_train2014_000000000113.jpg',\n",
       "  'COCO_train2014_000000000127.jpg',\n",
       "  'COCO_train2014_000000000260.jpg',\n",
       "  'COCO_train2014_000000000349.jpg',\n",
       "  'COCO_train2014_000000000368.jpg',\n",
       "  'COCO_train2014_000000000389.jpg',\n",
       "  'COCO_train2014_000000000431.jpg',\n",
       "  'COCO_train2014_000000000446.jpg',\n",
       "  'COCO_train2014_000000000575.jpg'])"
      ]
     },
     "execution_count": 128,
     "metadata": {},
     "output_type": "execute_result"
    }
   ],
   "source": [
    "#!g1.1\n",
    "gt_path = \"./datasets/COCOSTUFF/annotations\"\n",
    "image_path = \"./datasets/COCOSTUFF/images\"\n",
    "gt_filenames = sorted(os.listdir(gt_path))\n",
    "images_filenames = sorted(os.listdir(image_path))\n",
    "len(gt_filenames), gt_filenames[:10], len(images_filenames), images_filenames[:10]"
   ]
  },
  {
   "cell_type": "code",
   "execution_count": 129,
   "id": "908622b1",
   "metadata": {
    "cellId": "hnqvi4bsh5miww9qyiul"
   },
   "outputs": [
    {
     "data": {
      "image/png": "[encoded data removed]",
      "text/plain": [
       "<Figure size 432x288 with 1 Axes>"
      ]
     },
     "metadata": {
      "needs_background": "light"
     },
     "output_type": "display_data"
    },
    {
     "data": {
      "text/plain": [
       "<matplotlib.image.AxesImage at 0x7fb9516422f0>"
      ]
     },
     "execution_count": 129,
     "metadata": {},
     "output_type": "execute_result"
    },
    {
     "data": {
      "image/png": "[encoded data removed]",
      "text/plain": [
       "<Figure size 432x288 with 1 Axes>"
      ]
     },
     "metadata": {
      "needs_background": "light"
     },
     "output_type": "display_data"
    }
   ],
   "source": [
    "#!g1.1\n",
    "sample_image = os.path.join(image_path, images_filenames[0])\n",
    "sample_image = cv2.cvtColor(cv2.imread(sample_image), cv2.COLOR_BGR2RGB)\n",
    "\n",
    "sample_mask = os.path.join(gt_path, images_filenames[0].replace(\".jpg\", \".mat\",))\n",
    "sample_mask = scipy.io.loadmat(sample_mask)['S']\n",
    "\n",
    "plt.imshow(sample_image)\n",
    "plt.show()\n",
    "plt.imshow(sample_mask)"
   ]
  },
  {
   "cell_type": "code",
   "execution_count": 130,
   "id": "91d2c6c2",
   "metadata": {
    "cellId": "sl27pe1dpn5ii8n6xvwee"
   },
   "outputs": [
    {
     "name": "stdout",
     "output_type": "stream",
     "text": [
      "torch.Size([3, 320, 320])\n",
      "torch.Size([320, 320])\n"
     ]
    },
    {
     "name": "stderr",
     "output_type": "stream",
     "text": [
      "Clipping input data to the valid range for imshow with RGB data ([0..1] for floats or [0..255] for integers).\n"
     ]
    },
    {
     "data": {
      "image/png": "[encoded data removed]",
      "text/plain": [
       "<Figure size 432x288 with 1 Axes>"
      ]
     },
     "metadata": {
      "needs_background": "light"
     },
     "output_type": "display_data"
    },
    {
     "data": {
      "text/plain": [
       "<matplotlib.image.AxesImage at 0x7fb94cd778e0>"
      ]
     },
     "execution_count": 130,
     "metadata": {},
     "output_type": "execute_result"
    },
    {
     "data": {
      "image/png": "[encoded data removed]",
      "text/plain": [
       "<Figure size 432x288 with 1 Axes>"
      ]
     },
     "metadata": {
      "needs_background": "light"
     },
     "output_type": "display_data"
    }
   ],
   "source": [
    "#!g1.1\n",
    "def prepare_class_extractor(cls=1):\n",
    "    def class_extractor(mask, **kwargs):\n",
    "        return (mask == cls).astype(int)\n",
    "\n",
    "    return class_extractor\n",
    "\n",
    "coco_transform = A.Compose([\n",
    "    A.Lambda(mask=prepare_class_extractor(cls=CLASS_IDX)),\n",
    "    A.LongestMaxSize(INPUT_SIZE, cv2.INTER_LINEAR),\n",
    "    A.Normalize(mean=(0.485, 0.456, 0.406), std=(0.229, 0.224, 0.225)),\n",
    "    A.PadIfNeeded(INPUT_SIZE, INPUT_SIZE, border_mode=cv2.BORDER_CONSTANT, value=0),\n",
    "    ToTensorV2(),\n",
    "])\n",
    "\n",
    "transformed = coco_transform(image=sample_image, mask=sample_mask)\n",
    "transformed_image = transformed[\"image\"]\n",
    "transformed_mask = transformed[\"mask\"]\n",
    "\n",
    "print(transformed_image.shape)\n",
    "print(transformed_mask.shape)\n",
    "plt.imshow(torch.permute(transformed_image, (1, 2, 0)))\n",
    "plt.show()\n",
    "plt.imshow(transformed_mask)"
   ]
  },
  {
   "cell_type": "code",
   "execution_count": 131,
   "id": "f7f80a00",
   "metadata": {
    "cellId": "fqsn616ie24yrwh68is1xp"
   },
   "outputs": [],
   "source": [
    "#!g1.1\n",
    "class CocoStuffDataset(Dataset):\n",
    "    def __init__(self, image_path, mask_path, filenames, transform=None, preprocess=False):\n",
    "        \"\"\"\n",
    "        Args:\n",
    "            image_path: путь до изображений\n",
    "            mask_path: путь до масок\n",
    "            filenames: список изображений\n",
    "            transform: трансформация для изображений.\n",
    "        \"\"\"\n",
    "        self.image_path = image_path\n",
    "        self.mask_path = mask_path\n",
    "        self.filenames = filenames\n",
    "        self.transform = transform\n",
    "        self.preprocess = preprocess\n",
    "\n",
    "        if preprocess:\n",
    "            self.preprocessed = []\n",
    "            for filename in tqdm(filenames):\n",
    "                self.preprocessed.append(\n",
    "                    self.transform(\n",
    "                        image=cv2.cvtColor(\n",
    "                            cv2.imread(os.path.join(self.image_path, filename + \".jpg\")),\n",
    "                            cv2.COLOR_BGR2RGB,\n",
    "                        ),\n",
    "                        mask=scipy.io.loadmat(\n",
    "                            os.path.join(self.mask_path, filename + \".mat\"),\n",
    "                        )['S'],\n",
    "                    )\n",
    "                )\n",
    "\n",
    "    def __len__(self):\n",
    "        return len(self.filenames)\n",
    "\n",
    "    def get_preprocessed_image(self, idx):\n",
    "        return self.preprocessed[idx]\n",
    "\n",
    "    def get_processed_image(self, idx):\n",
    "        return self.transform(\n",
    "            image=cv2.cvtColor(\n",
    "                cv2.imread(os.path.join(self.image_path, self.filenames[idx] + \".jpg\")),\n",
    "                cv2.COLOR_BGR2RGB,\n",
    "            ),\n",
    "            mask=scipy.io.loadmat(\n",
    "                os.path.join(self.mask_path, self.filenames[idx] + \".mat\"),\n",
    "            )['S'],\n",
    "        )\n",
    "\n",
    "    def __getitem__(self, idx):\n",
    "        if self.preprocess:\n",
    "            return self.get_preprocessed_image(idx)\n",
    "        return self.get_processed_image(idx)"
   ]
  },
  {
   "cell_type": "code",
   "execution_count": 132,
   "id": "f1fbcd83",
   "metadata": {
    "cellId": "zdeab9z0hwrx4yv8d227s"
   },
   "outputs": [],
   "source": [
    "#!g1.1\n",
    "def setup_dataloaders(dataset_split, k=8, gt_path=gt_path, image_path=image_path,\n",
    "                      batch_size=BATCH_SIZE, transform=coco_transform, preprocess=False):\n",
    "    train = dataset_split[(dataset_split['split'] == \"train\") & (dataset_split['group'] < k)].filenames.tolist()\n",
    "    valid = dataset_split[(dataset_split['split'] == \"valid\") & (dataset_split['group'] < k)].filenames.tolist()\n",
    "    test = dataset_split[(dataset_split['split'] == \"test\") & (dataset_split['group'] < k)].filenames.tolist()\n",
    "\n",
    "    train_dataset = CocoStuffDataset(\n",
    "        image_path,\n",
    "        gt_path,\n",
    "        train,\n",
    "        transform=transform,\n",
    "        preprocess=preprocess,\n",
    "    )\n",
    "\n",
    "    train_dataloader = DataLoader(\n",
    "        train_dataset,\n",
    "        shuffle=True,\n",
    "        batch_size=batch_size,\n",
    "        num_workers=2,\n",
    "    )\n",
    "\n",
    "\n",
    "    valid_dataset = CocoStuffDataset(\n",
    "        image_path,\n",
    "        gt_path,\n",
    "        valid,\n",
    "        transform=transform,\n",
    "        preprocess=preprocess,\n",
    "    )\n",
    "\n",
    "    valid_dataloader = DataLoader(\n",
    "        valid_dataset,\n",
    "        shuffle=False,\n",
    "        batch_size=batch_size,\n",
    "        num_workers=2,\n",
    "    )\n",
    "\n",
    "\n",
    "    test_dataset = CocoStuffDataset(\n",
    "        image_path,\n",
    "        gt_path,\n",
    "        test,\n",
    "        transform=transform,\n",
    "        preprocess=preprocess,\n",
    "    )\n",
    "\n",
    "    test_dataloader = DataLoader(\n",
    "        test_dataset,\n",
    "        shuffle=False,\n",
    "        batch_size=batch_size,\n",
    "        num_workers=2,\n",
    "    )\n",
    "\n",
    "    return {\n",
    "        \"train\": train_dataloader,\n",
    "        \"valid\": valid_dataloader,\n",
    "        \"test\": test_dataloader,\n",
    "    }"
   ]
  },
  {
   "cell_type": "markdown",
   "id": "5b7ec95b",
   "metadata": {
    "cellId": "1o16cpii3zc1jb0j1o1djm",
    "execution_id": "4571e401-abbb-48e7-9b8d-3c04d1a921b6"
   },
   "source": [
    "## Model, loss and training functions"
   ]
  },
  {
   "cell_type": "code",
   "execution_count": 133,
   "id": "d7441c48",
   "metadata": {
    "cellId": "jyrvos47reg7270aryaw4w"
   },
   "outputs": [],
   "source": [
    "#!g1.1\n",
    "import torch.nn.init as init\n",
    "\n",
    "def weight_init(m):\n",
    "    '''\n",
    "    Usage:\n",
    "        model = Model()\n",
    "        model.apply(weight_init)\n",
    "    '''\n",
    "    if isinstance(m, nn.Conv2d):\n",
    "        init.xavier_normal_(m.weight.data)\n",
    "        if m.bias is not None:\n",
    "            init.normal_(m.bias.data)\n",
    "    elif isinstance(m, nn.ConvTranspose2d):\n",
    "        init.xavier_normal_(m.weight.data)\n",
    "        if m.bias is not None:\n",
    "            init.normal_(m.bias.data)\n",
    "    elif isinstance(m, nn.BatchNorm2d):\n",
    "        init.normal_(m.weight.data, mean=1, std=0.02)\n",
    "        init.constant_(m.bias.data, 0)\n",
    "    elif isinstance(m, nn.Linear):\n",
    "        init.xavier_normal_(m.weight.data)\n",
    "        init.normal_(m.bias.data)"
   ]
  },
  {
   "cell_type": "markdown",
   "id": "e4d2a513",
   "metadata": {
    "cellId": "tepm7yandh90aiub3gfvkk5",
    "execution_id": "1b3bcd52-d3c0-44d5-9ac0-2f5c345467d6"
   },
   "source": [
    "### Blocks"
   ]
  },
  {
   "cell_type": "code",
   "execution_count": 134,
   "id": "4846a6ca",
   "metadata": {
    "cellId": "dbzna1wiqygyk19zglrnm"
   },
   "outputs": [],
   "source": [
    "#!g1.1\n",
    "class DoubleConv(nn.Module):\n",
    "    def __init__(self, in_channels, out_channels, mid_channels=None):\n",
    "        super().__init__()\n",
    "        if mid_channels is None:\n",
    "            mid_channels = out_channels\n",
    "        self.conv = nn.Sequential(\n",
    "            nn.Conv2d(in_channels, mid_channels, 3, padding=1, bias=False),\n",
    "            nn.BatchNorm2d(mid_channels),\n",
    "            nn.ReLU(),\n",
    "            nn.Conv2d(mid_channels, out_channels, 3, padding=1, bias=False),\n",
    "            nn.BatchNorm2d(out_channels),\n",
    "            nn.ReLU(),\n",
    "        )\n",
    "\n",
    "    def forward(self, x):\n",
    "        return self.conv(x)\n",
    "\n",
    "\n",
    "class DownBlock(nn.Module):\n",
    "    def __init__(self, in_channels, out_channels):\n",
    "        super().__init__()\n",
    "        self.block = nn.Sequential(\n",
    "            nn.MaxPool2d(2),\n",
    "            DoubleConv(in_channels, out_channels),\n",
    "        )\n",
    "\n",
    "    def forward(self, x):\n",
    "        return self.block(x)\n",
    "\n",
    "\n",
    "class UpBlock(nn.Module):\n",
    "    def __init__(self, in_channels, out_channels, upsample=False, upsample_mode='bilinear'):\n",
    "        super().__init__()\n",
    "        if upsample:\n",
    "            self.up = nn.Sequential([\n",
    "                nn.Upsample(scale_factor=2, mode=upsample_mode),\n",
    "                nn.Conv2d(in_channels, in_channels // 2, 1, bias=False)\n",
    "            ])\n",
    "        else:\n",
    "            self.up = nn.ConvTranspose2d(in_channels, in_channels // 2, kernel_size=2, stride=2)\n",
    "        self.conv = DoubleConv(in_channels, out_channels, out_channels)\n",
    "\n",
    "    def forward(self, prev, skip):\n",
    "        return self.conv(\n",
    "            torch.cat([self.up(prev), skip], dim=-3)\n",
    "        )"
   ]
  },
  {
   "cell_type": "markdown",
   "id": "2fd9eb3b",
   "metadata": {
    "cellId": "7gb5w6pugwc3e2r503b05q",
    "execution_id": "44a02ef8-89c3-40df-a917-904ee2fd5b7e"
   },
   "source": [
    "### U-Net"
   ]
  },
  {
   "cell_type": "code",
   "execution_count": 135,
   "id": "05ecf088",
   "metadata": {
    "cellId": "ilnkb0kr3474lhb4vvt7b"
   },
   "outputs": [],
   "source": [
    "#!g1.1\n",
    "class UNet(nn.Module):\n",
    "    def __init__(self, n_channels, n_classes, depth=3, start_channels=32,\n",
    "                 upsample=False, upsample_mode='bilinear'):\n",
    "        super(UNet, self).__init__()\n",
    "        self.n_channels = n_channels\n",
    "        self.n_classes = n_classes\n",
    "        self.depth = depth\n",
    "        self.multiple = 2 ** depth\n",
    "        self.start_channels = start_channels\n",
    "        self.threshold = 0.5\n",
    "\n",
    "        self.upsample = upsample\n",
    "        if upsample:\n",
    "            self.upsample_mode = upsample_mode\n",
    "\n",
    "        self.downs = [DoubleConv(n_channels, start_channels)]\n",
    "        channels = (start_channels, start_channels * 2)\n",
    "        for k in range(depth - 1):\n",
    "            self.downs.append(DownBlock(*channels))\n",
    "            channels = (channels[1], channels[1] * 2)\n",
    "\n",
    "        self.downs = nn.ModuleList(self.downs)\n",
    "        self.center = DownBlock(*channels)\n",
    "\n",
    "        channels = (channels[1], channels[1] // 2)\n",
    "        self.ups = []\n",
    "        for k in range(depth):\n",
    "            self.ups.append(UpBlock(*channels))\n",
    "            channels = (channels[1], channels[1] // 2)\n",
    "        self.ups = nn.ModuleList(self.ups)\n",
    "\n",
    "        self.out = nn.Conv2d(channels[0], n_classes, 1)\n",
    "\n",
    "#         # initialize weights\n",
    "#         self.apply(weight_init)\n",
    "\n",
    "    def set_threshold(self, ths):\n",
    "        self.threshold = ths\n",
    "\n",
    "    def forward(self, x):\n",
    "        H, W = x.shape[-2:]\n",
    "        if H % self.multiple != 0 or W % self.multiple != 0:\n",
    "            new_H = ((H - 1) // self.multiple + 1) * self.multiple\n",
    "            new_W = ((W - 1) // self.multiple + 1) * self.multiple\n",
    "            x = F.pad(x, [0, new_W - W, 0, new_H - H])\n",
    "\n",
    "        skips = []\n",
    "        out = x\n",
    "        for d_block in self.downs:\n",
    "            out = d_block(out)\n",
    "            skips.append(out)\n",
    "        out = self.center(out)\n",
    "\n",
    "        for skip, u_block in zip(skips[::-1], self.ups):\n",
    "            out = u_block(out, skip)\n",
    "\n",
    "        out = self.out(out)\n",
    "        if H % self.multiple != 0 or W % self.multiple != 0:\n",
    "            out = out[:, :, :H, :W]\n",
    "\n",
    "        return out\n",
    "\n",
    "    def predict(self, x):\n",
    "        logits = self.forward(x)\n",
    "        if self.n_classes != 1:\n",
    "            return logits.argmax(dim=-3)\n",
    "        return (F.sigmoid(logits) >= self.threshold).to(int)"
   ]
  },
  {
   "cell_type": "markdown",
   "id": "a6ebc8ac",
   "metadata": {
    "cellId": "bp0vs0iy1d9v56vzncuafa",
    "execution_id": "cda6f75c-42fc-4cc8-ad63-31e220173225"
   },
   "source": [
    "### Loss"
   ]
  },
  {
   "cell_type": "code",
   "execution_count": 137,
   "id": "f12dffea",
   "metadata": {
    "cellId": "zehmjgclms9732xjxicqs"
   },
   "outputs": [],
   "source": [
    "#!g1.1\n",
    "def dice_loss(target, logits, smooth=1e-6):\n",
    "    probs = None\n",
    "    if len(logits.shape) == 4 and logits.shape[-3] != 1:\n",
    "        probs = F.softmax(logits, dim=-3)\n",
    "    else:\n",
    "        pos_prob = torch.sigmoid(logits)\n",
    "        neg_prob = 1 - pos_prob\n",
    "        probs = torch.cat([neg_prob, pos_prob], dim=-3)\n",
    "\n",
    "    target_onehot = torch.eye(2).type(logits.type())[target.long().squeeze(1)].permute(0, 3, 1, 2)\n",
    "\n",
    "    dims = (0,) + tuple(range(2, target.ndimension()))\n",
    "    numer = (probs * target_onehot).sum(dim=dims)\n",
    "    denom = (probs + target_onehot).sum(dim=dims)\n",
    "    dice_score = (2. * numer / (denom + smooth)).mean()\n",
    "    return (1 - dice_score)\n",
    "\n",
    "def bce_loss(target, logits, weight=torch.tensor([.5, .5])):\n",
    "    p_t = None\n",
    "    if len(logits.shape) == 4 and logits.shape[-3] != 1:\n",
    "        probs = F.softmax(logits, dim=-3)\n",
    "        p_t = torch.where(target.to(bool), probs[:, 1], probs[:, 0])\n",
    "    else:\n",
    "        probs = F.sigmoid(logits)\n",
    "        p_t = torch.where(target.to(bool), probs, 1 - probs)\n",
    "\n",
    "    weight_t = weight.type(logits.type())[target.long()]\n",
    "    return -(weight_t * torch.log(p_t)).mean()"
   ]
  },
  {
   "cell_type": "code",
   "execution_count": 138,
   "id": "de764bc8",
   "metadata": {
    "cellId": "owricxmxf16907jzprgtd"
   },
   "outputs": [
    {
     "data": {
      "text/plain": [
       "(tensor(0.4993), tensor(0.4022))"
      ]
     },
     "execution_count": 138,
     "metadata": {},
     "output_type": "execute_result"
    }
   ],
   "source": [
    "#!g1.1\n",
    "target = torch.randint(0, 2, (8, 1, 127, 127))\n",
    "logits = torch.randn(8, 1, 127, 127)\n",
    "\n",
    "(\n",
    "    dice_loss(target, logits),\n",
    "    bce_loss(target, logits),\n",
    ")"
   ]
  },
  {
   "cell_type": "code",
   "execution_count": 139,
   "id": "92713ddc",
   "metadata": {
    "cellId": "4rhietmxr0baa0pp3mjs6"
   },
   "outputs": [],
   "source": [
    "#!g1.1\n",
    "all_loss_params = {\n",
    "    \"dice_loss\": {\"func\": dice_loss, \"loss_params\": {},},\n",
    "    \"bce_loss\": {\"func\": bce_loss, \"loss_params\": {},},\n",
    "}"
   ]
  },
  {
   "cell_type": "markdown",
   "id": "7677a95c",
   "metadata": {
    "cellId": "i4edlvb6u8szsseqtanl5a",
    "execution_id": "f33d1292-dc2f-4061-9028-37690d3edcfa"
   },
   "source": [
    "### Metrics"
   ]
  },
  {
   "cell_type": "code",
   "execution_count": 140,
   "id": "627fc941",
   "metadata": {
    "cellId": "bhyadagzj38l4od5vw8rit"
   },
   "outputs": [],
   "source": [
    "#!g1.1\n",
    "def dice_metric(target, preds, threshold=None, reduce=False):\n",
    "    assert target.shape == preds.shape\n",
    "    if torch.is_tensor(target):\n",
    "        target = target.detach().cpu().numpy()\n",
    "    if torch.is_tensor(preds):\n",
    "        preds = preds.detach().cpu().numpy()\n",
    "\n",
    "    if threshold is not None:\n",
    "        preds = (preds >= threshold).astype(int)\n",
    "\n",
    "    numer = (preds * target).mean(axis=(-1, -2))\n",
    "    denom = preds.mean(axis=(-1, -2)) + target.mean(axis=(-1, -2))\n",
    "    dice = np.where(denom == 0, 0, 2 * numer / denom)\n",
    "\n",
    "    if reduce:\n",
    "        return dice.mean()\n",
    "    return dice.squeeze()\n",
    "\n",
    "\n",
    "def iou_metric(target, preds, threshold=None, reduce=False):\n",
    "    assert target.shape == preds.shape\n",
    "    if torch.is_tensor(target):\n",
    "        target = target.detach().cpu().numpy()\n",
    "    if torch.is_tensor(preds):\n",
    "        preds = preds.detach().cpu().numpy()\n",
    "\n",
    "    if threshold is not None:\n",
    "        preds = (preds >= threshold).astype(int)\n",
    "\n",
    "    numer = (preds * target).mean(axis=(-1, -2))\n",
    "    denom = preds.mean(axis=(-1, -2)) + target.mean(axis=(-1, -2)) - numer\n",
    "    iou = np.where(denom == 0, 1, numer / denom)\n",
    "\n",
    "    if reduce:\n",
    "        return iou.mean()\n",
    "    return iou.squeeze()\n",
    "\n",
    "\n",
    "def recall_metric(target, preds, threshold=None, reduce=False):\n",
    "    assert target.shape == preds.shape\n",
    "    if torch.is_tensor(target):\n",
    "        target = target.detach().cpu().numpy()\n",
    "    if torch.is_tensor(preds):\n",
    "        preds = preds.detach().cpu().numpy()\n",
    "\n",
    "    if threshold is not None:\n",
    "        preds = (preds >= threshold).astype(int)\n",
    "\n",
    "    numer = (preds * target).mean(axis=(-1, -2))\n",
    "    denom = target.mean(axis=(-1, -2))\n",
    "    recall = np.where(denom == 0, 1, numer / denom)\n",
    "\n",
    "    if reduce:\n",
    "        return recall.mean()\n",
    "    return recall.squeeze()\n",
    "\n",
    "\n",
    "def precision_metric(target, preds, threshold=None, reduce=False):\n",
    "    assert target.shape == preds.shape\n",
    "    if torch.is_tensor(target):\n",
    "        target = target.detach().cpu().numpy()\n",
    "    if torch.is_tensor(preds):\n",
    "        preds = preds.detach().cpu().numpy()\n",
    "\n",
    "    if threshold is not None:\n",
    "        preds = (preds >= threshold).astype(int)\n",
    "\n",
    "    numer = (preds * target).mean(axis=(-1, -2))\n",
    "    denom = preds.mean(axis=(-1, -2))\n",
    "    precision = np.where(denom == 0, 1, numer / denom)\n",
    "\n",
    "    if reduce:\n",
    "        return precision.mean()\n",
    "    return precision.squeeze()"
   ]
  },
  {
   "cell_type": "code",
   "execution_count": 141,
   "id": "e3198785",
   "metadata": {
    "cellId": "j5tui0b2lwt30bblokkp"
   },
   "outputs": [
    {
     "data": {
      "text/plain": [
       "(0.5036612899305648,\n",
       " 0.3366116415560246,\n",
       " 0.5044226399996355,\n",
       " 0.5029404108756672)"
      ]
     },
     "execution_count": 141,
     "metadata": {},
     "output_type": "execute_result"
    }
   ],
   "source": [
    "#!g1.1\n",
    "target = torch.randint(0, 2, (8, 1, 127, 127))\n",
    "logits = torch.randn(8, 1, 127, 127)\n",
    "preds = (logits > 0).to(int)\n",
    "\n",
    "(\n",
    "    dice_metric(target, preds, reduce=True),\n",
    "    iou_metric(target, preds, reduce=True),\n",
    "    recall_metric(target, preds, reduce=True),\n",
    "    precision_metric(target, preds, reduce=True),\n",
    ")"
   ]
  },
  {
   "cell_type": "code",
   "execution_count": 142,
   "id": "5cd8a024",
   "metadata": {
    "cellId": "h416ynk7b4vqzc55tqp7za"
   },
   "outputs": [
    {
     "data": {
      "text/plain": [
       "(0.49922244207848065,\n",
       " 0.3326460204825445,\n",
       " 0.4991640191603385,\n",
       " 0.4993054527315358)"
      ]
     },
     "execution_count": 142,
     "metadata": {},
     "output_type": "execute_result"
    }
   ],
   "source": [
    "#!g1.1\n",
    "target = torch.randint(0, 2, (8, 127, 127))\n",
    "logits = torch.randn(8, 127, 127)\n",
    "preds = (logits > 0).to(int)\n",
    "\n",
    "(\n",
    "    dice_metric(target, preds, reduce=True),\n",
    "    iou_metric(target, preds, reduce=True),\n",
    "    recall_metric(target, preds, reduce=True),\n",
    "    precision_metric(target, preds, reduce=True),\n",
    ")"
   ]
  },
  {
   "cell_type": "code",
   "execution_count": 143,
   "id": "47c366e8",
   "metadata": {
    "cellId": "qtd7tfn08wn2svgcwi5ao2"
   },
   "outputs": [
    {
     "name": "stdout",
     "output_type": "stream",
     "text": [
      "torch.Size([8, 1, 127, 127])\n"
     ]
    },
    {
     "data": {
      "text/plain": [
       "(0.5000149118368742, 0.33336671500310633, 0.4994303588872269, 0.5006453768713)"
      ]
     },
     "execution_count": 143,
     "metadata": {},
     "output_type": "execute_result"
    }
   ],
   "source": [
    "#!g1.1\n",
    "target = torch.randint(0, 2, (8, 1, 127, 127))\n",
    "logits = torch.randn(8, 2, 127, 127)\n",
    "preds = logits.argmax(dim=-3, keepdims=True)\n",
    "print(preds.shape)\n",
    "\n",
    "(\n",
    "    dice_metric(target, preds, reduce=True),\n",
    "    iou_metric(target, preds, reduce=True),\n",
    "    recall_metric(target, preds, reduce=True),\n",
    "    precision_metric(target, preds, reduce=True),\n",
    ")"
   ]
  },
  {
   "cell_type": "code",
   "execution_count": 144,
   "id": "2c7edb4c",
   "metadata": {
    "cellId": "2os95auxbbqdoq7dkxw0jb"
   },
   "outputs": [],
   "source": [
    "#!g1.1\n",
    "class LightningSegmentation(pl.LightningModule):\n",
    "    def __init__(self, model, loss_func=dice_loss, loss_params=dict(), dataloaders=dict(),\n",
    "                 optim_cls=torch.optim.Adam, optim_params=dict(),\n",
    "                 scheduler_cls=None, scheduler_params=dict(),\n",
    "                 visualize_step=100, checkpointing=False, checkpoint_path=None,\n",
    "                 compile=False, checkpoint_metric_name=\"valid_dice\",\n",
    "                 valid_eps_restart=0.01, valid_n_restart=5,):\n",
    "        super().__init__()\n",
    "\n",
    "        self.model = model\n",
    "        self.dataloaders = dataloaders\n",
    "        self.checkpointing = checkpointing\n",
    "        self.checkpoint_path = checkpoint_path\n",
    "        self.checkpoint_metric_name = checkpoint_metric_name\n",
    "        self.compile = compile\n",
    "        if compile:\n",
    "            model = torch.compile(model)\n",
    "            print('\\t\\t==============================================')\n",
    "            print('\\t\\t============= Model compiled =================')\n",
    "            print('\\t\\t==============================================')\n",
    "\n",
    "        self.valid_eps_restart = valid_eps_restart\n",
    "        self.valid_n_restart = valid_n_restart\n",
    "        self.restart_flag = False\n",
    "\n",
    "        self.optim_params = optim_params\n",
    "        self.scheduler_params = scheduler_params\n",
    "        self.optimizer = optim_cls(self.model.parameters(), **self.optim_params)\n",
    "        self.scheduler = None\n",
    "        if scheduler_cls is not None:\n",
    "            self.scheduler = scheduler_cls(self.optimizer, **self.scheduler_params)\n",
    "\n",
    "        self.loss_func = loss_func\n",
    "        self.loss_params = loss_params\n",
    "\n",
    "        assert (not checkpointing) or (checkpoint_path is not None)\n",
    "        assert loss_func is not None\n",
    "\n",
    "        self.info = defaultdict(list)\n",
    "        self.visualize_step = visualize_step\n",
    "\n",
    "        self.fig, self.ax = plt.subplots(1, 2, figsize=(12, 4))\n",
    "        self.dh = display.display(self.fig, display_id=True)\n",
    "\n",
    "    def clear_cache(self, k=3):\n",
    "        for k in range(k):\n",
    "            torch.cuda.empty_cache()\n",
    "            gc.collect()\n",
    "\n",
    "    def save_model(self):\n",
    "        if os.path.exists(self.checkpoint_path):\n",
    "            os.remove(self.checkpoint_path)\n",
    "\n",
    "        if self.compile:\n",
    "            torch.save(self.model._orig_mod.cpu().state_dict(), self.checkpoint_path)\n",
    "        else:\n",
    "            torch.save(self.model.cpu().state_dict(), self.checkpoint_path)\n",
    "        self.model = self.model.cuda()\n",
    "        print(\"\\t\\t======================= MODEL SAVED ==========================\")\n",
    "\n",
    "    def load_model(self, path=None):\n",
    "        if path is None:\n",
    "            path = self.checkpoint_path\n",
    "\n",
    "        if self.compile and hasattr(self.model, \"_orig_mod\"):\n",
    "            self.model = self.model._orig_mod\n",
    "\n",
    "        self.model.load_state_dict(torch.load(path))\n",
    "        self.model = self.model.cuda()\n",
    "\n",
    "        if self.compile:\n",
    "            self.model = torch.compile(self.model).cuda()\n",
    "        print(\"\\t\\t======================= MODEL LOADED =========================\")\n",
    "\n",
    "    def check_metric_and_checkpoint(self):\n",
    "        if len(self.info[self.checkpoint_metric_name]) <= 1:\n",
    "            self.save_model()\n",
    "            return\n",
    "\n",
    "        best_metric = max(self.info[self.checkpoint_metric_name])\n",
    "        if self.info[self.checkpoint_metric_name][-1] == best_metric:\n",
    "            self.save_model()\n",
    "\n",
    "    def configure_optimizers(self):\n",
    "        if self.scheduler is not None:\n",
    "            return {\n",
    "                \"optimizer\": self.optimizer,\n",
    "                \"lr_scheduler\": self.scheduler,\n",
    "            }\n",
    "        return self.optimizer\n",
    "\n",
    "    def compute_loss(self, logits, labels):\n",
    "        return self.loss_func(labels, logits, **self.loss_params)\n",
    "\n",
    "    def restart_model_if_needed(self):\n",
    "        if self.restart_flag:\n",
    "            self.load_model()\n",
    "            self.optimizer.__setstate__({'state': defaultdict(dict)})\n",
    "            self.restart_flag = False\n",
    "\n",
    "    def training_step(self, batch, batch_idx):\n",
    "        self.restart_model_if_needed()\n",
    "        image = batch['image']\n",
    "        labels = batch['mask']\n",
    "\n",
    "        logits = self.model(image)\n",
    "        loss = self.compute_loss(logits, labels)\n",
    "\n",
    "        self.info['train_loss'].append(loss.detach().cpu().numpy().mean())\n",
    "        self.log(\"train_loss\", self.info['train_loss'][-1])\n",
    "\n",
    "        if batch_idx % self.visualize_step == 0:\n",
    "            self.ax[0].clear()\n",
    "            self.ax[0].plot(self.info['train_loss'])\n",
    "            self.dh.update(self.fig)\n",
    "\n",
    "        if torch.all(torch.isnan(loss)).item():\n",
    "            self.restart_flag = True\n",
    "\n",
    "        return loss\n",
    "\n",
    "    def on_train_epoch_end(self):\n",
    "        self.ax[0].clear()\n",
    "        self.ax[0].plot(self.info['train_loss'])\n",
    "        self.dh.update(self.fig)\n",
    "\n",
    "        self.clear_cache()\n",
    "        self.restart_model_if_needed()\n",
    "\n",
    "    def validation_step(self, batch, _):\n",
    "        image = batch['image']\n",
    "        labels = batch['mask']\n",
    "\n",
    "        with torch.no_grad():\n",
    "            preds = self.model.predict(image)\n",
    "            self.info['valid_preds'].append(preds.detach().cpu().numpy().squeeze())\n",
    "            self.info['valid_labels'].append(labels.detach().cpu().numpy().squeeze())\n",
    "\n",
    "    def on_validation_epoch_end(self):\n",
    "        valid_preds = np.concatenate(self.info['valid_preds'])\n",
    "        valid_labels = np.concatenate(self.info['valid_labels'])\n",
    "\n",
    "        self.info['valid_preds'] = []\n",
    "        self.info['valid_labels'] = []\n",
    "\n",
    "        valid_dice = dice_metric(valid_labels, valid_preds, reduce=False)\n",
    "        valid_iou = iou_metric(valid_labels, valid_preds, reduce=False)\n",
    "        valid_recall = recall_metric(valid_labels, valid_preds, reduce=False)\n",
    "        valid_precision = precision_metric(valid_labels, valid_preds, reduce=False)\n",
    "\n",
    "        valid_dice_mean = valid_dice.mean()\n",
    "        valid_iou_mean = valid_iou.mean()\n",
    "        valid_recall_mean = valid_recall.mean()\n",
    "        valid_precision_mean = valid_precision.mean()\n",
    "\n",
    "        self.info['valid_dice'].append(valid_dice_mean)\n",
    "        self.info['valid_iou'].append(valid_iou_mean)\n",
    "        self.info['valid_recall'].append(valid_recall_mean)\n",
    "        self.info['valid_precision'].append(valid_precision_mean)\n",
    "\n",
    "        self.log(\"valid_dice\", valid_dice_mean)\n",
    "\n",
    "        self.ax[1].clear()\n",
    "        self.ax[1].plot(self.info['valid_dice'], label='DICE')\n",
    "        self.ax[1].plot(self.info['valid_iou'], label='IOU')\n",
    "        self.ax[1].plot(self.info['valid_recall'], label='RECALL')\n",
    "        self.ax[1].plot(self.info['valid_precision'], label='PRECISION')\n",
    "        self.ax[1].legend()\n",
    "        self.dh.update(self.fig)\n",
    "\n",
    "        self.clear_cache()\n",
    "        self.check_metric_and_checkpoint()\n",
    "\n",
    "        if len(self.info['valid_recall']) >= self.valid_n_restart and \\\n",
    "           np.all(np.array(self.info['valid_recall'][-self.valid_n_restart:]) <= self.valid_eps_restart) and \\\n",
    "           np.all(np.array(self.info['valid_precision'][-self.valid_n_restart:]) >= 1. - self.valid_eps_restart):\n",
    "            print(\"\\t\\t======================= OVERFITTING ==========================\")\n",
    "            self.restart_flag = True\n",
    "\n",
    "        self.restart_model_if_needed()\n",
    "\n",
    "    def test_step(self, batch, _):\n",
    "        image = batch['image']\n",
    "        labels = batch['mask']\n",
    "\n",
    "        with torch.no_grad():\n",
    "            preds = self.model.predict(image)\n",
    "            self.info['test_preds'].append(preds.detach().cpu().numpy().squeeze())\n",
    "            self.info['test_labels'].append(labels.detach().cpu().numpy().squeeze())\n",
    "\n",
    "    def on_test_epoch_end(self):\n",
    "        test_preds = np.concatenate(self.info['test_preds'])\n",
    "        test_labels = np.concatenate(self.info['test_labels'])\n",
    "\n",
    "        self.info['test_preds'] = []\n",
    "        self.info['test_labels'] = []\n",
    "\n",
    "        test_dice = dice_metric(test_labels, test_preds, reduce=False)\n",
    "        test_iou = iou_metric(test_labels, test_preds, reduce=False)\n",
    "        test_recall = recall_metric(test_labels, test_preds, reduce=False)\n",
    "        test_precision = precision_metric(test_labels, test_preds, reduce=False)\n",
    "\n",
    "        test_dice_mean = test_dice.mean()\n",
    "        test_iou_mean = test_iou.mean()\n",
    "        test_recall_mean = test_recall.mean()\n",
    "        test_precision_mean = test_precision.mean()\n",
    "\n",
    "        test_dice_var = test_dice.var(ddof=1)\n",
    "        test_iou_var = test_iou.var(ddof=1)\n",
    "        test_recall_var = test_recall.var(ddof=1)\n",
    "        test_precision_var = test_precision.var(ddof=1)\n",
    "\n",
    "        test_dice_q025 = np.quantile(test_dice, 0.025)\n",
    "        test_iou_q025 = np.quantile(test_iou, 0.025)\n",
    "        test_recall_q025 = np.quantile(test_recall, 0.025)\n",
    "        test_precision_q025 = np.quantile(test_precision, 0.025)\n",
    "\n",
    "        test_dice_q975 = np.quantile(test_dice, 0.975)\n",
    "        test_iou_q975 = np.quantile(test_iou, 0.975)\n",
    "        test_recall_q975 = np.quantile(test_recall, 0.975)\n",
    "        test_precision_q975 = np.quantile(test_precision, 0.975)\n",
    "\n",
    "        print()\n",
    "        print(\"\\t\\t==============================================================\")\n",
    "        print(\"\\tTEST DICE: mean = {:.4f}, std = {:.4f}, q2.5% = {:.4f}, q97.5% = {:.4f}\".\\\n",
    "              format(test_dice_mean, test_dice_var, test_dice_q025, test_dice_q975))\n",
    "        print(\"\\tTEST IOU: mean = {:.4f}, std = {:.4f}, q2.5% = {:.4f}, q97.5% = {:.4f}\".\\\n",
    "              format(test_iou_mean, test_iou_var, test_iou_q025, test_iou_q975))\n",
    "        print(\"\\tTEST RECALL: mean = {:.4f}, std = {:.4f}, q2.5% = {:.4f}, q97.5% = {:.4f}\".\\\n",
    "              format(test_recall_mean, test_recall_var, test_recall_q025, test_recall_q975))\n",
    "        print(\"\\tTEST PRECISION: mean = {:.4f}, std = {:.4f}, q2.5% = {:.4f}, q97.5% = {:.4f}\".\\\n",
    "              format(test_precision_mean, test_precision_var, test_precision_q025, test_precision_q975))\n",
    "        print(\"\\t\\t==============================================================\")\n",
    "        print()\n",
    "\n",
    "        self.log(\"test_dice_mean\", test_dice_mean)\n",
    "        self.log(\"test_dice_var\", test_dice_var)\n",
    "        self.log(\"test_dice_q025\", test_dice_q025)\n",
    "        self.log(\"test_dice_q975\", test_dice_q975)\n",
    "\n",
    "        self.log(\"test_iou_mean\", test_iou_mean)\n",
    "        self.log(\"test_iou_var\", test_iou_var)\n",
    "        self.log(\"test_iou_q025\", test_iou_q025)\n",
    "        self.log(\"test_iou_q975\", test_iou_q975)\n",
    "\n",
    "        self.log(\"test_recall_mean\", test_recall_mean)\n",
    "        self.log(\"test_recall_var\", test_recall_var)\n",
    "        self.log(\"test_recall_q025\", test_recall_q025)\n",
    "        self.log(\"test_recall_q975\", test_recall_q975)\n",
    "\n",
    "        self.log(\"test_precision_mean\", test_precision_mean)\n",
    "        self.log(\"test_precision_var\", test_precision_var)\n",
    "        self.log(\"test_precision_q025\", test_precision_q025)\n",
    "        self.log(\"test_precision_q975\", test_precision_q975)\n",
    "\n",
    "        self.clear_cache()\n",
    "\n",
    "    def train_dataloader(self):\n",
    "        return self.dataloaders['train']\n",
    "\n",
    "    def val_dataloader(self):\n",
    "        return self.dataloaders['valid']\n",
    "\n",
    "    def test_dataloader(self):\n",
    "        return self.dataloaders['test']"
   ]
  },
  {
   "cell_type": "markdown",
   "id": "d29e22c1",
   "metadata": {
    "cellId": "egbfnexc625o0zni5ktv3m",
    "execution_id": "e262644b-75fe-4fcb-b23b-b1e780169dd7"
   },
   "source": [
    "## Experiments execution pipeline"
   ]
  },
  {
   "cell_type": "code",
   "execution_count": 145,
   "id": "d9b04c30",
   "metadata": {
    "cellId": "484etcka276rwtkicife5"
   },
   "outputs": [],
   "source": [
    "#!g1.1\n",
    "from packaging import version\n",
    "\n",
    "\n",
    "def setup_experiment(model_params, loss_func, loss_params, dataset_params,\n",
    "                     optim_params, trainer_params, early_stopping_params,\n",
    "                     experiment_name, visualize_step=100, weight_save_path=None,\n",
    "                     checkpoint_metric_name=\"valid_dice\", compile=False,\n",
    "                     scheduler_cls=None, scheduler_params=dict(), restart=False):\n",
    "    for k in range(5):\n",
    "        torch.cuda.empty_cache()\n",
    "        gc.collect()\n",
    "\n",
    "    print('\\t\\t==============================================')\n",
    "    print(f'\\t\\t {experiment_name} ')\n",
    "    print('\\t\\t==============================================')\n",
    "\n",
    "    compile = compile and version.parse(torch.__version__) >= version.parse(\"2.0.0\")\n",
    "    checkpointing = weight_save_path is not None\n",
    "    checkpoint_path = None\n",
    "    if checkpointing:\n",
    "        checkpoint_path = os.path.join(weight_save_path, experiment_name)\n",
    "    \n",
    "    model = UNet(**model_params)\n",
    "    \n",
    "    print(\"\\t\\t==================== PARAMETER ESTIMATION ====================\")\n",
    "    print(summary(model, (3, 320, 320), device='cpu'))\n",
    "    \n",
    "    plModule = LightningSegmentation(\n",
    "        model,\n",
    "        loss_func=loss_func,\n",
    "        loss_params=loss_params,\n",
    "        dataloaders=setup_dataloaders(**dataset_params),\n",
    "        optim_params=optim_params,\n",
    "        visualize_step=visualize_step,\n",
    "        checkpointing=checkpointing,\n",
    "        checkpoint_path=checkpoint_path,\n",
    "        checkpoint_metric_name=checkpoint_metric_name,\n",
    "        scheduler_cls=scheduler_cls,\n",
    "        scheduler_params=scheduler_params,\n",
    "        compile=compile,\n",
    "    )\n",
    "    if restart:\n",
    "        plModule.load_model()\n",
    "\n",
    "    early_stopping = pl.callbacks.early_stopping.EarlyStopping(**early_stopping_params)\n",
    "\n",
    "    trainer = pl.Trainer(\n",
    "        **trainer_params,\n",
    "        callbacks=[early_stopping],\n",
    "    )\n",
    "\n",
    "    print(\"\\t\\t==================== STARTING TRAINING =======================\")\n",
    "    trainer.fit(plModule)\n",
    "    print(\"\\t\\t==================== TRAINING ENDED    =======================\")\n",
    "    plModule.load_model()\n",
    "    print(\"\\t\\t==================== STARTING TESTING  =======================\")\n",
    "    trainer.test(plModule)\n",
    "    print(\"\\t\\t==================== TESTING ENDED     =======================\")"
   ]
  },
  {
   "cell_type": "code",
   "execution_count": 146,
   "id": "2d6d6a25",
   "metadata": {
    "cellId": "8n0r6qn3z4h8tdlp9jovf7"
   },
   "outputs": [],
   "source": [
    "#!g1.1\n",
    "PREFERABLE_BATCH_SIZE = 32\n",
    "BATCH_SIZE = 32\n",
    "ACCUM_GRAD = (PREFERABLE_BATCH_SIZE - 1) // BATCH_SIZE + 1"
   ]
  },
  {
   "cell_type": "code",
   "execution_count": 147,
   "id": "16985546",
   "metadata": {
    "cellId": "72q66qcgpgfk7exeqa6oar"
   },
   "outputs": [],
   "source": [
    "#!g1.1\n",
    "def get_general_params(base_lr=1e-3, scheduler_cls=None, scheduler_params=dict(),\n",
    "                       patience=10, compile=False, max_epoch=100, visualize_step=100):\n",
    "    general_params = {\n",
    "        \"model_params\": {\n",
    "            \"n_channels\": 3,\n",
    "            \"n_classes\": 2,\n",
    "            \"depth\": 3,\n",
    "            \"start_channels\": 32,\n",
    "            \"upsample\": False,\n",
    "        },\n",
    "        \"dataset_params\": {\n",
    "            \"dataset_split\": pd.read_csv(SPLIT_FILENAME, index_col=0),\n",
    "            \"k\": 1,\n",
    "            \"batch_size\": BATCH_SIZE,\n",
    "            \"gt_path\": gt_path,\n",
    "            \"image_path\": image_path,\n",
    "            \"transform\": coco_transform,\n",
    "        },\n",
    "        \"optim_params\": {\n",
    "            \"lr\": base_lr,\n",
    "            \"eps\": 1e-4,\n",
    "        },\n",
    "        \"trainer_params\": {\n",
    "            \"max_epochs\": max_epoch,\n",
    "            \"accumulate_grad_batches\": ACCUM_GRAD,\n",
    "            \"accelerator\": 'gpu',\n",
    "            \"devices\": 1,\n",
    "            \"val_check_interval\": 0.5,\n",
    "#             \"val_check_interval\": 1.0,\n",
    "#             \"checkpoint_callback\": False,\n",
    "        },\n",
    "        \"early_stopping_params\": {\n",
    "            \"monitor\": \"valid_dice\",\n",
    "            \"min_delta\": 0.0,\n",
    "            \"patience\": patience,\n",
    "            \"mode\":\"max\",\n",
    "        },\n",
    "        \"weight_save_path\": \"./checkpoints/\",\n",
    "        \"visualize_step\": visualize_step,\n",
    "        \"checkpoint_metric_name\": \"valid_dice\",\n",
    "        \"compile\": compile,\n",
    "    }\n",
    "    if scheduler_cls is not None:\n",
    "        general_params['scheduler_cls'] = scheduler_cls\n",
    "        general_params['scheduler_params'] = scheduler_params\n",
    "\n",
    "    return general_params"
   ]
  },
  {
   "cell_type": "code",
   "execution_count": 120,
   "id": "60ba1d31",
   "metadata": {
    "cellId": "sz8z7q4zufagvw6k62dxb",
    "collapsed": true,
    "jupyter": {
     "outputs_hidden": true
    }
   },
   "outputs": [
    {
     "name": "stdout",
     "output_type": "stream",
     "text": [
      "\t\t==============================================\n",
      "\t\t cocostuff_tree__dice_loss__UNET3_32 \n",
      "\t\t==============================================\n",
      "\t\t==================== PARAMETER ESTIMATION ====================\n",
      "----------------------------------------------------------------\n",
      "        Layer (type)               Output Shape         Param #\n",
      "================================================================\n",
      "            Conv2d-1         [-1, 32, 320, 320]             864\n",
      "       BatchNorm2d-2         [-1, 32, 320, 320]              64\n",
      "              ReLU-3         [-1, 32, 320, 320]               0\n",
      "            Conv2d-4         [-1, 32, 320, 320]           9,216\n",
      "       BatchNorm2d-5         [-1, 32, 320, 320]              64\n",
      "              ReLU-6         [-1, 32, 320, 320]               0\n",
      "        DoubleConv-7         [-1, 32, 320, 320]               0\n",
      "         MaxPool2d-8         [-1, 32, 160, 160]               0\n",
      "            Conv2d-9         [-1, 64, 160, 160]          18,432\n",
      "      BatchNorm2d-10         [-1, 64, 160, 160]             128\n",
      "             ReLU-11         [-1, 64, 160, 160]               0\n",
      "           Conv2d-12         [-1, 64, 160, 160]          36,864\n",
      "      BatchNorm2d-13         [-1, 64, 160, 160]             128\n",
      "             ReLU-14         [-1, 64, 160, 160]               0\n",
      "       DoubleConv-15         [-1, 64, 160, 160]               0\n",
      "        DownBlock-16         [-1, 64, 160, 160]               0\n",
      "        MaxPool2d-17           [-1, 64, 80, 80]               0\n",
      "           Conv2d-18          [-1, 128, 80, 80]          73,728\n",
      "      BatchNorm2d-19          [-1, 128, 80, 80]             256\n",
      "             ReLU-20          [-1, 128, 80, 80]               0\n",
      "           Conv2d-21          [-1, 128, 80, 80]         147,456\n",
      "      BatchNorm2d-22          [-1, 128, 80, 80]             256\n",
      "             ReLU-23          [-1, 128, 80, 80]               0\n",
      "       DoubleConv-24          [-1, 128, 80, 80]               0\n",
      "        DownBlock-25          [-1, 128, 80, 80]               0\n",
      "        MaxPool2d-26          [-1, 128, 40, 40]               0\n",
      "           Conv2d-27          [-1, 256, 40, 40]         294,912\n",
      "      BatchNorm2d-28          [-1, 256, 40, 40]             512\n",
      "             ReLU-29          [-1, 256, 40, 40]               0\n",
      "           Conv2d-30          [-1, 256, 40, 40]         589,824\n",
      "      BatchNorm2d-31          [-1, 256, 40, 40]             512\n",
      "             ReLU-32          [-1, 256, 40, 40]               0\n",
      "       DoubleConv-33          [-1, 256, 40, 40]               0\n",
      "        DownBlock-34          [-1, 256, 40, 40]               0\n",
      "        MaxPool2d-35          [-1, 256, 20, 20]               0\n",
      "           Conv2d-36          [-1, 512, 20, 20]       1,179,648\n",
      "      BatchNorm2d-37          [-1, 512, 20, 20]           1,024\n",
      "             ReLU-38          [-1, 512, 20, 20]               0\n",
      "           Conv2d-39          [-1, 512, 20, 20]       2,359,296\n",
      "      BatchNorm2d-40          [-1, 512, 20, 20]           1,024\n",
      "             ReLU-41          [-1, 512, 20, 20]               0\n",
      "       DoubleConv-42          [-1, 512, 20, 20]               0\n",
      "        DownBlock-43          [-1, 512, 20, 20]               0\n",
      "  ConvTranspose2d-44          [-1, 256, 40, 40]         524,544\n",
      "           Conv2d-45          [-1, 256, 40, 40]       1,179,648\n",
      "      BatchNorm2d-46          [-1, 256, 40, 40]             512\n",
      "             ReLU-47          [-1, 256, 40, 40]               0\n",
      "           Conv2d-48          [-1, 256, 40, 40]         589,824\n",
      "      BatchNorm2d-49          [-1, 256, 40, 40]             512\n",
      "             ReLU-50          [-1, 256, 40, 40]               0\n",
      "       DoubleConv-51          [-1, 256, 40, 40]               0\n",
      "          UpBlock-52          [-1, 256, 40, 40]               0\n",
      "  ConvTranspose2d-53          [-1, 128, 80, 80]         131,200\n",
      "           Conv2d-54          [-1, 128, 80, 80]         294,912\n",
      "      BatchNorm2d-55          [-1, 128, 80, 80]             256\n",
      "             ReLU-56          [-1, 128, 80, 80]               0\n",
      "           Conv2d-57          [-1, 128, 80, 80]         147,456\n",
      "      BatchNorm2d-58          [-1, 128, 80, 80]             256\n",
      "             ReLU-59          [-1, 128, 80, 80]               0\n",
      "       DoubleConv-60          [-1, 128, 80, 80]               0\n",
      "          UpBlock-61          [-1, 128, 80, 80]               0\n",
      "  ConvTranspose2d-62         [-1, 64, 160, 160]          32,832\n",
      "           Conv2d-63         [-1, 64, 160, 160]          73,728\n",
      "      BatchNorm2d-64         [-1, 64, 160, 160]             128\n",
      "             ReLU-65         [-1, 64, 160, 160]               0\n",
      "           Conv2d-66         [-1, 64, 160, 160]          36,864\n",
      "      BatchNorm2d-67         [-1, 64, 160, 160]             128\n",
      "             ReLU-68         [-1, 64, 160, 160]               0\n",
      "       DoubleConv-69         [-1, 64, 160, 160]               0\n",
      "          UpBlock-70         [-1, 64, 160, 160]               0\n",
      "  ConvTranspose2d-71         [-1, 32, 320, 320]           8,224\n",
      "           Conv2d-72         [-1, 32, 320, 320]          18,432\n",
      "      BatchNorm2d-73         [-1, 32, 320, 320]              64\n",
      "             ReLU-74         [-1, 32, 320, 320]               0\n",
      "           Conv2d-75         [-1, 32, 320, 320]           9,216\n",
      "      BatchNorm2d-76         [-1, 32, 320, 320]              64\n",
      "             ReLU-77         [-1, 32, 320, 320]               0\n",
      "       DoubleConv-78         [-1, 32, 320, 320]               0\n",
      "          UpBlock-79         [-1, 32, 320, 320]               0\n",
      "           Conv2d-80          [-1, 2, 320, 320]              66\n",
      "================================================================\n",
      "Total params: 7,763,074\n",
      "Trainable params: 7,763,074\n",
      "Non-trainable params: 0\n",
      "----------------------------------------------------------------\n",
      "Input size (MB): 1.17\n",
      "Forward/backward pass size (MB): 797.66\n",
      "Params size (MB): 29.61\n",
      "Estimated Total Size (MB): 828.44\n",
      "----------------------------------------------------------------\n",
      "None\n"
     ]
    },
    {
     "data": {
      "image/png": "[encoded data removed]",
      "text/plain": [
       "<Figure size 864x288 with 2 Axes>"
      ]
     },
     "metadata": {},
     "output_type": "display_data"
    },
    {
     "name": "stderr",
     "output_type": "stream",
     "text": [
      "GPU available: True (cuda), used: True\n",
      "TPU available: False, using: 0 TPU cores\n",
      "IPU available: False, using: 0 IPUs\n",
      "HPU available: False, using: 0 HPUs\n",
      "`Trainer(val_check_interval=1.0)` was configured so validation will run at the end of the training epoch..\n",
      "LOCAL_RANK: 0 - CUDA_VISIBLE_DEVICES: [0]\n",
      "\n",
      "  | Name  | Type | Params\n",
      "-------------------------------\n",
      "0 | model | UNet | 7.8 M \n",
      "-------------------------------\n",
      "7.8 M     Trainable params\n",
      "0         Non-trainable params\n",
      "7.8 M     Total params\n",
      "31.052    Total estimated model params size (MB)\n"
     ]
    },
    {
     "name": "stdout",
     "output_type": "stream",
     "text": [
      "\t\t==================== STARTING TRAINING =======================\n"
     ]
    },
    {
     "data": {
      "application/vnd.jupyter.widget-view+json": {
       "model_id": "06b7c713ec4c4ffe9894bf30cc4e65e7",
       "version_major": 2,
       "version_minor": 0
      },
      "text/plain": [
       "Sanity Checking: |          | 0/? [00:00<?, ?it/s]"
      ]
     },
     "metadata": {},
     "output_type": "display_data"
    },
    {
     "name": "stdout",
     "output_type": "stream",
     "text": [
      "\t\t======================= MODEL SAVED ==========================\n"
     ]
    },
    {
     "data": {
      "application/vnd.jupyter.widget-view+json": {
       "model_id": "880d910a8fd243c98330e8102d4e4599",
       "version_major": 2,
       "version_minor": 0
      },
      "text/plain": [
       "Training: |          | 0/? [00:00<?, ?it/s]"
      ]
     },
     "metadata": {},
     "output_type": "display_data"
    },
    {
     "data": {
      "application/vnd.jupyter.widget-view+json": {
       "model_id": "636eb64a4cf2464b960951017a0d8395",
       "version_major": 2,
       "version_minor": 0
      },
      "text/plain": [
       "Validation: |          | 0/? [00:00<?, ?it/s]"
      ]
     },
     "metadata": {},
     "output_type": "display_data"
    },
    {
     "name": "stdout",
     "output_type": "stream",
     "text": [
      "\t\t======================= MODEL SAVED ==========================\n"
     ]
    },
    {
     "name": "stderr",
     "output_type": "stream",
     "text": [
      "`Trainer.fit` stopped: `max_epochs=1` reached.\n",
      "LOCAL_RANK: 0 - CUDA_VISIBLE_DEVICES: [0]\n"
     ]
    },
    {
     "name": "stdout",
     "output_type": "stream",
     "text": [
      "\t\t==================== TRAINING ENDED    =======================\n",
      "\t\t======================= MODEL LOADED =========================\n",
      "\t\t==================== STARTING TESTING  =======================\n"
     ]
    },
    {
     "data": {
      "application/vnd.jupyter.widget-view+json": {
       "model_id": "5aaab3c5224445c2803e034d6431fb7b",
       "version_major": 2,
       "version_minor": 0
      },
      "text/plain": [
       "Testing: |          | 0/? [00:00<?, ?it/s]"
      ]
     },
     "metadata": {},
     "output_type": "display_data"
    },
    {
     "name": "stdout",
     "output_type": "stream",
     "text": [
      "\n",
      "\t\t==============================================================\n",
      "\tTEST DICE: mean = 0.5032, std = 0.0674, q2.5% = 0.0157, q97.5% = 0.9187\n",
      "\tTEST IOU: mean = 0.3772, std = 0.0583, q2.5% = 0.0079, q97.5% = 0.8495\n",
      "\tTEST RECALL: mean = 0.8171, std = 0.0664, q2.5% = 0.0123, q97.5% = 0.9993\n",
      "\tTEST PRECISION: mean = 0.4146, std = 0.0699, q2.5% = 0.0134, q97.5% = 0.9146\n",
      "\t\t==============================================================\n",
      "\n"
     ]
    },
    {
     "data": {
      "text/html": [
       "<pre style=\"white-space:pre;overflow-x:auto;line-height:normal;font-family:Menlo,'DejaVu Sans Mono',consolas,'Courier New',monospace\">┏━━━━━━━━━━━━━━━━━━━━━━━━━━━┳━━━━━━━━━━━━━━━━━━━━━━━━━━━┓\n",
       "┃<span style=\"font-weight: bold\">        Test metric        </span>┃<span style=\"font-weight: bold\">       DataLoader 0        </span>┃\n",
       "┡━━━━━━━━━━━━━━━━━━━━━━━━━━━╇━━━━━━━━━━━━━━━━━━━━━━━━━━━┩\n",
       "│<span style=\"color: #008080; text-decoration-color: #008080\">      test_dice_mean       </span>│<span style=\"color: #800080; text-decoration-color: #800080\">    0.5031523975816149     </span>│\n",
       "│<span style=\"color: #008080; text-decoration-color: #008080\">      test_dice_q025       </span>│<span style=\"color: #800080; text-decoration-color: #800080\">   0.015658420311257713    </span>│\n",
       "│<span style=\"color: #008080; text-decoration-color: #008080\">      test_dice_q975       </span>│<span style=\"color: #800080; text-decoration-color: #800080\">    0.9186526552531803     </span>│\n",
       "│<span style=\"color: #008080; text-decoration-color: #008080\">       test_dice_var       </span>│<span style=\"color: #800080; text-decoration-color: #800080\">    0.0673578042484488     </span>│\n",
       "│<span style=\"color: #008080; text-decoration-color: #008080\">       test_iou_mean       </span>│<span style=\"color: #800080; text-decoration-color: #800080\">    0.3772057519837265     </span>│\n",
       "│<span style=\"color: #008080; text-decoration-color: #008080\">       test_iou_q025       </span>│<span style=\"color: #800080; text-decoration-color: #800080\">   0.007894757496609795    </span>│\n",
       "│<span style=\"color: #008080; text-decoration-color: #008080\">       test_iou_q975       </span>│<span style=\"color: #800080; text-decoration-color: #800080\">    0.8495445049483733     </span>│\n",
       "│<span style=\"color: #008080; text-decoration-color: #008080\">       test_iou_var        </span>│<span style=\"color: #800080; text-decoration-color: #800080\">    0.05825585239726822    </span>│\n",
       "│<span style=\"color: #008080; text-decoration-color: #008080\">    test_precision_mean    </span>│<span style=\"color: #800080; text-decoration-color: #800080\">    0.4146454563643361     </span>│\n",
       "│<span style=\"color: #008080; text-decoration-color: #008080\">    test_precision_q025    </span>│<span style=\"color: #800080; text-decoration-color: #800080\">   0.013400910319773583    </span>│\n",
       "│<span style=\"color: #008080; text-decoration-color: #008080\">    test_precision_q975    </span>│<span style=\"color: #800080; text-decoration-color: #800080\">    0.9145521951357066     </span>│\n",
       "│<span style=\"color: #008080; text-decoration-color: #008080\">    test_precision_var     </span>│<span style=\"color: #800080; text-decoration-color: #800080\">    0.06991552119783516    </span>│\n",
       "│<span style=\"color: #008080; text-decoration-color: #008080\">     test_recall_mean      </span>│<span style=\"color: #800080; text-decoration-color: #800080\">    0.8171290310683479     </span>│\n",
       "│<span style=\"color: #008080; text-decoration-color: #008080\">     test_recall_q025      </span>│<span style=\"color: #800080; text-decoration-color: #800080\">   0.012270991577746741    </span>│\n",
       "│<span style=\"color: #008080; text-decoration-color: #008080\">     test_recall_q975      </span>│<span style=\"color: #800080; text-decoration-color: #800080\">    0.9993358592208227     </span>│\n",
       "│<span style=\"color: #008080; text-decoration-color: #008080\">      test_recall_var      </span>│<span style=\"color: #800080; text-decoration-color: #800080\">    0.0664079746994979     </span>│\n",
       "└───────────────────────────┴───────────────────────────┘\n",
       "</pre>\n"
      ],
      "text/plain": [
       "┏━━━━━━━━━━━━━━━━━━━━━━━━━━━┳━━━━━━━━━━━━━━━━━━━━━━━━━━━┓\n",
       "┃\u001b[1m \u001b[0m\u001b[1m       Test metric       \u001b[0m\u001b[1m \u001b[0m┃\u001b[1m \u001b[0m\u001b[1m      DataLoader 0       \u001b[0m\u001b[1m \u001b[0m┃\n",
       "┡━━━━━━━━━━━━━━━━━━━━━━━━━━━╇━━━━━━━━━━━━━━━━━━━━━━━━━━━┩\n",
       "│\u001b[36m \u001b[0m\u001b[36m     test_dice_mean      \u001b[0m\u001b[36m \u001b[0m│\u001b[35m \u001b[0m\u001b[35m   0.5031523975816149    \u001b[0m\u001b[35m \u001b[0m│\n",
       "│\u001b[36m \u001b[0m\u001b[36m     test_dice_q025      \u001b[0m\u001b[36m \u001b[0m│\u001b[35m \u001b[0m\u001b[35m  0.015658420311257713   \u001b[0m\u001b[35m \u001b[0m│\n",
       "│\u001b[36m \u001b[0m\u001b[36m     test_dice_q975      \u001b[0m\u001b[36m \u001b[0m│\u001b[35m \u001b[0m\u001b[35m   0.9186526552531803    \u001b[0m\u001b[35m \u001b[0m│\n",
       "│\u001b[36m \u001b[0m\u001b[36m      test_dice_var      \u001b[0m\u001b[36m \u001b[0m│\u001b[35m \u001b[0m\u001b[35m   0.0673578042484488    \u001b[0m\u001b[35m \u001b[0m│\n",
       "│\u001b[36m \u001b[0m\u001b[36m      test_iou_mean      \u001b[0m\u001b[36m \u001b[0m│\u001b[35m \u001b[0m\u001b[35m   0.3772057519837265    \u001b[0m\u001b[35m \u001b[0m│\n",
       "│\u001b[36m \u001b[0m\u001b[36m      test_iou_q025      \u001b[0m\u001b[36m \u001b[0m│\u001b[35m \u001b[0m\u001b[35m  0.007894757496609795   \u001b[0m\u001b[35m \u001b[0m│\n",
       "│\u001b[36m \u001b[0m\u001b[36m      test_iou_q975      \u001b[0m\u001b[36m \u001b[0m│\u001b[35m \u001b[0m\u001b[35m   0.8495445049483733    \u001b[0m\u001b[35m \u001b[0m│\n",
       "│\u001b[36m \u001b[0m\u001b[36m      test_iou_var       \u001b[0m\u001b[36m \u001b[0m│\u001b[35m \u001b[0m\u001b[35m   0.05825585239726822   \u001b[0m\u001b[35m \u001b[0m│\n",
       "│\u001b[36m \u001b[0m\u001b[36m   test_precision_mean   \u001b[0m\u001b[36m \u001b[0m│\u001b[35m \u001b[0m\u001b[35m   0.4146454563643361    \u001b[0m\u001b[35m \u001b[0m│\n",
       "│\u001b[36m \u001b[0m\u001b[36m   test_precision_q025   \u001b[0m\u001b[36m \u001b[0m│\u001b[35m \u001b[0m\u001b[35m  0.013400910319773583   \u001b[0m\u001b[35m \u001b[0m│\n",
       "│\u001b[36m \u001b[0m\u001b[36m   test_precision_q975   \u001b[0m\u001b[36m \u001b[0m│\u001b[35m \u001b[0m\u001b[35m   0.9145521951357066    \u001b[0m\u001b[35m \u001b[0m│\n",
       "│\u001b[36m \u001b[0m\u001b[36m   test_precision_var    \u001b[0m\u001b[36m \u001b[0m│\u001b[35m \u001b[0m\u001b[35m   0.06991552119783516   \u001b[0m\u001b[35m \u001b[0m│\n",
       "│\u001b[36m \u001b[0m\u001b[36m    test_recall_mean     \u001b[0m\u001b[36m \u001b[0m│\u001b[35m \u001b[0m\u001b[35m   0.8171290310683479    \u001b[0m\u001b[35m \u001b[0m│\n",
       "│\u001b[36m \u001b[0m\u001b[36m    test_recall_q025     \u001b[0m\u001b[36m \u001b[0m│\u001b[35m \u001b[0m\u001b[35m  0.012270991577746741   \u001b[0m\u001b[35m \u001b[0m│\n",
       "│\u001b[36m \u001b[0m\u001b[36m    test_recall_q975     \u001b[0m\u001b[36m \u001b[0m│\u001b[35m \u001b[0m\u001b[35m   0.9993358592208227    \u001b[0m\u001b[35m \u001b[0m│\n",
       "│\u001b[36m \u001b[0m\u001b[36m     test_recall_var     \u001b[0m\u001b[36m \u001b[0m│\u001b[35m \u001b[0m\u001b[35m   0.0664079746994979    \u001b[0m\u001b[35m \u001b[0m│\n",
       "└───────────────────────────┴───────────────────────────┘\n"
      ]
     },
     "metadata": {},
     "output_type": "display_data"
    },
    {
     "name": "stdout",
     "output_type": "stream",
     "text": [
      "\t\t==================== TESTING ENDED     =======================\n"
     ]
    },
    {
     "data": {
      "image/png": "[encoded data removed]",
      "text/plain": [
       "<Figure size 864x288 with 2 Axes>"
      ]
     },
     "metadata": {
      "needs_background": "light"
     },
     "output_type": "display_data"
    }
   ],
   "source": [
    "#!g1.1\n",
    "loss_name = \"dice_loss\"\n",
    "\n",
    "setup_experiment(\n",
    "    **get_general_params(\n",
    "        scheduler_cls=torch.optim.lr_scheduler.CyclicLR,\n",
    "        scheduler_params={\n",
    "            \"base_lr\": 1e-4,\n",
    "            \"max_lr\": 2e-3,\n",
    "            \"step_size_up\": 76 * ACCUM_GRAD,\n",
    "            \"mode\": 'exp_range',\n",
    "            \"cycle_momentum\": False,\n",
    "        },\n",
    "        patience=100,\n",
    "        visualize_step=40,\n",
    "        max_epoch=1,\n",
    "    ),\n",
    "    # restart=True,\n",
    "    loss_func=all_loss_params[loss_name][\"func\"],\n",
    "    loss_params=all_loss_params[loss_name][\"loss_params\"],\n",
    "    experiment_name=f\"cocostuff_tree__{loss_name}__UNET3_32\",\n",
    ")"
   ]
  },
  {
   "cell_type": "markdown",
   "id": "577428bf",
   "metadata": {
    "cellId": "fd4jsph1k1gjtq1p445vi",
    "execution_id": "610804e3-f089-4f81-ae0e-334e0351d619"
   },
   "source": [
    "## Train Ordinary Model"
   ]
  },
  {
   "cell_type": "code",
   "execution_count": 151,
   "id": "92b7a17b",
   "metadata": {
    "cellId": "knpaw0kde5f9modn0a6jcr"
   },
   "outputs": [],
   "source": [
    "#!g1.1\n",
    "# !rm -rf checkpoints\n",
    "# !mkdir checkpoints\n",
    "# !ls -al checkpoints"
   ]
  },
  {
   "cell_type": "code",
   "execution_count": 153,
   "id": "37d5818c",
   "metadata": {
    "cellId": "js2xmhxhptnajlttqr0v2c",
    "collapsed": true,
    "jupyter": {
     "outputs_hidden": true
    }
   },
   "outputs": [
    {
     "name": "stdout",
     "output_type": "stream",
     "text": [
      "\t\t==============================================\n",
      "\t\t cocostuff_tree_dice_loss__UNET3_32 \n",
      "\t\t==============================================\n",
      "\t\t==================== PARAMETER ESTIMATION ====================\n",
      "----------------------------------------------------------------\n",
      "        Layer (type)               Output Shape         Param #\n",
      "================================================================\n",
      "            Conv2d-1         [-1, 32, 320, 320]             864\n",
      "       BatchNorm2d-2         [-1, 32, 320, 320]              64\n",
      "              ReLU-3         [-1, 32, 320, 320]               0\n",
      "            Conv2d-4         [-1, 32, 320, 320]           9,216\n",
      "       BatchNorm2d-5         [-1, 32, 320, 320]              64\n",
      "              ReLU-6         [-1, 32, 320, 320]               0\n",
      "        DoubleConv-7         [-1, 32, 320, 320]               0\n",
      "         MaxPool2d-8         [-1, 32, 160, 160]               0\n",
      "            Conv2d-9         [-1, 64, 160, 160]          18,432\n",
      "      BatchNorm2d-10         [-1, 64, 160, 160]             128\n",
      "             ReLU-11         [-1, 64, 160, 160]               0\n",
      "           Conv2d-12         [-1, 64, 160, 160]          36,864\n",
      "      BatchNorm2d-13         [-1, 64, 160, 160]             128\n",
      "             ReLU-14         [-1, 64, 160, 160]               0\n",
      "       DoubleConv-15         [-1, 64, 160, 160]               0\n",
      "        DownBlock-16         [-1, 64, 160, 160]               0\n",
      "        MaxPool2d-17           [-1, 64, 80, 80]               0\n",
      "           Conv2d-18          [-1, 128, 80, 80]          73,728\n",
      "      BatchNorm2d-19          [-1, 128, 80, 80]             256\n",
      "             ReLU-20          [-1, 128, 80, 80]               0\n",
      "           Conv2d-21          [-1, 128, 80, 80]         147,456\n",
      "      BatchNorm2d-22          [-1, 128, 80, 80]             256\n",
      "             ReLU-23          [-1, 128, 80, 80]               0\n",
      "       DoubleConv-24          [-1, 128, 80, 80]               0\n",
      "        DownBlock-25          [-1, 128, 80, 80]               0\n",
      "        MaxPool2d-26          [-1, 128, 40, 40]               0\n",
      "           Conv2d-27          [-1, 256, 40, 40]         294,912\n",
      "      BatchNorm2d-28          [-1, 256, 40, 40]             512\n",
      "             ReLU-29          [-1, 256, 40, 40]               0\n",
      "           Conv2d-30          [-1, 256, 40, 40]         589,824\n",
      "      BatchNorm2d-31          [-1, 256, 40, 40]             512\n",
      "             ReLU-32          [-1, 256, 40, 40]               0\n",
      "       DoubleConv-33          [-1, 256, 40, 40]               0\n",
      "        DownBlock-34          [-1, 256, 40, 40]               0\n",
      "  ConvTranspose2d-35          [-1, 128, 80, 80]         131,200\n",
      "           Conv2d-36          [-1, 128, 80, 80]         294,912\n",
      "      BatchNorm2d-37          [-1, 128, 80, 80]             256\n",
      "             ReLU-38          [-1, 128, 80, 80]               0\n",
      "           Conv2d-39          [-1, 128, 80, 80]         147,456\n",
      "      BatchNorm2d-40          [-1, 128, 80, 80]             256\n",
      "             ReLU-41          [-1, 128, 80, 80]               0\n",
      "       DoubleConv-42          [-1, 128, 80, 80]               0\n",
      "          UpBlock-43          [-1, 128, 80, 80]               0\n",
      "  ConvTranspose2d-44         [-1, 64, 160, 160]          32,832\n",
      "           Conv2d-45         [-1, 64, 160, 160]          73,728\n",
      "      BatchNorm2d-46         [-1, 64, 160, 160]             128\n",
      "             ReLU-47         [-1, 64, 160, 160]               0\n",
      "           Conv2d-48         [-1, 64, 160, 160]          36,864\n",
      "      BatchNorm2d-49         [-1, 64, 160, 160]             128\n",
      "             ReLU-50         [-1, 64, 160, 160]               0\n",
      "       DoubleConv-51         [-1, 64, 160, 160]               0\n",
      "          UpBlock-52         [-1, 64, 160, 160]               0\n",
      "  ConvTranspose2d-53         [-1, 32, 320, 320]           8,224\n",
      "           Conv2d-54         [-1, 32, 320, 320]          18,432\n",
      "      BatchNorm2d-55         [-1, 32, 320, 320]              64\n",
      "             ReLU-56         [-1, 32, 320, 320]               0\n",
      "           Conv2d-57         [-1, 32, 320, 320]           9,216\n",
      "      BatchNorm2d-58         [-1, 32, 320, 320]              64\n",
      "             ReLU-59         [-1, 32, 320, 320]               0\n",
      "       DoubleConv-60         [-1, 32, 320, 320]               0\n",
      "          UpBlock-61         [-1, 32, 320, 320]               0\n",
      "           Conv2d-62          [-1, 2, 320, 320]              66\n",
      "================================================================\n",
      "Total params: 1,927,042\n",
      "Trainable params: 1,927,042\n",
      "Non-trainable params: 0\n",
      "----------------------------------------------------------------\n",
      "Input size (MB): 1.17\n",
      "Forward/backward pass size (MB): 756.25\n",
      "Params size (MB): 7.35\n",
      "Estimated Total Size (MB): 764.77\n",
      "----------------------------------------------------------------\n",
      "None\n"
     ]
    },
    {
     "data": {
      "image/png": "[encoded data removed]",
      "text/plain": [
       "<Figure size 864x288 with 2 Axes>"
      ]
     },
     "metadata": {},
     "output_type": "display_data"
    },
    {
     "name": "stderr",
     "output_type": "stream",
     "text": [
      "GPU available: True (cuda), used: True\n",
      "TPU available: False, using: 0 TPU cores\n",
      "IPU available: False, using: 0 IPUs\n",
      "HPU available: False, using: 0 HPUs\n"
     ]
    },
    {
     "name": "stdout",
     "output_type": "stream",
     "text": [
      "\t\t==================== STARTING TRAINING =======================\n"
     ]
    },
    {
     "name": "stderr",
     "output_type": "stream",
     "text": [
      "2023-12-18 14:28:15.650441: W tensorflow/compiler/tf2tensorrt/utils/py_utils.cc:38] TF-TRT Warning: Could not find TensorRT\n",
      "LOCAL_RANK: 0 - CUDA_VISIBLE_DEVICES: [0]\n",
      "\n",
      "  | Name  | Type | Params\n",
      "-------------------------------\n",
      "0 | model | UNet | 1.9 M \n",
      "-------------------------------\n",
      "1.9 M     Trainable params\n",
      "0         Non-trainable params\n",
      "1.9 M     Total params\n",
      "7.708     Total estimated model params size (MB)\n"
     ]
    },
    {
     "data": {
      "application/vnd.jupyter.widget-view+json": {
       "model_id": "114cdea8d95f4dfbae4bd72af322d347",
       "version_major": 2,
       "version_minor": 0
      },
      "text/plain": [
       "Sanity Checking: |          | 0/? [00:00<?, ?it/s]"
      ]
     },
     "metadata": {},
     "output_type": "display_data"
    },
    {
     "name": "stdout",
     "output_type": "stream",
     "text": [
      "\t\t======================= MODEL SAVED ==========================\n"
     ]
    },
    {
     "data": {
      "application/vnd.jupyter.widget-view+json": {
       "model_id": "f8335792ebe54ad9bb06316d5fe1d736",
       "version_major": 2,
       "version_minor": 0
      },
      "text/plain": [
       "Training: |          | 0/? [00:00<?, ?it/s]"
      ]
     },
     "metadata": {},
     "output_type": "display_data"
    },
    {
     "data": {
      "application/vnd.jupyter.widget-view+json": {
       "model_id": "f087d9e540af457488b879fdf5b4c4f6",
       "version_major": 2,
       "version_minor": 0
      },
      "text/plain": [
       "Validation: |          | 0/? [00:00<?, ?it/s]"
      ]
     },
     "metadata": {},
     "output_type": "display_data"
    },
    {
     "name": "stdout",
     "output_type": "stream",
     "text": [
      "\t\t======================= MODEL SAVED ==========================\n"
     ]
    },
    {
     "data": {
      "application/vnd.jupyter.widget-view+json": {
       "model_id": "cc0de1a4abe34d04854ffefcd2e4f595",
       "version_major": 2,
       "version_minor": 0
      },
      "text/plain": [
       "Validation: |          | 0/? [00:00<?, ?it/s]"
      ]
     },
     "metadata": {},
     "output_type": "display_data"
    },
    {
     "name": "stdout",
     "output_type": "stream",
     "text": [
      "\t\t======================= MODEL SAVED ==========================\n"
     ]
    },
    {
     "data": {
      "application/vnd.jupyter.widget-view+json": {
       "model_id": "92c6b6c99d4e4ebd8536a03ad086ee0c",
       "version_major": 2,
       "version_minor": 0
      },
      "text/plain": [
       "Validation: |          | 0/? [00:00<?, ?it/s]"
      ]
     },
     "metadata": {},
     "output_type": "display_data"
    },
    {
     "name": "stdout",
     "output_type": "stream",
     "text": [
      "\t\t======================= MODEL SAVED ==========================\n"
     ]
    },
    {
     "data": {
      "application/vnd.jupyter.widget-view+json": {
       "model_id": "e8ccb65f75e54f28a4436af33745d40b",
       "version_major": 2,
       "version_minor": 0
      },
      "text/plain": [
       "Validation: |          | 0/? [00:00<?, ?it/s]"
      ]
     },
     "metadata": {},
     "output_type": "display_data"
    },
    {
     "name": "stdout",
     "output_type": "stream",
     "text": [
      "\t\t======================= MODEL SAVED ==========================\n"
     ]
    },
    {
     "data": {
      "application/vnd.jupyter.widget-view+json": {
       "model_id": "23440641a5134cb78dcde85a38d9e0cc",
       "version_major": 2,
       "version_minor": 0
      },
      "text/plain": [
       "Validation: |          | 0/? [00:00<?, ?it/s]"
      ]
     },
     "metadata": {},
     "output_type": "display_data"
    },
    {
     "name": "stdout",
     "output_type": "stream",
     "text": [
      "\t\t======================= MODEL SAVED ==========================\n"
     ]
    },
    {
     "data": {
      "application/vnd.jupyter.widget-view+json": {
       "model_id": "0c3d0c10bcbf46b88b093745050e09da",
       "version_major": 2,
       "version_minor": 0
      },
      "text/plain": [
       "Validation: |          | 0/? [00:00<?, ?it/s]"
      ]
     },
     "metadata": {},
     "output_type": "display_data"
    },
    {
     "data": {
      "application/vnd.jupyter.widget-view+json": {
       "model_id": "165216d1add341f5846a613ba9aee0d0",
       "version_major": 2,
       "version_minor": 0
      },
      "text/plain": [
       "Validation: |          | 0/? [00:00<?, ?it/s]"
      ]
     },
     "metadata": {},
     "output_type": "display_data"
    },
    {
     "data": {
      "application/vnd.jupyter.widget-view+json": {
       "model_id": "38f5a0ccc2da4f159a839bcb25a7fe5a",
       "version_major": 2,
       "version_minor": 0
      },
      "text/plain": [
       "Validation: |          | 0/? [00:00<?, ?it/s]"
      ]
     },
     "metadata": {},
     "output_type": "display_data"
    },
    {
     "name": "stdout",
     "output_type": "stream",
     "text": [
      "\t\t======================= MODEL SAVED ==========================\n"
     ]
    },
    {
     "data": {
      "application/vnd.jupyter.widget-view+json": {
       "model_id": "60454b8c2b404d38b2c058a704ac4a76",
       "version_major": 2,
       "version_minor": 0
      },
      "text/plain": [
       "Validation: |          | 0/? [00:00<?, ?it/s]"
      ]
     },
     "metadata": {},
     "output_type": "display_data"
    },
    {
     "name": "stdout",
     "output_type": "stream",
     "text": [
      "\t\t======================= MODEL SAVED ==========================\n"
     ]
    },
    {
     "data": {
      "application/vnd.jupyter.widget-view+json": {
       "model_id": "b90d4aebb638494ca4e1fd46b88437ad",
       "version_major": 2,
       "version_minor": 0
      },
      "text/plain": [
       "Validation: |          | 0/? [00:00<?, ?it/s]"
      ]
     },
     "metadata": {},
     "output_type": "display_data"
    },
    {
     "name": "stdout",
     "output_type": "stream",
     "text": [
      "\t\t======================= MODEL SAVED ==========================\n"
     ]
    },
    {
     "data": {
      "application/vnd.jupyter.widget-view+json": {
       "model_id": "759e825ea9374af6ba549b3839dc8723",
       "version_major": 2,
       "version_minor": 0
      },
      "text/plain": [
       "Validation: |          | 0/? [00:00<?, ?it/s]"
      ]
     },
     "metadata": {},
     "output_type": "display_data"
    },
    {
     "data": {
      "application/vnd.jupyter.widget-view+json": {
       "model_id": "a2eca1cd69c04ee689b3f5fb645ab1fb",
       "version_major": 2,
       "version_minor": 0
      },
      "text/plain": [
       "Validation: |          | 0/? [00:00<?, ?it/s]"
      ]
     },
     "metadata": {},
     "output_type": "display_data"
    },
    {
     "data": {
      "application/vnd.jupyter.widget-view+json": {
       "model_id": "0517eb72a17642ebb1663e22de8fa334",
       "version_major": 2,
       "version_minor": 0
      },
      "text/plain": [
       "Validation: |          | 0/? [00:00<?, ?it/s]"
      ]
     },
     "metadata": {},
     "output_type": "display_data"
    },
    {
     "data": {
      "application/vnd.jupyter.widget-view+json": {
       "model_id": "1e4ec5db5d5e4e1a90b7917afad1564b",
       "version_major": 2,
       "version_minor": 0
      },
      "text/plain": [
       "Validation: |          | 0/? [00:00<?, ?it/s]"
      ]
     },
     "metadata": {},
     "output_type": "display_data"
    },
    {
     "name": "stdout",
     "output_type": "stream",
     "text": [
      "\t\t======================= MODEL SAVED ==========================\n"
     ]
    },
    {
     "data": {
      "application/vnd.jupyter.widget-view+json": {
       "model_id": "f965434349be4dfe801f5fbb7a4c9019",
       "version_major": 2,
       "version_minor": 0
      },
      "text/plain": [
       "Validation: |          | 0/? [00:00<?, ?it/s]"
      ]
     },
     "metadata": {},
     "output_type": "display_data"
    },
    {
     "data": {
      "application/vnd.jupyter.widget-view+json": {
       "model_id": "b116703b9f6f480dbfd288265be5dbeb",
       "version_major": 2,
       "version_minor": 0
      },
      "text/plain": [
       "Validation: |          | 0/? [00:00<?, ?it/s]"
      ]
     },
     "metadata": {},
     "output_type": "display_data"
    },
    {
     "data": {
      "application/vnd.jupyter.widget-view+json": {
       "model_id": "791cf8a1dccc423c9ee565174d086b9d",
       "version_major": 2,
       "version_minor": 0
      },
      "text/plain": [
       "Validation: |          | 0/? [00:00<?, ?it/s]"
      ]
     },
     "metadata": {},
     "output_type": "display_data"
    },
    {
     "data": {
      "application/vnd.jupyter.widget-view+json": {
       "model_id": "8a60da16b8ac4b618e3973f84afbf35c",
       "version_major": 2,
       "version_minor": 0
      },
      "text/plain": [
       "Validation: |          | 0/? [00:00<?, ?it/s]"
      ]
     },
     "metadata": {},
     "output_type": "display_data"
    },
    {
     "data": {
      "application/vnd.jupyter.widget-view+json": {
       "model_id": "b8d9c8c09a5c40d58b2d66e3ed0cf749",
       "version_major": 2,
       "version_minor": 0
      },
      "text/plain": [
       "Validation: |          | 0/? [00:00<?, ?it/s]"
      ]
     },
     "metadata": {},
     "output_type": "display_data"
    },
    {
     "data": {
      "application/vnd.jupyter.widget-view+json": {
       "model_id": "f06e3a694be44b6c82c28f415fe3945d",
       "version_major": 2,
       "version_minor": 0
      },
      "text/plain": [
       "Validation: |          | 0/? [00:00<?, ?it/s]"
      ]
     },
     "metadata": {},
     "output_type": "display_data"
    },
    {
     "data": {
      "application/vnd.jupyter.widget-view+json": {
       "model_id": "22d60f2ffa9241e9a77e0f3caebd0d0b",
       "version_major": 2,
       "version_minor": 0
      },
      "text/plain": [
       "Validation: |          | 0/? [00:00<?, ?it/s]"
      ]
     },
     "metadata": {},
     "output_type": "display_data"
    },
    {
     "data": {
      "application/vnd.jupyter.widget-view+json": {
       "model_id": "5671ecc510b84e289c2b336ab3aa021e",
       "version_major": 2,
       "version_minor": 0
      },
      "text/plain": [
       "Validation: |          | 0/? [00:00<?, ?it/s]"
      ]
     },
     "metadata": {},
     "output_type": "display_data"
    },
    {
     "data": {
      "application/vnd.jupyter.widget-view+json": {
       "model_id": "06d096655f934998a2213f0190a0f9b3",
       "version_major": 2,
       "version_minor": 0
      },
      "text/plain": [
       "Validation: |          | 0/? [00:00<?, ?it/s]"
      ]
     },
     "metadata": {},
     "output_type": "display_data"
    },
    {
     "name": "stdout",
     "output_type": "stream",
     "text": [
      "\t\t======================= MODEL SAVED ==========================\n"
     ]
    },
    {
     "data": {
      "application/vnd.jupyter.widget-view+json": {
       "model_id": "993047556ba24d4e94284988536e7584",
       "version_major": 2,
       "version_minor": 0
      },
      "text/plain": [
       "Validation: |          | 0/? [00:00<?, ?it/s]"
      ]
     },
     "metadata": {},
     "output_type": "display_data"
    },
    {
     "data": {
      "application/vnd.jupyter.widget-view+json": {
       "model_id": "dca5eb37a28844858aae8fc4ffbe48db",
       "version_major": 2,
       "version_minor": 0
      },
      "text/plain": [
       "Validation: |          | 0/? [00:00<?, ?it/s]"
      ]
     },
     "metadata": {},
     "output_type": "display_data"
    },
    {
     "name": "stdout",
     "output_type": "stream",
     "text": [
      "\t\t======================= MODEL SAVED ==========================\n"
     ]
    },
    {
     "data": {
      "application/vnd.jupyter.widget-view+json": {
       "model_id": "b9d251c538d84cdb9d8b999d34c2d615",
       "version_major": 2,
       "version_minor": 0
      },
      "text/plain": [
       "Validation: |          | 0/? [00:00<?, ?it/s]"
      ]
     },
     "metadata": {},
     "output_type": "display_data"
    },
    {
     "data": {
      "application/vnd.jupyter.widget-view+json": {
       "model_id": "60a55d36b89e41ae9678f8ed5a4ea893",
       "version_major": 2,
       "version_minor": 0
      },
      "text/plain": [
       "Validation: |          | 0/? [00:00<?, ?it/s]"
      ]
     },
     "metadata": {},
     "output_type": "display_data"
    },
    {
     "data": {
      "application/vnd.jupyter.widget-view+json": {
       "model_id": "edeab2b294a84a09971be4b72a99d871",
       "version_major": 2,
       "version_minor": 0
      },
      "text/plain": [
       "Validation: |          | 0/? [00:00<?, ?it/s]"
      ]
     },
     "metadata": {},
     "output_type": "display_data"
    },
    {
     "data": {
      "application/vnd.jupyter.widget-view+json": {
       "model_id": "52caf78695094989b85026940772524d",
       "version_major": 2,
       "version_minor": 0
      },
      "text/plain": [
       "Validation: |          | 0/? [00:00<?, ?it/s]"
      ]
     },
     "metadata": {},
     "output_type": "display_data"
    },
    {
     "name": "stdout",
     "output_type": "stream",
     "text": [
      "\t\t======================= MODEL SAVED ==========================\n"
     ]
    },
    {
     "data": {
      "application/vnd.jupyter.widget-view+json": {
       "model_id": "293b90e09d614e3aa51c65f511746786",
       "version_major": 2,
       "version_minor": 0
      },
      "text/plain": [
       "Validation: |          | 0/? [00:00<?, ?it/s]"
      ]
     },
     "metadata": {},
     "output_type": "display_data"
    },
    {
     "name": "stdout",
     "output_type": "stream",
     "text": [
      "\t\t======================= MODEL SAVED ==========================\n"
     ]
    },
    {
     "data": {
      "application/vnd.jupyter.widget-view+json": {
       "model_id": "9a1055c261fa4d7fb4644ddaf0aed93d",
       "version_major": 2,
       "version_minor": 0
      },
      "text/plain": [
       "Validation: |          | 0/? [00:00<?, ?it/s]"
      ]
     },
     "metadata": {},
     "output_type": "display_data"
    },
    {
     "data": {
      "application/vnd.jupyter.widget-view+json": {
       "model_id": "ea9ab133d28043b58c161c1c2a625f8b",
       "version_major": 2,
       "version_minor": 0
      },
      "text/plain": [
       "Validation: |          | 0/? [00:00<?, ?it/s]"
      ]
     },
     "metadata": {},
     "output_type": "display_data"
    },
    {
     "data": {
      "application/vnd.jupyter.widget-view+json": {
       "model_id": "6fc4757f5f0b4e1f90e98a0676c8d680",
       "version_major": 2,
       "version_minor": 0
      },
      "text/plain": [
       "Validation: |          | 0/? [00:00<?, ?it/s]"
      ]
     },
     "metadata": {},
     "output_type": "display_data"
    },
    {
     "data": {
      "application/vnd.jupyter.widget-view+json": {
       "model_id": "e961ad9e725542ea9c874331b1a3f61b",
       "version_major": 2,
       "version_minor": 0
      },
      "text/plain": [
       "Validation: |          | 0/? [00:00<?, ?it/s]"
      ]
     },
     "metadata": {},
     "output_type": "display_data"
    },
    {
     "data": {
      "application/vnd.jupyter.widget-view+json": {
       "model_id": "ca9b8d031196448e80d7d93d11777cb8",
       "version_major": 2,
       "version_minor": 0
      },
      "text/plain": [
       "Validation: |          | 0/? [00:00<?, ?it/s]"
      ]
     },
     "metadata": {},
     "output_type": "display_data"
    },
    {
     "data": {
      "application/vnd.jupyter.widget-view+json": {
       "model_id": "cee75dc146e443e7a051c48b9a4d21e5",
       "version_major": 2,
       "version_minor": 0
      },
      "text/plain": [
       "Validation: |          | 0/? [00:00<?, ?it/s]"
      ]
     },
     "metadata": {},
     "output_type": "display_data"
    },
    {
     "data": {
      "application/vnd.jupyter.widget-view+json": {
       "model_id": "0f0dc1ebb84e4bd3851166075ae04aa4",
       "version_major": 2,
       "version_minor": 0
      },
      "text/plain": [
       "Validation: |          | 0/? [00:00<?, ?it/s]"
      ]
     },
     "metadata": {},
     "output_type": "display_data"
    },
    {
     "data": {
      "application/vnd.jupyter.widget-view+json": {
       "model_id": "7e9a3a194faa47a8b6c0d0bf9a8b5a36",
       "version_major": 2,
       "version_minor": 0
      },
      "text/plain": [
       "Validation: |          | 0/? [00:00<?, ?it/s]"
      ]
     },
     "metadata": {},
     "output_type": "display_data"
    },
    {
     "name": "stdout",
     "output_type": "stream",
     "text": [
      "\t\t======================= MODEL SAVED ==========================\n"
     ]
    },
    {
     "data": {
      "application/vnd.jupyter.widget-view+json": {
       "model_id": "508a75f4661b4e5c8517d22f6bdc3cb9",
       "version_major": 2,
       "version_minor": 0
      },
      "text/plain": [
       "Validation: |          | 0/? [00:00<?, ?it/s]"
      ]
     },
     "metadata": {},
     "output_type": "display_data"
    },
    {
     "data": {
      "application/vnd.jupyter.widget-view+json": {
       "model_id": "5626a5b35c614827ba99f03214cf6bcd",
       "version_major": 2,
       "version_minor": 0
      },
      "text/plain": [
       "Validation: |          | 0/? [00:00<?, ?it/s]"
      ]
     },
     "metadata": {},
     "output_type": "display_data"
    },
    {
     "data": {
      "application/vnd.jupyter.widget-view+json": {
       "model_id": "0f4f9f323e7148d59b8f6e3133a8542e",
       "version_major": 2,
       "version_minor": 0
      },
      "text/plain": [
       "Validation: |          | 0/? [00:00<?, ?it/s]"
      ]
     },
     "metadata": {},
     "output_type": "display_data"
    },
    {
     "name": "stdout",
     "output_type": "stream",
     "text": [
      "\t\t======================= MODEL SAVED ==========================\n"
     ]
    },
    {
     "data": {
      "application/vnd.jupyter.widget-view+json": {
       "model_id": "85cbdde4d1f046a8a166f031885e08fe",
       "version_major": 2,
       "version_minor": 0
      },
      "text/plain": [
       "Validation: |          | 0/? [00:00<?, ?it/s]"
      ]
     },
     "metadata": {},
     "output_type": "display_data"
    },
    {
     "data": {
      "application/vnd.jupyter.widget-view+json": {
       "model_id": "d0f704c0456a41cf90486a191684f4e2",
       "version_major": 2,
       "version_minor": 0
      },
      "text/plain": [
       "Validation: |          | 0/? [00:00<?, ?it/s]"
      ]
     },
     "metadata": {},
     "output_type": "display_data"
    },
    {
     "data": {
      "application/vnd.jupyter.widget-view+json": {
       "model_id": "5aa633905ffe45fd937c26a9c3de3b56",
       "version_major": 2,
       "version_minor": 0
      },
      "text/plain": [
       "Validation: |          | 0/? [00:00<?, ?it/s]"
      ]
     },
     "metadata": {},
     "output_type": "display_data"
    },
    {
     "data": {
      "application/vnd.jupyter.widget-view+json": {
       "model_id": "68e987fccef44af3a39492b7b36f1f70",
       "version_major": 2,
       "version_minor": 0
      },
      "text/plain": [
       "Validation: |          | 0/? [00:00<?, ?it/s]"
      ]
     },
     "metadata": {},
     "output_type": "display_data"
    },
    {
     "data": {
      "application/vnd.jupyter.widget-view+json": {
       "model_id": "015bc93f276b4ee9ad85c905537c5bb1",
       "version_major": 2,
       "version_minor": 0
      },
      "text/plain": [
       "Validation: |          | 0/? [00:00<?, ?it/s]"
      ]
     },
     "metadata": {},
     "output_type": "display_data"
    },
    {
     "data": {
      "application/vnd.jupyter.widget-view+json": {
       "model_id": "e42ef3040c384696aaf7b0ab7cfbbc0f",
       "version_major": 2,
       "version_minor": 0
      },
      "text/plain": [
       "Validation: |          | 0/? [00:00<?, ?it/s]"
      ]
     },
     "metadata": {},
     "output_type": "display_data"
    },
    {
     "data": {
      "application/vnd.jupyter.widget-view+json": {
       "model_id": "f69f038dbd8e4f598e64b761824706ab",
       "version_major": 2,
       "version_minor": 0
      },
      "text/plain": [
       "Validation: |          | 0/? [00:00<?, ?it/s]"
      ]
     },
     "metadata": {},
     "output_type": "display_data"
    },
    {
     "data": {
      "application/vnd.jupyter.widget-view+json": {
       "model_id": "f4ae5d90e3ee408cb90fd74814adef76",
       "version_major": 2,
       "version_minor": 0
      },
      "text/plain": [
       "Validation: |          | 0/? [00:00<?, ?it/s]"
      ]
     },
     "metadata": {},
     "output_type": "display_data"
    },
    {
     "data": {
      "application/vnd.jupyter.widget-view+json": {
       "model_id": "28a3e8b9ec424faabc729f3319d647cd",
       "version_major": 2,
       "version_minor": 0
      },
      "text/plain": [
       "Validation: |          | 0/? [00:00<?, ?it/s]"
      ]
     },
     "metadata": {},
     "output_type": "display_data"
    },
    {
     "data": {
      "application/vnd.jupyter.widget-view+json": {
       "model_id": "1d9c4a3d35384aae9f4c636b389451d0",
       "version_major": 2,
       "version_minor": 0
      },
      "text/plain": [
       "Validation: |          | 0/? [00:00<?, ?it/s]"
      ]
     },
     "metadata": {},
     "output_type": "display_data"
    },
    {
     "data": {
      "application/vnd.jupyter.widget-view+json": {
       "model_id": "1edfe921970e41d7a0c26e051bed057c",
       "version_major": 2,
       "version_minor": 0
      },
      "text/plain": [
       "Validation: |          | 0/? [00:00<?, ?it/s]"
      ]
     },
     "metadata": {},
     "output_type": "display_data"
    },
    {
     "data": {
      "application/vnd.jupyter.widget-view+json": {
       "model_id": "32399bbe328541a0b390250f030d52f8",
       "version_major": 2,
       "version_minor": 0
      },
      "text/plain": [
       "Validation: |          | 0/? [00:00<?, ?it/s]"
      ]
     },
     "metadata": {},
     "output_type": "display_data"
    },
    {
     "data": {
      "application/vnd.jupyter.widget-view+json": {
       "model_id": "abb8d937dc364dfaaee6e8febd6ad9d0",
       "version_major": 2,
       "version_minor": 0
      },
      "text/plain": [
       "Validation: |          | 0/? [00:00<?, ?it/s]"
      ]
     },
     "metadata": {},
     "output_type": "display_data"
    },
    {
     "data": {
      "application/vnd.jupyter.widget-view+json": {
       "model_id": "7832f4df7c664d2982dd455307019a50",
       "version_major": 2,
       "version_minor": 0
      },
      "text/plain": [
       "Validation: |          | 0/? [00:00<?, ?it/s]"
      ]
     },
     "metadata": {},
     "output_type": "display_data"
    },
    {
     "data": {
      "application/vnd.jupyter.widget-view+json": {
       "model_id": "06e7e3d76bb64d349143e246200e0e13",
       "version_major": 2,
       "version_minor": 0
      },
      "text/plain": [
       "Validation: |          | 0/? [00:00<?, ?it/s]"
      ]
     },
     "metadata": {},
     "output_type": "display_data"
    },
    {
     "data": {
      "application/vnd.jupyter.widget-view+json": {
       "model_id": "d8d9846efe314b4faeebb41d3fa264c0",
       "version_major": 2,
       "version_minor": 0
      },
      "text/plain": [
       "Validation: |          | 0/? [00:00<?, ?it/s]"
      ]
     },
     "metadata": {},
     "output_type": "display_data"
    },
    {
     "name": "stdout",
     "output_type": "stream",
     "text": [
      "\t\t======================= MODEL SAVED ==========================\n"
     ]
    },
    {
     "data": {
      "application/vnd.jupyter.widget-view+json": {
       "model_id": "359c68f7ddc8430a97d9df50bfda308b",
       "version_major": 2,
       "version_minor": 0
      },
      "text/plain": [
       "Validation: |          | 0/? [00:00<?, ?it/s]"
      ]
     },
     "metadata": {},
     "output_type": "display_data"
    },
    {
     "data": {
      "application/vnd.jupyter.widget-view+json": {
       "model_id": "9b3a02f3e81f460f9805510f938d4eb3",
       "version_major": 2,
       "version_minor": 0
      },
      "text/plain": [
       "Validation: |          | 0/? [00:00<?, ?it/s]"
      ]
     },
     "metadata": {},
     "output_type": "display_data"
    },
    {
     "name": "stdout",
     "output_type": "stream",
     "text": [
      "\t\t======================= MODEL SAVED ==========================\n"
     ]
    },
    {
     "data": {
      "application/vnd.jupyter.widget-view+json": {
       "model_id": "0343fcbc2385464e93dd6763ad96e70b",
       "version_major": 2,
       "version_minor": 0
      },
      "text/plain": [
       "Validation: |          | 0/? [00:00<?, ?it/s]"
      ]
     },
     "metadata": {},
     "output_type": "display_data"
    },
    {
     "data": {
      "application/vnd.jupyter.widget-view+json": {
       "model_id": "863aabefd9e345b894bb3e456ef5f736",
       "version_major": 2,
       "version_minor": 0
      },
      "text/plain": [
       "Validation: |          | 0/? [00:00<?, ?it/s]"
      ]
     },
     "metadata": {},
     "output_type": "display_data"
    },
    {
     "data": {
      "application/vnd.jupyter.widget-view+json": {
       "model_id": "26a7f8628d374a7dabb101bcbee873c1",
       "version_major": 2,
       "version_minor": 0
      },
      "text/plain": [
       "Validation: |          | 0/? [00:00<?, ?it/s]"
      ]
     },
     "metadata": {},
     "output_type": "display_data"
    },
    {
     "data": {
      "application/vnd.jupyter.widget-view+json": {
       "model_id": "be692eee705840a7ab01f73ce4f15ecb",
       "version_major": 2,
       "version_minor": 0
      },
      "text/plain": [
       "Validation: |          | 0/? [00:00<?, ?it/s]"
      ]
     },
     "metadata": {},
     "output_type": "display_data"
    },
    {
     "data": {
      "application/vnd.jupyter.widget-view+json": {
       "model_id": "efb4375051cd432794d24f52491dd678",
       "version_major": 2,
       "version_minor": 0
      },
      "text/plain": [
       "Validation: |          | 0/? [00:00<?, ?it/s]"
      ]
     },
     "metadata": {},
     "output_type": "display_data"
    },
    {
     "data": {
      "application/vnd.jupyter.widget-view+json": {
       "model_id": "290ca55ed3584ea1b7230878701c08d2",
       "version_major": 2,
       "version_minor": 0
      },
      "text/plain": [
       "Validation: |          | 0/? [00:00<?, ?it/s]"
      ]
     },
     "metadata": {},
     "output_type": "display_data"
    },
    {
     "data": {
      "application/vnd.jupyter.widget-view+json": {
       "model_id": "eda4335b387449cc99b33151d9b26357",
       "version_major": 2,
       "version_minor": 0
      },
      "text/plain": [
       "Validation: |          | 0/? [00:00<?, ?it/s]"
      ]
     },
     "metadata": {},
     "output_type": "display_data"
    },
    {
     "name": "stdout",
     "output_type": "stream",
     "text": [
      "\t\t======================= MODEL SAVED ==========================\n"
     ]
    },
    {
     "data": {
      "application/vnd.jupyter.widget-view+json": {
       "model_id": "091c9416a70d4dc08f86abb20ef6d51f",
       "version_major": 2,
       "version_minor": 0
      },
      "text/plain": [
       "Validation: |          | 0/? [00:00<?, ?it/s]"
      ]
     },
     "metadata": {},
     "output_type": "display_data"
    },
    {
     "data": {
      "application/vnd.jupyter.widget-view+json": {
       "model_id": "b1feb72a53ec451fb655476144872cd3",
       "version_major": 2,
       "version_minor": 0
      },
      "text/plain": [
       "Validation: |          | 0/? [00:00<?, ?it/s]"
      ]
     },
     "metadata": {},
     "output_type": "display_data"
    },
    {
     "data": {
      "application/vnd.jupyter.widget-view+json": {
       "model_id": "f330b48a5aa54aee972adf20f911f25c",
       "version_major": 2,
       "version_minor": 0
      },
      "text/plain": [
       "Validation: |          | 0/? [00:00<?, ?it/s]"
      ]
     },
     "metadata": {},
     "output_type": "display_data"
    },
    {
     "data": {
      "application/vnd.jupyter.widget-view+json": {
       "model_id": "f5a4d25962eb436a95869502e409854e",
       "version_major": 2,
       "version_minor": 0
      },
      "text/plain": [
       "Validation: |          | 0/? [00:00<?, ?it/s]"
      ]
     },
     "metadata": {},
     "output_type": "display_data"
    },
    {
     "data": {
      "application/vnd.jupyter.widget-view+json": {
       "model_id": "2031e80a9c3d4a3581ce761a6c9d9c66",
       "version_major": 2,
       "version_minor": 0
      },
      "text/plain": [
       "Validation: |          | 0/? [00:00<?, ?it/s]"
      ]
     },
     "metadata": {},
     "output_type": "display_data"
    },
    {
     "data": {
      "application/vnd.jupyter.widget-view+json": {
       "model_id": "3c323fd8cef7425f90e1b3342b300a01",
       "version_major": 2,
       "version_minor": 0
      },
      "text/plain": [
       "Validation: |          | 0/? [00:00<?, ?it/s]"
      ]
     },
     "metadata": {},
     "output_type": "display_data"
    },
    {
     "data": {
      "application/vnd.jupyter.widget-view+json": {
       "model_id": "9abc28756f864a62b8cb486c9f25d774",
       "version_major": 2,
       "version_minor": 0
      },
      "text/plain": [
       "Validation: |          | 0/? [00:00<?, ?it/s]"
      ]
     },
     "metadata": {},
     "output_type": "display_data"
    },
    {
     "data": {
      "application/vnd.jupyter.widget-view+json": {
       "model_id": "34621e7064a84456b9800bf868a2f288",
       "version_major": 2,
       "version_minor": 0
      },
      "text/plain": [
       "Validation: |          | 0/? [00:00<?, ?it/s]"
      ]
     },
     "metadata": {},
     "output_type": "display_data"
    },
    {
     "data": {
      "application/vnd.jupyter.widget-view+json": {
       "model_id": "1097448a48b2496893564e0ee852ccc1",
       "version_major": 2,
       "version_minor": 0
      },
      "text/plain": [
       "Validation: |          | 0/? [00:00<?, ?it/s]"
      ]
     },
     "metadata": {},
     "output_type": "display_data"
    },
    {
     "data": {
      "application/vnd.jupyter.widget-view+json": {
       "model_id": "24117c9a88af427b8d1e6296adc39301",
       "version_major": 2,
       "version_minor": 0
      },
      "text/plain": [
       "Validation: |          | 0/? [00:00<?, ?it/s]"
      ]
     },
     "metadata": {},
     "output_type": "display_data"
    },
    {
     "data": {
      "application/vnd.jupyter.widget-view+json": {
       "model_id": "21a70ceddd1540b58677e4fef1d4af29",
       "version_major": 2,
       "version_minor": 0
      },
      "text/plain": [
       "Validation: |          | 0/? [00:00<?, ?it/s]"
      ]
     },
     "metadata": {},
     "output_type": "display_data"
    },
    {
     "data": {
      "application/vnd.jupyter.widget-view+json": {
       "model_id": "3c224dc69bcd4f1fa0ffcb8f6c83a3d8",
       "version_major": 2,
       "version_minor": 0
      },
      "text/plain": [
       "Validation: |          | 0/? [00:00<?, ?it/s]"
      ]
     },
     "metadata": {},
     "output_type": "display_data"
    },
    {
     "data": {
      "application/vnd.jupyter.widget-view+json": {
       "model_id": "70f778d8f40a42dca4b02f425a493012",
       "version_major": 2,
       "version_minor": 0
      },
      "text/plain": [
       "Validation: |          | 0/? [00:00<?, ?it/s]"
      ]
     },
     "metadata": {},
     "output_type": "display_data"
    },
    {
     "data": {
      "application/vnd.jupyter.widget-view+json": {
       "model_id": "91ee230cdc4e45ebaa551c9e20fce1f1",
       "version_major": 2,
       "version_minor": 0
      },
      "text/plain": [
       "Validation: |          | 0/? [00:00<?, ?it/s]"
      ]
     },
     "metadata": {},
     "output_type": "display_data"
    },
    {
     "data": {
      "application/vnd.jupyter.widget-view+json": {
       "model_id": "0f0fcfe78ec94ac484ec402fdf7f0a57",
       "version_major": 2,
       "version_minor": 0
      },
      "text/plain": [
       "Validation: |          | 0/? [00:00<?, ?it/s]"
      ]
     },
     "metadata": {},
     "output_type": "display_data"
    },
    {
     "data": {
      "application/vnd.jupyter.widget-view+json": {
       "model_id": "ad6de3d0653d4580be1da02f5a7e6486",
       "version_major": 2,
       "version_minor": 0
      },
      "text/plain": [
       "Validation: |          | 0/? [00:00<?, ?it/s]"
      ]
     },
     "metadata": {},
     "output_type": "display_data"
    },
    {
     "data": {
      "application/vnd.jupyter.widget-view+json": {
       "model_id": "3faad0bf88944c64b7d7bc447a9518e7",
       "version_major": 2,
       "version_minor": 0
      },
      "text/plain": [
       "Validation: |          | 0/? [00:00<?, ?it/s]"
      ]
     },
     "metadata": {},
     "output_type": "display_data"
    },
    {
     "data": {
      "application/vnd.jupyter.widget-view+json": {
       "model_id": "5667f2dc6ab14547af9c29e02158aee1",
       "version_major": 2,
       "version_minor": 0
      },
      "text/plain": [
       "Validation: |          | 0/? [00:00<?, ?it/s]"
      ]
     },
     "metadata": {},
     "output_type": "display_data"
    },
    {
     "data": {
      "application/vnd.jupyter.widget-view+json": {
       "model_id": "972cdab517504474bb32478bc595402d",
       "version_major": 2,
       "version_minor": 0
      },
      "text/plain": [
       "Validation: |          | 0/? [00:00<?, ?it/s]"
      ]
     },
     "metadata": {},
     "output_type": "display_data"
    },
    {
     "name": "stdout",
     "output_type": "stream",
     "text": [
      "\t\t======================= MODEL SAVED ==========================\n"
     ]
    },
    {
     "data": {
      "application/vnd.jupyter.widget-view+json": {
       "model_id": "914c668505114ba0b509d07dd21ae0a1",
       "version_major": 2,
       "version_minor": 0
      },
      "text/plain": [
       "Validation: |          | 0/? [00:00<?, ?it/s]"
      ]
     },
     "metadata": {},
     "output_type": "display_data"
    },
    {
     "name": "stdout",
     "output_type": "stream",
     "text": [
      "\t\t======================= MODEL SAVED ==========================\n"
     ]
    },
    {
     "data": {
      "application/vnd.jupyter.widget-view+json": {
       "model_id": "78e6ca31aa0e444ea12066f39e74df0c",
       "version_major": 2,
       "version_minor": 0
      },
      "text/plain": [
       "Validation: |          | 0/? [00:00<?, ?it/s]"
      ]
     },
     "metadata": {},
     "output_type": "display_data"
    },
    {
     "data": {
      "application/vnd.jupyter.widget-view+json": {
       "model_id": "8aa6ab5640074eac8b004db4ce8412cb",
       "version_major": 2,
       "version_minor": 0
      },
      "text/plain": [
       "Validation: |          | 0/? [00:00<?, ?it/s]"
      ]
     },
     "metadata": {},
     "output_type": "display_data"
    },
    {
     "data": {
      "application/vnd.jupyter.widget-view+json": {
       "model_id": "36638ce987554c2e8caa5c74a33beccb",
       "version_major": 2,
       "version_minor": 0
      },
      "text/plain": [
       "Validation: |          | 0/? [00:00<?, ?it/s]"
      ]
     },
     "metadata": {},
     "output_type": "display_data"
    },
    {
     "data": {
      "application/vnd.jupyter.widget-view+json": {
       "model_id": "cff30e59da974785a7eed44a9303f97d",
       "version_major": 2,
       "version_minor": 0
      },
      "text/plain": [
       "Validation: |          | 0/? [00:00<?, ?it/s]"
      ]
     },
     "metadata": {},
     "output_type": "display_data"
    },
    {
     "data": {
      "application/vnd.jupyter.widget-view+json": {
       "model_id": "213e03a183404f74ae8d275aac8e7072",
       "version_major": 2,
       "version_minor": 0
      },
      "text/plain": [
       "Validation: |          | 0/? [00:00<?, ?it/s]"
      ]
     },
     "metadata": {},
     "output_type": "display_data"
    },
    {
     "data": {
      "application/vnd.jupyter.widget-view+json": {
       "model_id": "deb5b166fb5e461ca89fffc2cedaa6c7",
       "version_major": 2,
       "version_minor": 0
      },
      "text/plain": [
       "Validation: |          | 0/? [00:00<?, ?it/s]"
      ]
     },
     "metadata": {},
     "output_type": "display_data"
    },
    {
     "data": {
      "application/vnd.jupyter.widget-view+json": {
       "model_id": "6a269dfce9c34db8bac7460aaa219346",
       "version_major": 2,
       "version_minor": 0
      },
      "text/plain": [
       "Validation: |          | 0/? [00:00<?, ?it/s]"
      ]
     },
     "metadata": {},
     "output_type": "display_data"
    },
    {
     "data": {
      "application/vnd.jupyter.widget-view+json": {
       "model_id": "31256a67baa54188af8d6aae80913235",
       "version_major": 2,
       "version_minor": 0
      },
      "text/plain": [
       "Validation: |          | 0/? [00:00<?, ?it/s]"
      ]
     },
     "metadata": {},
     "output_type": "display_data"
    },
    {
     "data": {
      "application/vnd.jupyter.widget-view+json": {
       "model_id": "84072ecb152d40e9a7e1c684b2ceeb42",
       "version_major": 2,
       "version_minor": 0
      },
      "text/plain": [
       "Validation: |          | 0/? [00:00<?, ?it/s]"
      ]
     },
     "metadata": {},
     "output_type": "display_data"
    },
    {
     "data": {
      "application/vnd.jupyter.widget-view+json": {
       "model_id": "094649c220194db2b9ebd08bf174ae77",
       "version_major": 2,
       "version_minor": 0
      },
      "text/plain": [
       "Validation: |          | 0/? [00:00<?, ?it/s]"
      ]
     },
     "metadata": {},
     "output_type": "display_data"
    },
    {
     "data": {
      "application/vnd.jupyter.widget-view+json": {
       "model_id": "f1b64a8c6f6f4c5e91cd093102caeaa9",
       "version_major": 2,
       "version_minor": 0
      },
      "text/plain": [
       "Validation: |          | 0/? [00:00<?, ?it/s]"
      ]
     },
     "metadata": {},
     "output_type": "display_data"
    },
    {
     "data": {
      "application/vnd.jupyter.widget-view+json": {
       "model_id": "ab6c921d947d436886463aef35762fe0",
       "version_major": 2,
       "version_minor": 0
      },
      "text/plain": [
       "Validation: |          | 0/? [00:00<?, ?it/s]"
      ]
     },
     "metadata": {},
     "output_type": "display_data"
    },
    {
     "data": {
      "application/vnd.jupyter.widget-view+json": {
       "model_id": "453d041973524bd1ab246d2d3d98f0aa",
       "version_major": 2,
       "version_minor": 0
      },
      "text/plain": [
       "Validation: |          | 0/? [00:00<?, ?it/s]"
      ]
     },
     "metadata": {},
     "output_type": "display_data"
    },
    {
     "data": {
      "application/vnd.jupyter.widget-view+json": {
       "model_id": "1acae280ff37425a80065875b9a509a5",
       "version_major": 2,
       "version_minor": 0
      },
      "text/plain": [
       "Validation: |          | 0/? [00:00<?, ?it/s]"
      ]
     },
     "metadata": {},
     "output_type": "display_data"
    },
    {
     "data": {
      "application/vnd.jupyter.widget-view+json": {
       "model_id": "547a8a86b7904fceaf18dc38c18a18ec",
       "version_major": 2,
       "version_minor": 0
      },
      "text/plain": [
       "Validation: |          | 0/? [00:00<?, ?it/s]"
      ]
     },
     "metadata": {},
     "output_type": "display_data"
    },
    {
     "data": {
      "application/vnd.jupyter.widget-view+json": {
       "model_id": "78685243637442a39146b4a741a2491e",
       "version_major": 2,
       "version_minor": 0
      },
      "text/plain": [
       "Validation: |          | 0/? [00:00<?, ?it/s]"
      ]
     },
     "metadata": {},
     "output_type": "display_data"
    },
    {
     "data": {
      "application/vnd.jupyter.widget-view+json": {
       "model_id": "1a8ef588dd414054878a575e9f7f4bb4",
       "version_major": 2,
       "version_minor": 0
      },
      "text/plain": [
       "Validation: |          | 0/? [00:00<?, ?it/s]"
      ]
     },
     "metadata": {},
     "output_type": "display_data"
    },
    {
     "data": {
      "application/vnd.jupyter.widget-view+json": {
       "model_id": "16380291aae34f389615c18aa0fd63ec",
       "version_major": 2,
       "version_minor": 0
      },
      "text/plain": [
       "Validation: |          | 0/? [00:00<?, ?it/s]"
      ]
     },
     "metadata": {},
     "output_type": "display_data"
    },
    {
     "data": {
      "application/vnd.jupyter.widget-view+json": {
       "model_id": "db6e437838254b22badafc5b1a5feafc",
       "version_major": 2,
       "version_minor": 0
      },
      "text/plain": [
       "Validation: |          | 0/? [00:00<?, ?it/s]"
      ]
     },
     "metadata": {},
     "output_type": "display_data"
    },
    {
     "data": {
      "application/vnd.jupyter.widget-view+json": {
       "model_id": "955c92390097426a95b204b3d4459ef9",
       "version_major": 2,
       "version_minor": 0
      },
      "text/plain": [
       "Validation: |          | 0/? [00:00<?, ?it/s]"
      ]
     },
     "metadata": {},
     "output_type": "display_data"
    },
    {
     "data": {
      "application/vnd.jupyter.widget-view+json": {
       "model_id": "3253e2c6acc04f4eb0caf5f9246a9efe",
       "version_major": 2,
       "version_minor": 0
      },
      "text/plain": [
       "Validation: |          | 0/? [00:00<?, ?it/s]"
      ]
     },
     "metadata": {},
     "output_type": "display_data"
    },
    {
     "data": {
      "application/vnd.jupyter.widget-view+json": {
       "model_id": "867b171d66c1413c93918847ec4e0c09",
       "version_major": 2,
       "version_minor": 0
      },
      "text/plain": [
       "Validation: |          | 0/? [00:00<?, ?it/s]"
      ]
     },
     "metadata": {},
     "output_type": "display_data"
    },
    {
     "data": {
      "application/vnd.jupyter.widget-view+json": {
       "model_id": "29f296703e014c54ba3a2f00ed482d35",
       "version_major": 2,
       "version_minor": 0
      },
      "text/plain": [
       "Validation: |          | 0/? [00:00<?, ?it/s]"
      ]
     },
     "metadata": {},
     "output_type": "display_data"
    },
    {
     "data": {
      "application/vnd.jupyter.widget-view+json": {
       "model_id": "c1c2983e25ea4b9f9913eb8086a3b074",
       "version_major": 2,
       "version_minor": 0
      },
      "text/plain": [
       "Validation: |          | 0/? [00:00<?, ?it/s]"
      ]
     },
     "metadata": {},
     "output_type": "display_data"
    },
    {
     "data": {
      "application/vnd.jupyter.widget-view+json": {
       "model_id": "170a2401846943298ccaba1db38fe3bb",
       "version_major": 2,
       "version_minor": 0
      },
      "text/plain": [
       "Validation: |          | 0/? [00:00<?, ?it/s]"
      ]
     },
     "metadata": {},
     "output_type": "display_data"
    },
    {
     "data": {
      "application/vnd.jupyter.widget-view+json": {
       "model_id": "bb89b1c4f775442f9069efa21eec3c52",
       "version_major": 2,
       "version_minor": 0
      },
      "text/plain": [
       "Validation: |          | 0/? [00:00<?, ?it/s]"
      ]
     },
     "metadata": {},
     "output_type": "display_data"
    },
    {
     "data": {
      "application/vnd.jupyter.widget-view+json": {
       "model_id": "9bb0fe704b8e47aba0fdda3e9566a581",
       "version_major": 2,
       "version_minor": 0
      },
      "text/plain": [
       "Validation: |          | 0/? [00:00<?, ?it/s]"
      ]
     },
     "metadata": {},
     "output_type": "display_data"
    },
    {
     "data": {
      "application/vnd.jupyter.widget-view+json": {
       "model_id": "e29c22a9548c4110b55bcf86cb7623ca",
       "version_major": 2,
       "version_minor": 0
      },
      "text/plain": [
       "Validation: |          | 0/? [00:00<?, ?it/s]"
      ]
     },
     "metadata": {},
     "output_type": "display_data"
    },
    {
     "data": {
      "application/vnd.jupyter.widget-view+json": {
       "model_id": "8fa805f81e3743bd8874b20fe7fea630",
       "version_major": 2,
       "version_minor": 0
      },
      "text/plain": [
       "Validation: |          | 0/? [00:00<?, ?it/s]"
      ]
     },
     "metadata": {},
     "output_type": "display_data"
    },
    {
     "data": {
      "application/vnd.jupyter.widget-view+json": {
       "model_id": "c531901dc7df459f95d78675d1b67ab2",
       "version_major": 2,
       "version_minor": 0
      },
      "text/plain": [
       "Validation: |          | 0/? [00:00<?, ?it/s]"
      ]
     },
     "metadata": {},
     "output_type": "display_data"
    },
    {
     "data": {
      "application/vnd.jupyter.widget-view+json": {
       "model_id": "b1aa7daa0cb54750b2235d365264cbbd",
       "version_major": 2,
       "version_minor": 0
      },
      "text/plain": [
       "Validation: |          | 0/? [00:00<?, ?it/s]"
      ]
     },
     "metadata": {},
     "output_type": "display_data"
    },
    {
     "data": {
      "application/vnd.jupyter.widget-view+json": {
       "model_id": "d069a8e1231c4bf3a61e2ae51c478a8f",
       "version_major": 2,
       "version_minor": 0
      },
      "text/plain": [
       "Validation: |          | 0/? [00:00<?, ?it/s]"
      ]
     },
     "metadata": {},
     "output_type": "display_data"
    },
    {
     "data": {
      "application/vnd.jupyter.widget-view+json": {
       "model_id": "ac94d651672941ab9b96b8f52559ee84",
       "version_major": 2,
       "version_minor": 0
      },
      "text/plain": [
       "Validation: |          | 0/? [00:00<?, ?it/s]"
      ]
     },
     "metadata": {},
     "output_type": "display_data"
    },
    {
     "data": {
      "application/vnd.jupyter.widget-view+json": {
       "model_id": "ee69103a242e40a2a8add2c4d27a4de6",
       "version_major": 2,
       "version_minor": 0
      },
      "text/plain": [
       "Validation: |          | 0/? [00:00<?, ?it/s]"
      ]
     },
     "metadata": {},
     "output_type": "display_data"
    },
    {
     "data": {
      "application/vnd.jupyter.widget-view+json": {
       "model_id": "a1857b6e8f8e4afa992ee8d56e577186",
       "version_major": 2,
       "version_minor": 0
      },
      "text/plain": [
       "Validation: |          | 0/? [00:00<?, ?it/s]"
      ]
     },
     "metadata": {},
     "output_type": "display_data"
    },
    {
     "data": {
      "application/vnd.jupyter.widget-view+json": {
       "model_id": "81a65716539644ae8d7c45554dbed88e",
       "version_major": 2,
       "version_minor": 0
      },
      "text/plain": [
       "Validation: |          | 0/? [00:00<?, ?it/s]"
      ]
     },
     "metadata": {},
     "output_type": "display_data"
    },
    {
     "data": {
      "application/vnd.jupyter.widget-view+json": {
       "model_id": "a96ca5ad58c44be88799da28980b40ba",
       "version_major": 2,
       "version_minor": 0
      },
      "text/plain": [
       "Validation: |          | 0/? [00:00<?, ?it/s]"
      ]
     },
     "metadata": {},
     "output_type": "display_data"
    },
    {
     "data": {
      "application/vnd.jupyter.widget-view+json": {
       "model_id": "666d0b249a5040deb8344eeaaa1b7ec1",
       "version_major": 2,
       "version_minor": 0
      },
      "text/plain": [
       "Validation: |          | 0/? [00:00<?, ?it/s]"
      ]
     },
     "metadata": {},
     "output_type": "display_data"
    },
    {
     "data": {
      "application/vnd.jupyter.widget-view+json": {
       "model_id": "383a9cacdd5742af84909164c25150d4",
       "version_major": 2,
       "version_minor": 0
      },
      "text/plain": [
       "Validation: |          | 0/? [00:00<?, ?it/s]"
      ]
     },
     "metadata": {},
     "output_type": "display_data"
    },
    {
     "data": {
      "application/vnd.jupyter.widget-view+json": {
       "model_id": "f1f4494e2e874d1e8005ae321778be36",
       "version_major": 2,
       "version_minor": 0
      },
      "text/plain": [
       "Validation: |          | 0/? [00:00<?, ?it/s]"
      ]
     },
     "metadata": {},
     "output_type": "display_data"
    },
    {
     "data": {
      "application/vnd.jupyter.widget-view+json": {
       "model_id": "9014704013fe44e69cb7b39577841b5b",
       "version_major": 2,
       "version_minor": 0
      },
      "text/plain": [
       "Validation: |          | 0/? [00:00<?, ?it/s]"
      ]
     },
     "metadata": {},
     "output_type": "display_data"
    },
    {
     "data": {
      "application/vnd.jupyter.widget-view+json": {
       "model_id": "8cf2671ca87a45a59b393130124a36e8",
       "version_major": 2,
       "version_minor": 0
      },
      "text/plain": [
       "Validation: |          | 0/? [00:00<?, ?it/s]"
      ]
     },
     "metadata": {},
     "output_type": "display_data"
    },
    {
     "data": {
      "application/vnd.jupyter.widget-view+json": {
       "model_id": "b9abbfe6be52404f800f4596bbca09fc",
       "version_major": 2,
       "version_minor": 0
      },
      "text/plain": [
       "Validation: |          | 0/? [00:00<?, ?it/s]"
      ]
     },
     "metadata": {},
     "output_type": "display_data"
    },
    {
     "data": {
      "application/vnd.jupyter.widget-view+json": {
       "model_id": "81fa5f052ee047fb8852aca9d84925ae",
       "version_major": 2,
       "version_minor": 0
      },
      "text/plain": [
       "Validation: |          | 0/? [00:00<?, ?it/s]"
      ]
     },
     "metadata": {},
     "output_type": "display_data"
    },
    {
     "data": {
      "application/vnd.jupyter.widget-view+json": {
       "model_id": "aa192b90876b4a4a88ba933d308e3d1f",
       "version_major": 2,
       "version_minor": 0
      },
      "text/plain": [
       "Validation: |          | 0/? [00:00<?, ?it/s]"
      ]
     },
     "metadata": {},
     "output_type": "display_data"
    },
    {
     "data": {
      "application/vnd.jupyter.widget-view+json": {
       "model_id": "67092fff1b4940a3b8a1e7446d92b6d2",
       "version_major": 2,
       "version_minor": 0
      },
      "text/plain": [
       "Validation: |          | 0/? [00:00<?, ?it/s]"
      ]
     },
     "metadata": {},
     "output_type": "display_data"
    },
    {
     "data": {
      "application/vnd.jupyter.widget-view+json": {
       "model_id": "37161e4241bd4d3dab2967341bb5ae09",
       "version_major": 2,
       "version_minor": 0
      },
      "text/plain": [
       "Validation: |          | 0/? [00:00<?, ?it/s]"
      ]
     },
     "metadata": {},
     "output_type": "display_data"
    },
    {
     "data": {
      "application/vnd.jupyter.widget-view+json": {
       "model_id": "84326094e5ce49e5ac24ec80cc145291",
       "version_major": 2,
       "version_minor": 0
      },
      "text/plain": [
       "Validation: |          | 0/? [00:00<?, ?it/s]"
      ]
     },
     "metadata": {},
     "output_type": "display_data"
    },
    {
     "data": {
      "application/vnd.jupyter.widget-view+json": {
       "model_id": "2e3150329ede488ead477b62591a6c06",
       "version_major": 2,
       "version_minor": 0
      },
      "text/plain": [
       "Validation: |          | 0/? [00:00<?, ?it/s]"
      ]
     },
     "metadata": {},
     "output_type": "display_data"
    },
    {
     "data": {
      "application/vnd.jupyter.widget-view+json": {
       "model_id": "59830333ba5b4963b647123a3297ad05",
       "version_major": 2,
       "version_minor": 0
      },
      "text/plain": [
       "Validation: |          | 0/? [00:00<?, ?it/s]"
      ]
     },
     "metadata": {},
     "output_type": "display_data"
    },
    {
     "data": {
      "application/vnd.jupyter.widget-view+json": {
       "model_id": "c3489223c45a4f65878f1f06e3be64f3",
       "version_major": 2,
       "version_minor": 0
      },
      "text/plain": [
       "Validation: |          | 0/? [00:00<?, ?it/s]"
      ]
     },
     "metadata": {},
     "output_type": "display_data"
    },
    {
     "data": {
      "application/vnd.jupyter.widget-view+json": {
       "model_id": "db8baef5ee474b93a24b7ce5d7092c63",
       "version_major": 2,
       "version_minor": 0
      },
      "text/plain": [
       "Validation: |          | 0/? [00:00<?, ?it/s]"
      ]
     },
     "metadata": {},
     "output_type": "display_data"
    },
    {
     "data": {
      "application/vnd.jupyter.widget-view+json": {
       "model_id": "4ddb4778cb084de3a6e8b940f11bc702",
       "version_major": 2,
       "version_minor": 0
      },
      "text/plain": [
       "Validation: |          | 0/? [00:00<?, ?it/s]"
      ]
     },
     "metadata": {},
     "output_type": "display_data"
    },
    {
     "data": {
      "application/vnd.jupyter.widget-view+json": {
       "model_id": "b6be5b0629a34dbe8fdb52faf3cf159c",
       "version_major": 2,
       "version_minor": 0
      },
      "text/plain": [
       "Validation: |          | 0/? [00:00<?, ?it/s]"
      ]
     },
     "metadata": {},
     "output_type": "display_data"
    },
    {
     "data": {
      "application/vnd.jupyter.widget-view+json": {
       "model_id": "823a254124044751b8ef779f780a5800",
       "version_major": 2,
       "version_minor": 0
      },
      "text/plain": [
       "Validation: |          | 0/? [00:00<?, ?it/s]"
      ]
     },
     "metadata": {},
     "output_type": "display_data"
    },
    {
     "data": {
      "application/vnd.jupyter.widget-view+json": {
       "model_id": "25cc16d3c572416c890fea45eaba0b5b",
       "version_major": 2,
       "version_minor": 0
      },
      "text/plain": [
       "Validation: |          | 0/? [00:00<?, ?it/s]"
      ]
     },
     "metadata": {},
     "output_type": "display_data"
    },
    {
     "data": {
      "application/vnd.jupyter.widget-view+json": {
       "model_id": "cd098901ab964e22b46ac8c90b09ded1",
       "version_major": 2,
       "version_minor": 0
      },
      "text/plain": [
       "Validation: |          | 0/? [00:00<?, ?it/s]"
      ]
     },
     "metadata": {},
     "output_type": "display_data"
    },
    {
     "data": {
      "application/vnd.jupyter.widget-view+json": {
       "model_id": "e209b0f0884e495bb7097c3000fe289b",
       "version_major": 2,
       "version_minor": 0
      },
      "text/plain": [
       "Validation: |          | 0/? [00:00<?, ?it/s]"
      ]
     },
     "metadata": {},
     "output_type": "display_data"
    },
    {
     "data": {
      "application/vnd.jupyter.widget-view+json": {
       "model_id": "1a84e3ee00c1427e8ee0f6f7047b6b33",
       "version_major": 2,
       "version_minor": 0
      },
      "text/plain": [
       "Validation: |          | 0/? [00:00<?, ?it/s]"
      ]
     },
     "metadata": {},
     "output_type": "display_data"
    },
    {
     "data": {
      "application/vnd.jupyter.widget-view+json": {
       "model_id": "75972c4b2a7d4d6f8131da92d7e51c01",
       "version_major": 2,
       "version_minor": 0
      },
      "text/plain": [
       "Validation: |          | 0/? [00:00<?, ?it/s]"
      ]
     },
     "metadata": {},
     "output_type": "display_data"
    },
    {
     "data": {
      "application/vnd.jupyter.widget-view+json": {
       "model_id": "a14a8df5608b4cf1a93fc4c7e466f6f5",
       "version_major": 2,
       "version_minor": 0
      },
      "text/plain": [
       "Validation: |          | 0/? [00:00<?, ?it/s]"
      ]
     },
     "metadata": {},
     "output_type": "display_data"
    },
    {
     "data": {
      "application/vnd.jupyter.widget-view+json": {
       "model_id": "81e19a93585b46feb8f43f1004508404",
       "version_major": 2,
       "version_minor": 0
      },
      "text/plain": [
       "Validation: |          | 0/? [00:00<?, ?it/s]"
      ]
     },
     "metadata": {},
     "output_type": "display_data"
    },
    {
     "data": {
      "application/vnd.jupyter.widget-view+json": {
       "model_id": "368533302b4340cbb13ee407a810918e",
       "version_major": 2,
       "version_minor": 0
      },
      "text/plain": [
       "Validation: |          | 0/? [00:00<?, ?it/s]"
      ]
     },
     "metadata": {},
     "output_type": "display_data"
    },
    {
     "data": {
      "application/vnd.jupyter.widget-view+json": {
       "model_id": "9ee5566558bd4fcd99c08cdf5a5a6cbb",
       "version_major": 2,
       "version_minor": 0
      },
      "text/plain": [
       "Validation: |          | 0/? [00:00<?, ?it/s]"
      ]
     },
     "metadata": {},
     "output_type": "display_data"
    },
    {
     "data": {
      "application/vnd.jupyter.widget-view+json": {
       "model_id": "f2fc619986c2473ea1cdb8afbbc19f37",
       "version_major": 2,
       "version_minor": 0
      },
      "text/plain": [
       "Validation: |          | 0/? [00:00<?, ?it/s]"
      ]
     },
     "metadata": {},
     "output_type": "display_data"
    },
    {
     "data": {
      "application/vnd.jupyter.widget-view+json": {
       "model_id": "79a287c036084fb6ac526dacc33a5215",
       "version_major": 2,
       "version_minor": 0
      },
      "text/plain": [
       "Validation: |          | 0/? [00:00<?, ?it/s]"
      ]
     },
     "metadata": {},
     "output_type": "display_data"
    },
    {
     "data": {
      "application/vnd.jupyter.widget-view+json": {
       "model_id": "7f98b9499fe4419bbca20c86bc6eca26",
       "version_major": 2,
       "version_minor": 0
      },
      "text/plain": [
       "Validation: |          | 0/? [00:00<?, ?it/s]"
      ]
     },
     "metadata": {},
     "output_type": "display_data"
    },
    {
     "data": {
      "application/vnd.jupyter.widget-view+json": {
       "model_id": "4193bd0f9bd744d9ada52fc9c293d6c4",
       "version_major": 2,
       "version_minor": 0
      },
      "text/plain": [
       "Validation: |          | 0/? [00:00<?, ?it/s]"
      ]
     },
     "metadata": {},
     "output_type": "display_data"
    },
    {
     "data": {
      "application/vnd.jupyter.widget-view+json": {
       "model_id": "d29c70197ad5442a8917b7e838dd8329",
       "version_major": 2,
       "version_minor": 0
      },
      "text/plain": [
       "Validation: |          | 0/? [00:00<?, ?it/s]"
      ]
     },
     "metadata": {},
     "output_type": "display_data"
    },
    {
     "data": {
      "application/vnd.jupyter.widget-view+json": {
       "model_id": "3b314ca86e7740278a1d2e6113e51ef2",
       "version_major": 2,
       "version_minor": 0
      },
      "text/plain": [
       "Validation: |          | 0/? [00:00<?, ?it/s]"
      ]
     },
     "metadata": {},
     "output_type": "display_data"
    },
    {
     "data": {
      "application/vnd.jupyter.widget-view+json": {
       "model_id": "3e038385616c4183875ae82f73679698",
       "version_major": 2,
       "version_minor": 0
      },
      "text/plain": [
       "Validation: |          | 0/? [00:00<?, ?it/s]"
      ]
     },
     "metadata": {},
     "output_type": "display_data"
    },
    {
     "data": {
      "application/vnd.jupyter.widget-view+json": {
       "model_id": "d134f076fba04b38bac982b08d3aa7de",
       "version_major": 2,
       "version_minor": 0
      },
      "text/plain": [
       "Validation: |          | 0/? [00:00<?, ?it/s]"
      ]
     },
     "metadata": {},
     "output_type": "display_data"
    },
    {
     "data": {
      "application/vnd.jupyter.widget-view+json": {
       "model_id": "8e2bbafaa9df4538a2b1fc4e0945878c",
       "version_major": 2,
       "version_minor": 0
      },
      "text/plain": [
       "Validation: |          | 0/? [00:00<?, ?it/s]"
      ]
     },
     "metadata": {},
     "output_type": "display_data"
    },
    {
     "data": {
      "application/vnd.jupyter.widget-view+json": {
       "model_id": "6fd8e742649d446e9103df8bafc0aa82",
       "version_major": 2,
       "version_minor": 0
      },
      "text/plain": [
       "Validation: |          | 0/? [00:00<?, ?it/s]"
      ]
     },
     "metadata": {},
     "output_type": "display_data"
    },
    {
     "data": {
      "application/vnd.jupyter.widget-view+json": {
       "model_id": "901938eeed5841d0bf189123bbdc2169",
       "version_major": 2,
       "version_minor": 0
      },
      "text/plain": [
       "Validation: |          | 0/? [00:00<?, ?it/s]"
      ]
     },
     "metadata": {},
     "output_type": "display_data"
    },
    {
     "data": {
      "application/vnd.jupyter.widget-view+json": {
       "model_id": "f02fb3bbefa74ab1b60b62fd0cca7955",
       "version_major": 2,
       "version_minor": 0
      },
      "text/plain": [
       "Validation: |          | 0/? [00:00<?, ?it/s]"
      ]
     },
     "metadata": {},
     "output_type": "display_data"
    },
    {
     "data": {
      "application/vnd.jupyter.widget-view+json": {
       "model_id": "fc29f3729e8943c8b11b9ea6be6d3dc6",
       "version_major": 2,
       "version_minor": 0
      },
      "text/plain": [
       "Validation: |          | 0/? [00:00<?, ?it/s]"
      ]
     },
     "metadata": {},
     "output_type": "display_data"
    },
    {
     "data": {
      "application/vnd.jupyter.widget-view+json": {
       "model_id": "6004870085eb4363a4828e48c1ad820c",
       "version_major": 2,
       "version_minor": 0
      },
      "text/plain": [
       "Validation: |          | 0/? [00:00<?, ?it/s]"
      ]
     },
     "metadata": {},
     "output_type": "display_data"
    },
    {
     "name": "stdout",
     "output_type": "stream",
     "text": [
      "\t\t======================= MODEL SAVED ==========================\n"
     ]
    },
    {
     "data": {
      "application/vnd.jupyter.widget-view+json": {
       "model_id": "77666788aba64667bc4c91e7b27020e3",
       "version_major": 2,
       "version_minor": 0
      },
      "text/plain": [
       "Validation: |          | 0/? [00:00<?, ?it/s]"
      ]
     },
     "metadata": {},
     "output_type": "display_data"
    },
    {
     "data": {
      "application/vnd.jupyter.widget-view+json": {
       "model_id": "9d69db04e30a48cca7d51c6ba55d4f49",
       "version_major": 2,
       "version_minor": 0
      },
      "text/plain": [
       "Validation: |          | 0/? [00:00<?, ?it/s]"
      ]
     },
     "metadata": {},
     "output_type": "display_data"
    },
    {
     "data": {
      "application/vnd.jupyter.widget-view+json": {
       "model_id": "da571b4920224e63a40a6780f9f0c5e3",
       "version_major": 2,
       "version_minor": 0
      },
      "text/plain": [
       "Validation: |          | 0/? [00:00<?, ?it/s]"
      ]
     },
     "metadata": {},
     "output_type": "display_data"
    },
    {
     "data": {
      "application/vnd.jupyter.widget-view+json": {
       "model_id": "fe045af4056b4ca795e075decabc0bfa",
       "version_major": 2,
       "version_minor": 0
      },
      "text/plain": [
       "Validation: |          | 0/? [00:00<?, ?it/s]"
      ]
     },
     "metadata": {},
     "output_type": "display_data"
    },
    {
     "data": {
      "application/vnd.jupyter.widget-view+json": {
       "model_id": "4a03b9f56329428d9ea04605ce8f3166",
       "version_major": 2,
       "version_minor": 0
      },
      "text/plain": [
       "Validation: |          | 0/? [00:00<?, ?it/s]"
      ]
     },
     "metadata": {},
     "output_type": "display_data"
    },
    {
     "data": {
      "application/vnd.jupyter.widget-view+json": {
       "model_id": "c32744a4f47848bfa904ddbadc5b82e1",
       "version_major": 2,
       "version_minor": 0
      },
      "text/plain": [
       "Validation: |          | 0/? [00:00<?, ?it/s]"
      ]
     },
     "metadata": {},
     "output_type": "display_data"
    },
    {
     "data": {
      "application/vnd.jupyter.widget-view+json": {
       "model_id": "ab04ff98478a41ad887580e33a6674a4",
       "version_major": 2,
       "version_minor": 0
      },
      "text/plain": [
       "Validation: |          | 0/? [00:00<?, ?it/s]"
      ]
     },
     "metadata": {},
     "output_type": "display_data"
    },
    {
     "data": {
      "application/vnd.jupyter.widget-view+json": {
       "model_id": "b2303dedeb84427fb2101eb738ab0ebb",
       "version_major": 2,
       "version_minor": 0
      },
      "text/plain": [
       "Validation: |          | 0/? [00:00<?, ?it/s]"
      ]
     },
     "metadata": {},
     "output_type": "display_data"
    },
    {
     "data": {
      "application/vnd.jupyter.widget-view+json": {
       "model_id": "3045ccf2ef1d4ce0949e32d0b2d4219b",
       "version_major": 2,
       "version_minor": 0
      },
      "text/plain": [
       "Validation: |          | 0/? [00:00<?, ?it/s]"
      ]
     },
     "metadata": {},
     "output_type": "display_data"
    },
    {
     "data": {
      "application/vnd.jupyter.widget-view+json": {
       "model_id": "1054114ea4254094bd5896c303996880",
       "version_major": 2,
       "version_minor": 0
      },
      "text/plain": [
       "Validation: |          | 0/? [00:00<?, ?it/s]"
      ]
     },
     "metadata": {},
     "output_type": "display_data"
    },
    {
     "data": {
      "application/vnd.jupyter.widget-view+json": {
       "model_id": "d1ec0f6b8da846f9ba706dc00d75ee52",
       "version_major": 2,
       "version_minor": 0
      },
      "text/plain": [
       "Validation: |          | 0/? [00:00<?, ?it/s]"
      ]
     },
     "metadata": {},
     "output_type": "display_data"
    },
    {
     "data": {
      "application/vnd.jupyter.widget-view+json": {
       "model_id": "6cf612a2e3fa4dddad0ab1900be3cdb3",
       "version_major": 2,
       "version_minor": 0
      },
      "text/plain": [
       "Validation: |          | 0/? [00:00<?, ?it/s]"
      ]
     },
     "metadata": {},
     "output_type": "display_data"
    },
    {
     "data": {
      "application/vnd.jupyter.widget-view+json": {
       "model_id": "19022c64cdac4c18b5a7987f64d8a12d",
       "version_major": 2,
       "version_minor": 0
      },
      "text/plain": [
       "Validation: |          | 0/? [00:00<?, ?it/s]"
      ]
     },
     "metadata": {},
     "output_type": "display_data"
    },
    {
     "data": {
      "application/vnd.jupyter.widget-view+json": {
       "model_id": "13bbdda42f1249fc8e63cbba360f06c5",
       "version_major": 2,
       "version_minor": 0
      },
      "text/plain": [
       "Validation: |          | 0/? [00:00<?, ?it/s]"
      ]
     },
     "metadata": {},
     "output_type": "display_data"
    },
    {
     "data": {
      "application/vnd.jupyter.widget-view+json": {
       "model_id": "774fd033dc444d0580177fcd57440aca",
       "version_major": 2,
       "version_minor": 0
      },
      "text/plain": [
       "Validation: |          | 0/? [00:00<?, ?it/s]"
      ]
     },
     "metadata": {},
     "output_type": "display_data"
    },
    {
     "data": {
      "application/vnd.jupyter.widget-view+json": {
       "model_id": "142a0482d0e949dd80473ad1fec1d960",
       "version_major": 2,
       "version_minor": 0
      },
      "text/plain": [
       "Validation: |          | 0/? [00:00<?, ?it/s]"
      ]
     },
     "metadata": {},
     "output_type": "display_data"
    },
    {
     "data": {
      "application/vnd.jupyter.widget-view+json": {
       "model_id": "c4f9b71d711a41b7a911302377a8e27c",
       "version_major": 2,
       "version_minor": 0
      },
      "text/plain": [
       "Validation: |          | 0/? [00:00<?, ?it/s]"
      ]
     },
     "metadata": {},
     "output_type": "display_data"
    },
    {
     "data": {
      "application/vnd.jupyter.widget-view+json": {
       "model_id": "c365f8a9423e45df814d29bc294c7320",
       "version_major": 2,
       "version_minor": 0
      },
      "text/plain": [
       "Validation: |          | 0/? [00:00<?, ?it/s]"
      ]
     },
     "metadata": {},
     "output_type": "display_data"
    },
    {
     "data": {
      "application/vnd.jupyter.widget-view+json": {
       "model_id": "be3de17daf9b4aedadc4e7fc44882d1a",
       "version_major": 2,
       "version_minor": 0
      },
      "text/plain": [
       "Validation: |          | 0/? [00:00<?, ?it/s]"
      ]
     },
     "metadata": {},
     "output_type": "display_data"
    },
    {
     "data": {
      "application/vnd.jupyter.widget-view+json": {
       "model_id": "4a77758d17ab41a1bfe125dea72922b9",
       "version_major": 2,
       "version_minor": 0
      },
      "text/plain": [
       "Validation: |          | 0/? [00:00<?, ?it/s]"
      ]
     },
     "metadata": {},
     "output_type": "display_data"
    },
    {
     "data": {
      "application/vnd.jupyter.widget-view+json": {
       "model_id": "ded2dcba8a824860a3cd88dd6e77112c",
       "version_major": 2,
       "version_minor": 0
      },
      "text/plain": [
       "Validation: |          | 0/? [00:00<?, ?it/s]"
      ]
     },
     "metadata": {},
     "output_type": "display_data"
    },
    {
     "data": {
      "application/vnd.jupyter.widget-view+json": {
       "model_id": "6fe39934eb9b4c4db3494f7848cb4470",
       "version_major": 2,
       "version_minor": 0
      },
      "text/plain": [
       "Validation: |          | 0/? [00:00<?, ?it/s]"
      ]
     },
     "metadata": {},
     "output_type": "display_data"
    },
    {
     "data": {
      "application/vnd.jupyter.widget-view+json": {
       "model_id": "b6c81f1ddc7b4ec9b1278cbc3a827cfc",
       "version_major": 2,
       "version_minor": 0
      },
      "text/plain": [
       "Validation: |          | 0/? [00:00<?, ?it/s]"
      ]
     },
     "metadata": {},
     "output_type": "display_data"
    },
    {
     "data": {
      "application/vnd.jupyter.widget-view+json": {
       "model_id": "1b4d435ba314448cb7ff654bc86bd346",
       "version_major": 2,
       "version_minor": 0
      },
      "text/plain": [
       "Validation: |          | 0/? [00:00<?, ?it/s]"
      ]
     },
     "metadata": {},
     "output_type": "display_data"
    },
    {
     "data": {
      "application/vnd.jupyter.widget-view+json": {
       "model_id": "792ec2fdf0b74106aea67a7d61f2f829",
       "version_major": 2,
       "version_minor": 0
      },
      "text/plain": [
       "Validation: |          | 0/? [00:00<?, ?it/s]"
      ]
     },
     "metadata": {},
     "output_type": "display_data"
    },
    {
     "data": {
      "application/vnd.jupyter.widget-view+json": {
       "model_id": "7d936f4af3d4453188b2c1cac23d2b96",
       "version_major": 2,
       "version_minor": 0
      },
      "text/plain": [
       "Validation: |          | 0/? [00:00<?, ?it/s]"
      ]
     },
     "metadata": {},
     "output_type": "display_data"
    },
    {
     "data": {
      "application/vnd.jupyter.widget-view+json": {
       "model_id": "3382640ea323489daed3468498c893b8",
       "version_major": 2,
       "version_minor": 0
      },
      "text/plain": [
       "Validation: |          | 0/? [00:00<?, ?it/s]"
      ]
     },
     "metadata": {},
     "output_type": "display_data"
    },
    {
     "data": {
      "application/vnd.jupyter.widget-view+json": {
       "model_id": "0bb48a828faa4f0e913bd03dad5da70c",
       "version_major": 2,
       "version_minor": 0
      },
      "text/plain": [
       "Validation: |          | 0/? [00:00<?, ?it/s]"
      ]
     },
     "metadata": {},
     "output_type": "display_data"
    },
    {
     "data": {
      "application/vnd.jupyter.widget-view+json": {
       "model_id": "23e6a904cb1742c794d64a33651edaa7",
       "version_major": 2,
       "version_minor": 0
      },
      "text/plain": [
       "Validation: |          | 0/? [00:00<?, ?it/s]"
      ]
     },
     "metadata": {},
     "output_type": "display_data"
    },
    {
     "data": {
      "application/vnd.jupyter.widget-view+json": {
       "model_id": "53579e9e523349f68c86704d5d067ee2",
       "version_major": 2,
       "version_minor": 0
      },
      "text/plain": [
       "Validation: |          | 0/? [00:00<?, ?it/s]"
      ]
     },
     "metadata": {},
     "output_type": "display_data"
    },
    {
     "data": {
      "application/vnd.jupyter.widget-view+json": {
       "model_id": "79fdb739f3924399b215a22c4ae3ef8a",
       "version_major": 2,
       "version_minor": 0
      },
      "text/plain": [
       "Validation: |          | 0/? [00:00<?, ?it/s]"
      ]
     },
     "metadata": {},
     "output_type": "display_data"
    },
    {
     "data": {
      "application/vnd.jupyter.widget-view+json": {
       "model_id": "042d642b70b24be99074e4d4daa4f2b0",
       "version_major": 2,
       "version_minor": 0
      },
      "text/plain": [
       "Validation: |          | 0/? [00:00<?, ?it/s]"
      ]
     },
     "metadata": {},
     "output_type": "display_data"
    },
    {
     "data": {
      "application/vnd.jupyter.widget-view+json": {
       "model_id": "5f36e547687a42179159c9aedbc75235",
       "version_major": 2,
       "version_minor": 0
      },
      "text/plain": [
       "Validation: |          | 0/? [00:00<?, ?it/s]"
      ]
     },
     "metadata": {},
     "output_type": "display_data"
    },
    {
     "data": {
      "application/vnd.jupyter.widget-view+json": {
       "model_id": "3c2cf63fa98b4feabe3e948aaf0cfd4a",
       "version_major": 2,
       "version_minor": 0
      },
      "text/plain": [
       "Validation: |          | 0/? [00:00<?, ?it/s]"
      ]
     },
     "metadata": {},
     "output_type": "display_data"
    },
    {
     "data": {
      "application/vnd.jupyter.widget-view+json": {
       "model_id": "c09d1ea9990a470c8f57783ade855e8e",
       "version_major": 2,
       "version_minor": 0
      },
      "text/plain": [
       "Validation: |          | 0/? [00:00<?, ?it/s]"
      ]
     },
     "metadata": {},
     "output_type": "display_data"
    },
    {
     "data": {
      "application/vnd.jupyter.widget-view+json": {
       "model_id": "4044542acc4c4c5daf5c552834743587",
       "version_major": 2,
       "version_minor": 0
      },
      "text/plain": [
       "Validation: |          | 0/? [00:00<?, ?it/s]"
      ]
     },
     "metadata": {},
     "output_type": "display_data"
    },
    {
     "name": "stderr",
     "output_type": "stream",
     "text": [
      "`Trainer.fit` stopped: `max_epochs=100` reached.\n",
      "LOCAL_RANK: 0 - CUDA_VISIBLE_DEVICES: [0]\n"
     ]
    },
    {
     "name": "stdout",
     "output_type": "stream",
     "text": [
      "\t\t==================== TRAINING ENDED    =======================\n",
      "\t\t======================= MODEL LOADED =========================\n",
      "\t\t==================== STARTING TESTING  =======================\n"
     ]
    },
    {
     "data": {
      "application/vnd.jupyter.widget-view+json": {
       "model_id": "934673391b424bd2845ba44d274e75a7",
       "version_major": 2,
       "version_minor": 0
      },
      "text/plain": [
       "Testing: |          | 0/? [00:00<?, ?it/s]"
      ]
     },
     "metadata": {},
     "output_type": "display_data"
    },
    {
     "name": "stdout",
     "output_type": "stream",
     "text": [
      "\n",
      "\t\t==============================================================\n",
      "\tTEST DICE: mean = 0.7365, std = 0.0539, q2.5% = 0.0051, q97.5% = 0.9737\n",
      "\tTEST IOU: mean = 0.6269, std = 0.0600, q2.5% = 0.0026, q97.5% = 0.9487\n",
      "\tTEST RECALL: mean = 0.8189, std = 0.0560, q2.5% = 0.0032, q97.5% = 0.9962\n",
      "\tTEST PRECISION: mean = 0.7233, std = 0.0554, q2.5% = 0.0999, q97.5% = 0.9919\n",
      "\t\t==============================================================\n",
      "\n"
     ]
    },
    {
     "data": {
      "text/html": [
       "<pre style=\"white-space:pre;overflow-x:auto;line-height:normal;font-family:Menlo,'DejaVu Sans Mono',consolas,'Courier New',monospace\">┏━━━━━━━━━━━━━━━━━━━━━━━━━━━┳━━━━━━━━━━━━━━━━━━━━━━━━━━━┓\n",
       "┃<span style=\"font-weight: bold\">        Test metric        </span>┃<span style=\"font-weight: bold\">       DataLoader 0        </span>┃\n",
       "┡━━━━━━━━━━━━━━━━━━━━━━━━━━━╇━━━━━━━━━━━━━━━━━━━━━━━━━━━┩\n",
       "│<span style=\"color: #008080; text-decoration-color: #008080\">      test_dice_mean       </span>│<span style=\"color: #800080; text-decoration-color: #800080\">    0.7364634017162178     </span>│\n",
       "│<span style=\"color: #008080; text-decoration-color: #008080\">      test_dice_q025       </span>│<span style=\"color: #800080; text-decoration-color: #800080\">   0.005133214725004395    </span>│\n",
       "│<span style=\"color: #008080; text-decoration-color: #008080\">      test_dice_q975       </span>│<span style=\"color: #800080; text-decoration-color: #800080\">    0.9736573147702774     </span>│\n",
       "│<span style=\"color: #008080; text-decoration-color: #008080\">       test_dice_var       </span>│<span style=\"color: #800080; text-decoration-color: #800080\">    0.05391534755217926    </span>│\n",
       "│<span style=\"color: #008080; text-decoration-color: #008080\">       test_iou_mean       </span>│<span style=\"color: #800080; text-decoration-color: #800080\">    0.6268563569088811     </span>│\n",
       "│<span style=\"color: #008080; text-decoration-color: #008080\">       test_iou_q025       </span>│<span style=\"color: #800080; text-decoration-color: #800080\">   0.0025734978466211305   </span>│\n",
       "│<span style=\"color: #008080; text-decoration-color: #008080\">       test_iou_q975       </span>│<span style=\"color: #800080; text-decoration-color: #800080\">    0.9486670536012736     </span>│\n",
       "│<span style=\"color: #008080; text-decoration-color: #008080\">       test_iou_var        </span>│<span style=\"color: #800080; text-decoration-color: #800080\">   0.060027004309677764    </span>│\n",
       "│<span style=\"color: #008080; text-decoration-color: #008080\">    test_precision_mean    </span>│<span style=\"color: #800080; text-decoration-color: #800080\">    0.7233193087230726     </span>│\n",
       "│<span style=\"color: #008080; text-decoration-color: #008080\">    test_precision_q025    </span>│<span style=\"color: #800080; text-decoration-color: #800080\">    0.09993841023547027    </span>│\n",
       "│<span style=\"color: #008080; text-decoration-color: #008080\">    test_precision_q975    </span>│<span style=\"color: #800080; text-decoration-color: #800080\">    0.9919063696818212     </span>│\n",
       "│<span style=\"color: #008080; text-decoration-color: #008080\">    test_precision_var     </span>│<span style=\"color: #800080; text-decoration-color: #800080\">    0.0554440903878389     </span>│\n",
       "│<span style=\"color: #008080; text-decoration-color: #008080\">     test_recall_mean      </span>│<span style=\"color: #800080; text-decoration-color: #800080\">    0.8189240393120389     </span>│\n",
       "│<span style=\"color: #008080; text-decoration-color: #008080\">     test_recall_q025      </span>│<span style=\"color: #800080; text-decoration-color: #800080\">   0.0032263319906998085   </span>│\n",
       "│<span style=\"color: #008080; text-decoration-color: #008080\">     test_recall_q975      </span>│<span style=\"color: #800080; text-decoration-color: #800080\">    0.9961972025764969     </span>│\n",
       "│<span style=\"color: #008080; text-decoration-color: #008080\">      test_recall_var      </span>│<span style=\"color: #800080; text-decoration-color: #800080\">   0.056011743952484504    </span>│\n",
       "└───────────────────────────┴───────────────────────────┘\n",
       "</pre>\n"
      ],
      "text/plain": [
       "┏━━━━━━━━━━━━━━━━━━━━━━━━━━━┳━━━━━━━━━━━━━━━━━━━━━━━━━━━┓\n",
       "┃\u001b[1m \u001b[0m\u001b[1m       Test metric       \u001b[0m\u001b[1m \u001b[0m┃\u001b[1m \u001b[0m\u001b[1m      DataLoader 0       \u001b[0m\u001b[1m \u001b[0m┃\n",
       "┡━━━━━━━━━━━━━━━━━━━━━━━━━━━╇━━━━━━━━━━━━━━━━━━━━━━━━━━━┩\n",
       "│\u001b[36m \u001b[0m\u001b[36m     test_dice_mean      \u001b[0m\u001b[36m \u001b[0m│\u001b[35m \u001b[0m\u001b[35m   0.7364634017162178    \u001b[0m\u001b[35m \u001b[0m│\n",
       "│\u001b[36m \u001b[0m\u001b[36m     test_dice_q025      \u001b[0m\u001b[36m \u001b[0m│\u001b[35m \u001b[0m\u001b[35m  0.005133214725004395   \u001b[0m\u001b[35m \u001b[0m│\n",
       "│\u001b[36m \u001b[0m\u001b[36m     test_dice_q975      \u001b[0m\u001b[36m \u001b[0m│\u001b[35m \u001b[0m\u001b[35m   0.9736573147702774    \u001b[0m\u001b[35m \u001b[0m│\n",
       "│\u001b[36m \u001b[0m\u001b[36m      test_dice_var      \u001b[0m\u001b[36m \u001b[0m│\u001b[35m \u001b[0m\u001b[35m   0.05391534755217926   \u001b[0m\u001b[35m \u001b[0m│\n",
       "│\u001b[36m \u001b[0m\u001b[36m      test_iou_mean      \u001b[0m\u001b[36m \u001b[0m│\u001b[35m \u001b[0m\u001b[35m   0.6268563569088811    \u001b[0m\u001b[35m \u001b[0m│\n",
       "│\u001b[36m \u001b[0m\u001b[36m      test_iou_q025      \u001b[0m\u001b[36m \u001b[0m│\u001b[35m \u001b[0m\u001b[35m  0.0025734978466211305  \u001b[0m\u001b[35m \u001b[0m│\n",
       "│\u001b[36m \u001b[0m\u001b[36m      test_iou_q975      \u001b[0m\u001b[36m \u001b[0m│\u001b[35m \u001b[0m\u001b[35m   0.9486670536012736    \u001b[0m\u001b[35m \u001b[0m│\n",
       "│\u001b[36m \u001b[0m\u001b[36m      test_iou_var       \u001b[0m\u001b[36m \u001b[0m│\u001b[35m \u001b[0m\u001b[35m  0.060027004309677764   \u001b[0m\u001b[35m \u001b[0m│\n",
       "│\u001b[36m \u001b[0m\u001b[36m   test_precision_mean   \u001b[0m\u001b[36m \u001b[0m│\u001b[35m \u001b[0m\u001b[35m   0.7233193087230726    \u001b[0m\u001b[35m \u001b[0m│\n",
       "│\u001b[36m \u001b[0m\u001b[36m   test_precision_q025   \u001b[0m\u001b[36m \u001b[0m│\u001b[35m \u001b[0m\u001b[35m   0.09993841023547027   \u001b[0m\u001b[35m \u001b[0m│\n",
       "│\u001b[36m \u001b[0m\u001b[36m   test_precision_q975   \u001b[0m\u001b[36m \u001b[0m│\u001b[35m \u001b[0m\u001b[35m   0.9919063696818212    \u001b[0m\u001b[35m \u001b[0m│\n",
       "│\u001b[36m \u001b[0m\u001b[36m   test_precision_var    \u001b[0m\u001b[36m \u001b[0m│\u001b[35m \u001b[0m\u001b[35m   0.0554440903878389    \u001b[0m\u001b[35m \u001b[0m│\n",
       "│\u001b[36m \u001b[0m\u001b[36m    test_recall_mean     \u001b[0m\u001b[36m \u001b[0m│\u001b[35m \u001b[0m\u001b[35m   0.8189240393120389    \u001b[0m\u001b[35m \u001b[0m│\n",
       "│\u001b[36m \u001b[0m\u001b[36m    test_recall_q025     \u001b[0m\u001b[36m \u001b[0m│\u001b[35m \u001b[0m\u001b[35m  0.0032263319906998085  \u001b[0m\u001b[35m \u001b[0m│\n",
       "│\u001b[36m \u001b[0m\u001b[36m    test_recall_q975     \u001b[0m\u001b[36m \u001b[0m│\u001b[35m \u001b[0m\u001b[35m   0.9961972025764969    \u001b[0m\u001b[35m \u001b[0m│\n",
       "│\u001b[36m \u001b[0m\u001b[36m     test_recall_var     \u001b[0m\u001b[36m \u001b[0m│\u001b[35m \u001b[0m\u001b[35m  0.056011743952484504   \u001b[0m\u001b[35m \u001b[0m│\n",
       "└───────────────────────────┴───────────────────────────┘\n"
      ]
     },
     "metadata": {},
     "output_type": "display_data"
    },
    {
     "name": "stdout",
     "output_type": "stream",
     "text": [
      "\t\t==================== TESTING ENDED     =======================\n"
     ]
    },
    {
     "data": {
      "image/png": "[encoded data removed]",
      "text/plain": [
       "<Figure size 864x288 with 2 Axes>"
      ]
     },
     "metadata": {
      "needs_background": "light"
     },
     "output_type": "display_data"
    }
   ],
   "source": [
    "#!g1.1\n",
    "loss_name = \"dice_loss\"\n",
    "\n",
    "setup_experiment(\n",
    "    **get_general_params(\n",
    "        scheduler_cls=torch.optim.lr_scheduler.CyclicLR,\n",
    "        scheduler_params={\n",
    "            \"base_lr\": 1.5e-4,\n",
    "            \"max_lr\": 3e-3,\n",
    "            \"step_size_up\": 76 * ACCUM_GRAD,\n",
    "            \"mode\": 'exp_range',\n",
    "            \"cycle_momentum\": False,\n",
    "        },\n",
    "        patience=100,\n",
    "        visualize_step=40,\n",
    "        max_epoch=100,\n",
    "    ),\n",
    "    # restart=True,\n",
    "    loss_func=all_loss_params[loss_name][\"func\"],\n",
    "    loss_params=all_loss_params[loss_name][\"loss_params\"],\n",
    "    experiment_name=f\"cocostuff_tree_{loss_name}__UNET3_32\",\n",
    ")"
   ]
  },
  {
   "cell_type": "code",
   "execution_count": null,
   "id": "0ffc4c79",
   "metadata": {
    "cellId": "492gbsjlz17k6dw1esla0n"
   },
   "outputs": [],
   "source": [
    "#!g1.1\n"
   ]
  },
  {
   "cell_type": "code",
   "execution_count": null,
   "id": "a6330a63",
   "metadata": {
    "cellId": "iy1a6pawk1he44x3cllxrq"
   },
   "outputs": [],
   "source": [
    "#!g1.1\n"
   ]
  },
  {
   "cell_type": "code",
   "execution_count": null,
   "id": "6736fe3f",
   "metadata": {
    "cellId": "1jpzauz0qtektkdq1rfqd"
   },
   "outputs": [],
   "source": [
    "#!g1.1\n"
   ]
  },
  {
   "cell_type": "markdown",
   "id": "ae44f88e",
   "metadata": {
    "cellId": "skqt4kodcsfhbsbctenhza",
    "execution_id": "bf01774c-2dc4-4813-843c-4b00950b6c05"
   },
   "source": [
    "## Train MARS Model\n"
   ]
  },
  {
   "cell_type": "code",
   "execution_count": 157,
   "id": "e0c514ab",
   "metadata": {
    "cellId": "yktoyueyl7ilhtdurqhy1c"
   },
   "outputs": [
    {
     "name": "stdout",
     "output_type": "stream",
     "text": [
      "Defaulting to user installation because normal site-packages is not writeable\n",
      "Collecting git+https://github.com/KhrulkovV/tt-pytorch.git\n",
      "  Cloning https://github.com/KhrulkovV/tt-pytorch.git to /tmp/pip-req-build-8c76z6va\n",
      "  Running command git clone --filter=blob:none --quiet https://github.com/KhrulkovV/tt-pytorch.git /tmp/pip-req-build-8c76z6va\n",
      "  Resolved https://github.com/KhrulkovV/tt-pytorch.git to commit 3182e8d90fb4c4473b66105159e54486562b6e33\n",
      "  Preparing metadata (setup.py) ... \u001b[?25ldone\n",
      "\u001b[?25hRequirement already satisfied: numpy in /usr/local/lib/python3.10/dist-packages (from t3nsor==1.0) (1.22.4)\n",
      "Requirement already satisfied: sympy in /usr/local/lib/python3.10/dist-packages (from t3nsor==1.0) (1.11.1)\n",
      "Requirement already satisfied: scipy in /usr/local/lib/python3.10/dist-packages (from t3nsor==1.0) (1.10.1)\n",
      "Requirement already satisfied: mpmath>=0.19 in /usr/local/lib/python3.10/dist-packages (from sympy->t3nsor==1.0) (1.3.0)\n",
      "Building wheels for collected packages: t3nsor\n",
      "  Building wheel for t3nsor (setup.py) ... \u001b[?25ldone\n",
      "\u001b[?25h  Created wheel for t3nsor: filename=t3nsor-1.0-py3-none-any.whl size=15603 sha256=dd1372182ef90d4001311fade72ddf50a5942e796fd2ae8252900f23cc8c4db1\n",
      "  Stored in directory: /tmp/pip-ephem-wheel-cache-vrzcc4ek/wheels/b5/15/f2/722c1a04dd0544ebf440585458e01f26f2be83c17660aab367\n",
      "Successfully built t3nsor\n",
      "Installing collected packages: t3nsor\n",
      "Successfully installed t3nsor-1.0\n",
      "\n",
      "\u001b[1m[\u001b[0m\u001b[34;49mnotice\u001b[0m\u001b[1;39;49m]\u001b[0m\u001b[39;49m A new release of pip is available: \u001b[0m\u001b[31;49m23.2.1\u001b[0m\u001b[39;49m -> \u001b[0m\u001b[32;49m23.3.2\u001b[0m\n",
      "\u001b[1m[\u001b[0m\u001b[34;49mnotice\u001b[0m\u001b[1;39;49m]\u001b[0m\u001b[39;49m To update, run: \u001b[0m\u001b[32;49mpython3 -m pip install --upgrade pip\u001b[0m\n"
     ]
    }
   ],
   "source": [
    "#!g1.1\n",
    "%pip install git+https://github.com/KhrulkovV/tt-pytorch.git"
   ]
  },
  {
   "cell_type": "code",
   "execution_count": 158,
   "id": "f3ffaa1b",
   "metadata": {
    "cellId": "u1xbfofe2xsw8bv0taqd9f"
   },
   "outputs": [],
   "source": [
    "#!g1.1\n",
    "from mars import MARS, MARSLoss, get_MARS_attr, set_MARS_attr\n",
    "from tensorized_models import TTLinear, TTConv2d, TuckerConv2d, FactorizedLinear\n",
    "\n",
    "modes_dict = {\n",
    "    \"soft\": dict(pi=1e-1, alpha=-1.5),\n",
    "    \"hard\": dict(pi=1e-2, alpha=-1.75),\n",
    "}"
   ]
  },
  {
   "cell_type": "code",
   "execution_count": 201,
   "id": "23803b2f",
   "metadata": {
    "cellId": "2iuchhr9xit4push8tgowu"
   },
   "outputs": [],
   "source": [
    "#!g1.1\n",
    "from tensorized_models import TensorizedModel, _pair\n",
    "\n",
    "class TuckerConv2d(TensorizedModel):\n",
    "    def __init__(self, in_channels, out_channels, kernel_size, rank=32, stride=1, padding=0):\n",
    "        super().__init__()\n",
    "        self.in_channels = in_channels\n",
    "        self.out_channels = out_channels\n",
    "        self.kernel_size = _pair(kernel_size)\n",
    "        self._ranks = _pair(rank)\n",
    "        self.stride = stride\n",
    "        self.padding = padding\n",
    "        \n",
    "        self.first_weight = nn.Parameter(torch.Tensor(self.ranks[0], self.in_channels, 1, 1))\n",
    "        self.core_weight = nn.Parameter(torch.Tensor(self.ranks[1], self.ranks[0], *self.kernel_size))\n",
    "        self.last_weight = nn.Parameter(torch.Tensor(self.out_channels, self.ranks[1], 1, 1))\n",
    "        self.bias = nn.Parameter(torch.Tensor(self.out_channels))\n",
    "        self.reset_parameters()\n",
    "\n",
    "        self._cores = [self.first_weight, self.core_weight, self.last_weight]\n",
    "        self._total = self.in_channels * self.out_channels * np.prod(self.kernel_size)\n",
    "        \n",
    "    def __str__(self): \n",
    "        str_from = str([self.in_channels, self.out_channels, *self.kernel_size]) \n",
    "        str_to1 = str([self.in_channels, self.ranks[0]]) \n",
    "        str_to2 = str([self.ranks[0], self.ranks[1], *self.kernel_size]) \n",
    "        str_to3 = str([self.ranks[1], self.out_channels]) \n",
    "        return \"Tucker Conv2d: \" + str_from + ' -> ' + str_to1 + '-' + str_to2 + '-' + str_to3\n",
    "\n",
    "    def calc_dof(self, ranks=None):\n",
    "        ranks = ranks or self.ranks\n",
    "        return self.in_channels * ranks[0] + np.prod(ranks) * np.prod(self.kernel_size) + self.out_channels * ranks[1]\n",
    "\n",
    "    def reset_parameters(self):\n",
    "        nn.init.kaiming_uniform_(self.first_weight, a=np.sqrt(5))\n",
    "        nn.init.kaiming_uniform_(self.core_weight, a=np.sqrt(5))\n",
    "        nn.init.kaiming_uniform_(self.last_weight, a=np.sqrt(5))\n",
    "        bound = 1 / np.sqrt(self.in_channels * np.prod(self.kernel_size))\n",
    "        nn.init.uniform_(self.bias, -bound, bound)\n",
    "\n",
    "    def forward(self, x, masks=None):\n",
    "        first_weight, core_weight, last_weight = self.first_weight, self.core_weight, self.last_weight\n",
    "\n",
    "        if masks is not None and not self.training:\n",
    "            first_weight = first_weight[masks[0]]\n",
    "            core_weight = core_weight[masks[1]][:, masks[0]]\n",
    "            last_weight = last_weight[:, masks[1]]\n",
    "\n",
    "        # A pointwise convolution that reduces the channels from C_{in} to r_1\n",
    "        x = F.conv2d(x, first_weight)\n",
    "        if masks is not None and self.training:\n",
    "            x *= masks[0].view(-1, 1, 1)\n",
    "        # A regular 2D convolution layer with r_1 input channels and r_2 output channels\n",
    "        x = F.conv2d(x, core_weight, stride=self.stride, padding=self.padding)\n",
    "        if masks is not None and self.training:\n",
    "            x *= masks[1].view(-1, 1, 1)\n",
    "        # A pointwise convolution that increases the channels from r_2 to C_{out}\n",
    "        return F.conv2d(x, last_weight, self.bias)"
   ]
  },
  {
   "cell_type": "code",
   "execution_count": 202,
   "id": "73ea8d7c",
   "metadata": {
    "cellId": "r3k10e92yw9fi5kald4gc"
   },
   "outputs": [],
   "source": [
    "#!g1.1\n",
    "def get_tucker_conv2d(in_channels, out_channels, kernel_size=3, padding=1, rank=30, pi=1e-1, alpha=-1.5):\n",
    "    return MARS(\n",
    "        TuckerConv2d(in_channels, out_channels, kernel_size=kernel_size, padding=padding, rank=rank),\n",
    "        pi=pi,\n",
    "        alpha=alpha,\n",
    "    )\n",
    "\n",
    "class TuckerDoubleConv(nn.Module):\n",
    "    def __init__(self, in_channels, out_channels, rank=20, pi=1e-1, alpha=-1.5, mid_channels=None):\n",
    "        super().__init__()\n",
    "        if mid_channels is None:\n",
    "            mid_channels = out_channels\n",
    "        self.conv = nn.Sequential(\n",
    "            get_tucker_conv2d(in_channels, mid_channels, 3, 1, rank, pi, alpha),\n",
    "            nn.BatchNorm2d(mid_channels),\n",
    "            nn.ReLU(),\n",
    "            get_tucker_conv2d(mid_channels, out_channels, 3, 1, rank, pi, alpha),\n",
    "            nn.BatchNorm2d(out_channels),\n",
    "            nn.ReLU(),\n",
    "        )\n",
    "\n",
    "    def forward(self, x):\n",
    "        return self.conv(x)\n",
    "\n",
    "\n",
    "class TuckerDownBlock(nn.Module):\n",
    "    def __init__(self, in_channels, out_channels, rank=20, pi=1e-1, alpha=-1.5, ):\n",
    "        super().__init__()\n",
    "        self.block = nn.Sequential(\n",
    "            nn.MaxPool2d(2),\n",
    "            TuckerDoubleConv(in_channels, out_channels, rank=rank, pi=pi, alpha=alpha),\n",
    "        )\n",
    "\n",
    "    def forward(self, x):\n",
    "        return self.block(x)\n",
    "\n",
    "\n",
    "class TuckerUpBlock(nn.Module):\n",
    "    def __init__(self, in_channels, out_channels, upsample=False, upsample_mode='bilinear',\n",
    "                 rank=20, pi=1e-1, alpha=-1.5, ):\n",
    "        super().__init__()\n",
    "        if upsample:\n",
    "            self.up = nn.Sequential([\n",
    "                nn.Upsample(scale_factor=2, mode=upsample_mode),\n",
    "                get_tucker_conv2d(in_channels, in_channels // 2, 1, 0, rank, pi, alpha),\n",
    "            ])\n",
    "        else:\n",
    "            self.up = nn.ConvTranspose2d(in_channels, in_channels // 2, kernel_size=2, stride=2)\n",
    "        self.conv = TuckerDoubleConv(in_channels, out_channels, rank=rank, pi=pi, alpha=alpha)\n",
    "\n",
    "    def forward(self, prev, skip):\n",
    "        return self.conv(\n",
    "            torch.cat([self.up(prev), skip], dim=-3)\n",
    "        )\n",
    "\n",
    "\n",
    "class TuckerUNet(nn.Module):\n",
    "    def __init__(self, n_channels, n_classes, depth=3, start_channels=32,\n",
    "                 upsample=False, upsample_mode='bilinear',\n",
    "                 rank=20, pi=1e-1, alpha=-1.5,):\n",
    "        super(TuckerUNet, self).__init__()\n",
    "        self.n_channels = n_channels\n",
    "        self.n_classes = n_classes\n",
    "        self.depth = depth\n",
    "        self.multiple = 2 ** depth\n",
    "        self.start_channels = start_channels\n",
    "        self.threshold = 0.5\n",
    "\n",
    "        self.upsample = upsample\n",
    "        if upsample:\n",
    "            self.upsample_mode = upsample_mode\n",
    "\n",
    "        self.downs = [TuckerDoubleConv(n_channels, start_channels, rank=rank, pi=pi, alpha=alpha)]\n",
    "        channels = (start_channels, start_channels * 2)\n",
    "        for k in range(depth - 1):\n",
    "            self.downs.append(TuckerDownBlock(*channels, rank=rank, pi=pi, alpha=alpha))\n",
    "            channels = (channels[1], channels[1] * 2)\n",
    "\n",
    "        self.downs = nn.ModuleList(self.downs)\n",
    "        self.center = TuckerDownBlock(*channels, rank=rank, pi=pi, alpha=alpha)\n",
    "\n",
    "        channels = (channels[1], channels[1] // 2)\n",
    "        self.ups = []\n",
    "        for k in range(depth):\n",
    "            self.ups.append(TuckerUpBlock(*channels, rank=rank, pi=pi, alpha=alpha))\n",
    "            channels = (channels[1], channels[1] // 2)\n",
    "        self.ups = nn.ModuleList(self.ups)\n",
    "\n",
    "        self.out = get_tucker_conv2d(channels[0], n_classes, 1, 0, rank, pi, alpha)\n",
    "\n",
    "#         # initialize weights\n",
    "#         self.apply(weight_init)\n",
    "\n",
    "    def set_threshold(self, ths):\n",
    "        self.threshold = ths\n",
    "\n",
    "    def forward(self, x):\n",
    "        H, W = x.shape[-2:]\n",
    "        if H % self.multiple != 0 or W % self.multiple != 0:\n",
    "            new_H = ((H - 1) // self.multiple + 1) * self.multiple\n",
    "            new_W = ((W - 1) // self.multiple + 1) * self.multiple\n",
    "            x = F.pad(x, [0, new_W - W, 0, new_H - H])\n",
    "\n",
    "        skips = []\n",
    "        out = x\n",
    "        for d_block in self.downs:\n",
    "            out = d_block(out)\n",
    "            skips.append(out)\n",
    "        out = self.center(out)\n",
    "\n",
    "        for skip, u_block in zip(skips[::-1], self.ups):\n",
    "            out = u_block(out, skip)\n",
    "\n",
    "        out = self.out(out)\n",
    "        if H % self.multiple != 0 or W % self.multiple != 0:\n",
    "            out = out[:, :, :H, :W]\n",
    "\n",
    "        return out\n",
    "\n",
    "    def predict(self, x):\n",
    "        logits = self.forward(x)\n",
    "        if self.n_classes != 1:\n",
    "            return logits.argmax(dim=-3)\n",
    "        return (F.sigmoid(logits) >= self.threshold).to(int)"
   ]
  },
  {
   "cell_type": "code",
   "execution_count": 282,
   "id": "779db982",
   "metadata": {
    "cellId": "qe7lws1l6gt21532yb619w"
   },
   "outputs": [],
   "source": [
    "#!g1.1\n",
    "def get_tt_conv2d(in_channels, out_channels, kernel_size=3, padding=1, d=6, tt_rank=8, pi=1e-1, alpha=-1.5):\n",
    "    return MARS(\n",
    "        TTConv2d(in_channels, out_channels, kernel_size=kernel_size, padding=padding, bias=False, d=d, tt_rank=tt_rank, ),\n",
    "        pi=pi,\n",
    "        alpha=alpha,\n",
    "    )\n",
    "\n",
    "class TTDoubleConv(nn.Module):\n",
    "    def __init__(self, in_channels, out_channels, d=6, tt_rank=8, pi=1e-1, alpha=-1.5, mid_channels=None):\n",
    "        super().__init__()\n",
    "        if mid_channels is None:\n",
    "            mid_channels = out_channels\n",
    "        self.conv = nn.Sequential(\n",
    "            get_tt_conv2d(in_channels, mid_channels, 3, 1, d, tt_rank, pi, alpha),\n",
    "            nn.BatchNorm2d(mid_channels),\n",
    "            nn.ReLU(),\n",
    "            get_tt_conv2d(mid_channels, out_channels, 3, 1, d, tt_rank, pi, alpha),\n",
    "            nn.BatchNorm2d(out_channels),\n",
    "            nn.ReLU(),\n",
    "        )\n",
    "\n",
    "    def forward(self, x):\n",
    "        return self.conv(x)\n",
    "\n",
    "\n",
    "class TTDownBlock(nn.Module):\n",
    "    def __init__(self, in_channels, out_channels, d=6, tt_rank=8, pi=1e-1, alpha=-1.5, ):\n",
    "        super().__init__()\n",
    "        self.block = nn.Sequential(\n",
    "            nn.MaxPool2d(2),\n",
    "            TTDoubleConv(in_channels, out_channels, d=d, tt_rank=tt_rank, pi=pi, alpha=alpha),\n",
    "        )\n",
    "\n",
    "    def forward(self, x):\n",
    "        return self.block(x)\n",
    "\n",
    "\n",
    "class TTUpBlock(nn.Module):\n",
    "    def __init__(self, in_channels, out_channels, upsample=False, upsample_mode='bilinear',\n",
    "                 d=6, tt_rank=8, pi=1e-1, alpha=-1.5, ):\n",
    "        super().__init__()\n",
    "        if upsample:\n",
    "            self.up = nn.Sequential([\n",
    "                nn.Upsample(scale_factor=2, mode=upsample_mode),\n",
    "                get_tt_conv2d(in_channels, in_channels // 2, 1, 0, d, tt_rank, pi, alpha),\n",
    "            ])\n",
    "        else:\n",
    "            self.up = nn.ConvTranspose2d(in_channels, in_channels // 2, kernel_size=2, stride=2)\n",
    "        self.conv = TTDoubleConv(in_channels, out_channels, d=d, tt_rank=tt_rank, pi=pi, alpha=alpha)\n",
    "\n",
    "    def forward(self, prev, skip):\n",
    "        return self.conv(\n",
    "            torch.cat([self.up(prev), skip], dim=-3)\n",
    "        )\n",
    "\n",
    "\n",
    "class TTUNet(nn.Module):\n",
    "    def __init__(self, n_channels, n_classes, depth=3, start_channels=32,\n",
    "                 upsample=False, upsample_mode='bilinear',\n",
    "                 d=6, tt_rank=8, pi=1e-1, alpha=-1.5,):\n",
    "        super(TTUNet, self).__init__()\n",
    "        self.n_channels = n_channels\n",
    "        self.n_classes = n_classes\n",
    "        self.depth = depth\n",
    "        self.multiple = 2 ** depth\n",
    "        self.start_channels = start_channels\n",
    "        self.threshold = 0.5\n",
    "\n",
    "        self.upsample = upsample\n",
    "        if upsample:\n",
    "            self.upsample_mode = upsample_mode\n",
    "\n",
    "        self.downs = [TTDoubleConv(n_channels, start_channels, d=d, tt_rank=tt_rank, pi=pi, alpha=alpha)]\n",
    "        channels = (start_channels, start_channels * 2)\n",
    "        for k in range(depth - 1):\n",
    "            self.downs.append(TTDownBlock(*channels, d=d, tt_rank=tt_rank, pi=pi, alpha=alpha))\n",
    "            channels = (channels[1], channels[1] * 2)\n",
    "\n",
    "        self.downs = nn.ModuleList(self.downs)\n",
    "        self.center = TTDownBlock(*channels, d=d, tt_rank=tt_rank, pi=pi, alpha=alpha)\n",
    "\n",
    "        channels = (channels[1], channels[1] // 2)\n",
    "        self.ups = []\n",
    "        for k in range(depth):\n",
    "            self.ups.append(TTUpBlock(*channels, d=d, tt_rank=tt_rank, pi=pi, alpha=alpha))\n",
    "            channels = (channels[1], channels[1] // 2)\n",
    "        self.ups = nn.ModuleList(self.ups)\n",
    "\n",
    "        self.out = get_tt_conv2d(channels[0], n_classes, 1, 0, d, tt_rank, pi, alpha)\n",
    "\n",
    "#         # initialize weights\n",
    "#         self.apply(weight_init)\n",
    "\n",
    "    def set_threshold(self, ths):\n",
    "        self.threshold = ths\n",
    "\n",
    "    def forward(self, x):\n",
    "        H, W = x.shape[-2:]\n",
    "        if H % self.multiple != 0 or W % self.multiple != 0:\n",
    "            new_H = ((H - 1) // self.multiple + 1) * self.multiple\n",
    "            new_W = ((W - 1) // self.multiple + 1) * self.multiple\n",
    "            x = F.pad(x, [0, new_W - W, 0, new_H - H])\n",
    "\n",
    "        skips = []\n",
    "        out = x\n",
    "        for d_block in self.downs:\n",
    "            out = d_block(out)\n",
    "            skips.append(out)\n",
    "        out = self.center(out)\n",
    "\n",
    "        for skip, u_block in zip(skips[::-1], self.ups):\n",
    "            out = u_block(out, skip)\n",
    "\n",
    "        out = self.out(out)\n",
    "        if H % self.multiple != 0 or W % self.multiple != 0:\n",
    "            out = out[:, :, :H, :W]\n",
    "\n",
    "        return out\n",
    "\n",
    "    def predict(self, x):\n",
    "        logits = self.forward(x)\n",
    "        if self.n_classes != 1:\n",
    "            return logits.argmax(dim=-3)\n",
    "        return (F.sigmoid(logits) >= self.threshold).to(int)"
   ]
  },
  {
   "cell_type": "code",
   "execution_count": 231,
   "id": "eacd1e6b",
   "metadata": {
    "cellId": "3ukvbrd5xts5zact6c0193"
   },
   "outputs": [],
   "source": [
    "#!g1.1\n",
    "def get_comp_info(model):\n",
    "    \"Plot model masks probabilities, print compression info and return total compression.\"\n",
    "    MARS_layers = [l for l in model.modules() if isinstance(l, MARS)]\n",
    "    \n",
    "    ranks_list = []\n",
    "    totals, dofs = [], []\n",
    "\n",
    "    for l in MARS_layers:\n",
    "        print(\"Layer: \", l.tensorized_model)\n",
    "        phi_logits_list = l.phi_logits_list\n",
    "        F = l.F\n",
    "        eval_logits_threshold = l.eval_logits_threshold\n",
    "        p_threshold = F(torch.tensor(eval_logits_threshold)).item()\n",
    "        ranks = []\n",
    "\n",
    "        for m, logits in enumerate(phi_logits_list, 1):\n",
    "            logits = logits.detach().cpu()\n",
    "            probs = F(logits).data.numpy()\n",
    "            \n",
    "            plt.title(f\"Mask {m}\")\n",
    "            plt.bar(np.arange(1, len(probs) + 1), probs)\n",
    "            plt.xlabel('Rank')\n",
    "            plt.ylabel(r'$\\phi$ value')\n",
    "            plt.hlines(p_threshold, 0, len(probs) + 1, linestyles='--')\n",
    "            plt.text(0, p_threshold * 1.05, 'Rounding threshold')\n",
    "            plt.show()\n",
    "\n",
    "            rank = (logits > eval_logits_threshold).sum().item()\n",
    "            print(\"#nz ranks: {0}/{1}\".format(rank, len(logits)))\n",
    "            ranks.append(rank)\n",
    "\n",
    "        ranks_list.append(ranks)\n",
    "        print()\n",
    "        \n",
    "        dofs.append(l.tensorized_model.calc_dof(ranks))\n",
    "        totals.append(l.tensorized_model.total)\n",
    "        comp = totals[-1] / dofs[-1]\n",
    "        \n",
    "        print(\"Compression:\\t%.3f\" % comp)\n",
    "        print(100*\"=\")\n",
    "\n",
    "    all_params = sum(p.numel() for p in model.parameters())\n",
    "    mars_params = sum(logits.numel() for l in MARS_layers for logits in l.phi_logits_list)\n",
    "    mars_params += sum(l.tensorized_model.calc_dof() for l in MARS_layers)\n",
    "    other_params = all_params - mars_params\n",
    "    \n",
    "    total_comp = (other_params + sum(totals)) / (other_params + sum(dofs))\n",
    "    print(\"Total compression:\\t%.3f\" % total_comp)\n",
    "    \n",
    "    return total_comp"
   ]
  },
  {
   "cell_type": "code",
   "execution_count": 275,
   "id": "43ab6c0b",
   "metadata": {
    "cellId": "g0a77wtomgj9qyjfic39fd"
   },
   "outputs": [],
   "source": [
    "#!g1.1\n",
    "def get_size_info(model):\n",
    "    MARS_layers = [l for l in model.modules() if isinstance(l, MARS)]\n",
    "    \n",
    "    ranks_list = []\n",
    "    totals, dofs = [], []\n",
    "\n",
    "    for l in MARS_layers:\n",
    "        phi_logits_list = l.phi_logits_list\n",
    "        F = l.F\n",
    "        eval_logits_threshold = l.eval_logits_threshold\n",
    "        p_threshold = F(torch.tensor(eval_logits_threshold)).item()\n",
    "        ranks = []\n",
    "\n",
    "        for m, logits in enumerate(phi_logits_list, 1):\n",
    "            logits = logits.detach().cpu()\n",
    "            probs = F(logits).data.numpy()\n",
    "\n",
    "            rank = (logits > eval_logits_threshold).sum().item()\n",
    "            ranks.append(rank)\n",
    "\n",
    "        ranks_list.append(ranks)\n",
    "        \n",
    "        dofs.append(l.tensorized_model.calc_dof(ranks))\n",
    "        totals.append(l.tensorized_model.total)\n",
    "        comp = totals[-1] / dofs[-1]\n",
    "\n",
    "    all_params = sum(p.numel() for p in model.parameters())\n",
    "    mars_params = sum(logits.numel() for l in MARS_layers for logits in l.phi_logits_list)\n",
    "    mars_params += sum(l.tensorized_model.calc_dof() for l in MARS_layers)\n",
    "    other_params = all_params - mars_params\n",
    "    \n",
    "    total_comp = (other_params + sum(totals)) / (other_params + sum(dofs))\n",
    "    print(\"Total compression:\\t%.3f\" % total_comp)\n",
    "    \n",
    "    return total_comp"
   ]
  },
  {
   "cell_type": "markdown",
   "id": "e817f61c",
   "metadata": {
    "cellId": "zrdtkgm31nl5q2h7ki88q5",
    "execution_id": "a551cafe-5e1b-4ac2-b0a1-75354b78599a"
   },
   "source": [
    "### Training experiments"
   ]
  },
  {
   "cell_type": "code",
   "execution_count": 287,
   "id": "a8df062e",
   "metadata": {
    "cellId": "nd2s7hcjb9o6ntmp7z3oyg"
   },
   "outputs": [],
   "source": [
    "#!g1.1\n",
    "def setup_experiment_mars(model_params, loss_func, loss_params, dataset_params,\n",
    "                          optim_params, trainer_params, early_stopping_params,\n",
    "                          experiment_name, visualize_step=100, weight_save_path=None,\n",
    "                          checkpoint_metric_name=\"valid_dice\", compile=False,\n",
    "                          scheduler_cls=None, scheduler_params=dict(), restart=False,\n",
    "                          mars='tucker', mars_params={},\n",
    "):\n",
    "    for k in range(5):\n",
    "        torch.cuda.empty_cache()\n",
    "        gc.collect()\n",
    "\n",
    "    print('\\t\\t==============================================')\n",
    "    print(f'\\t\\t {experiment_name} ')\n",
    "    print('\\t\\t==============================================')\n",
    "\n",
    "    compile = compile and version.parse(torch.__version__) >= version.parse(\"2.0.0\")\n",
    "    checkpointing = weight_save_path is not None\n",
    "    checkpoint_path = None\n",
    "    if checkpointing:\n",
    "        checkpoint_path = os.path.join(weight_save_path, experiment_name)\n",
    "    \n",
    "    model = None\n",
    "    if mars == \"tucker\":\n",
    "        model = TuckerUNet(**model_params, **mars_params).cuda()\n",
    "    elif mars == 'tt':\n",
    "        model = TTUNet(**model_params, **mars_params).cuda()\n",
    "    \n",
    "    dataloaders = setup_dataloaders(**dataset_params)\n",
    "    loss_func = MARSLoss(model, len(dataloaders['train']), loss_func)\n",
    "    \n",
    "    print(\"\\t\\t==================== PARAMETER ESTIMATION ====================\")\n",
    "    print(summary(model, (3, 320, 320), device='cuda'))\n",
    "    get_size_info(model)\n",
    "    \n",
    "    checkpoint_metric_name = 'train_loss'\n",
    "    plModule = LightningSegmentation(\n",
    "        model,\n",
    "        loss_func=loss_func,\n",
    "        loss_params=loss_params,\n",
    "        dataloaders=dataloaders,\n",
    "        optim_params=optim_params,\n",
    "        visualize_step=visualize_step,\n",
    "        checkpointing=checkpointing,\n",
    "        checkpoint_path=checkpoint_path,\n",
    "        checkpoint_metric_name=checkpoint_metric_name,\n",
    "        scheduler_cls=scheduler_cls,\n",
    "        scheduler_params=scheduler_params,\n",
    "        compile=compile,\n",
    "    )\n",
    "    if restart:\n",
    "        plModule.load_model()\n",
    "\n",
    "    early_stopping = pl.callbacks.early_stopping.EarlyStopping(**early_stopping_params)\n",
    "\n",
    "    trainer_params[\"val_check_interval\"] = 0.\n",
    "    trainer_params[\"num_sanity_val_steps\"] = 0\n",
    "    trainer_params[\"check_val_every_n_epoch\"] = 10000\n",
    "    trainer = pl.Trainer(\n",
    "        **trainer_params,\n",
    "        callbacks=[early_stopping],\n",
    "    )\n",
    "\n",
    "    print(\"\\t\\t==================== STARTING TRAINING =======================\")\n",
    "    trainer.fit(plModule)\n",
    "\n",
    "    print(\"\\t\\t==================== SAVING MODEL      =======================\")\n",
    "    if os.path.exists(checkpoint_path):\n",
    "        os.remove(checkpoint_path)\n",
    "    torch.save(model.cpu().state_dict(), checkpoint_path)\n",
    "    model = model.cuda()\n",
    "    print(\"\\t\\t==================== TRAINING ENDED    =======================\")\n",
    "    plModule.load_model()\n",
    "#     print(\"\\t\\t==================== STARTING TESTING  =======================\")\n",
    "#     trainer.test(plModule)\n",
    "#     print(\"\\t\\t==================== TESTING ENDED     =======================\")\n",
    "    return model"
   ]
  },
  {
   "cell_type": "code",
   "execution_count": 272,
   "id": "391c315b",
   "metadata": {
    "cellId": "om92rs0i2tq95jvdbggxzv"
   },
   "outputs": [],
   "source": [
    "#!g1.1\n",
    "def eval_model_mars(model_params, loss_func, loss_params, dataset_params,\n",
    "                  optim_params, trainer_params, early_stopping_params,\n",
    "                  experiment_name, visualize_step=100, weight_save_path=None,\n",
    "                  checkpoint_metric_name=\"valid_dice\", compile=False,\n",
    "                  scheduler_cls=None, scheduler_params=dict(), restart=False,\n",
    "                  mars='tucker', mars_params={},\n",
    "):\n",
    "\n",
    "    print('\\t\\t==============================================')\n",
    "    print(f'\\t\\t {experiment_name} ')\n",
    "    print('\\t\\t==============================================')\n",
    "\n",
    "    compile = compile and version.parse(torch.__version__) >= version.parse(\"2.0.0\")\n",
    "    checkpointing = weight_save_path is not None\n",
    "    checkpoint_path = None\n",
    "    if checkpointing:\n",
    "        checkpoint_path = os.path.join(weight_save_path, experiment_name)\n",
    "    \n",
    "    model = None\n",
    "    if mars == \"tucker\":\n",
    "        model = TuckerUNet(**model_params, **mars_params).cuda()\n",
    "    elif mars == 'tt':\n",
    "        model = TTUNet(**model_params, **mars_params).cuda()\n",
    "    \n",
    "    dataloaders = setup_dataloaders(**dataset_params)\n",
    "    \n",
    "    print(\"\\t\\t==================== PARAMETER ESTIMATION ====================\")\n",
    "    print(summary(model, (3, 320, 320), device='cuda'))\n",
    "    \n",
    "    checkpoint_metric_name = 'train_loss'\n",
    "    plModule = LightningSegmentation(\n",
    "        model,\n",
    "        loss_func=loss_func,\n",
    "        loss_params=loss_params,\n",
    "        dataloaders=dataloaders,\n",
    "        optim_params=optim_params,\n",
    "        visualize_step=visualize_step,\n",
    "        checkpointing=checkpointing,\n",
    "        checkpoint_path=checkpoint_path,\n",
    "        checkpoint_metric_name=checkpoint_metric_name,\n",
    "        scheduler_cls=scheduler_cls,\n",
    "        scheduler_params=scheduler_params,\n",
    "        compile=compile,\n",
    "    )\n",
    "    plModule.load_model()\n",
    "\n",
    "    trainer_params[\"val_check_interval\"] = 0.\n",
    "    trainer_params[\"num_sanity_val_steps\"] = 0\n",
    "    trainer_params[\"check_val_every_n_epoch\"] = 2000\n",
    "    trainer = pl.Trainer(\n",
    "        **trainer_params,\n",
    "    )\n",
    "\n",
    "    print(\"\\t\\t==================== TRAINING ENDED    =======================\")\n",
    "    plModule.load_model()\n",
    "    print(\"\\t\\t==================== STARTING TESTING  =======================\")\n",
    "    trainer.test(plModule)\n",
    "    print(\"\\t\\t==================== TESTING ENDED     =======================\")"
   ]
  },
  {
   "cell_type": "code",
   "execution_count": 288,
   "id": "bbeb8f58",
   "metadata": {
    "cellId": "e9cj5rbt0841hac53xc4y9"
   },
   "outputs": [],
   "source": [
    "#!g1.1\n",
    "PREFERABLE_BATCH_SIZE = 32\n",
    "BATCH_SIZE = 32\n",
    "ACCUM_GRAD = (PREFERABLE_BATCH_SIZE - 1) // BATCH_SIZE + 1"
   ]
  },
  {
   "cell_type": "markdown",
   "id": "12120b1a",
   "metadata": {
    "cellId": "plmqafecdk398nmrq4zkt",
    "execution_id": "86a36858-a24e-44e4-ac25-f92486af167a"
   },
   "source": [
    "#### Tucker Training\n"
   ]
  },
  {
   "cell_type": "code",
   "execution_count": null,
   "id": "8fd06f59",
   "metadata": {
    "cellId": "eim1798hf8ce555eg1bm4j",
    "execution_id": "5052cc34-b164-413c-98ff-b1ba78b00370"
   },
   "outputs": [
    {
     "name": "stdout",
     "output_type": "stream",
     "text": [
      "\t\t==============================================\n",
      "\t\t cocostuff_tree__dice_loss__TuckerUNET3_32 \n",
      "\t\t==============================================\n",
      "\t\t==================== PARAMETER ESTIMATION ====================\n",
      "----------------------------------------------------------------\n",
      "        Layer (type)               Output Shape         Param #\n",
      "================================================================\n",
      "      TuckerConv2d-1         [-1, 32, 320, 320]              32\n",
      "              MARS-2         [-1, 32, 320, 320]               0\n",
      "       BatchNorm2d-3         [-1, 32, 320, 320]              64\n",
      "              ReLU-4         [-1, 32, 320, 320]               0\n",
      "      TuckerConv2d-5         [-1, 32, 320, 320]              32\n",
      "              MARS-6         [-1, 32, 320, 320]               0\n",
      "       BatchNorm2d-7         [-1, 32, 320, 320]              64\n",
      "              ReLU-8         [-1, 32, 320, 320]               0\n",
      "  TuckerDoubleConv-9         [-1, 32, 320, 320]               0\n",
      "        MaxPool2d-10         [-1, 32, 160, 160]               0\n",
      "     TuckerConv2d-11         [-1, 64, 160, 160]              64\n",
      "             MARS-12         [-1, 64, 160, 160]               0\n",
      "      BatchNorm2d-13         [-1, 64, 160, 160]             128\n",
      "             ReLU-14         [-1, 64, 160, 160]               0\n",
      "     TuckerConv2d-15         [-1, 64, 160, 160]              64\n",
      "             MARS-16         [-1, 64, 160, 160]               0\n",
      "      BatchNorm2d-17         [-1, 64, 160, 160]             128\n",
      "             ReLU-18         [-1, 64, 160, 160]               0\n",
      " TuckerDoubleConv-19         [-1, 64, 160, 160]               0\n",
      "  TuckerDownBlock-20         [-1, 64, 160, 160]               0\n",
      "        MaxPool2d-21           [-1, 64, 80, 80]               0\n",
      "     TuckerConv2d-22          [-1, 128, 80, 80]             128\n",
      "             MARS-23          [-1, 128, 80, 80]               0\n",
      "      BatchNorm2d-24          [-1, 128, 80, 80]             256\n",
      "             ReLU-25          [-1, 128, 80, 80]               0\n",
      "     TuckerConv2d-26          [-1, 128, 80, 80]             128\n",
      "             MARS-27          [-1, 128, 80, 80]               0\n",
      "      BatchNorm2d-28          [-1, 128, 80, 80]             256\n",
      "             ReLU-29          [-1, 128, 80, 80]               0\n",
      " TuckerDoubleConv-30          [-1, 128, 80, 80]               0\n",
      "  TuckerDownBlock-31          [-1, 128, 80, 80]               0\n",
      "        MaxPool2d-32          [-1, 128, 40, 40]               0\n",
      "     TuckerConv2d-33          [-1, 256, 40, 40]             256\n",
      "             MARS-34          [-1, 256, 40, 40]               0\n",
      "      BatchNorm2d-35          [-1, 256, 40, 40]             512\n",
      "             ReLU-36          [-1, 256, 40, 40]               0\n",
      "     TuckerConv2d-37          [-1, 256, 40, 40]             256\n",
      "             MARS-38          [-1, 256, 40, 40]               0\n",
      "      BatchNorm2d-39          [-1, 256, 40, 40]             512\n",
      "             ReLU-40          [-1, 256, 40, 40]               0\n",
      " TuckerDoubleConv-41          [-1, 256, 40, 40]               0\n",
      "  TuckerDownBlock-42          [-1, 256, 40, 40]               0\n",
      "  ConvTranspose2d-43          [-1, 128, 80, 80]         131,200\n",
      "     TuckerConv2d-44          [-1, 128, 80, 80]             128\n",
      "             MARS-45          [-1, 128, 80, 80]               0\n",
      "      BatchNorm2d-46          [-1, 128, 80, 80]             256\n",
      "             ReLU-47          [-1, 128, 80, 80]               0\n",
      "     TuckerConv2d-48          [-1, 128, 80, 80]             128\n",
      "             MARS-49          [-1, 128, 80, 80]               0\n",
      "      BatchNorm2d-50          [-1, 128, 80, 80]             256\n",
      "             ReLU-51          [-1, 128, 80, 80]               0\n",
      " TuckerDoubleConv-52          [-1, 128, 80, 80]               0\n",
      "    TuckerUpBlock-53          [-1, 128, 80, 80]               0\n",
      "  ConvTranspose2d-54         [-1, 64, 160, 160]          32,832\n",
      "     TuckerConv2d-55         [-1, 64, 160, 160]              64\n",
      "             MARS-56         [-1, 64, 160, 160]               0\n",
      "      BatchNorm2d-57         [-1, 64, 160, 160]             128\n",
      "             ReLU-58         [-1, 64, 160, 160]               0\n",
      "     TuckerConv2d-59         [-1, 64, 160, 160]              64\n",
      "             MARS-60         [-1, 64, 160, 160]               0\n",
      "      BatchNorm2d-61         [-1, 64, 160, 160]             128\n",
      "             ReLU-62         [-1, 64, 160, 160]               0\n",
      " TuckerDoubleConv-63         [-1, 64, 160, 160]               0\n",
      "    TuckerUpBlock-64         [-1, 64, 160, 160]               0\n",
      "  ConvTranspose2d-65         [-1, 32, 320, 320]           8,224\n",
      "     TuckerConv2d-66         [-1, 32, 320, 320]              32\n",
      "             MARS-67         [-1, 32, 320, 320]               0\n",
      "      BatchNorm2d-68         [-1, 32, 320, 320]              64\n",
      "             ReLU-69         [-1, 32, 320, 320]               0\n",
      "     TuckerConv2d-70         [-1, 32, 320, 320]              32\n",
      "             MARS-71         [-1, 32, 320, 320]               0\n",
      "      BatchNorm2d-72         [-1, 32, 320, 320]              64\n",
      "             ReLU-73         [-1, 32, 320, 320]               0\n",
      " TuckerDoubleConv-74         [-1, 32, 320, 320]               0\n",
      "    TuckerUpBlock-75         [-1, 32, 320, 320]               0\n",
      "     TuckerConv2d-76          [-1, 2, 320, 320]               2\n",
      "             MARS-77          [-1, 2, 320, 320]               0\n",
      "================================================================\n",
      "Total params: 176,482\n",
      "Trainable params: 175,072\n",
      "Non-trainable params: 1,410\n",
      "----------------------------------------------------------------\n",
      "Input size (MB): 1.17\n",
      "Forward/backward pass size (MB): 939.06\n",
      "Params size (MB): 0.67\n",
      "Estimated Total Size (MB): 940.91\n",
      "----------------------------------------------------------------\n",
      "None\n",
      "Total compression:\t10.927\n"
     ]
    },
    {
     "data": {
      "image/png": "[encoded data removed]",
      "text/plain": [
       "<Figure size 864x288 with 2 Axes>"
      ]
     },
     "metadata": {},
     "output_type": "display_data"
    },
    {
     "name": "stderr",
     "output_type": "stream",
     "text": [
      "GPU available: True (cuda), used: True\n",
      "TPU available: False, using: 0 TPU cores\n",
      "IPU available: False, using: 0 IPUs\n",
      "HPU available: False, using: 0 HPUs\n",
      "LOCAL_RANK: 0 - CUDA_VISIBLE_DEVICES: [0]\n"
     ]
    },
    {
     "name": "stdout",
     "output_type": "stream",
     "text": [
      "\t\t==================== STARTING TRAINING =======================\n"
     ]
    },
    {
     "name": "stderr",
     "output_type": "stream",
     "text": [
      "\n",
      "  | Name      | Type       | Params\n",
      "-----------------------------------------\n",
      "0 | model     | TuckerUNet | 493 K \n",
      "1 | loss_func | MARSLoss   | 493 K \n",
      "-----------------------------------------\n",
      "493 K     Trainable params\n",
      "0         Non-trainable params\n",
      "493 K     Total params\n",
      "1.975     Total estimated model params size (MB)\n"
     ]
    },
    {
     "data": {
      "application/vnd.jupyter.widget-view+json": {
       "model_id": "015e339e9cf6423db7ca7b442af0cab0",
       "version_major": 2,
       "version_minor": 0
      },
      "text/plain": [
       "Training: |          | 0/? [00:00<?, ?it/s]"
      ]
     },
     "metadata": {},
     "output_type": "display_data"
    }
   ],
   "source": [
    "#!g1.1\n",
    "loss_name = \"dice_loss\"\n",
    "\n",
    "experiment_name=f\"cocostuff_tree__{loss_name}__TuckerUNET3_32\"\n",
    "tucker_model = setup_experiment_mars(\n",
    "    **get_general_params(\n",
    "        scheduler_cls=torch.optim.lr_scheduler.CyclicLR,\n",
    "        scheduler_params={\n",
    "            \"base_lr\": 3e-4,\n",
    "            \"max_lr\": 1e-3,\n",
    "            \"step_size_up\": 76 * ACCUM_GRAD,\n",
    "            \"mode\": 'exp_range',\n",
    "            \"cycle_momentum\": False,\n",
    "        },\n",
    "        patience=100,\n",
    "        visualize_step=40,\n",
    "        max_epoch=200,\n",
    "    ),\n",
    "    mars='tucker',\n",
    "#     mars_params={\"d\":6, \"tt_rank\":8, \"pi\":1e-1, \"alpha\":-1.5},\n",
    "    mars_params={\"rank\":40, \"pi\":1e-1, \"alpha\":-1.5},\n",
    "    # restart=True,\n",
    "    loss_func=all_loss_params[loss_name][\"func\"],\n",
    "    loss_params=all_loss_params[loss_name][\"loss_params\"],\n",
    "    experiment_name=experiment_name,\n",
    ")"
   ]
  },
  {
   "cell_type": "code",
   "execution_count": null,
   "id": "0f23d290",
   "metadata": {
    "cellId": "mywffsyjkco5wm47jqfmpu",
    "execution_id": "b35743c6-b325-40fc-8611-fab048430519"
   },
   "outputs": [],
   "source": [
    "#!g1.1\n",
    "!cp checkpoints/* acc_checkpoints/"
   ]
  },
  {
   "cell_type": "code",
   "execution_count": null,
   "id": "a02f553d",
   "metadata": {
    "cellId": "kjdhzpl3hre6jmc2z1e0j",
    "execution_id": "95572dd3-55e1-43e5-8fd0-d4625946b55f"
   },
   "outputs": [],
   "source": [
    "#!g1.1\n",
    "get_comp_info(tucker_model)"
   ]
  },
  {
   "cell_type": "markdown",
   "id": "43e023ba",
   "metadata": {
    "cellId": "ozwaabyedyudfbm9aayy",
    "execution_id": "934263b1-8160-4631-8804-63338146b778"
   },
   "source": [
    "### TT-U-Net training"
   ]
  },
  {
   "cell_type": "code",
   "execution_count": null,
   "id": "cdc47f08",
   "metadata": {
    "cellId": "mfmq092zrrqkh6pg2io5db",
    "execution_id": "ecf82349-1ba3-42e6-b99a-e8b3a2bcebff"
   },
   "outputs": [],
   "source": [
    "#!g1.1\n",
    "loss_name = \"dice_loss\"\n",
    "\n",
    "experiment_name=f\"cocostuff_tree__{loss_name}__TTUNET3_32\"\n",
    "tt_model = setup_experiment_mars(\n",
    "    **get_general_params(\n",
    "        scheduler_cls=torch.optim.lr_scheduler.CyclicLR,\n",
    "        scheduler_params={\n",
    "            \"base_lr\": 3e-4,\n",
    "            \"max_lr\": 1e-3,\n",
    "            \"step_size_up\": 76 * ACCUM_GRAD,\n",
    "            \"mode\": 'exp_range',\n",
    "            \"cycle_momentum\": False,\n",
    "        },\n",
    "        patience=100,\n",
    "        visualize_step=40,\n",
    "        max_epoch=200,\n",
    "    ),\n",
    "    mars='tt',\n",
    "    mars_params={\"d\":5, \"tt_rank\":16, \"pi\":1e-1, \"alpha\":-1.5},\n",
    "#     mars_params={\"rank\":40, \"pi\":1e-1, \"alpha\":-1.5},\n",
    "    # restart=True,\n",
    "    loss_func=all_loss_params[loss_name][\"func\"],\n",
    "    loss_params=all_loss_params[loss_name][\"loss_params\"],\n",
    "    experiment_name=experiment_name,\n",
    ")"
   ]
  },
  {
   "cell_type": "code",
   "execution_count": null,
   "id": "b61836f5",
   "metadata": {
    "cellId": "zgx6p8ymr9yp853ezvlme",
    "execution_id": "d92f08fe-411f-4066-b7b6-0150a48cf63b"
   },
   "outputs": [],
   "source": [
    "#!g1.1\n",
    "get_comp_info(tt_model)"
   ]
  },
  {
   "cell_type": "code",
   "execution_count": null,
   "id": "d7e44715",
   "metadata": {
    "cellId": "5za2sbg83mcrtt1u9phmr"
   },
   "outputs": [],
   "source": [
    "#!g1.1\n"
   ]
  }
 ],
 "metadata": {
  "language_info": {
   "codemirror_mode": {
    "name": "ipython",
    "version": 3
   },
   "file_extension": ".py",
   "mimetype": "text/x-python",
   "name": "python",
   "nbconvert_exporter": "python",
   "pygments_lexer": "ipython3",
   "version": "3.7.7"
  },
  "notebookId": "4e181a63-0de4-4b2a-9942-363a73c56cb9",
  "notebookPath": "NLA_project/Untitled.ipynb"
 },
 "nbformat": 4,
 "nbformat_minor": 5
}
