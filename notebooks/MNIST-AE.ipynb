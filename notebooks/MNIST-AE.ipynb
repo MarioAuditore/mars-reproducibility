{
 "cells": [
  {
   "cell_type": "markdown",
   "metadata": {},
   "source": [
    "Source: https://avandekleut.github.io/vae/"
   ]
  },
  {
   "cell_type": "markdown",
   "metadata": {},
   "source": [
    "Below is an implementation of an autoencoder written in PyTorch. We apply it to the MNIST dataset."
   ]
  },
  {
   "cell_type": "code",
   "execution_count": 1,
   "metadata": {
    "scrolled": true
   },
   "outputs": [],
   "source": [
    "import os\n",
    "import sys\n",
    "sys.path.append(\"/Users/marioauditore/Desktop/Skoltech/NLA/Project MARS/main\")\n",
    "\n",
    "from tqdm import tqdm\n",
    "\n",
    "from mars import MARS, MARSLoss, get_MARS_attr, set_MARS_attr\n",
    "from tensorized_models import TTLinear, TTConv2d, TuckerConv2d, FactorizedLinear\n",
    "\n",
    "import torch; torch.manual_seed(0)\n",
    "import torch.nn as nn\n",
    "import torch.nn.functional as F\n",
    "from torch import optim\n",
    "import torch.utils\n",
    "import torch.distributions\n",
    "import torchvision\n",
    "from torchvision import datasets, transforms\n",
    "import numpy as np\n",
    "import matplotlib.pyplot as plt; plt.rcParams['figure.dpi'] = 200"
   ]
  },
  {
   "cell_type": "code",
   "execution_count": 2,
   "metadata": {},
   "outputs": [
    {
     "data": {
      "text/plain": [
       "'cpu'"
      ]
     },
     "execution_count": 2,
     "metadata": {},
     "output_type": "execute_result"
    }
   ],
   "source": [
    "if torch.cuda.is_available():\n",
    "    device = \"cuda\"\n",
    "elif torch.backends.mps.is_available():\n",
    "    device = \"mps\"\n",
    "else:\n",
    "    device = \"cpu\"\n",
    "\n",
    "device = \"cpu\"\n",
    "device"
   ]
  },
  {
   "cell_type": "markdown",
   "metadata": {},
   "source": [
    "Below we write the `Encoder` class by sublcassing `torch.nn.Module`, which lets us define the `__init__` method storing layers as an attribute, and a `forward` method describing the forward pass of the network."
   ]
  },
  {
   "cell_type": "code",
   "execution_count": 3,
   "metadata": {},
   "outputs": [],
   "source": [
    "# Compression modes parameters\n",
    "modes_dict = {\n",
    "    \"soft\": dict(pi=1e-1, alpha=-1.5),\n",
    "    \"hard\": dict(pi=1e-2, alpha=-1.75),\n",
    "}"
   ]
  },
  {
   "cell_type": "code",
   "execution_count": 4,
   "metadata": {},
   "outputs": [],
   "source": [
    "class TTEncoder(nn.Module):\n",
    "    def __init__(self, latent_dims, pi, alpha):\n",
    "        super(TTEncoder, self).__init__()\n",
    "        self.linear1 = MARS(\n",
    "            TTLinear(\n",
    "                784, \n",
    "                512, \n",
    "                d=8, \n",
    "                tt_rank=20, \n",
    "                auto_shapes=True\n",
    "            ),\n",
    "            pi=pi,\n",
    "            alpha=alpha\n",
    "        )\n",
    "        self.linear2 = nn.Linear(512, latent_dims)\n",
    "    \n",
    "    def forward(self, x):\n",
    "        x = torch.flatten(x, start_dim=1)\n",
    "        x = F.relu(self.linear1(x))\n",
    "        return self.linear2(x)\n",
    "\n",
    "\n",
    "class FactorizedEncoder(nn.Module):\n",
    "    def __init__(self, latent_dims, pi, alpha):\n",
    "        super(FactorizedEncoder, self).__init__()\n",
    "        self.linear1 = MARS(\n",
    "            FactorizedLinear(784, 512, rank=100),\n",
    "            pi=pi,\n",
    "            alpha=alpha\n",
    "        )\n",
    "        self.linear2 = nn.Linear(512, latent_dims)\n",
    "    \n",
    "    def forward(self, x):\n",
    "        x = torch.flatten(x, start_dim=1)\n",
    "        x = F.relu(self.linear1(x))\n",
    "        return self.linear2(x)"
   ]
  },
  {
   "cell_type": "markdown",
   "metadata": {},
   "source": [
    "We do something similar for the `Decoder` class, ensuring we reshape the output."
   ]
  },
  {
   "cell_type": "code",
   "execution_count": 5,
   "metadata": {},
   "outputs": [],
   "source": [
    "class TTDecoder(nn.Module):\n",
    "    def __init__(self, latent_dims, pi, alpha):\n",
    "        super(TTDecoder, self).__init__()\n",
    "        self.linear1 = nn.Linear(latent_dims, 512)\n",
    "        self.linear2 = MARS(\n",
    "            TTLinear(\n",
    "                512, \n",
    "                784, \n",
    "                d=8, \n",
    "                tt_rank=20, \n",
    "                auto_shapes=True\n",
    "            ),\n",
    "            pi=pi,\n",
    "            alpha=alpha\n",
    "        )\n",
    "        \n",
    "    def forward(self, z):\n",
    "        z = F.relu(self.linear1(z))\n",
    "        z = torch.sigmoid(self.linear2(z))\n",
    "        return z.reshape((-1, 1, 28, 28))\n",
    "\n",
    "\n",
    "class FactorizedDecoder(nn.Module):\n",
    "    def __init__(self, latent_dims, pi, alpha):\n",
    "        super(FactorizedDecoder, self).__init__()\n",
    "        self.linear1 = nn.Linear(latent_dims, 512)\n",
    "        self.linear2 = MARS(\n",
    "            FactorizedLinear(512, 784, rank=100),\n",
    "            pi=pi,\n",
    "            alpha=alpha\n",
    "        )\n",
    "        \n",
    "    def forward(self, z):\n",
    "        z = F.relu(self.linear1(z))\n",
    "        z = torch.sigmoid(self.linear2(z))\n",
    "        return z.reshape((-1, 1, 28, 28))"
   ]
  },
  {
   "cell_type": "code",
   "execution_count": 6,
   "metadata": {},
   "outputs": [],
   "source": [
    "class Autoencoder(nn.Module):\n",
    "    def __init__(self, latent_dims, pi, alpha):\n",
    "        super(Autoencoder, self).__init__()\n",
    "        self.encoder = FactorizedEncoder(latent_dims, pi, alpha)\n",
    "        self.decoder = FactorizedDecoder(latent_dims, pi, alpha)\n",
    "    \n",
    "    def forward(self, x):\n",
    "        z = self.encoder(x)\n",
    "        return self.decoder(z)"
   ]
  },
  {
   "cell_type": "code",
   "execution_count": 7,
   "metadata": {},
   "outputs": [],
   "source": [
    "def train(autoencoder, data, epochs=20):\n",
    "    opt = torch.optim.Adam(autoencoder.parameters())\n",
    "    for epoch in range(epochs):\n",
    "        for x, y in data:\n",
    "            x = x.to(device) # GPU\n",
    "            opt.zero_grad()\n",
    "            x_hat = autoencoder(x)\n",
    "            loss = ((x - x_hat)**2).sum()\n",
    "            loss.backward()\n",
    "            opt.step()\n",
    "    return autoencoder"
   ]
  },
  {
   "cell_type": "code",
   "execution_count": 8,
   "metadata": {},
   "outputs": [],
   "source": [
    "def train_mars(model_idx, latent_dims, mode=\"soft\", save=True, load=True):\n",
    "    \"\"\"\n",
    "    Train the model or load the trained one.\n",
    "    \n",
    "    Parameters are:\n",
    "        model_idx : int\n",
    "            Model index to load or save.\n",
    "        mode : str in {'soft', 'hard'}\n",
    "            Compression mode.\n",
    "        save : bool\n",
    "            Whether to save the trained model.\n",
    "        load : bool\n",
    "            Whether to load the trained model.\n",
    "    \"\"\"\n",
    "    model_directory_path = f\"./models/autoencoder/{mode}/\"\n",
    "    prefix = str(model_idx)\n",
    "        \n",
    "    model_path = model_directory_path + prefix + '-model.pt'\n",
    "    losses_path = model_directory_path + prefix + '-losses.npy'\n",
    "    print(\"Model path: \", model_path)\n",
    "\n",
    "    if save and not os.path.exists(model_directory_path):\n",
    "        os.makedirs(model_directory_path)\n",
    "        \n",
    "    model = Autoencoder(latent_dims, **modes_dict[mode]).to(device)\n",
    "    \n",
    "    if load and os.path.isfile(model_path):\n",
    "        # load trained model parameters from disk\n",
    "        model.load_state_dict(torch.load(model_path))\n",
    "        losses = np.load(losses_path)\n",
    "        print('Loaded model parameters from disk.')\n",
    "        return model, losses\n",
    "    \n",
    "    model_criterion = lambda x, x_hat: ((x - x_hat)**2).sum()\n",
    "    criterion = MARSLoss(model, len(data), model_criterion)\n",
    "    \n",
    "    optimizer = optim.Adam(model.parameters(), lr)\n",
    "    scheduler = optim.lr_scheduler.ExponentialLR(optimizer, gamma)\n",
    "\n",
    "    print(\"Training...\")\n",
    "    model.train()\n",
    "    losses = []\n",
    "    log_step = len(data) // 300 * 100\n",
    "    \n",
    "    for epoch in tqdm(range(n_epochs)):\n",
    "        running_loss = 0.0\n",
    "        running_cel = 0.0\n",
    "        losses.append(0.0)\n",
    "\n",
    "        for i, (inputs, labels) in enumerate(data, 0):\n",
    "            # get the inputs\n",
    "            inputs, labels = inputs.to(device), labels.to(device)\n",
    "\n",
    "            # zero the parameter gradients\n",
    "            optimizer.zero_grad()\n",
    "\n",
    "            # forward + backward + optimize\n",
    "            outputs = model(inputs)\n",
    "            loss = criterion(outputs, inputs)\n",
    "            losses[-1] += loss.item()\n",
    "            loss.backward()\n",
    "            optimizer.step()\n",
    "\n",
    "            # update statistics\n",
    "            running_loss += loss.item()\n",
    "\n",
    "            if i % log_step == log_step-1:\n",
    "                print('[%d, %5d] \\t Loss: %.3f \\t T: %.3f' %\n",
    "                      (epoch + 1, i + 1, \n",
    "                       running_loss / log_step, \n",
    "                       # running_cel / log_step, \n",
    "                       get_MARS_attr(model, \"temperature\")))\n",
    "                running_loss = 0.0\n",
    "                running_cel = 0.0\n",
    "                \n",
    "        losses[-1] /= i + 1\n",
    "        \n",
    "        new_temp = temp_anneal(get_MARS_attr(model, \"temperature\"))\n",
    "        set_MARS_attr(model, \"temperature\", new_temp)\n",
    "\n",
    "        scheduler.step()\n",
    "\n",
    "    losses = np.array(losses)\n",
    "    print('Finished Training.')\n",
    "    \n",
    "    if save:\n",
    "        torch.save(model.state_dict(), model_path)\n",
    "        np.save(losses_path, losses)\n",
    "        print('Saved model parameters to disk.')\n",
    "    \n",
    "    return model, losses"
   ]
  },
  {
   "cell_type": "code",
   "execution_count": 9,
   "metadata": {},
   "outputs": [],
   "source": [
    "latent_dims = 2\n",
    "\n",
    "n_epochs = 300  \n",
    "batch_size = 128\n",
    "lr = 1e-3\n",
    "gamma = 0.99\n",
    "temp_anneal = lambda t: max(1e-2, gamma * t)\n",
    "\n",
    "data = torch.utils.data.DataLoader(\n",
    "        torchvision.datasets.MNIST('./data', \n",
    "               transform=torchvision.transforms.ToTensor(), \n",
    "               download=True),\n",
    "        batch_size=batch_size,\n",
    "        shuffle=True)\n",
    "\n",
    "\n",
    "model_criterion = lambda x, x_hat: ((x - x_hat)**2).sum()\n",
    "\n",
    "n_models = 1  # set the number of models in ensemble\n",
    "mode = \"hard\"  # set the compression mode\n",
    "models, losses = [], []"
   ]
  },
  {
   "cell_type": "code",
   "execution_count": 10,
   "metadata": {
    "scrolled": true
   },
   "outputs": [
    {
     "name": "stdout",
     "output_type": "stream",
     "text": [
      "Model number 1...\n",
      "Model path:  ./models/autoencoder/hard/1-model.pt\n",
      "Training...\n"
     ]
    },
    {
     "name": "stderr",
     "output_type": "stream",
     "text": [
      "  0%|                                                   | 0/300 [00:00<?, ?it/s]"
     ]
    },
    {
     "name": "stdout",
     "output_type": "stream",
     "text": [
      "[1,   100] \t Loss: 15186.602 \t T: 0.100\n",
      "[1,   200] \t Loss: 8596.990 \t T: 0.100\n",
      "[1,   300] \t Loss: 7783.656 \t T: 0.100\n",
      "[1,   400] \t Loss: 7362.893 \t T: 0.100\n"
     ]
    },
    {
     "name": "stderr",
     "output_type": "stream",
     "text": [
      "  0%|▏                                          | 1/300 [00:03<16:33,  3.32s/it]"
     ]
    },
    {
     "name": "stdout",
     "output_type": "stream",
     "text": [
      "[2,   100] \t Loss: 7051.089 \t T: 0.099\n",
      "[2,   200] \t Loss: 6851.109 \t T: 0.099\n",
      "[2,   300] \t Loss: 6652.011 \t T: 0.099\n",
      "[2,   400] \t Loss: 6532.860 \t T: 0.099\n"
     ]
    },
    {
     "name": "stderr",
     "output_type": "stream",
     "text": [
      "  1%|▎                                          | 2/300 [00:06<16:03,  3.23s/it]"
     ]
    },
    {
     "name": "stdout",
     "output_type": "stream",
     "text": [
      "[3,   100] \t Loss: 6421.152 \t T: 0.098\n",
      "[3,   200] \t Loss: 6407.254 \t T: 0.098\n",
      "[3,   300] \t Loss: 6357.900 \t T: 0.098\n",
      "[3,   400] \t Loss: 6346.418 \t T: 0.098\n"
     ]
    },
    {
     "name": "stderr",
     "output_type": "stream",
     "text": [
      "  1%|▍                                          | 3/300 [00:09<15:47,  3.19s/it]"
     ]
    },
    {
     "name": "stdout",
     "output_type": "stream",
     "text": [
      "[4,   100] \t Loss: 6299.838 \t T: 0.097\n",
      "[4,   200] \t Loss: 6226.420 \t T: 0.097\n",
      "[4,   300] \t Loss: 6216.833 \t T: 0.097\n",
      "[4,   400] \t Loss: 6183.664 \t T: 0.097\n"
     ]
    },
    {
     "name": "stderr",
     "output_type": "stream",
     "text": [
      "  1%|▌                                          | 4/300 [00:12<15:43,  3.19s/it]"
     ]
    },
    {
     "name": "stdout",
     "output_type": "stream",
     "text": [
      "[5,   100] \t Loss: 6091.355 \t T: 0.096\n",
      "[5,   200] \t Loss: 6086.941 \t T: 0.096\n",
      "[5,   300] \t Loss: 6073.421 \t T: 0.096\n",
      "[5,   400] \t Loss: 6024.160 \t T: 0.096\n"
     ]
    },
    {
     "name": "stderr",
     "output_type": "stream",
     "text": [
      "  2%|▋                                          | 5/300 [00:15<15:37,  3.18s/it]"
     ]
    },
    {
     "name": "stdout",
     "output_type": "stream",
     "text": [
      "[6,   100] \t Loss: 6007.978 \t T: 0.095\n",
      "[6,   200] \t Loss: 5973.469 \t T: 0.095\n",
      "[6,   300] \t Loss: 6053.254 \t T: 0.095\n",
      "[6,   400] \t Loss: 5995.042 \t T: 0.095\n"
     ]
    },
    {
     "name": "stderr",
     "output_type": "stream",
     "text": [
      "  2%|▊                                          | 6/300 [00:19<15:30,  3.17s/it]"
     ]
    },
    {
     "name": "stdout",
     "output_type": "stream",
     "text": [
      "[7,   100] \t Loss: 5921.217 \t T: 0.094\n",
      "[7,   200] \t Loss: 5845.278 \t T: 0.094\n",
      "[7,   300] \t Loss: 5844.266 \t T: 0.094\n",
      "[7,   400] \t Loss: 5921.304 \t T: 0.094\n"
     ]
    },
    {
     "name": "stderr",
     "output_type": "stream",
     "text": [
      "  2%|█                                          | 7/300 [00:22<15:28,  3.17s/it]"
     ]
    },
    {
     "name": "stdout",
     "output_type": "stream",
     "text": [
      "[8,   100] \t Loss: 5835.633 \t T: 0.093\n",
      "[8,   200] \t Loss: 5818.306 \t T: 0.093\n",
      "[8,   300] \t Loss: 5810.786 \t T: 0.093\n",
      "[8,   400] \t Loss: 5793.432 \t T: 0.093\n"
     ]
    },
    {
     "name": "stderr",
     "output_type": "stream",
     "text": [
      "  3%|█▏                                         | 8/300 [00:25<15:26,  3.17s/it]"
     ]
    },
    {
     "name": "stdout",
     "output_type": "stream",
     "text": [
      "[9,   100] \t Loss: 5803.963 \t T: 0.092\n",
      "[9,   200] \t Loss: 5764.287 \t T: 0.092\n",
      "[9,   300] \t Loss: 5800.472 \t T: 0.092\n",
      "[9,   400] \t Loss: 5738.695 \t T: 0.092\n"
     ]
    },
    {
     "name": "stderr",
     "output_type": "stream",
     "text": [
      "  3%|█▎                                         | 9/300 [00:28<15:22,  3.17s/it]"
     ]
    },
    {
     "name": "stdout",
     "output_type": "stream",
     "text": [
      "[10,   100] \t Loss: 5754.362 \t T: 0.091\n",
      "[10,   200] \t Loss: 5722.350 \t T: 0.091\n",
      "[10,   300] \t Loss: 5778.024 \t T: 0.091\n",
      "[10,   400] \t Loss: 5659.640 \t T: 0.091\n"
     ]
    },
    {
     "name": "stderr",
     "output_type": "stream",
     "text": [
      "  3%|█▍                                        | 10/300 [00:31<15:18,  3.17s/it]"
     ]
    },
    {
     "name": "stdout",
     "output_type": "stream",
     "text": [
      "[11,   100] \t Loss: 5683.179 \t T: 0.090\n",
      "[11,   200] \t Loss: 5761.156 \t T: 0.090\n",
      "[11,   300] \t Loss: 5705.044 \t T: 0.090\n",
      "[11,   400] \t Loss: 5686.040 \t T: 0.090\n"
     ]
    },
    {
     "name": "stderr",
     "output_type": "stream",
     "text": [
      "  4%|█▌                                        | 11/300 [00:34<15:15,  3.17s/it]"
     ]
    },
    {
     "name": "stdout",
     "output_type": "stream",
     "text": [
      "[12,   100] \t Loss: 5691.451 \t T: 0.090\n",
      "[12,   200] \t Loss: 5635.993 \t T: 0.090\n",
      "[12,   300] \t Loss: 5664.942 \t T: 0.090\n",
      "[12,   400] \t Loss: 5624.648 \t T: 0.090\n"
     ]
    },
    {
     "name": "stderr",
     "output_type": "stream",
     "text": [
      "  4%|█▋                                        | 12/300 [00:38<15:13,  3.17s/it]"
     ]
    },
    {
     "name": "stdout",
     "output_type": "stream",
     "text": [
      "[13,   100] \t Loss: 5613.371 \t T: 0.089\n",
      "[13,   200] \t Loss: 5644.461 \t T: 0.089\n",
      "[13,   300] \t Loss: 5657.206 \t T: 0.089\n",
      "[13,   400] \t Loss: 5634.778 \t T: 0.089\n"
     ]
    },
    {
     "name": "stderr",
     "output_type": "stream",
     "text": [
      "  4%|█▊                                        | 13/300 [00:41<15:10,  3.17s/it]"
     ]
    },
    {
     "name": "stdout",
     "output_type": "stream",
     "text": [
      "[14,   100] \t Loss: 5589.761 \t T: 0.088\n",
      "[14,   200] \t Loss: 5573.639 \t T: 0.088\n",
      "[14,   300] \t Loss: 5613.158 \t T: 0.088\n",
      "[14,   400] \t Loss: 5612.428 \t T: 0.088\n"
     ]
    },
    {
     "name": "stderr",
     "output_type": "stream",
     "text": [
      "  5%|█▉                                        | 14/300 [00:44<15:05,  3.16s/it]"
     ]
    },
    {
     "name": "stdout",
     "output_type": "stream",
     "text": [
      "[15,   100] \t Loss: 5541.733 \t T: 0.087\n",
      "[15,   200] \t Loss: 5554.008 \t T: 0.087\n",
      "[15,   300] \t Loss: 5530.861 \t T: 0.087\n",
      "[15,   400] \t Loss: 5555.563 \t T: 0.087\n"
     ]
    },
    {
     "name": "stderr",
     "output_type": "stream",
     "text": [
      "  5%|██                                        | 15/300 [00:47<15:01,  3.16s/it]"
     ]
    },
    {
     "name": "stdout",
     "output_type": "stream",
     "text": [
      "[16,   100] \t Loss: 5546.466 \t T: 0.086\n",
      "[16,   200] \t Loss: 5563.507 \t T: 0.086\n",
      "[16,   300] \t Loss: 5528.847 \t T: 0.086\n",
      "[16,   400] \t Loss: 5487.892 \t T: 0.086\n"
     ]
    },
    {
     "name": "stderr",
     "output_type": "stream",
     "text": [
      "  5%|██▏                                       | 16/300 [00:50<14:56,  3.16s/it]"
     ]
    },
    {
     "name": "stdout",
     "output_type": "stream",
     "text": [
      "[17,   100] \t Loss: 5583.220 \t T: 0.085\n",
      "[17,   200] \t Loss: 5490.457 \t T: 0.085\n",
      "[17,   300] \t Loss: 5489.198 \t T: 0.085\n",
      "[17,   400] \t Loss: 5467.825 \t T: 0.085\n"
     ]
    },
    {
     "name": "stderr",
     "output_type": "stream",
     "text": [
      "  6%|██▍                                       | 17/300 [00:53<14:53,  3.16s/it]"
     ]
    },
    {
     "name": "stdout",
     "output_type": "stream",
     "text": [
      "[18,   100] \t Loss: 5437.697 \t T: 0.084\n",
      "[18,   200] \t Loss: 5533.530 \t T: 0.084\n",
      "[18,   300] \t Loss: 5507.432 \t T: 0.084\n",
      "[18,   400] \t Loss: 5458.361 \t T: 0.084\n"
     ]
    },
    {
     "name": "stderr",
     "output_type": "stream",
     "text": [
      "  6%|██▌                                       | 18/300 [00:57<14:52,  3.17s/it]"
     ]
    },
    {
     "name": "stdout",
     "output_type": "stream",
     "text": [
      "[19,   100] \t Loss: 5479.198 \t T: 0.083\n",
      "[19,   200] \t Loss: 5430.403 \t T: 0.083\n",
      "[19,   300] \t Loss: 5438.250 \t T: 0.083\n",
      "[19,   400] \t Loss: 5473.463 \t T: 0.083\n"
     ]
    },
    {
     "name": "stderr",
     "output_type": "stream",
     "text": [
      "  6%|██▋                                       | 19/300 [01:00<14:52,  3.18s/it]"
     ]
    },
    {
     "name": "stdout",
     "output_type": "stream",
     "text": [
      "[20,   100] \t Loss: 5444.027 \t T: 0.083\n",
      "[20,   200] \t Loss: 5428.693 \t T: 0.083\n",
      "[20,   300] \t Loss: 5435.105 \t T: 0.083\n",
      "[20,   400] \t Loss: 5454.475 \t T: 0.083\n"
     ]
    },
    {
     "name": "stderr",
     "output_type": "stream",
     "text": [
      "  7%|██▊                                       | 20/300 [01:03<14:47,  3.17s/it]"
     ]
    },
    {
     "name": "stdout",
     "output_type": "stream",
     "text": [
      "[21,   100] \t Loss: 5433.177 \t T: 0.082\n",
      "[21,   200] \t Loss: 5422.124 \t T: 0.082\n",
      "[21,   300] \t Loss: 5418.289 \t T: 0.082\n",
      "[21,   400] \t Loss: 5388.472 \t T: 0.082\n"
     ]
    },
    {
     "name": "stderr",
     "output_type": "stream",
     "text": [
      "  7%|██▉                                       | 21/300 [01:06<14:46,  3.18s/it]"
     ]
    },
    {
     "name": "stdout",
     "output_type": "stream",
     "text": [
      "[22,   100] \t Loss: 5367.422 \t T: 0.081\n",
      "[22,   200] \t Loss: 5406.600 \t T: 0.081\n",
      "[22,   300] \t Loss: 5374.102 \t T: 0.081\n",
      "[22,   400] \t Loss: 5387.682 \t T: 0.081\n"
     ]
    },
    {
     "name": "stderr",
     "output_type": "stream",
     "text": [
      "  7%|███                                       | 22/300 [01:09<14:43,  3.18s/it]"
     ]
    },
    {
     "name": "stdout",
     "output_type": "stream",
     "text": [
      "[23,   100] \t Loss: 5408.430 \t T: 0.080\n",
      "[23,   200] \t Loss: 5387.461 \t T: 0.080\n",
      "[23,   300] \t Loss: 5381.810 \t T: 0.080\n",
      "[23,   400] \t Loss: 5397.231 \t T: 0.080\n"
     ]
    },
    {
     "name": "stderr",
     "output_type": "stream",
     "text": [
      "  8%|███▏                                      | 23/300 [01:13<14:41,  3.18s/it]"
     ]
    },
    {
     "name": "stdout",
     "output_type": "stream",
     "text": [
      "[24,   100] \t Loss: 5361.838 \t T: 0.079\n",
      "[24,   200] \t Loss: 5339.089 \t T: 0.079\n",
      "[24,   300] \t Loss: 5355.201 \t T: 0.079\n",
      "[24,   400] \t Loss: 5325.770 \t T: 0.079\n"
     ]
    },
    {
     "name": "stderr",
     "output_type": "stream",
     "text": [
      "  8%|███▎                                      | 24/300 [01:16<14:40,  3.19s/it]"
     ]
    },
    {
     "name": "stdout",
     "output_type": "stream",
     "text": [
      "[25,   100] \t Loss: 5320.337 \t T: 0.079\n",
      "[25,   200] \t Loss: 5336.449 \t T: 0.079\n",
      "[25,   300] \t Loss: 5320.399 \t T: 0.079\n",
      "[25,   400] \t Loss: 5311.715 \t T: 0.079\n"
     ]
    },
    {
     "name": "stderr",
     "output_type": "stream",
     "text": [
      "  8%|███▌                                      | 25/300 [01:19<14:37,  3.19s/it]"
     ]
    },
    {
     "name": "stdout",
     "output_type": "stream",
     "text": [
      "[26,   100] \t Loss: 5298.857 \t T: 0.078\n",
      "[26,   200] \t Loss: 5339.704 \t T: 0.078\n",
      "[26,   300] \t Loss: 5302.826 \t T: 0.078\n",
      "[26,   400] \t Loss: 5289.808 \t T: 0.078\n"
     ]
    },
    {
     "name": "stderr",
     "output_type": "stream",
     "text": [
      "  9%|███▋                                      | 26/300 [01:22<14:33,  3.19s/it]"
     ]
    },
    {
     "name": "stdout",
     "output_type": "stream",
     "text": [
      "[27,   100] \t Loss: 5292.562 \t T: 0.077\n",
      "[27,   200] \t Loss: 5295.574 \t T: 0.077\n",
      "[27,   300] \t Loss: 5273.983 \t T: 0.077\n",
      "[27,   400] \t Loss: 5271.863 \t T: 0.077\n"
     ]
    },
    {
     "name": "stderr",
     "output_type": "stream",
     "text": [
      "  9%|███▊                                      | 27/300 [01:25<14:29,  3.18s/it]"
     ]
    },
    {
     "name": "stdout",
     "output_type": "stream",
     "text": [
      "[28,   100] \t Loss: 5254.109 \t T: 0.076\n",
      "[28,   200] \t Loss: 5250.650 \t T: 0.076\n",
      "[28,   300] \t Loss: 5245.112 \t T: 0.076\n",
      "[28,   400] \t Loss: 5286.496 \t T: 0.076\n"
     ]
    },
    {
     "name": "stderr",
     "output_type": "stream",
     "text": [
      "  9%|███▉                                      | 28/300 [01:28<14:24,  3.18s/it]"
     ]
    },
    {
     "name": "stdout",
     "output_type": "stream",
     "text": [
      "[29,   100] \t Loss: 5253.266 \t T: 0.075\n",
      "[29,   200] \t Loss: 5252.899 \t T: 0.075\n",
      "[29,   300] \t Loss: 5220.924 \t T: 0.075\n",
      "[29,   400] \t Loss: 5235.893 \t T: 0.075\n"
     ]
    },
    {
     "name": "stderr",
     "output_type": "stream",
     "text": [
      " 10%|████                                      | 29/300 [01:32<14:22,  3.18s/it]"
     ]
    },
    {
     "name": "stdout",
     "output_type": "stream",
     "text": [
      "[30,   100] \t Loss: 5252.683 \t T: 0.075\n",
      "[30,   200] \t Loss: 5242.885 \t T: 0.075\n",
      "[30,   300] \t Loss: 5240.184 \t T: 0.075\n",
      "[30,   400] \t Loss: 5218.417 \t T: 0.075\n"
     ]
    },
    {
     "name": "stderr",
     "output_type": "stream",
     "text": [
      " 10%|████▏                                     | 30/300 [01:35<14:20,  3.19s/it]"
     ]
    },
    {
     "name": "stdout",
     "output_type": "stream",
     "text": [
      "[31,   100] \t Loss: 5210.155 \t T: 0.074\n",
      "[31,   200] \t Loss: 5188.205 \t T: 0.074\n",
      "[31,   300] \t Loss: 5194.229 \t T: 0.074\n",
      "[31,   400] \t Loss: 5233.128 \t T: 0.074\n"
     ]
    },
    {
     "name": "stderr",
     "output_type": "stream",
     "text": [
      " 10%|████▎                                     | 31/300 [01:38<14:15,  3.18s/it]"
     ]
    },
    {
     "name": "stdout",
     "output_type": "stream",
     "text": [
      "[32,   100] \t Loss: 5194.735 \t T: 0.073\n",
      "[32,   200] \t Loss: 5231.958 \t T: 0.073\n",
      "[32,   300] \t Loss: 5190.183 \t T: 0.073\n",
      "[32,   400] \t Loss: 5200.495 \t T: 0.073\n"
     ]
    },
    {
     "name": "stderr",
     "output_type": "stream",
     "text": [
      " 11%|████▍                                     | 32/300 [01:41<14:12,  3.18s/it]"
     ]
    },
    {
     "name": "stdout",
     "output_type": "stream",
     "text": [
      "[33,   100] \t Loss: 5179.659 \t T: 0.072\n",
      "[33,   200] \t Loss: 5162.886 \t T: 0.072\n",
      "[33,   300] \t Loss: 5194.982 \t T: 0.072\n",
      "[33,   400] \t Loss: 5162.334 \t T: 0.072\n"
     ]
    },
    {
     "name": "stderr",
     "output_type": "stream",
     "text": [
      " 11%|████▌                                     | 33/300 [01:44<14:10,  3.18s/it]"
     ]
    },
    {
     "name": "stdout",
     "output_type": "stream",
     "text": [
      "[34,   100] \t Loss: 5196.478 \t T: 0.072\n",
      "[34,   200] \t Loss: 5163.669 \t T: 0.072\n",
      "[34,   300] \t Loss: 5149.839 \t T: 0.072\n",
      "[34,   400] \t Loss: 5165.593 \t T: 0.072\n"
     ]
    },
    {
     "name": "stderr",
     "output_type": "stream",
     "text": [
      " 11%|████▊                                     | 34/300 [01:48<14:07,  3.19s/it]"
     ]
    },
    {
     "name": "stdout",
     "output_type": "stream",
     "text": [
      "[35,   100] \t Loss: 5164.530 \t T: 0.071\n",
      "[35,   200] \t Loss: 5127.052 \t T: 0.071\n",
      "[35,   300] \t Loss: 5144.479 \t T: 0.071\n",
      "[35,   400] \t Loss: 5136.102 \t T: 0.071\n"
     ]
    },
    {
     "name": "stderr",
     "output_type": "stream",
     "text": [
      " 12%|████▉                                     | 35/300 [01:51<14:01,  3.18s/it]"
     ]
    },
    {
     "name": "stdout",
     "output_type": "stream",
     "text": [
      "[36,   100] \t Loss: 5134.624 \t T: 0.070\n",
      "[36,   200] \t Loss: 5112.535 \t T: 0.070\n",
      "[36,   300] \t Loss: 5135.030 \t T: 0.070\n",
      "[36,   400] \t Loss: 5150.043 \t T: 0.070\n"
     ]
    },
    {
     "name": "stderr",
     "output_type": "stream",
     "text": [
      " 12%|█████                                     | 36/300 [01:54<13:58,  3.17s/it]"
     ]
    },
    {
     "name": "stdout",
     "output_type": "stream",
     "text": [
      "[37,   100] \t Loss: 5140.535 \t T: 0.070\n",
      "[37,   200] \t Loss: 5122.214 \t T: 0.070\n",
      "[37,   300] \t Loss: 5110.329 \t T: 0.070\n",
      "[37,   400] \t Loss: 5104.453 \t T: 0.070\n"
     ]
    },
    {
     "name": "stderr",
     "output_type": "stream",
     "text": [
      " 12%|█████▏                                    | 37/300 [01:57<13:56,  3.18s/it]"
     ]
    },
    {
     "name": "stdout",
     "output_type": "stream",
     "text": [
      "[38,   100] \t Loss: 5111.796 \t T: 0.069\n",
      "[38,   200] \t Loss: 5114.223 \t T: 0.069\n",
      "[38,   300] \t Loss: 5085.193 \t T: 0.069\n",
      "[38,   400] \t Loss: 5077.180 \t T: 0.069\n"
     ]
    },
    {
     "name": "stderr",
     "output_type": "stream",
     "text": [
      " 13%|█████▎                                    | 38/300 [02:00<13:51,  3.17s/it]"
     ]
    },
    {
     "name": "stdout",
     "output_type": "stream",
     "text": [
      "[39,   100] \t Loss: 5048.119 \t T: 0.068\n",
      "[39,   200] \t Loss: 5108.979 \t T: 0.068\n",
      "[39,   300] \t Loss: 5075.312 \t T: 0.068\n",
      "[39,   400] \t Loss: 5071.302 \t T: 0.068\n"
     ]
    },
    {
     "name": "stderr",
     "output_type": "stream",
     "text": [
      " 13%|█████▍                                    | 39/300 [02:03<13:49,  3.18s/it]"
     ]
    },
    {
     "name": "stdout",
     "output_type": "stream",
     "text": [
      "[40,   100] \t Loss: 5050.989 \t T: 0.068\n",
      "[40,   200] \t Loss: 5081.508 \t T: 0.068\n",
      "[40,   300] \t Loss: 5069.920 \t T: 0.068\n",
      "[40,   400] \t Loss: 5041.647 \t T: 0.068\n"
     ]
    },
    {
     "name": "stderr",
     "output_type": "stream",
     "text": [
      " 13%|█████▌                                    | 40/300 [02:07<13:45,  3.18s/it]"
     ]
    },
    {
     "name": "stdout",
     "output_type": "stream",
     "text": [
      "[41,   100] \t Loss: 5039.793 \t T: 0.067\n",
      "[41,   200] \t Loss: 5063.791 \t T: 0.067\n",
      "[41,   300] \t Loss: 5028.145 \t T: 0.067\n",
      "[41,   400] \t Loss: 5020.589 \t T: 0.067\n"
     ]
    },
    {
     "name": "stderr",
     "output_type": "stream",
     "text": [
      " 14%|█████▋                                    | 41/300 [02:10<13:43,  3.18s/it]"
     ]
    },
    {
     "name": "stdout",
     "output_type": "stream",
     "text": [
      "[42,   100] \t Loss: 5018.144 \t T: 0.066\n",
      "[42,   200] \t Loss: 5060.118 \t T: 0.066\n",
      "[42,   300] \t Loss: 5017.559 \t T: 0.066\n",
      "[42,   400] \t Loss: 5012.658 \t T: 0.066\n"
     ]
    },
    {
     "name": "stderr",
     "output_type": "stream",
     "text": [
      " 14%|█████▉                                    | 42/300 [02:13<13:41,  3.18s/it]"
     ]
    },
    {
     "name": "stdout",
     "output_type": "stream",
     "text": [
      "[43,   100] \t Loss: 5017.994 \t T: 0.066\n",
      "[43,   200] \t Loss: 5017.214 \t T: 0.066\n",
      "[43,   300] \t Loss: 5001.197 \t T: 0.066\n",
      "[43,   400] \t Loss: 4972.214 \t T: 0.066\n"
     ]
    },
    {
     "name": "stderr",
     "output_type": "stream",
     "text": [
      " 14%|██████                                    | 43/300 [02:16<13:37,  3.18s/it]"
     ]
    },
    {
     "name": "stdout",
     "output_type": "stream",
     "text": [
      "[44,   100] \t Loss: 4960.742 \t T: 0.065\n",
      "[44,   200] \t Loss: 4990.767 \t T: 0.065\n",
      "[44,   300] \t Loss: 4995.064 \t T: 0.065\n",
      "[44,   400] \t Loss: 4987.541 \t T: 0.065\n"
     ]
    },
    {
     "name": "stderr",
     "output_type": "stream",
     "text": [
      " 15%|██████▏                                   | 44/300 [02:19<13:34,  3.18s/it]"
     ]
    },
    {
     "name": "stdout",
     "output_type": "stream",
     "text": [
      "[45,   100] \t Loss: 4989.789 \t T: 0.064\n",
      "[45,   200] \t Loss: 5000.774 \t T: 0.064\n",
      "[45,   300] \t Loss: 4974.712 \t T: 0.064\n",
      "[45,   400] \t Loss: 4944.871 \t T: 0.064\n"
     ]
    },
    {
     "name": "stderr",
     "output_type": "stream",
     "text": [
      " 15%|██████▎                                   | 45/300 [02:23<13:32,  3.19s/it]"
     ]
    },
    {
     "name": "stdout",
     "output_type": "stream",
     "text": [
      "[46,   100] \t Loss: 4914.987 \t T: 0.064\n",
      "[46,   200] \t Loss: 4990.164 \t T: 0.064\n",
      "[46,   300] \t Loss: 4966.543 \t T: 0.064\n",
      "[46,   400] \t Loss: 4971.813 \t T: 0.064\n"
     ]
    },
    {
     "name": "stderr",
     "output_type": "stream",
     "text": [
      " 15%|██████▍                                   | 46/300 [02:26<13:28,  3.18s/it]"
     ]
    },
    {
     "name": "stdout",
     "output_type": "stream",
     "text": [
      "[47,   100] \t Loss: 4949.264 \t T: 0.063\n",
      "[47,   200] \t Loss: 4924.731 \t T: 0.063\n",
      "[47,   300] \t Loss: 4918.331 \t T: 0.063\n",
      "[47,   400] \t Loss: 4963.086 \t T: 0.063\n"
     ]
    },
    {
     "name": "stderr",
     "output_type": "stream",
     "text": [
      " 16%|██████▌                                   | 47/300 [02:29<13:26,  3.19s/it]"
     ]
    },
    {
     "name": "stdout",
     "output_type": "stream",
     "text": [
      "[48,   100] \t Loss: 4926.187 \t T: 0.062\n",
      "[48,   200] \t Loss: 4944.646 \t T: 0.062\n",
      "[48,   300] \t Loss: 4923.235 \t T: 0.062\n",
      "[48,   400] \t Loss: 4897.946 \t T: 0.062\n"
     ]
    },
    {
     "name": "stderr",
     "output_type": "stream",
     "text": [
      " 16%|██████▋                                   | 48/300 [02:32<13:23,  3.19s/it]"
     ]
    },
    {
     "name": "stdout",
     "output_type": "stream",
     "text": [
      "[49,   100] \t Loss: 4931.756 \t T: 0.062\n",
      "[49,   200] \t Loss: 4890.721 \t T: 0.062\n",
      "[49,   300] \t Loss: 4913.768 \t T: 0.062\n",
      "[49,   400] \t Loss: 4908.943 \t T: 0.062\n"
     ]
    },
    {
     "name": "stderr",
     "output_type": "stream",
     "text": [
      " 16%|██████▊                                   | 49/300 [02:35<13:18,  3.18s/it]"
     ]
    },
    {
     "name": "stdout",
     "output_type": "stream",
     "text": [
      "[50,   100] \t Loss: 4915.550 \t T: 0.061\n",
      "[50,   200] \t Loss: 4876.732 \t T: 0.061\n",
      "[50,   300] \t Loss: 4867.246 \t T: 0.061\n",
      "[50,   400] \t Loss: 4918.338 \t T: 0.061\n"
     ]
    },
    {
     "name": "stderr",
     "output_type": "stream",
     "text": [
      " 17%|███████                                   | 50/300 [02:38<13:13,  3.17s/it]"
     ]
    },
    {
     "name": "stdout",
     "output_type": "stream",
     "text": [
      "[51,   100] \t Loss: 4878.317 \t T: 0.061\n",
      "[51,   200] \t Loss: 4875.535 \t T: 0.061\n",
      "[51,   300] \t Loss: 4887.178 \t T: 0.061\n",
      "[51,   400] \t Loss: 4870.203 \t T: 0.061\n"
     ]
    },
    {
     "name": "stderr",
     "output_type": "stream",
     "text": [
      " 17%|███████▏                                  | 51/300 [02:42<13:10,  3.17s/it]"
     ]
    },
    {
     "name": "stdout",
     "output_type": "stream",
     "text": [
      "[52,   100] \t Loss: 4839.295 \t T: 0.060\n",
      "[52,   200] \t Loss: 4836.178 \t T: 0.060\n",
      "[52,   300] \t Loss: 4888.515 \t T: 0.060\n",
      "[52,   400] \t Loss: 4889.439 \t T: 0.060\n"
     ]
    },
    {
     "name": "stderr",
     "output_type": "stream",
     "text": [
      " 17%|███████▎                                  | 52/300 [02:45<13:08,  3.18s/it]"
     ]
    },
    {
     "name": "stdout",
     "output_type": "stream",
     "text": [
      "[53,   100] \t Loss: 4849.683 \t T: 0.059\n",
      "[53,   200] \t Loss: 4882.109 \t T: 0.059\n",
      "[53,   300] \t Loss: 4822.144 \t T: 0.059\n",
      "[53,   400] \t Loss: 4855.779 \t T: 0.059\n"
     ]
    },
    {
     "name": "stderr",
     "output_type": "stream",
     "text": [
      " 18%|███████▍                                  | 53/300 [02:48<13:05,  3.18s/it]"
     ]
    },
    {
     "name": "stdout",
     "output_type": "stream",
     "text": [
      "[54,   100] \t Loss: 4861.873 \t T: 0.059\n",
      "[54,   200] \t Loss: 4835.018 \t T: 0.059\n",
      "[54,   300] \t Loss: 4862.300 \t T: 0.059\n",
      "[54,   400] \t Loss: 4821.176 \t T: 0.059\n"
     ]
    },
    {
     "name": "stderr",
     "output_type": "stream",
     "text": [
      " 18%|███████▌                                  | 54/300 [02:51<13:02,  3.18s/it]"
     ]
    },
    {
     "name": "stdout",
     "output_type": "stream",
     "text": [
      "[55,   100] \t Loss: 4824.241 \t T: 0.058\n",
      "[55,   200] \t Loss: 4833.775 \t T: 0.058\n",
      "[55,   300] \t Loss: 4818.276 \t T: 0.058\n",
      "[55,   400] \t Loss: 4820.290 \t T: 0.058\n"
     ]
    },
    {
     "name": "stderr",
     "output_type": "stream",
     "text": [
      " 18%|███████▋                                  | 55/300 [02:54<13:00,  3.18s/it]"
     ]
    },
    {
     "name": "stdout",
     "output_type": "stream",
     "text": [
      "[56,   100] \t Loss: 4849.147 \t T: 0.058\n",
      "[56,   200] \t Loss: 4805.587 \t T: 0.058\n",
      "[56,   300] \t Loss: 4812.718 \t T: 0.058\n",
      "[56,   400] \t Loss: 4817.144 \t T: 0.058\n"
     ]
    },
    {
     "name": "stderr",
     "output_type": "stream",
     "text": [
      " 19%|███████▊                                  | 56/300 [02:58<12:57,  3.19s/it]"
     ]
    },
    {
     "name": "stdout",
     "output_type": "stream",
     "text": [
      "[57,   100] \t Loss: 4782.334 \t T: 0.057\n",
      "[57,   200] \t Loss: 4828.837 \t T: 0.057\n",
      "[57,   300] \t Loss: 4805.727 \t T: 0.057\n",
      "[57,   400] \t Loss: 4815.983 \t T: 0.057\n"
     ]
    },
    {
     "name": "stderr",
     "output_type": "stream",
     "text": [
      " 19%|███████▉                                  | 57/300 [03:01<12:53,  3.18s/it]"
     ]
    },
    {
     "name": "stdout",
     "output_type": "stream",
     "text": [
      "[58,   100] \t Loss: 4811.530 \t T: 0.056\n",
      "[58,   200] \t Loss: 4793.092 \t T: 0.056\n",
      "[58,   300] \t Loss: 4771.577 \t T: 0.056\n",
      "[58,   400] \t Loss: 4764.022 \t T: 0.056\n"
     ]
    },
    {
     "name": "stderr",
     "output_type": "stream",
     "text": [
      " 19%|████████                                  | 58/300 [03:04<13:00,  3.23s/it]"
     ]
    },
    {
     "name": "stdout",
     "output_type": "stream",
     "text": [
      "[59,   100] \t Loss: 4834.484 \t T: 0.056\n",
      "[59,   200] \t Loss: 4777.772 \t T: 0.056\n",
      "[59,   300] \t Loss: 4771.327 \t T: 0.056\n",
      "[59,   400] \t Loss: 4755.929 \t T: 0.056\n"
     ]
    },
    {
     "name": "stderr",
     "output_type": "stream",
     "text": [
      " 20%|████████▎                                 | 59/300 [03:07<13:13,  3.29s/it]"
     ]
    },
    {
     "name": "stdout",
     "output_type": "stream",
     "text": [
      "[60,   100] \t Loss: 4772.946 \t T: 0.055\n",
      "[60,   200] \t Loss: 4761.089 \t T: 0.055\n",
      "[60,   300] \t Loss: 4753.931 \t T: 0.055\n",
      "[60,   400] \t Loss: 4758.038 \t T: 0.055\n"
     ]
    },
    {
     "name": "stderr",
     "output_type": "stream",
     "text": [
      " 20%|████████▍                                 | 60/300 [03:11<13:09,  3.29s/it]"
     ]
    },
    {
     "name": "stdout",
     "output_type": "stream",
     "text": [
      "[61,   100] \t Loss: 4735.414 \t T: 0.055\n",
      "[61,   200] \t Loss: 4715.802 \t T: 0.055\n",
      "[61,   300] \t Loss: 4764.587 \t T: 0.055\n",
      "[61,   400] \t Loss: 4757.590 \t T: 0.055\n"
     ]
    },
    {
     "name": "stderr",
     "output_type": "stream",
     "text": [
      " 20%|████████▌                                 | 61/300 [03:14<12:59,  3.26s/it]"
     ]
    },
    {
     "name": "stdout",
     "output_type": "stream",
     "text": [
      "[62,   100] \t Loss: 4725.007 \t T: 0.054\n",
      "[62,   200] \t Loss: 4743.148 \t T: 0.054\n",
      "[62,   300] \t Loss: 4730.964 \t T: 0.054\n",
      "[62,   400] \t Loss: 4726.566 \t T: 0.054\n"
     ]
    },
    {
     "name": "stderr",
     "output_type": "stream",
     "text": [
      " 21%|████████▋                                 | 62/300 [03:17<12:51,  3.24s/it]"
     ]
    },
    {
     "name": "stdout",
     "output_type": "stream",
     "text": [
      "[63,   100] \t Loss: 4723.147 \t T: 0.054\n",
      "[63,   200] \t Loss: 4729.112 \t T: 0.054\n",
      "[63,   300] \t Loss: 4741.265 \t T: 0.054\n",
      "[63,   400] \t Loss: 4694.424 \t T: 0.054\n"
     ]
    },
    {
     "name": "stderr",
     "output_type": "stream",
     "text": [
      " 21%|████████▊                                 | 63/300 [03:20<12:44,  3.23s/it]"
     ]
    },
    {
     "name": "stdout",
     "output_type": "stream",
     "text": [
      "[64,   100] \t Loss: 4687.728 \t T: 0.053\n",
      "[64,   200] \t Loss: 4711.971 \t T: 0.053\n",
      "[64,   300] \t Loss: 4739.977 \t T: 0.053\n",
      "[64,   400] \t Loss: 4693.202 \t T: 0.053\n"
     ]
    },
    {
     "name": "stderr",
     "output_type": "stream",
     "text": [
      " 21%|████████▉                                 | 64/300 [03:24<12:38,  3.22s/it]"
     ]
    },
    {
     "name": "stdout",
     "output_type": "stream",
     "text": [
      "[65,   100] \t Loss: 4690.540 \t T: 0.053\n",
      "[65,   200] \t Loss: 4679.525 \t T: 0.053\n",
      "[65,   300] \t Loss: 4703.203 \t T: 0.053\n",
      "[65,   400] \t Loss: 4695.308 \t T: 0.053\n"
     ]
    },
    {
     "name": "stderr",
     "output_type": "stream",
     "text": [
      " 22%|█████████                                 | 65/300 [03:27<12:34,  3.21s/it]"
     ]
    },
    {
     "name": "stdout",
     "output_type": "stream",
     "text": [
      "[66,   100] \t Loss: 4696.705 \t T: 0.052\n",
      "[66,   200] \t Loss: 4680.795 \t T: 0.052\n",
      "[66,   300] \t Loss: 4682.150 \t T: 0.052\n",
      "[66,   400] \t Loss: 4670.473 \t T: 0.052\n"
     ]
    },
    {
     "name": "stderr",
     "output_type": "stream",
     "text": [
      " 22%|█████████▏                                | 66/300 [03:30<12:30,  3.21s/it]"
     ]
    },
    {
     "name": "stdout",
     "output_type": "stream",
     "text": [
      "[67,   100] \t Loss: 4690.463 \t T: 0.052\n",
      "[67,   200] \t Loss: 4664.094 \t T: 0.052\n",
      "[67,   300] \t Loss: 4679.587 \t T: 0.052\n",
      "[67,   400] \t Loss: 4707.484 \t T: 0.052\n"
     ]
    },
    {
     "name": "stderr",
     "output_type": "stream",
     "text": [
      " 22%|█████████▍                                | 67/300 [03:33<12:27,  3.21s/it]"
     ]
    },
    {
     "name": "stdout",
     "output_type": "stream",
     "text": [
      "[68,   100] \t Loss: 4668.198 \t T: 0.051\n",
      "[68,   200] \t Loss: 4700.455 \t T: 0.051\n",
      "[68,   300] \t Loss: 4667.021 \t T: 0.051\n",
      "[68,   400] \t Loss: 4642.943 \t T: 0.051\n"
     ]
    },
    {
     "name": "stderr",
     "output_type": "stream",
     "text": [
      " 23%|█████████▌                                | 68/300 [03:36<12:20,  3.19s/it]"
     ]
    },
    {
     "name": "stdout",
     "output_type": "stream",
     "text": [
      "[69,   100] \t Loss: 4646.089 \t T: 0.050\n",
      "[69,   200] \t Loss: 4621.196 \t T: 0.050\n",
      "[69,   300] \t Loss: 4667.504 \t T: 0.050\n",
      "[69,   400] \t Loss: 4651.127 \t T: 0.050\n"
     ]
    },
    {
     "name": "stderr",
     "output_type": "stream",
     "text": [
      " 23%|█████████▋                                | 69/300 [03:39<12:17,  3.19s/it]"
     ]
    },
    {
     "name": "stdout",
     "output_type": "stream",
     "text": [
      "[70,   100] \t Loss: 4663.501 \t T: 0.050\n",
      "[70,   200] \t Loss: 4645.726 \t T: 0.050\n",
      "[70,   300] \t Loss: 4635.239 \t T: 0.050\n",
      "[70,   400] \t Loss: 4627.639 \t T: 0.050\n"
     ]
    },
    {
     "name": "stderr",
     "output_type": "stream",
     "text": [
      " 23%|█████████▊                                | 70/300 [03:43<12:14,  3.19s/it]"
     ]
    },
    {
     "name": "stdout",
     "output_type": "stream",
     "text": [
      "[71,   100] \t Loss: 4602.861 \t T: 0.049\n",
      "[71,   200] \t Loss: 4637.847 \t T: 0.049\n",
      "[71,   300] \t Loss: 4666.451 \t T: 0.049\n",
      "[71,   400] \t Loss: 4595.642 \t T: 0.049\n"
     ]
    },
    {
     "name": "stderr",
     "output_type": "stream",
     "text": [
      " 24%|█████████▉                                | 71/300 [03:46<12:10,  3.19s/it]"
     ]
    },
    {
     "name": "stdout",
     "output_type": "stream",
     "text": [
      "[72,   100] \t Loss: 4577.952 \t T: 0.049\n",
      "[72,   200] \t Loss: 4633.578 \t T: 0.049\n",
      "[72,   300] \t Loss: 4631.504 \t T: 0.049\n",
      "[72,   400] \t Loss: 4626.376 \t T: 0.049\n"
     ]
    },
    {
     "name": "stderr",
     "output_type": "stream",
     "text": [
      " 24%|██████████                                | 72/300 [03:49<12:07,  3.19s/it]"
     ]
    },
    {
     "name": "stdout",
     "output_type": "stream",
     "text": [
      "[73,   100] \t Loss: 4588.713 \t T: 0.048\n",
      "[73,   200] \t Loss: 4594.340 \t T: 0.048\n",
      "[73,   300] \t Loss: 4631.831 \t T: 0.048\n",
      "[73,   400] \t Loss: 4618.525 \t T: 0.048\n"
     ]
    },
    {
     "name": "stderr",
     "output_type": "stream",
     "text": [
      " 24%|██████████▏                               | 73/300 [03:52<12:05,  3.20s/it]"
     ]
    },
    {
     "name": "stdout",
     "output_type": "stream",
     "text": [
      "[74,   100] \t Loss: 4595.457 \t T: 0.048\n",
      "[74,   200] \t Loss: 4617.181 \t T: 0.048\n",
      "[74,   300] \t Loss: 4606.362 \t T: 0.048\n",
      "[74,   400] \t Loss: 4592.186 \t T: 0.048\n"
     ]
    },
    {
     "name": "stderr",
     "output_type": "stream",
     "text": [
      " 25%|██████████▎                               | 74/300 [03:55<12:01,  3.19s/it]"
     ]
    },
    {
     "name": "stdout",
     "output_type": "stream",
     "text": [
      "[75,   100] \t Loss: 4590.625 \t T: 0.048\n",
      "[75,   200] \t Loss: 4588.099 \t T: 0.048\n",
      "[75,   300] \t Loss: 4627.405 \t T: 0.048\n",
      "[75,   400] \t Loss: 4566.472 \t T: 0.048\n"
     ]
    },
    {
     "name": "stderr",
     "output_type": "stream",
     "text": [
      " 25%|██████████▌                               | 75/300 [03:59<11:58,  3.19s/it]"
     ]
    },
    {
     "name": "stdout",
     "output_type": "stream",
     "text": [
      "[76,   100] \t Loss: 4580.544 \t T: 0.047\n",
      "[76,   200] \t Loss: 4563.986 \t T: 0.047\n",
      "[76,   300] \t Loss: 4594.409 \t T: 0.047\n",
      "[76,   400] \t Loss: 4552.264 \t T: 0.047\n"
     ]
    },
    {
     "name": "stderr",
     "output_type": "stream",
     "text": [
      " 25%|██████████▋                               | 76/300 [04:02<11:52,  3.18s/it]"
     ]
    },
    {
     "name": "stdout",
     "output_type": "stream",
     "text": [
      "[77,   100] \t Loss: 4575.177 \t T: 0.047\n",
      "[77,   200] \t Loss: 4578.911 \t T: 0.047\n",
      "[77,   300] \t Loss: 4573.998 \t T: 0.047\n",
      "[77,   400] \t Loss: 4562.730 \t T: 0.047\n"
     ]
    },
    {
     "name": "stderr",
     "output_type": "stream",
     "text": [
      " 26%|██████████▊                               | 77/300 [04:05<11:50,  3.19s/it]"
     ]
    },
    {
     "name": "stdout",
     "output_type": "stream",
     "text": [
      "[78,   100] \t Loss: 4535.559 \t T: 0.046\n",
      "[78,   200] \t Loss: 4574.945 \t T: 0.046\n",
      "[78,   300] \t Loss: 4565.549 \t T: 0.046\n",
      "[78,   400] \t Loss: 4558.200 \t T: 0.046\n"
     ]
    },
    {
     "name": "stderr",
     "output_type": "stream",
     "text": [
      " 26%|██████████▉                               | 78/300 [04:08<11:48,  3.19s/it]"
     ]
    },
    {
     "name": "stdout",
     "output_type": "stream",
     "text": [
      "[79,   100] \t Loss: 4543.811 \t T: 0.046\n",
      "[79,   200] \t Loss: 4519.370 \t T: 0.046\n",
      "[79,   300] \t Loss: 4564.812 \t T: 0.046\n",
      "[79,   400] \t Loss: 4567.586 \t T: 0.046\n"
     ]
    },
    {
     "name": "stderr",
     "output_type": "stream",
     "text": [
      " 26%|███████████                               | 79/300 [04:11<11:44,  3.19s/it]"
     ]
    },
    {
     "name": "stdout",
     "output_type": "stream",
     "text": [
      "[80,   100] \t Loss: 4520.406 \t T: 0.045\n",
      "[80,   200] \t Loss: 4557.586 \t T: 0.045\n",
      "[80,   300] \t Loss: 4520.995 \t T: 0.045\n",
      "[80,   400] \t Loss: 4525.101 \t T: 0.045\n"
     ]
    },
    {
     "name": "stderr",
     "output_type": "stream",
     "text": [
      " 27%|███████████▏                              | 80/300 [04:15<11:39,  3.18s/it]"
     ]
    },
    {
     "name": "stdout",
     "output_type": "stream",
     "text": [
      "[81,   100] \t Loss: 4545.473 \t T: 0.045\n",
      "[81,   200] \t Loss: 4493.554 \t T: 0.045\n",
      "[81,   300] \t Loss: 4526.428 \t T: 0.045\n",
      "[81,   400] \t Loss: 4539.480 \t T: 0.045\n"
     ]
    },
    {
     "name": "stderr",
     "output_type": "stream",
     "text": [
      " 27%|███████████▎                              | 81/300 [04:18<11:36,  3.18s/it]"
     ]
    },
    {
     "name": "stdout",
     "output_type": "stream",
     "text": [
      "[82,   100] \t Loss: 4504.392 \t T: 0.044\n",
      "[82,   200] \t Loss: 4474.281 \t T: 0.044\n",
      "[82,   300] \t Loss: 4518.839 \t T: 0.044\n",
      "[82,   400] \t Loss: 4567.521 \t T: 0.044\n"
     ]
    },
    {
     "name": "stderr",
     "output_type": "stream",
     "text": [
      " 27%|███████████▍                              | 82/300 [04:21<11:31,  3.17s/it]"
     ]
    },
    {
     "name": "stdout",
     "output_type": "stream",
     "text": [
      "[83,   100] \t Loss: 4510.785 \t T: 0.044\n",
      "[83,   200] \t Loss: 4544.953 \t T: 0.044\n",
      "[83,   300] \t Loss: 4493.864 \t T: 0.044\n",
      "[83,   400] \t Loss: 4496.111 \t T: 0.044\n"
     ]
    },
    {
     "name": "stderr",
     "output_type": "stream",
     "text": [
      " 28%|███████████▌                              | 83/300 [04:24<11:28,  3.17s/it]"
     ]
    },
    {
     "name": "stdout",
     "output_type": "stream",
     "text": [
      "[84,   100] \t Loss: 4517.285 \t T: 0.043\n",
      "[84,   200] \t Loss: 4504.108 \t T: 0.043\n",
      "[84,   300] \t Loss: 4488.821 \t T: 0.043\n",
      "[84,   400] \t Loss: 4485.073 \t T: 0.043\n"
     ]
    },
    {
     "name": "stderr",
     "output_type": "stream",
     "text": [
      " 28%|███████████▊                              | 84/300 [04:27<11:26,  3.18s/it]"
     ]
    },
    {
     "name": "stdout",
     "output_type": "stream",
     "text": [
      "[85,   100] \t Loss: 4487.800 \t T: 0.043\n",
      "[85,   200] \t Loss: 4486.474 \t T: 0.043\n",
      "[85,   300] \t Loss: 4489.625 \t T: 0.043\n",
      "[85,   400] \t Loss: 4508.680 \t T: 0.043\n"
     ]
    },
    {
     "name": "stderr",
     "output_type": "stream",
     "text": [
      " 28%|███████████▉                              | 85/300 [04:30<11:23,  3.18s/it]"
     ]
    },
    {
     "name": "stdout",
     "output_type": "stream",
     "text": [
      "[86,   100] \t Loss: 4475.811 \t T: 0.043\n",
      "[86,   200] \t Loss: 4498.606 \t T: 0.043\n",
      "[86,   300] \t Loss: 4482.331 \t T: 0.043\n",
      "[86,   400] \t Loss: 4472.686 \t T: 0.043\n"
     ]
    },
    {
     "name": "stderr",
     "output_type": "stream",
     "text": [
      " 29%|████████████                              | 86/300 [04:34<11:30,  3.23s/it]"
     ]
    },
    {
     "name": "stdout",
     "output_type": "stream",
     "text": [
      "[87,   100] \t Loss: 4470.934 \t T: 0.042\n",
      "[87,   200] \t Loss: 4492.278 \t T: 0.042\n",
      "[87,   300] \t Loss: 4483.555 \t T: 0.042\n",
      "[87,   400] \t Loss: 4446.778 \t T: 0.042\n"
     ]
    },
    {
     "name": "stderr",
     "output_type": "stream",
     "text": [
      " 29%|████████████▏                             | 87/300 [04:37<11:24,  3.21s/it]"
     ]
    },
    {
     "name": "stdout",
     "output_type": "stream",
     "text": [
      "[88,   100] \t Loss: 4466.254 \t T: 0.042\n",
      "[88,   200] \t Loss: 4459.188 \t T: 0.042\n",
      "[88,   300] \t Loss: 4443.691 \t T: 0.042\n",
      "[88,   400] \t Loss: 4463.633 \t T: 0.042\n"
     ]
    },
    {
     "name": "stderr",
     "output_type": "stream",
     "text": [
      " 29%|████████████▎                             | 88/300 [04:40<11:19,  3.21s/it]"
     ]
    },
    {
     "name": "stdout",
     "output_type": "stream",
     "text": [
      "[89,   100] \t Loss: 4465.463 \t T: 0.041\n",
      "[89,   200] \t Loss: 4449.792 \t T: 0.041\n",
      "[89,   300] \t Loss: 4479.552 \t T: 0.041\n",
      "[89,   400] \t Loss: 4458.141 \t T: 0.041\n"
     ]
    },
    {
     "name": "stderr",
     "output_type": "stream",
     "text": [
      " 30%|████████████▍                             | 89/300 [04:43<11:13,  3.19s/it]"
     ]
    },
    {
     "name": "stdout",
     "output_type": "stream",
     "text": [
      "[90,   100] \t Loss: 4457.804 \t T: 0.041\n",
      "[90,   200] \t Loss: 4431.150 \t T: 0.041\n",
      "[90,   300] \t Loss: 4445.829 \t T: 0.041\n",
      "[90,   400] \t Loss: 4457.470 \t T: 0.041\n"
     ]
    },
    {
     "name": "stderr",
     "output_type": "stream",
     "text": [
      " 30%|████████████▌                             | 90/300 [04:46<11:10,  3.19s/it]"
     ]
    },
    {
     "name": "stdout",
     "output_type": "stream",
     "text": [
      "[91,   100] \t Loss: 4480.949 \t T: 0.040\n",
      "[91,   200] \t Loss: 4435.322 \t T: 0.040\n",
      "[91,   300] \t Loss: 4424.505 \t T: 0.040\n",
      "[91,   400] \t Loss: 4447.674 \t T: 0.040\n"
     ]
    },
    {
     "name": "stderr",
     "output_type": "stream",
     "text": [
      " 30%|████████████▋                             | 91/300 [04:50<11:06,  3.19s/it]"
     ]
    },
    {
     "name": "stdout",
     "output_type": "stream",
     "text": [
      "[92,   100] \t Loss: 4442.989 \t T: 0.040\n",
      "[92,   200] \t Loss: 4404.889 \t T: 0.040\n",
      "[92,   300] \t Loss: 4459.765 \t T: 0.040\n",
      "[92,   400] \t Loss: 4419.163 \t T: 0.040\n"
     ]
    },
    {
     "name": "stderr",
     "output_type": "stream",
     "text": [
      " 31%|████████████▉                             | 92/300 [04:53<11:01,  3.18s/it]"
     ]
    },
    {
     "name": "stdout",
     "output_type": "stream",
     "text": [
      "[93,   100] \t Loss: 4448.361 \t T: 0.040\n",
      "[93,   200] \t Loss: 4418.968 \t T: 0.040\n",
      "[93,   300] \t Loss: 4420.918 \t T: 0.040\n",
      "[93,   400] \t Loss: 4414.398 \t T: 0.040\n"
     ]
    },
    {
     "name": "stderr",
     "output_type": "stream",
     "text": [
      " 31%|█████████████                             | 93/300 [04:56<10:57,  3.18s/it]"
     ]
    },
    {
     "name": "stdout",
     "output_type": "stream",
     "text": [
      "[94,   100] \t Loss: 4400.230 \t T: 0.039\n",
      "[94,   200] \t Loss: 4404.864 \t T: 0.039\n",
      "[94,   300] \t Loss: 4430.353 \t T: 0.039\n",
      "[94,   400] \t Loss: 4441.951 \t T: 0.039\n"
     ]
    },
    {
     "name": "stderr",
     "output_type": "stream",
     "text": [
      " 31%|█████████████▏                            | 94/300 [04:59<10:54,  3.18s/it]"
     ]
    },
    {
     "name": "stdout",
     "output_type": "stream",
     "text": [
      "[95,   100] \t Loss: 4412.118 \t T: 0.039\n",
      "[95,   200] \t Loss: 4429.406 \t T: 0.039\n",
      "[95,   300] \t Loss: 4419.900 \t T: 0.039\n",
      "[95,   400] \t Loss: 4380.821 \t T: 0.039\n"
     ]
    },
    {
     "name": "stderr",
     "output_type": "stream",
     "text": [
      " 32%|█████████████▎                            | 95/300 [05:02<10:52,  3.18s/it]"
     ]
    },
    {
     "name": "stdout",
     "output_type": "stream",
     "text": [
      "[96,   100] \t Loss: 4391.737 \t T: 0.038\n",
      "[96,   200] \t Loss: 4398.279 \t T: 0.038\n",
      "[96,   300] \t Loss: 4384.739 \t T: 0.038\n",
      "[96,   400] \t Loss: 4418.948 \t T: 0.038\n"
     ]
    },
    {
     "name": "stderr",
     "output_type": "stream",
     "text": [
      " 32%|█████████████▍                            | 96/300 [05:06<10:48,  3.18s/it]"
     ]
    },
    {
     "name": "stdout",
     "output_type": "stream",
     "text": [
      "[97,   100] \t Loss: 4383.634 \t T: 0.038\n",
      "[97,   200] \t Loss: 4401.673 \t T: 0.038\n",
      "[97,   300] \t Loss: 4402.677 \t T: 0.038\n",
      "[97,   400] \t Loss: 4383.471 \t T: 0.038\n"
     ]
    },
    {
     "name": "stderr",
     "output_type": "stream",
     "text": [
      " 32%|█████████████▌                            | 97/300 [05:09<10:47,  3.19s/it]"
     ]
    },
    {
     "name": "stdout",
     "output_type": "stream",
     "text": [
      "[98,   100] \t Loss: 4384.277 \t T: 0.038\n",
      "[98,   200] \t Loss: 4378.861 \t T: 0.038\n",
      "[98,   300] \t Loss: 4363.761 \t T: 0.038\n",
      "[98,   400] \t Loss: 4404.888 \t T: 0.038\n"
     ]
    },
    {
     "name": "stderr",
     "output_type": "stream",
     "text": [
      " 33%|█████████████▋                            | 98/300 [05:12<10:42,  3.18s/it]"
     ]
    },
    {
     "name": "stdout",
     "output_type": "stream",
     "text": [
      "[99,   100] \t Loss: 4412.400 \t T: 0.037\n",
      "[99,   200] \t Loss: 4374.288 \t T: 0.037\n",
      "[99,   300] \t Loss: 4378.755 \t T: 0.037\n",
      "[99,   400] \t Loss: 4375.945 \t T: 0.037\n"
     ]
    },
    {
     "name": "stderr",
     "output_type": "stream",
     "text": [
      " 33%|█████████████▊                            | 99/300 [05:15<10:38,  3.18s/it]"
     ]
    },
    {
     "name": "stdout",
     "output_type": "stream",
     "text": [
      "[100,   100] \t Loss: 4344.936 \t T: 0.037\n",
      "[100,   200] \t Loss: 4377.854 \t T: 0.037\n",
      "[100,   300] \t Loss: 4420.918 \t T: 0.037\n",
      "[100,   400] \t Loss: 4358.208 \t T: 0.037\n"
     ]
    },
    {
     "name": "stderr",
     "output_type": "stream",
     "text": [
      " 33%|█████████████▋                           | 100/300 [05:18<10:36,  3.18s/it]"
     ]
    },
    {
     "name": "stdout",
     "output_type": "stream",
     "text": [
      "[101,   100] \t Loss: 4367.618 \t T: 0.037\n",
      "[101,   200] \t Loss: 4367.253 \t T: 0.037\n",
      "[101,   300] \t Loss: 4354.274 \t T: 0.037\n",
      "[101,   400] \t Loss: 4364.206 \t T: 0.037\n"
     ]
    },
    {
     "name": "stderr",
     "output_type": "stream",
     "text": [
      " 34%|█████████████▊                           | 101/300 [05:21<10:32,  3.18s/it]"
     ]
    },
    {
     "name": "stdout",
     "output_type": "stream",
     "text": [
      "[102,   100] \t Loss: 4348.064 \t T: 0.036\n",
      "[102,   200] \t Loss: 4367.373 \t T: 0.036\n",
      "[102,   300] \t Loss: 4355.924 \t T: 0.036\n",
      "[102,   400] \t Loss: 4361.288 \t T: 0.036\n"
     ]
    },
    {
     "name": "stderr",
     "output_type": "stream",
     "text": [
      " 34%|█████████████▉                           | 102/300 [05:25<10:29,  3.18s/it]"
     ]
    },
    {
     "name": "stdout",
     "output_type": "stream",
     "text": [
      "[103,   100] \t Loss: 4357.026 \t T: 0.036\n",
      "[103,   200] \t Loss: 4367.885 \t T: 0.036\n",
      "[103,   300] \t Loss: 4361.015 \t T: 0.036\n",
      "[103,   400] \t Loss: 4325.963 \t T: 0.036\n"
     ]
    },
    {
     "name": "stderr",
     "output_type": "stream",
     "text": [
      " 34%|██████████████                           | 103/300 [05:28<10:26,  3.18s/it]"
     ]
    },
    {
     "name": "stdout",
     "output_type": "stream",
     "text": [
      "[104,   100] \t Loss: 4329.681 \t T: 0.036\n",
      "[104,   200] \t Loss: 4345.777 \t T: 0.036\n",
      "[104,   300] \t Loss: 4340.110 \t T: 0.036\n",
      "[104,   400] \t Loss: 4372.163 \t T: 0.036\n"
     ]
    },
    {
     "name": "stderr",
     "output_type": "stream",
     "text": [
      " 35%|██████████████▏                          | 104/300 [05:31<10:24,  3.19s/it]"
     ]
    },
    {
     "name": "stdout",
     "output_type": "stream",
     "text": [
      "[105,   100] \t Loss: 4360.185 \t T: 0.035\n",
      "[105,   200] \t Loss: 4323.349 \t T: 0.035\n",
      "[105,   300] \t Loss: 4316.013 \t T: 0.035\n",
      "[105,   400] \t Loss: 4323.390 \t T: 0.035\n"
     ]
    },
    {
     "name": "stderr",
     "output_type": "stream",
     "text": [
      " 35%|██████████████▎                          | 105/300 [05:34<10:20,  3.18s/it]"
     ]
    },
    {
     "name": "stdout",
     "output_type": "stream",
     "text": [
      "[106,   100] \t Loss: 4303.394 \t T: 0.035\n",
      "[106,   200] \t Loss: 4302.134 \t T: 0.035\n",
      "[106,   300] \t Loss: 4344.284 \t T: 0.035\n",
      "[106,   400] \t Loss: 4328.712 \t T: 0.035\n"
     ]
    },
    {
     "name": "stderr",
     "output_type": "stream",
     "text": [
      " 35%|██████████████▍                          | 106/300 [05:37<10:16,  3.18s/it]"
     ]
    },
    {
     "name": "stdout",
     "output_type": "stream",
     "text": [
      "[107,   100] \t Loss: 4338.193 \t T: 0.034\n",
      "[107,   200] \t Loss: 4346.671 \t T: 0.034\n",
      "[107,   300] \t Loss: 4344.634 \t T: 0.034\n",
      "[107,   400] \t Loss: 4322.388 \t T: 0.034\n"
     ]
    },
    {
     "name": "stderr",
     "output_type": "stream",
     "text": [
      " 36%|██████████████▌                          | 107/300 [05:41<10:14,  3.18s/it]"
     ]
    },
    {
     "name": "stdout",
     "output_type": "stream",
     "text": [
      "[108,   100] \t Loss: 4345.209 \t T: 0.034\n",
      "[108,   200] \t Loss: 4312.439 \t T: 0.034\n",
      "[108,   300] \t Loss: 4308.286 \t T: 0.034\n",
      "[108,   400] \t Loss: 4303.155 \t T: 0.034\n"
     ]
    },
    {
     "name": "stderr",
     "output_type": "stream",
     "text": [
      " 36%|██████████████▊                          | 108/300 [05:44<10:10,  3.18s/it]"
     ]
    },
    {
     "name": "stdout",
     "output_type": "stream",
     "text": [
      "[109,   100] \t Loss: 4329.400 \t T: 0.034\n",
      "[109,   200] \t Loss: 4300.922 \t T: 0.034\n",
      "[109,   300] \t Loss: 4281.242 \t T: 0.034\n",
      "[109,   400] \t Loss: 4315.100 \t T: 0.034\n"
     ]
    },
    {
     "name": "stderr",
     "output_type": "stream",
     "text": [
      " 36%|██████████████▉                          | 109/300 [05:47<10:06,  3.18s/it]"
     ]
    },
    {
     "name": "stdout",
     "output_type": "stream",
     "text": [
      "[110,   100] \t Loss: 4288.772 \t T: 0.033\n",
      "[110,   200] \t Loss: 4295.723 \t T: 0.033\n",
      "[110,   300] \t Loss: 4303.861 \t T: 0.033\n",
      "[110,   400] \t Loss: 4313.162 \t T: 0.033\n"
     ]
    },
    {
     "name": "stderr",
     "output_type": "stream",
     "text": [
      " 37%|███████████████                          | 110/300 [05:50<10:08,  3.20s/it]"
     ]
    },
    {
     "name": "stdout",
     "output_type": "stream",
     "text": [
      "[111,   100] \t Loss: 4306.518 \t T: 0.033\n",
      "[111,   200] \t Loss: 4305.092 \t T: 0.033\n",
      "[111,   300] \t Loss: 4278.092 \t T: 0.033\n",
      "[111,   400] \t Loss: 4287.615 \t T: 0.033\n"
     ]
    },
    {
     "name": "stderr",
     "output_type": "stream",
     "text": [
      " 37%|███████████████▏                         | 111/300 [05:54<10:18,  3.27s/it]"
     ]
    },
    {
     "name": "stdout",
     "output_type": "stream",
     "text": [
      "[112,   100] \t Loss: 4280.106 \t T: 0.033\n",
      "[112,   200] \t Loss: 4289.634 \t T: 0.033\n",
      "[112,   300] \t Loss: 4280.321 \t T: 0.033\n",
      "[112,   400] \t Loss: 4294.740 \t T: 0.033\n"
     ]
    },
    {
     "name": "stderr",
     "output_type": "stream",
     "text": [
      " 37%|███████████████▎                         | 112/300 [05:57<10:21,  3.30s/it]"
     ]
    },
    {
     "name": "stdout",
     "output_type": "stream",
     "text": [
      "[113,   100] \t Loss: 4304.739 \t T: 0.032\n",
      "[113,   200] \t Loss: 4294.477 \t T: 0.032\n",
      "[113,   300] \t Loss: 4303.414 \t T: 0.032\n",
      "[113,   400] \t Loss: 4273.406 \t T: 0.032\n"
     ]
    },
    {
     "name": "stderr",
     "output_type": "stream",
     "text": [
      " 38%|███████████████▍                         | 113/300 [06:00<10:14,  3.29s/it]"
     ]
    },
    {
     "name": "stdout",
     "output_type": "stream",
     "text": [
      "[114,   100] \t Loss: 4302.818 \t T: 0.032\n",
      "[114,   200] \t Loss: 4271.264 \t T: 0.032\n",
      "[114,   300] \t Loss: 4274.558 \t T: 0.032\n",
      "[114,   400] \t Loss: 4295.341 \t T: 0.032\n"
     ]
    },
    {
     "name": "stderr",
     "output_type": "stream",
     "text": [
      " 38%|███████████████▌                         | 114/300 [06:04<10:15,  3.31s/it]"
     ]
    },
    {
     "name": "stdout",
     "output_type": "stream",
     "text": [
      "[115,   100] \t Loss: 4287.847 \t T: 0.032\n",
      "[115,   200] \t Loss: 4256.079 \t T: 0.032\n",
      "[115,   300] \t Loss: 4247.258 \t T: 0.032\n",
      "[115,   400] \t Loss: 4258.773 \t T: 0.032\n"
     ]
    },
    {
     "name": "stderr",
     "output_type": "stream",
     "text": [
      " 38%|███████████████▋                         | 115/300 [06:07<10:08,  3.29s/it]"
     ]
    },
    {
     "name": "stdout",
     "output_type": "stream",
     "text": [
      "[116,   100] \t Loss: 4250.987 \t T: 0.031\n",
      "[116,   200] \t Loss: 4271.384 \t T: 0.031\n",
      "[116,   300] \t Loss: 4267.119 \t T: 0.031\n",
      "[116,   400] \t Loss: 4269.311 \t T: 0.031\n"
     ]
    },
    {
     "name": "stderr",
     "output_type": "stream",
     "text": [
      " 39%|███████████████▊                         | 116/300 [06:10<09:57,  3.25s/it]"
     ]
    },
    {
     "name": "stdout",
     "output_type": "stream",
     "text": [
      "[117,   100] \t Loss: 4277.501 \t T: 0.031\n",
      "[117,   200] \t Loss: 4264.086 \t T: 0.031\n",
      "[117,   300] \t Loss: 4261.086 \t T: 0.031\n",
      "[117,   400] \t Loss: 4245.446 \t T: 0.031\n"
     ]
    },
    {
     "name": "stderr",
     "output_type": "stream",
     "text": [
      " 39%|███████████████▉                         | 117/300 [06:13<09:46,  3.20s/it]"
     ]
    },
    {
     "name": "stdout",
     "output_type": "stream",
     "text": [
      "[118,   100] \t Loss: 4256.535 \t T: 0.031\n",
      "[118,   200] \t Loss: 4270.965 \t T: 0.031\n",
      "[118,   300] \t Loss: 4231.750 \t T: 0.031\n",
      "[118,   400] \t Loss: 4277.739 \t T: 0.031\n"
     ]
    },
    {
     "name": "stderr",
     "output_type": "stream",
     "text": [
      " 39%|████████████████▏                        | 118/300 [06:16<09:36,  3.17s/it]"
     ]
    },
    {
     "name": "stdout",
     "output_type": "stream",
     "text": [
      "[119,   100] \t Loss: 4270.189 \t T: 0.031\n",
      "[119,   200] \t Loss: 4256.914 \t T: 0.031\n",
      "[119,   300] \t Loss: 4255.926 \t T: 0.031\n",
      "[119,   400] \t Loss: 4235.995 \t T: 0.031\n"
     ]
    },
    {
     "name": "stderr",
     "output_type": "stream",
     "text": [
      " 40%|████████████████▎                        | 119/300 [06:19<09:40,  3.21s/it]"
     ]
    },
    {
     "name": "stdout",
     "output_type": "stream",
     "text": [
      "[120,   100] \t Loss: 4227.305 \t T: 0.030\n",
      "[120,   200] \t Loss: 4245.758 \t T: 0.030\n",
      "[120,   300] \t Loss: 4237.526 \t T: 0.030\n",
      "[120,   400] \t Loss: 4276.746 \t T: 0.030\n"
     ]
    },
    {
     "name": "stderr",
     "output_type": "stream",
     "text": [
      " 40%|████████████████▍                        | 120/300 [06:23<09:33,  3.18s/it]"
     ]
    },
    {
     "name": "stdout",
     "output_type": "stream",
     "text": [
      "[121,   100] \t Loss: 4260.540 \t T: 0.030\n",
      "[121,   200] \t Loss: 4239.471 \t T: 0.030\n",
      "[121,   300] \t Loss: 4267.635 \t T: 0.030\n",
      "[121,   400] \t Loss: 4217.641 \t T: 0.030\n"
     ]
    },
    {
     "name": "stderr",
     "output_type": "stream",
     "text": [
      " 40%|████████████████▌                        | 121/300 [06:26<09:23,  3.15s/it]"
     ]
    },
    {
     "name": "stdout",
     "output_type": "stream",
     "text": [
      "[122,   100] \t Loss: 4216.431 \t T: 0.030\n",
      "[122,   200] \t Loss: 4250.281 \t T: 0.030\n",
      "[122,   300] \t Loss: 4239.899 \t T: 0.030\n",
      "[122,   400] \t Loss: 4251.303 \t T: 0.030\n"
     ]
    },
    {
     "name": "stderr",
     "output_type": "stream",
     "text": [
      " 41%|████████████████▋                        | 122/300 [06:29<09:16,  3.13s/it]"
     ]
    },
    {
     "name": "stdout",
     "output_type": "stream",
     "text": [
      "[123,   100] \t Loss: 4243.213 \t T: 0.029\n",
      "[123,   200] \t Loss: 4214.970 \t T: 0.029\n",
      "[123,   300] \t Loss: 4210.505 \t T: 0.029\n",
      "[123,   400] \t Loss: 4238.539 \t T: 0.029\n"
     ]
    },
    {
     "name": "stderr",
     "output_type": "stream",
     "text": [
      " 41%|████████████████▊                        | 123/300 [06:32<09:11,  3.12s/it]"
     ]
    },
    {
     "name": "stdout",
     "output_type": "stream",
     "text": [
      "[124,   100] \t Loss: 4222.607 \t T: 0.029\n",
      "[124,   200] \t Loss: 4269.526 \t T: 0.029\n",
      "[124,   300] \t Loss: 4212.967 \t T: 0.029\n",
      "[124,   400] \t Loss: 4203.060 \t T: 0.029\n"
     ]
    },
    {
     "name": "stderr",
     "output_type": "stream",
     "text": [
      " 41%|████████████████▉                        | 124/300 [06:35<09:06,  3.11s/it]"
     ]
    },
    {
     "name": "stdout",
     "output_type": "stream",
     "text": [
      "[125,   100] \t Loss: 4206.855 \t T: 0.029\n",
      "[125,   200] \t Loss: 4230.321 \t T: 0.029\n",
      "[125,   300] \t Loss: 4219.016 \t T: 0.029\n",
      "[125,   400] \t Loss: 4240.817 \t T: 0.029\n"
     ]
    },
    {
     "name": "stderr",
     "output_type": "stream",
     "text": [
      " 42%|█████████████████                        | 125/300 [06:38<09:01,  3.09s/it]"
     ]
    },
    {
     "name": "stdout",
     "output_type": "stream",
     "text": [
      "[126,   100] \t Loss: 4204.795 \t T: 0.028\n",
      "[126,   200] \t Loss: 4214.193 \t T: 0.028\n",
      "[126,   300] \t Loss: 4209.510 \t T: 0.028\n",
      "[126,   400] \t Loss: 4245.855 \t T: 0.028\n"
     ]
    },
    {
     "name": "stderr",
     "output_type": "stream",
     "text": [
      " 42%|█████████████████▏                       | 126/300 [06:41<08:58,  3.09s/it]"
     ]
    },
    {
     "name": "stdout",
     "output_type": "stream",
     "text": [
      "[127,   100] \t Loss: 4217.687 \t T: 0.028\n",
      "[127,   200] \t Loss: 4200.689 \t T: 0.028\n",
      "[127,   300] \t Loss: 4237.505 \t T: 0.028\n",
      "[127,   400] \t Loss: 4192.318 \t T: 0.028\n"
     ]
    },
    {
     "name": "stderr",
     "output_type": "stream",
     "text": [
      " 42%|█████████████████▎                       | 127/300 [06:44<09:00,  3.12s/it]"
     ]
    },
    {
     "name": "stdout",
     "output_type": "stream",
     "text": [
      "[128,   100] \t Loss: 4201.070 \t T: 0.028\n",
      "[128,   200] \t Loss: 4180.490 \t T: 0.028\n",
      "[128,   300] \t Loss: 4236.832 \t T: 0.028\n",
      "[128,   400] \t Loss: 4213.020 \t T: 0.028\n"
     ]
    },
    {
     "name": "stderr",
     "output_type": "stream",
     "text": [
      " 43%|█████████████████▍                       | 128/300 [06:47<08:56,  3.12s/it]"
     ]
    },
    {
     "name": "stdout",
     "output_type": "stream",
     "text": [
      "[129,   100] \t Loss: 4198.633 \t T: 0.028\n",
      "[129,   200] \t Loss: 4213.337 \t T: 0.028\n",
      "[129,   300] \t Loss: 4192.143 \t T: 0.028\n",
      "[129,   400] \t Loss: 4215.286 \t T: 0.028\n"
     ]
    },
    {
     "name": "stderr",
     "output_type": "stream",
     "text": [
      " 43%|█████████████████▋                       | 129/300 [06:51<08:56,  3.14s/it]"
     ]
    },
    {
     "name": "stdout",
     "output_type": "stream",
     "text": [
      "[130,   100] \t Loss: 4190.202 \t T: 0.027\n",
      "[130,   200] \t Loss: 4224.465 \t T: 0.027\n",
      "[130,   300] \t Loss: 4184.765 \t T: 0.027\n",
      "[130,   400] \t Loss: 4191.417 \t T: 0.027\n"
     ]
    },
    {
     "name": "stderr",
     "output_type": "stream",
     "text": [
      " 43%|█████████████████▊                       | 130/300 [06:54<08:51,  3.12s/it]"
     ]
    },
    {
     "name": "stdout",
     "output_type": "stream",
     "text": [
      "[131,   100] \t Loss: 4196.179 \t T: 0.027\n",
      "[131,   200] \t Loss: 4199.148 \t T: 0.027\n",
      "[131,   300] \t Loss: 4211.537 \t T: 0.027\n",
      "[131,   400] \t Loss: 4178.526 \t T: 0.027\n"
     ]
    },
    {
     "name": "stderr",
     "output_type": "stream",
     "text": [
      " 44%|█████████████████▉                       | 131/300 [06:57<08:46,  3.12s/it]"
     ]
    },
    {
     "name": "stdout",
     "output_type": "stream",
     "text": [
      "[132,   100] \t Loss: 4188.551 \t T: 0.027\n",
      "[132,   200] \t Loss: 4176.855 \t T: 0.027\n",
      "[132,   300] \t Loss: 4175.885 \t T: 0.027\n",
      "[132,   400] \t Loss: 4200.796 \t T: 0.027\n"
     ]
    },
    {
     "name": "stderr",
     "output_type": "stream",
     "text": [
      " 44%|██████████████████                       | 132/300 [07:00<08:40,  3.10s/it]"
     ]
    },
    {
     "name": "stdout",
     "output_type": "stream",
     "text": [
      "[133,   100] \t Loss: 4182.227 \t T: 0.027\n",
      "[133,   200] \t Loss: 4178.030 \t T: 0.027\n",
      "[133,   300] \t Loss: 4184.506 \t T: 0.027\n",
      "[133,   400] \t Loss: 4198.389 \t T: 0.027\n"
     ]
    },
    {
     "name": "stderr",
     "output_type": "stream",
     "text": [
      " 44%|██████████████████▏                      | 133/300 [07:03<08:36,  3.09s/it]"
     ]
    },
    {
     "name": "stdout",
     "output_type": "stream",
     "text": [
      "[134,   100] \t Loss: 4175.762 \t T: 0.026\n",
      "[134,   200] \t Loss: 4198.708 \t T: 0.026\n",
      "[134,   300] \t Loss: 4201.977 \t T: 0.026\n",
      "[134,   400] \t Loss: 4167.839 \t T: 0.026\n"
     ]
    },
    {
     "name": "stderr",
     "output_type": "stream",
     "text": [
      " 45%|██████████████████▎                      | 134/300 [07:06<08:33,  3.09s/it]"
     ]
    },
    {
     "name": "stdout",
     "output_type": "stream",
     "text": [
      "[135,   100] \t Loss: 4182.069 \t T: 0.026\n",
      "[135,   200] \t Loss: 4162.142 \t T: 0.026\n",
      "[135,   300] \t Loss: 4163.634 \t T: 0.026\n",
      "[135,   400] \t Loss: 4192.606 \t T: 0.026\n"
     ]
    },
    {
     "name": "stderr",
     "output_type": "stream",
     "text": [
      " 45%|██████████████████▍                      | 135/300 [07:09<08:28,  3.08s/it]"
     ]
    },
    {
     "name": "stdout",
     "output_type": "stream",
     "text": [
      "[136,   100] \t Loss: 4200.235 \t T: 0.026\n",
      "[136,   200] \t Loss: 4168.083 \t T: 0.026\n",
      "[136,   300] \t Loss: 4184.239 \t T: 0.026\n",
      "[136,   400] \t Loss: 4151.284 \t T: 0.026\n"
     ]
    },
    {
     "name": "stderr",
     "output_type": "stream",
     "text": [
      " 45%|██████████████████▌                      | 136/300 [07:12<08:25,  3.09s/it]"
     ]
    },
    {
     "name": "stdout",
     "output_type": "stream",
     "text": [
      "[137,   100] \t Loss: 4162.624 \t T: 0.025\n",
      "[137,   200] \t Loss: 4156.492 \t T: 0.025\n",
      "[137,   300] \t Loss: 4175.568 \t T: 0.025\n",
      "[137,   400] \t Loss: 4167.408 \t T: 0.025\n"
     ]
    },
    {
     "name": "stderr",
     "output_type": "stream",
     "text": [
      " 46%|██████████████████▋                      | 137/300 [07:15<08:23,  3.09s/it]"
     ]
    },
    {
     "name": "stdout",
     "output_type": "stream",
     "text": [
      "[138,   100] \t Loss: 4161.826 \t T: 0.025\n",
      "[138,   200] \t Loss: 4160.114 \t T: 0.025\n",
      "[138,   300] \t Loss: 4168.678 \t T: 0.025\n",
      "[138,   400] \t Loss: 4182.427 \t T: 0.025\n"
     ]
    },
    {
     "name": "stderr",
     "output_type": "stream",
     "text": [
      " 46%|██████████████████▊                      | 138/300 [07:18<08:20,  3.09s/it]"
     ]
    },
    {
     "name": "stdout",
     "output_type": "stream",
     "text": [
      "[139,   100] \t Loss: 4171.357 \t T: 0.025\n",
      "[139,   200] \t Loss: 4176.014 \t T: 0.025\n",
      "[139,   300] \t Loss: 4172.648 \t T: 0.025\n",
      "[139,   400] \t Loss: 4158.675 \t T: 0.025\n"
     ]
    },
    {
     "name": "stderr",
     "output_type": "stream",
     "text": [
      " 46%|██████████████████▉                      | 139/300 [07:21<08:17,  3.09s/it]"
     ]
    },
    {
     "name": "stdout",
     "output_type": "stream",
     "text": [
      "[140,   100] \t Loss: 4158.316 \t T: 0.025\n",
      "[140,   200] \t Loss: 4150.234 \t T: 0.025\n",
      "[140,   300] \t Loss: 4196.430 \t T: 0.025\n",
      "[140,   400] \t Loss: 4142.898 \t T: 0.025\n"
     ]
    },
    {
     "name": "stderr",
     "output_type": "stream",
     "text": [
      " 47%|███████████████████▏                     | 140/300 [07:24<08:13,  3.08s/it]"
     ]
    },
    {
     "name": "stdout",
     "output_type": "stream",
     "text": [
      "[141,   100] \t Loss: 4161.421 \t T: 0.024\n",
      "[141,   200] \t Loss: 4173.118 \t T: 0.024\n",
      "[141,   300] \t Loss: 4144.701 \t T: 0.024\n",
      "[141,   400] \t Loss: 4145.364 \t T: 0.024\n"
     ]
    },
    {
     "name": "stderr",
     "output_type": "stream",
     "text": [
      " 47%|███████████████████▎                     | 141/300 [07:28<08:10,  3.08s/it]"
     ]
    },
    {
     "name": "stdout",
     "output_type": "stream",
     "text": [
      "[142,   100] \t Loss: 4151.047 \t T: 0.024\n",
      "[142,   200] \t Loss: 4116.205 \t T: 0.024\n",
      "[142,   300] \t Loss: 4162.913 \t T: 0.024\n",
      "[142,   400] \t Loss: 4157.011 \t T: 0.024\n"
     ]
    },
    {
     "name": "stderr",
     "output_type": "stream",
     "text": [
      " 47%|███████████████████▍                     | 142/300 [07:31<08:06,  3.08s/it]"
     ]
    },
    {
     "name": "stdout",
     "output_type": "stream",
     "text": [
      "[143,   100] \t Loss: 4143.553 \t T: 0.024\n",
      "[143,   200] \t Loss: 4154.877 \t T: 0.024\n",
      "[143,   300] \t Loss: 4175.453 \t T: 0.024\n",
      "[143,   400] \t Loss: 4145.476 \t T: 0.024\n"
     ]
    },
    {
     "name": "stderr",
     "output_type": "stream",
     "text": [
      " 48%|███████████████████▌                     | 143/300 [07:34<08:03,  3.08s/it]"
     ]
    },
    {
     "name": "stdout",
     "output_type": "stream",
     "text": [
      "[144,   100] \t Loss: 4148.911 \t T: 0.024\n",
      "[144,   200] \t Loss: 4138.617 \t T: 0.024\n",
      "[144,   300] \t Loss: 4152.180 \t T: 0.024\n",
      "[144,   400] \t Loss: 4166.064 \t T: 0.024\n"
     ]
    },
    {
     "name": "stderr",
     "output_type": "stream",
     "text": [
      " 48%|███████████████████▋                     | 144/300 [07:37<08:00,  3.08s/it]"
     ]
    },
    {
     "name": "stdout",
     "output_type": "stream",
     "text": [
      "[145,   100] \t Loss: 4132.263 \t T: 0.024\n",
      "[145,   200] \t Loss: 4145.898 \t T: 0.024\n",
      "[145,   300] \t Loss: 4136.984 \t T: 0.024\n",
      "[145,   400] \t Loss: 4160.826 \t T: 0.024\n"
     ]
    },
    {
     "name": "stderr",
     "output_type": "stream",
     "text": [
      " 48%|███████████████████▊                     | 145/300 [07:40<07:57,  3.08s/it]"
     ]
    },
    {
     "name": "stdout",
     "output_type": "stream",
     "text": [
      "[146,   100] \t Loss: 4109.455 \t T: 0.023\n",
      "[146,   200] \t Loss: 4153.594 \t T: 0.023\n",
      "[146,   300] \t Loss: 4145.431 \t T: 0.023\n",
      "[146,   400] \t Loss: 4151.234 \t T: 0.023\n"
     ]
    },
    {
     "name": "stderr",
     "output_type": "stream",
     "text": [
      " 49%|███████████████████▉                     | 146/300 [07:43<07:54,  3.08s/it]"
     ]
    },
    {
     "name": "stdout",
     "output_type": "stream",
     "text": [
      "[147,   100] \t Loss: 4140.995 \t T: 0.023\n",
      "[147,   200] \t Loss: 4147.967 \t T: 0.023\n",
      "[147,   300] \t Loss: 4109.074 \t T: 0.023\n",
      "[147,   400] \t Loss: 4123.805 \t T: 0.023\n"
     ]
    },
    {
     "name": "stderr",
     "output_type": "stream",
     "text": [
      " 49%|████████████████████                     | 147/300 [07:46<07:51,  3.08s/it]"
     ]
    },
    {
     "name": "stdout",
     "output_type": "stream",
     "text": [
      "[148,   100] \t Loss: 4153.453 \t T: 0.023\n",
      "[148,   200] \t Loss: 4120.761 \t T: 0.023\n",
      "[148,   300] \t Loss: 4130.557 \t T: 0.023\n",
      "[148,   400] \t Loss: 4127.746 \t T: 0.023\n"
     ]
    },
    {
     "name": "stderr",
     "output_type": "stream",
     "text": [
      " 49%|████████████████████▏                    | 148/300 [07:49<07:47,  3.08s/it]"
     ]
    },
    {
     "name": "stdout",
     "output_type": "stream",
     "text": [
      "[149,   100] \t Loss: 4103.116 \t T: 0.023\n",
      "[149,   200] \t Loss: 4139.623 \t T: 0.023\n",
      "[149,   300] \t Loss: 4147.911 \t T: 0.023\n",
      "[149,   400] \t Loss: 4105.278 \t T: 0.023\n"
     ]
    },
    {
     "name": "stderr",
     "output_type": "stream",
     "text": [
      " 50%|████████████████████▎                    | 149/300 [07:52<07:44,  3.08s/it]"
     ]
    },
    {
     "name": "stdout",
     "output_type": "stream",
     "text": [
      "[150,   100] \t Loss: 4137.265 \t T: 0.022\n",
      "[150,   200] \t Loss: 4106.978 \t T: 0.022\n",
      "[150,   300] \t Loss: 4132.714 \t T: 0.022\n",
      "[150,   400] \t Loss: 4128.992 \t T: 0.022\n"
     ]
    },
    {
     "name": "stderr",
     "output_type": "stream",
     "text": [
      " 50%|████████████████████▌                    | 150/300 [07:55<07:42,  3.08s/it]"
     ]
    },
    {
     "name": "stdout",
     "output_type": "stream",
     "text": [
      "[151,   100] \t Loss: 4102.778 \t T: 0.022\n",
      "[151,   200] \t Loss: 4129.004 \t T: 0.022\n",
      "[151,   300] \t Loss: 4097.461 \t T: 0.022\n",
      "[151,   400] \t Loss: 4145.798 \t T: 0.022\n"
     ]
    },
    {
     "name": "stderr",
     "output_type": "stream",
     "text": [
      " 50%|████████████████████▋                    | 151/300 [07:58<07:39,  3.08s/it]"
     ]
    },
    {
     "name": "stdout",
     "output_type": "stream",
     "text": [
      "[152,   100] \t Loss: 4109.190 \t T: 0.022\n",
      "[152,   200] \t Loss: 4125.265 \t T: 0.022\n",
      "[152,   300] \t Loss: 4123.191 \t T: 0.022\n",
      "[152,   400] \t Loss: 4116.049 \t T: 0.022\n"
     ]
    },
    {
     "name": "stderr",
     "output_type": "stream",
     "text": [
      " 51%|████████████████████▊                    | 152/300 [08:01<07:36,  3.08s/it]"
     ]
    },
    {
     "name": "stdout",
     "output_type": "stream",
     "text": [
      "[153,   100] \t Loss: 4082.821 \t T: 0.022\n",
      "[153,   200] \t Loss: 4113.712 \t T: 0.022\n",
      "[153,   300] \t Loss: 4146.144 \t T: 0.022\n",
      "[153,   400] \t Loss: 4121.051 \t T: 0.022\n"
     ]
    },
    {
     "name": "stderr",
     "output_type": "stream",
     "text": [
      " 51%|████████████████████▉                    | 153/300 [08:05<07:33,  3.08s/it]"
     ]
    },
    {
     "name": "stdout",
     "output_type": "stream",
     "text": [
      "[154,   100] \t Loss: 4141.224 \t T: 0.021\n",
      "[154,   200] \t Loss: 4086.949 \t T: 0.021\n",
      "[154,   300] \t Loss: 4109.049 \t T: 0.021\n",
      "[154,   400] \t Loss: 4120.401 \t T: 0.021\n"
     ]
    },
    {
     "name": "stderr",
     "output_type": "stream",
     "text": [
      " 51%|█████████████████████                    | 154/300 [08:08<07:30,  3.09s/it]"
     ]
    },
    {
     "name": "stdout",
     "output_type": "stream",
     "text": [
      "[155,   100] \t Loss: 4130.025 \t T: 0.021\n",
      "[155,   200] \t Loss: 4141.024 \t T: 0.021\n",
      "[155,   300] \t Loss: 4073.657 \t T: 0.021\n",
      "[155,   400] \t Loss: 4102.266 \t T: 0.021\n"
     ]
    },
    {
     "name": "stderr",
     "output_type": "stream",
     "text": [
      " 52%|█████████████████████▏                   | 155/300 [08:11<07:26,  3.08s/it]"
     ]
    },
    {
     "name": "stdout",
     "output_type": "stream",
     "text": [
      "[156,   100] \t Loss: 4129.963 \t T: 0.021\n",
      "[156,   200] \t Loss: 4100.704 \t T: 0.021\n",
      "[156,   300] \t Loss: 4113.439 \t T: 0.021\n",
      "[156,   400] \t Loss: 4084.254 \t T: 0.021\n"
     ]
    },
    {
     "name": "stderr",
     "output_type": "stream",
     "text": [
      " 52%|█████████████████████▎                   | 156/300 [08:14<07:24,  3.09s/it]"
     ]
    },
    {
     "name": "stdout",
     "output_type": "stream",
     "text": [
      "[157,   100] \t Loss: 4119.414 \t T: 0.021\n",
      "[157,   200] \t Loss: 4076.072 \t T: 0.021\n",
      "[157,   300] \t Loss: 4110.132 \t T: 0.021\n",
      "[157,   400] \t Loss: 4088.240 \t T: 0.021\n"
     ]
    },
    {
     "name": "stderr",
     "output_type": "stream",
     "text": [
      " 52%|█████████████████████▍                   | 157/300 [08:17<07:21,  3.09s/it]"
     ]
    },
    {
     "name": "stdout",
     "output_type": "stream",
     "text": [
      "[158,   100] \t Loss: 4114.573 \t T: 0.021\n",
      "[158,   200] \t Loss: 4088.923 \t T: 0.021\n",
      "[158,   300] \t Loss: 4089.670 \t T: 0.021\n",
      "[158,   400] \t Loss: 4119.412 \t T: 0.021\n"
     ]
    },
    {
     "name": "stderr",
     "output_type": "stream",
     "text": [
      " 53%|█████████████████████▌                   | 158/300 [08:20<07:17,  3.08s/it]"
     ]
    },
    {
     "name": "stdout",
     "output_type": "stream",
     "text": [
      "[159,   100] \t Loss: 4091.541 \t T: 0.020\n",
      "[159,   200] \t Loss: 4102.134 \t T: 0.020\n",
      "[159,   300] \t Loss: 4115.591 \t T: 0.020\n",
      "[159,   400] \t Loss: 4116.743 \t T: 0.020\n"
     ]
    },
    {
     "name": "stderr",
     "output_type": "stream",
     "text": [
      " 53%|█████████████████████▋                   | 159/300 [08:23<07:14,  3.08s/it]"
     ]
    },
    {
     "name": "stdout",
     "output_type": "stream",
     "text": [
      "[160,   100] \t Loss: 4068.290 \t T: 0.020\n",
      "[160,   200] \t Loss: 4100.197 \t T: 0.020\n",
      "[160,   300] \t Loss: 4118.271 \t T: 0.020\n",
      "[160,   400] \t Loss: 4099.044 \t T: 0.020\n"
     ]
    },
    {
     "name": "stderr",
     "output_type": "stream",
     "text": [
      " 53%|█████████████████████▊                   | 160/300 [08:26<07:10,  3.07s/it]"
     ]
    },
    {
     "name": "stdout",
     "output_type": "stream",
     "text": [
      "[161,   100] \t Loss: 4105.047 \t T: 0.020\n",
      "[161,   200] \t Loss: 4081.200 \t T: 0.020\n",
      "[161,   300] \t Loss: 4054.101 \t T: 0.020\n",
      "[161,   400] \t Loss: 4089.470 \t T: 0.020\n"
     ]
    },
    {
     "name": "stderr",
     "output_type": "stream",
     "text": [
      " 54%|██████████████████████                   | 161/300 [08:29<07:07,  3.08s/it]"
     ]
    },
    {
     "name": "stdout",
     "output_type": "stream",
     "text": [
      "[162,   100] \t Loss: 4093.315 \t T: 0.020\n",
      "[162,   200] \t Loss: 4073.549 \t T: 0.020\n",
      "[162,   300] \t Loss: 4077.738 \t T: 0.020\n",
      "[162,   400] \t Loss: 4124.451 \t T: 0.020\n"
     ]
    },
    {
     "name": "stderr",
     "output_type": "stream",
     "text": [
      " 54%|██████████████████████▏                  | 162/300 [08:32<07:04,  3.08s/it]"
     ]
    },
    {
     "name": "stdout",
     "output_type": "stream",
     "text": [
      "[163,   100] \t Loss: 4074.458 \t T: 0.020\n",
      "[163,   200] \t Loss: 4113.609 \t T: 0.020\n",
      "[163,   300] \t Loss: 4106.983 \t T: 0.020\n",
      "[163,   400] \t Loss: 4070.868 \t T: 0.020\n"
     ]
    },
    {
     "name": "stderr",
     "output_type": "stream",
     "text": [
      " 54%|██████████████████████▎                  | 163/300 [08:35<07:01,  3.07s/it]"
     ]
    },
    {
     "name": "stdout",
     "output_type": "stream",
     "text": [
      "[164,   100] \t Loss: 4080.954 \t T: 0.019\n",
      "[164,   200] \t Loss: 4084.707 \t T: 0.019\n",
      "[164,   300] \t Loss: 4086.333 \t T: 0.019\n",
      "[164,   400] \t Loss: 4079.313 \t T: 0.019\n"
     ]
    },
    {
     "name": "stderr",
     "output_type": "stream",
     "text": [
      " 55%|██████████████████████▍                  | 164/300 [08:38<06:58,  3.08s/it]"
     ]
    },
    {
     "name": "stdout",
     "output_type": "stream",
     "text": [
      "[165,   100] \t Loss: 4075.274 \t T: 0.019\n",
      "[165,   200] \t Loss: 4071.749 \t T: 0.019\n",
      "[165,   300] \t Loss: 4070.194 \t T: 0.019\n",
      "[165,   400] \t Loss: 4096.862 \t T: 0.019\n"
     ]
    },
    {
     "name": "stderr",
     "output_type": "stream",
     "text": [
      " 55%|██████████████████████▌                  | 165/300 [08:41<06:55,  3.08s/it]"
     ]
    },
    {
     "name": "stdout",
     "output_type": "stream",
     "text": [
      "[166,   100] \t Loss: 4076.464 \t T: 0.019\n",
      "[166,   200] \t Loss: 4083.804 \t T: 0.019\n",
      "[166,   300] \t Loss: 4083.055 \t T: 0.019\n",
      "[166,   400] \t Loss: 4103.315 \t T: 0.019\n"
     ]
    },
    {
     "name": "stderr",
     "output_type": "stream",
     "text": [
      " 55%|██████████████████████▋                  | 166/300 [08:45<06:51,  3.07s/it]"
     ]
    },
    {
     "name": "stdout",
     "output_type": "stream",
     "text": [
      "[167,   100] \t Loss: 4084.289 \t T: 0.019\n",
      "[167,   200] \t Loss: 4078.106 \t T: 0.019\n",
      "[167,   300] \t Loss: 4064.762 \t T: 0.019\n",
      "[167,   400] \t Loss: 4079.259 \t T: 0.019\n"
     ]
    },
    {
     "name": "stderr",
     "output_type": "stream",
     "text": [
      " 56%|██████████████████████▊                  | 167/300 [08:48<06:48,  3.07s/it]"
     ]
    },
    {
     "name": "stdout",
     "output_type": "stream",
     "text": [
      "[168,   100] \t Loss: 4071.922 \t T: 0.019\n",
      "[168,   200] \t Loss: 4067.850 \t T: 0.019\n",
      "[168,   300] \t Loss: 4041.814 \t T: 0.019\n",
      "[168,   400] \t Loss: 4092.368 \t T: 0.019\n"
     ]
    },
    {
     "name": "stderr",
     "output_type": "stream",
     "text": [
      " 56%|██████████████████████▉                  | 168/300 [08:51<06:46,  3.08s/it]"
     ]
    },
    {
     "name": "stdout",
     "output_type": "stream",
     "text": [
      "[169,   100] \t Loss: 4078.755 \t T: 0.018\n",
      "[169,   200] \t Loss: 4088.141 \t T: 0.018\n",
      "[169,   300] \t Loss: 4052.285 \t T: 0.018\n",
      "[169,   400] \t Loss: 4063.597 \t T: 0.018\n"
     ]
    },
    {
     "name": "stderr",
     "output_type": "stream",
     "text": [
      " 56%|███████████████████████                  | 169/300 [08:54<06:43,  3.08s/it]"
     ]
    },
    {
     "name": "stdout",
     "output_type": "stream",
     "text": [
      "[170,   100] \t Loss: 4058.209 \t T: 0.018\n",
      "[170,   200] \t Loss: 4075.408 \t T: 0.018\n",
      "[170,   300] \t Loss: 4101.391 \t T: 0.018\n",
      "[170,   400] \t Loss: 4065.294 \t T: 0.018\n"
     ]
    },
    {
     "name": "stderr",
     "output_type": "stream",
     "text": [
      " 57%|███████████████████████▏                 | 170/300 [08:57<06:39,  3.08s/it]"
     ]
    },
    {
     "name": "stdout",
     "output_type": "stream",
     "text": [
      "[171,   100] \t Loss: 4035.258 \t T: 0.018\n",
      "[171,   200] \t Loss: 4036.855 \t T: 0.018\n",
      "[171,   300] \t Loss: 4089.544 \t T: 0.018\n",
      "[171,   400] \t Loss: 4102.072 \t T: 0.018\n"
     ]
    },
    {
     "name": "stderr",
     "output_type": "stream",
     "text": [
      " 57%|███████████████████████▎                 | 171/300 [09:00<06:36,  3.08s/it]"
     ]
    },
    {
     "name": "stdout",
     "output_type": "stream",
     "text": [
      "[172,   100] \t Loss: 4055.489 \t T: 0.018\n",
      "[172,   200] \t Loss: 4038.038 \t T: 0.018\n",
      "[172,   300] \t Loss: 4065.925 \t T: 0.018\n",
      "[172,   400] \t Loss: 4093.960 \t T: 0.018\n"
     ]
    },
    {
     "name": "stderr",
     "output_type": "stream",
     "text": [
      " 57%|███████████████████████▌                 | 172/300 [09:03<06:34,  3.08s/it]"
     ]
    },
    {
     "name": "stdout",
     "output_type": "stream",
     "text": [
      "[173,   100] \t Loss: 4075.652 \t T: 0.018\n",
      "[173,   200] \t Loss: 4054.273 \t T: 0.018\n",
      "[173,   300] \t Loss: 4072.588 \t T: 0.018\n",
      "[173,   400] \t Loss: 4086.912 \t T: 0.018\n"
     ]
    },
    {
     "name": "stderr",
     "output_type": "stream",
     "text": [
      " 58%|███████████████████████▋                 | 173/300 [09:06<06:30,  3.08s/it]"
     ]
    },
    {
     "name": "stdout",
     "output_type": "stream",
     "text": [
      "[174,   100] \t Loss: 4091.053 \t T: 0.018\n",
      "[174,   200] \t Loss: 4044.852 \t T: 0.018\n",
      "[174,   300] \t Loss: 4084.219 \t T: 0.018\n",
      "[174,   400] \t Loss: 4051.787 \t T: 0.018\n"
     ]
    },
    {
     "name": "stderr",
     "output_type": "stream",
     "text": [
      " 58%|███████████████████████▊                 | 174/300 [09:09<06:27,  3.08s/it]"
     ]
    },
    {
     "name": "stdout",
     "output_type": "stream",
     "text": [
      "[175,   100] \t Loss: 4063.608 \t T: 0.017\n",
      "[175,   200] \t Loss: 4077.927 \t T: 0.017\n",
      "[175,   300] \t Loss: 4085.134 \t T: 0.017\n",
      "[175,   400] \t Loss: 4031.177 \t T: 0.017\n"
     ]
    },
    {
     "name": "stderr",
     "output_type": "stream",
     "text": [
      " 58%|███████████████████████▉                 | 175/300 [09:12<06:24,  3.07s/it]"
     ]
    },
    {
     "name": "stdout",
     "output_type": "stream",
     "text": [
      "[176,   100] \t Loss: 4039.856 \t T: 0.017\n",
      "[176,   200] \t Loss: 4063.208 \t T: 0.017\n",
      "[176,   300] \t Loss: 4063.592 \t T: 0.017\n",
      "[176,   400] \t Loss: 4055.631 \t T: 0.017\n"
     ]
    },
    {
     "name": "stderr",
     "output_type": "stream",
     "text": [
      " 59%|████████████████████████                 | 176/300 [09:15<06:20,  3.07s/it]"
     ]
    },
    {
     "name": "stdout",
     "output_type": "stream",
     "text": [
      "[177,   100] \t Loss: 4085.194 \t T: 0.017\n",
      "[177,   200] \t Loss: 4055.403 \t T: 0.017\n",
      "[177,   300] \t Loss: 4038.108 \t T: 0.017\n",
      "[177,   400] \t Loss: 4064.629 \t T: 0.017\n"
     ]
    },
    {
     "name": "stderr",
     "output_type": "stream",
     "text": [
      " 59%|████████████████████████▏                | 177/300 [09:18<06:18,  3.07s/it]"
     ]
    },
    {
     "name": "stdout",
     "output_type": "stream",
     "text": [
      "[178,   100] \t Loss: 4045.304 \t T: 0.017\n",
      "[178,   200] \t Loss: 4043.351 \t T: 0.017\n",
      "[178,   300] \t Loss: 4072.535 \t T: 0.017\n",
      "[178,   400] \t Loss: 4055.652 \t T: 0.017\n"
     ]
    },
    {
     "name": "stderr",
     "output_type": "stream",
     "text": [
      " 59%|████████████████████████▎                | 178/300 [09:22<06:24,  3.15s/it]"
     ]
    },
    {
     "name": "stdout",
     "output_type": "stream",
     "text": [
      "[179,   100] \t Loss: 4045.890 \t T: 0.017\n",
      "[179,   200] \t Loss: 4053.504 \t T: 0.017\n",
      "[179,   300] \t Loss: 4060.884 \t T: 0.017\n",
      "[179,   400] \t Loss: 4048.741 \t T: 0.017\n"
     ]
    },
    {
     "name": "stderr",
     "output_type": "stream",
     "text": [
      " 60%|████████████████████████▍                | 179/300 [09:25<06:19,  3.14s/it]"
     ]
    },
    {
     "name": "stdout",
     "output_type": "stream",
     "text": [
      "[180,   100] \t Loss: 4025.359 \t T: 0.017\n",
      "[180,   200] \t Loss: 4049.523 \t T: 0.017\n",
      "[180,   300] \t Loss: 4043.480 \t T: 0.017\n",
      "[180,   400] \t Loss: 4053.642 \t T: 0.017\n"
     ]
    },
    {
     "name": "stderr",
     "output_type": "stream",
     "text": [
      " 60%|████████████████████████▌                | 180/300 [09:28<06:24,  3.21s/it]"
     ]
    },
    {
     "name": "stdout",
     "output_type": "stream",
     "text": [
      "[181,   100] \t Loss: 4057.262 \t T: 0.016\n",
      "[181,   200] \t Loss: 4042.045 \t T: 0.016\n",
      "[181,   300] \t Loss: 4051.991 \t T: 0.016\n",
      "[181,   400] \t Loss: 4051.607 \t T: 0.016\n"
     ]
    },
    {
     "name": "stderr",
     "output_type": "stream",
     "text": [
      " 60%|████████████████████████▋                | 181/300 [09:31<06:26,  3.25s/it]"
     ]
    },
    {
     "name": "stdout",
     "output_type": "stream",
     "text": [
      "[182,   100] \t Loss: 4042.414 \t T: 0.016\n",
      "[182,   200] \t Loss: 4053.011 \t T: 0.016\n",
      "[182,   300] \t Loss: 4048.543 \t T: 0.016\n",
      "[182,   400] \t Loss: 4042.028 \t T: 0.016\n"
     ]
    },
    {
     "name": "stderr",
     "output_type": "stream",
     "text": [
      " 61%|████████████████████████▊                | 182/300 [09:35<06:18,  3.21s/it]"
     ]
    },
    {
     "name": "stdout",
     "output_type": "stream",
     "text": [
      "[183,   100] \t Loss: 4042.051 \t T: 0.016\n",
      "[183,   200] \t Loss: 4047.112 \t T: 0.016\n",
      "[183,   300] \t Loss: 4030.703 \t T: 0.016\n",
      "[183,   400] \t Loss: 4057.546 \t T: 0.016\n"
     ]
    },
    {
     "name": "stderr",
     "output_type": "stream",
     "text": [
      " 61%|█████████████████████████                | 183/300 [09:38<06:10,  3.17s/it]"
     ]
    },
    {
     "name": "stdout",
     "output_type": "stream",
     "text": [
      "[184,   100] \t Loss: 4040.147 \t T: 0.016\n",
      "[184,   200] \t Loss: 4010.276 \t T: 0.016\n",
      "[184,   300] \t Loss: 4031.941 \t T: 0.016\n",
      "[184,   400] \t Loss: 4060.682 \t T: 0.016\n"
     ]
    },
    {
     "name": "stderr",
     "output_type": "stream",
     "text": [
      " 61%|█████████████████████████▏               | 184/300 [09:41<06:03,  3.13s/it]"
     ]
    },
    {
     "name": "stdout",
     "output_type": "stream",
     "text": [
      "[185,   100] \t Loss: 4015.024 \t T: 0.016\n",
      "[185,   200] \t Loss: 4039.629 \t T: 0.016\n",
      "[185,   300] \t Loss: 4050.888 \t T: 0.016\n",
      "[185,   400] \t Loss: 4047.534 \t T: 0.016\n"
     ]
    },
    {
     "name": "stderr",
     "output_type": "stream",
     "text": [
      " 62%|█████████████████████████▎               | 185/300 [09:44<05:58,  3.12s/it]"
     ]
    },
    {
     "name": "stdout",
     "output_type": "stream",
     "text": [
      "[186,   100] \t Loss: 4044.597 \t T: 0.016\n",
      "[186,   200] \t Loss: 4041.537 \t T: 0.016\n",
      "[186,   300] \t Loss: 4021.087 \t T: 0.016\n",
      "[186,   400] \t Loss: 4053.593 \t T: 0.016\n"
     ]
    },
    {
     "name": "stderr",
     "output_type": "stream",
     "text": [
      " 62%|█████████████████████████▍               | 186/300 [09:47<05:55,  3.12s/it]"
     ]
    },
    {
     "name": "stdout",
     "output_type": "stream",
     "text": [
      "[187,   100] \t Loss: 4013.041 \t T: 0.015\n",
      "[187,   200] \t Loss: 4036.410 \t T: 0.015\n",
      "[187,   300] \t Loss: 4047.332 \t T: 0.015\n",
      "[187,   400] \t Loss: 4032.212 \t T: 0.015\n"
     ]
    },
    {
     "name": "stderr",
     "output_type": "stream",
     "text": [
      " 62%|█████████████████████████▌               | 187/300 [09:50<05:50,  3.10s/it]"
     ]
    },
    {
     "name": "stdout",
     "output_type": "stream",
     "text": [
      "[188,   100] \t Loss: 4033.703 \t T: 0.015\n",
      "[188,   200] \t Loss: 4039.048 \t T: 0.015\n",
      "[188,   300] \t Loss: 4041.222 \t T: 0.015\n",
      "[188,   400] \t Loss: 4020.679 \t T: 0.015\n"
     ]
    },
    {
     "name": "stderr",
     "output_type": "stream",
     "text": [
      " 63%|█████████████████████████▋               | 188/300 [09:53<05:46,  3.09s/it]"
     ]
    },
    {
     "name": "stdout",
     "output_type": "stream",
     "text": [
      "[189,   100] \t Loss: 4032.403 \t T: 0.015\n",
      "[189,   200] \t Loss: 4039.981 \t T: 0.015\n",
      "[189,   300] \t Loss: 4015.128 \t T: 0.015\n",
      "[189,   400] \t Loss: 4019.810 \t T: 0.015\n"
     ]
    },
    {
     "name": "stderr",
     "output_type": "stream",
     "text": [
      " 63%|█████████████████████████▊               | 189/300 [09:56<05:42,  3.08s/it]"
     ]
    },
    {
     "name": "stdout",
     "output_type": "stream",
     "text": [
      "[190,   100] \t Loss: 4016.340 \t T: 0.015\n",
      "[190,   200] \t Loss: 4063.864 \t T: 0.015\n",
      "[190,   300] \t Loss: 4030.070 \t T: 0.015\n",
      "[190,   400] \t Loss: 4020.741 \t T: 0.015\n"
     ]
    },
    {
     "name": "stderr",
     "output_type": "stream",
     "text": [
      " 63%|█████████████████████████▉               | 190/300 [09:59<05:38,  3.08s/it]"
     ]
    },
    {
     "name": "stdout",
     "output_type": "stream",
     "text": [
      "[191,   100] \t Loss: 4040.344 \t T: 0.015\n",
      "[191,   200] \t Loss: 4042.138 \t T: 0.015\n",
      "[191,   300] \t Loss: 4038.059 \t T: 0.015\n",
      "[191,   400] \t Loss: 4027.260 \t T: 0.015\n"
     ]
    },
    {
     "name": "stderr",
     "output_type": "stream",
     "text": [
      " 64%|██████████████████████████               | 191/300 [10:02<05:35,  3.08s/it]"
     ]
    },
    {
     "name": "stdout",
     "output_type": "stream",
     "text": [
      "[192,   100] \t Loss: 4028.273 \t T: 0.015\n",
      "[192,   200] \t Loss: 4026.444 \t T: 0.015\n",
      "[192,   300] \t Loss: 4021.221 \t T: 0.015\n",
      "[192,   400] \t Loss: 4021.991 \t T: 0.015\n"
     ]
    },
    {
     "name": "stderr",
     "output_type": "stream",
     "text": [
      " 64%|██████████████████████████▏              | 192/300 [10:05<05:31,  3.07s/it]"
     ]
    },
    {
     "name": "stdout",
     "output_type": "stream",
     "text": [
      "[193,   100] \t Loss: 4038.500 \t T: 0.015\n",
      "[193,   200] \t Loss: 3995.123 \t T: 0.015\n",
      "[193,   300] \t Loss: 4020.972 \t T: 0.015\n",
      "[193,   400] \t Loss: 4023.493 \t T: 0.015\n"
     ]
    },
    {
     "name": "stderr",
     "output_type": "stream",
     "text": [
      " 64%|██████████████████████████▍              | 193/300 [10:08<05:29,  3.08s/it]"
     ]
    },
    {
     "name": "stdout",
     "output_type": "stream",
     "text": [
      "[194,   100] \t Loss: 4026.954 \t T: 0.014\n",
      "[194,   200] \t Loss: 4052.302 \t T: 0.014\n",
      "[194,   300] \t Loss: 4007.635 \t T: 0.014\n",
      "[194,   400] \t Loss: 4021.230 \t T: 0.014\n"
     ]
    },
    {
     "name": "stderr",
     "output_type": "stream",
     "text": [
      " 65%|██████████████████████████▌              | 194/300 [10:12<05:26,  3.08s/it]"
     ]
    },
    {
     "name": "stdout",
     "output_type": "stream",
     "text": [
      "[195,   100] \t Loss: 4004.560 \t T: 0.014\n",
      "[195,   200] \t Loss: 4019.946 \t T: 0.014\n",
      "[195,   300] \t Loss: 4018.762 \t T: 0.014\n",
      "[195,   400] \t Loss: 4013.071 \t T: 0.014\n"
     ]
    },
    {
     "name": "stderr",
     "output_type": "stream",
     "text": [
      " 65%|██████████████████████████▋              | 195/300 [10:15<05:23,  3.08s/it]"
     ]
    },
    {
     "name": "stdout",
     "output_type": "stream",
     "text": [
      "[196,   100] \t Loss: 4040.664 \t T: 0.014\n",
      "[196,   200] \t Loss: 3997.654 \t T: 0.014\n",
      "[196,   300] \t Loss: 4012.473 \t T: 0.014\n",
      "[196,   400] \t Loss: 4004.415 \t T: 0.014\n"
     ]
    },
    {
     "name": "stderr",
     "output_type": "stream",
     "text": [
      " 65%|██████████████████████████▊              | 196/300 [10:18<05:21,  3.09s/it]"
     ]
    },
    {
     "name": "stdout",
     "output_type": "stream",
     "text": [
      "[197,   100] \t Loss: 4005.209 \t T: 0.014\n",
      "[197,   200] \t Loss: 4010.810 \t T: 0.014\n",
      "[197,   300] \t Loss: 4040.985 \t T: 0.014\n",
      "[197,   400] \t Loss: 4008.079 \t T: 0.014\n"
     ]
    },
    {
     "name": "stderr",
     "output_type": "stream",
     "text": [
      " 66%|██████████████████████████▉              | 197/300 [10:21<05:17,  3.09s/it]"
     ]
    },
    {
     "name": "stdout",
     "output_type": "stream",
     "text": [
      "[198,   100] \t Loss: 4023.671 \t T: 0.014\n",
      "[198,   200] \t Loss: 3983.734 \t T: 0.014\n",
      "[198,   300] \t Loss: 4021.735 \t T: 0.014\n",
      "[198,   400] \t Loss: 4014.854 \t T: 0.014\n"
     ]
    },
    {
     "name": "stderr",
     "output_type": "stream",
     "text": [
      " 66%|███████████████████████████              | 198/300 [10:24<05:14,  3.09s/it]"
     ]
    },
    {
     "name": "stdout",
     "output_type": "stream",
     "text": [
      "[199,   100] \t Loss: 3999.873 \t T: 0.014\n",
      "[199,   200] \t Loss: 4001.128 \t T: 0.014\n",
      "[199,   300] \t Loss: 4033.172 \t T: 0.014\n",
      "[199,   400] \t Loss: 4019.026 \t T: 0.014\n"
     ]
    },
    {
     "name": "stderr",
     "output_type": "stream",
     "text": [
      " 66%|███████████████████████████▏             | 199/300 [10:27<05:11,  3.09s/it]"
     ]
    },
    {
     "name": "stdout",
     "output_type": "stream",
     "text": [
      "[200,   100] \t Loss: 4020.927 \t T: 0.014\n",
      "[200,   200] \t Loss: 4035.970 \t T: 0.014\n",
      "[200,   300] \t Loss: 3995.392 \t T: 0.014\n",
      "[200,   400] \t Loss: 4002.696 \t T: 0.014\n"
     ]
    },
    {
     "name": "stderr",
     "output_type": "stream",
     "text": [
      " 67%|███████████████████████████▎             | 200/300 [10:30<05:08,  3.09s/it]"
     ]
    },
    {
     "name": "stdout",
     "output_type": "stream",
     "text": [
      "[201,   100] \t Loss: 4014.691 \t T: 0.013\n",
      "[201,   200] \t Loss: 4012.713 \t T: 0.013\n",
      "[201,   300] \t Loss: 4013.008 \t T: 0.013\n",
      "[201,   400] \t Loss: 4012.042 \t T: 0.013\n"
     ]
    },
    {
     "name": "stderr",
     "output_type": "stream",
     "text": [
      " 67%|███████████████████████████▍             | 201/300 [10:33<05:05,  3.09s/it]"
     ]
    },
    {
     "name": "stdout",
     "output_type": "stream",
     "text": [
      "[202,   100] \t Loss: 4007.850 \t T: 0.013\n",
      "[202,   200] \t Loss: 3996.234 \t T: 0.013\n",
      "[202,   300] \t Loss: 4023.645 \t T: 0.013\n",
      "[202,   400] \t Loss: 4025.690 \t T: 0.013\n"
     ]
    },
    {
     "name": "stderr",
     "output_type": "stream",
     "text": [
      " 67%|███████████████████████████▌             | 202/300 [10:36<05:03,  3.09s/it]"
     ]
    },
    {
     "name": "stdout",
     "output_type": "stream",
     "text": [
      "[203,   100] \t Loss: 4042.967 \t T: 0.013\n",
      "[203,   200] \t Loss: 3995.791 \t T: 0.013\n",
      "[203,   300] \t Loss: 4001.907 \t T: 0.013\n",
      "[203,   400] \t Loss: 4009.515 \t T: 0.013\n"
     ]
    },
    {
     "name": "stderr",
     "output_type": "stream",
     "text": [
      " 68%|███████████████████████████▋             | 203/300 [10:39<04:59,  3.09s/it]"
     ]
    },
    {
     "name": "stdout",
     "output_type": "stream",
     "text": [
      "[204,   100] \t Loss: 3997.760 \t T: 0.013\n",
      "[204,   200] \t Loss: 4027.293 \t T: 0.013\n",
      "[204,   300] \t Loss: 4005.553 \t T: 0.013\n",
      "[204,   400] \t Loss: 3986.356 \t T: 0.013\n"
     ]
    },
    {
     "name": "stderr",
     "output_type": "stream",
     "text": [
      " 68%|███████████████████████████▉             | 204/300 [10:42<04:56,  3.08s/it]"
     ]
    },
    {
     "name": "stdout",
     "output_type": "stream",
     "text": [
      "[205,   100] \t Loss: 4020.260 \t T: 0.013\n",
      "[205,   200] \t Loss: 4016.408 \t T: 0.013\n",
      "[205,   300] \t Loss: 3993.826 \t T: 0.013\n",
      "[205,   400] \t Loss: 4005.750 \t T: 0.013\n"
     ]
    },
    {
     "name": "stderr",
     "output_type": "stream",
     "text": [
      " 68%|████████████████████████████             | 205/300 [10:45<04:52,  3.08s/it]"
     ]
    },
    {
     "name": "stdout",
     "output_type": "stream",
     "text": [
      "[206,   100] \t Loss: 4012.981 \t T: 0.013\n",
      "[206,   200] \t Loss: 4007.795 \t T: 0.013\n",
      "[206,   300] \t Loss: 4009.997 \t T: 0.013\n",
      "[206,   400] \t Loss: 3985.225 \t T: 0.013\n"
     ]
    },
    {
     "name": "stderr",
     "output_type": "stream",
     "text": [
      " 69%|████████████████████████████▏            | 206/300 [10:49<04:50,  3.09s/it]"
     ]
    },
    {
     "name": "stdout",
     "output_type": "stream",
     "text": [
      "[207,   100] \t Loss: 4000.834 \t T: 0.013\n",
      "[207,   200] \t Loss: 3989.239 \t T: 0.013\n",
      "[207,   300] \t Loss: 4006.146 \t T: 0.013\n",
      "[207,   400] \t Loss: 4011.662 \t T: 0.013\n"
     ]
    },
    {
     "name": "stderr",
     "output_type": "stream",
     "text": [
      " 69%|████████████████████████████▎            | 207/300 [10:52<04:47,  3.09s/it]"
     ]
    },
    {
     "name": "stdout",
     "output_type": "stream",
     "text": [
      "[208,   100] \t Loss: 4000.826 \t T: 0.012\n",
      "[208,   200] \t Loss: 4011.709 \t T: 0.012\n",
      "[208,   300] \t Loss: 3996.862 \t T: 0.012\n",
      "[208,   400] \t Loss: 3987.097 \t T: 0.012\n"
     ]
    },
    {
     "name": "stderr",
     "output_type": "stream",
     "text": [
      " 69%|████████████████████████████▍            | 208/300 [10:55<04:44,  3.09s/it]"
     ]
    },
    {
     "name": "stdout",
     "output_type": "stream",
     "text": [
      "[209,   100] \t Loss: 4016.472 \t T: 0.012\n",
      "[209,   200] \t Loss: 3979.548 \t T: 0.012\n",
      "[209,   300] \t Loss: 4005.245 \t T: 0.012\n",
      "[209,   400] \t Loss: 3994.937 \t T: 0.012\n"
     ]
    },
    {
     "name": "stderr",
     "output_type": "stream",
     "text": [
      " 70%|████████████████████████████▌            | 209/300 [10:58<04:41,  3.10s/it]"
     ]
    },
    {
     "name": "stdout",
     "output_type": "stream",
     "text": [
      "[210,   100] \t Loss: 3976.317 \t T: 0.012\n",
      "[210,   200] \t Loss: 4014.312 \t T: 0.012\n",
      "[210,   300] \t Loss: 4018.615 \t T: 0.012\n",
      "[210,   400] \t Loss: 4005.237 \t T: 0.012\n"
     ]
    },
    {
     "name": "stderr",
     "output_type": "stream",
     "text": [
      " 70%|████████████████████████████▋            | 210/300 [11:01<04:38,  3.09s/it]"
     ]
    },
    {
     "name": "stdout",
     "output_type": "stream",
     "text": [
      "[211,   100] \t Loss: 3998.331 \t T: 0.012\n",
      "[211,   200] \t Loss: 4011.200 \t T: 0.012\n",
      "[211,   300] \t Loss: 4000.568 \t T: 0.012\n",
      "[211,   400] \t Loss: 3976.381 \t T: 0.012\n"
     ]
    },
    {
     "name": "stderr",
     "output_type": "stream",
     "text": [
      " 70%|████████████████████████████▊            | 211/300 [11:04<04:39,  3.14s/it]"
     ]
    },
    {
     "name": "stdout",
     "output_type": "stream",
     "text": [
      "[212,   100] \t Loss: 4003.399 \t T: 0.012\n",
      "[212,   200] \t Loss: 4002.430 \t T: 0.012\n",
      "[212,   300] \t Loss: 3991.895 \t T: 0.012\n",
      "[212,   400] \t Loss: 3980.786 \t T: 0.012\n"
     ]
    },
    {
     "name": "stderr",
     "output_type": "stream",
     "text": [
      " 71%|████████████████████████████▉            | 212/300 [11:07<04:36,  3.14s/it]"
     ]
    },
    {
     "name": "stdout",
     "output_type": "stream",
     "text": [
      "[213,   100] \t Loss: 3967.208 \t T: 0.012\n",
      "[213,   200] \t Loss: 3993.394 \t T: 0.012\n",
      "[213,   300] \t Loss: 4015.683 \t T: 0.012\n",
      "[213,   400] \t Loss: 3997.256 \t T: 0.012\n"
     ]
    },
    {
     "name": "stderr",
     "output_type": "stream",
     "text": [
      " 71%|█████████████████████████████            | 213/300 [11:10<04:32,  3.14s/it]"
     ]
    },
    {
     "name": "stdout",
     "output_type": "stream",
     "text": [
      "[214,   100] \t Loss: 4012.294 \t T: 0.012\n",
      "[214,   200] \t Loss: 3980.268 \t T: 0.012\n",
      "[214,   300] \t Loss: 3984.939 \t T: 0.012\n",
      "[214,   400] \t Loss: 4005.969 \t T: 0.012\n"
     ]
    },
    {
     "name": "stderr",
     "output_type": "stream",
     "text": [
      " 71%|█████████████████████████████▏           | 214/300 [11:14<04:30,  3.14s/it]"
     ]
    },
    {
     "name": "stdout",
     "output_type": "stream",
     "text": [
      "[215,   100] \t Loss: 3968.456 \t T: 0.012\n",
      "[215,   200] \t Loss: 4002.607 \t T: 0.012\n",
      "[215,   300] \t Loss: 4006.241 \t T: 0.012\n",
      "[215,   400] \t Loss: 3988.781 \t T: 0.012\n"
     ]
    },
    {
     "name": "stderr",
     "output_type": "stream",
     "text": [
      " 72%|█████████████████████████████▍           | 215/300 [11:17<04:26,  3.13s/it]"
     ]
    },
    {
     "name": "stdout",
     "output_type": "stream",
     "text": [
      "[216,   100] \t Loss: 3976.915 \t T: 0.012\n",
      "[216,   200] \t Loss: 3994.332 \t T: 0.012\n",
      "[216,   300] \t Loss: 4003.952 \t T: 0.012\n",
      "[216,   400] \t Loss: 3983.257 \t T: 0.012\n"
     ]
    },
    {
     "name": "stderr",
     "output_type": "stream",
     "text": [
      " 72%|█████████████████████████████▌           | 216/300 [11:20<04:34,  3.27s/it]"
     ]
    },
    {
     "name": "stdout",
     "output_type": "stream",
     "text": [
      "[217,   100] \t Loss: 3979.723 \t T: 0.011\n",
      "[217,   200] \t Loss: 3970.875 \t T: 0.011\n",
      "[217,   300] \t Loss: 3983.537 \t T: 0.011\n",
      "[217,   400] \t Loss: 4004.289 \t T: 0.011\n"
     ]
    },
    {
     "name": "stderr",
     "output_type": "stream",
     "text": [
      " 72%|█████████████████████████████▋           | 217/300 [11:23<04:27,  3.22s/it]"
     ]
    },
    {
     "name": "stdout",
     "output_type": "stream",
     "text": [
      "[218,   100] \t Loss: 3991.580 \t T: 0.011\n",
      "[218,   200] \t Loss: 3965.260 \t T: 0.011\n",
      "[218,   300] \t Loss: 4003.887 \t T: 0.011\n",
      "[218,   400] \t Loss: 4002.059 \t T: 0.011\n"
     ]
    },
    {
     "name": "stderr",
     "output_type": "stream",
     "text": [
      " 73%|█████████████████████████████▊           | 218/300 [11:27<04:21,  3.19s/it]"
     ]
    },
    {
     "name": "stdout",
     "output_type": "stream",
     "text": [
      "[219,   100] \t Loss: 3986.679 \t T: 0.011\n",
      "[219,   200] \t Loss: 3965.407 \t T: 0.011\n",
      "[219,   300] \t Loss: 4008.692 \t T: 0.011\n",
      "[219,   400] \t Loss: 4005.571 \t T: 0.011\n"
     ]
    },
    {
     "name": "stderr",
     "output_type": "stream",
     "text": [
      " 73%|█████████████████████████████▉           | 219/300 [11:30<04:19,  3.20s/it]"
     ]
    },
    {
     "name": "stdout",
     "output_type": "stream",
     "text": [
      "[220,   100] \t Loss: 3988.082 \t T: 0.011\n",
      "[220,   200] \t Loss: 3987.611 \t T: 0.011\n",
      "[220,   300] \t Loss: 3978.106 \t T: 0.011\n",
      "[220,   400] \t Loss: 3978.004 \t T: 0.011\n"
     ]
    },
    {
     "name": "stderr",
     "output_type": "stream",
     "text": [
      " 73%|██████████████████████████████           | 220/300 [11:33<04:13,  3.17s/it]"
     ]
    },
    {
     "name": "stdout",
     "output_type": "stream",
     "text": [
      "[221,   100] \t Loss: 4013.406 \t T: 0.011\n",
      "[221,   200] \t Loss: 3964.949 \t T: 0.011\n",
      "[221,   300] \t Loss: 3981.740 \t T: 0.011\n",
      "[221,   400] \t Loss: 4000.398 \t T: 0.011\n"
     ]
    },
    {
     "name": "stderr",
     "output_type": "stream",
     "text": [
      " 74%|██████████████████████████████▏          | 221/300 [11:36<04:08,  3.15s/it]"
     ]
    },
    {
     "name": "stdout",
     "output_type": "stream",
     "text": [
      "[222,   100] \t Loss: 3983.359 \t T: 0.011\n",
      "[222,   200] \t Loss: 3995.004 \t T: 0.011\n",
      "[222,   300] \t Loss: 3984.045 \t T: 0.011\n",
      "[222,   400] \t Loss: 3965.887 \t T: 0.011\n"
     ]
    },
    {
     "name": "stderr",
     "output_type": "stream",
     "text": [
      " 74%|██████████████████████████████▎          | 222/300 [11:39<04:05,  3.15s/it]"
     ]
    },
    {
     "name": "stdout",
     "output_type": "stream",
     "text": [
      "[223,   100] \t Loss: 3998.861 \t T: 0.011\n",
      "[223,   200] \t Loss: 3964.881 \t T: 0.011\n",
      "[223,   300] \t Loss: 4001.453 \t T: 0.011\n",
      "[223,   400] \t Loss: 3975.427 \t T: 0.011\n"
     ]
    },
    {
     "name": "stderr",
     "output_type": "stream",
     "text": [
      " 74%|██████████████████████████████▍          | 223/300 [11:42<04:01,  3.14s/it]"
     ]
    },
    {
     "name": "stdout",
     "output_type": "stream",
     "text": [
      "[224,   100] \t Loss: 3984.012 \t T: 0.011\n",
      "[224,   200] \t Loss: 3975.733 \t T: 0.011\n",
      "[224,   300] \t Loss: 3944.627 \t T: 0.011\n",
      "[224,   400] \t Loss: 4013.221 \t T: 0.011\n"
     ]
    },
    {
     "name": "stderr",
     "output_type": "stream",
     "text": [
      " 75%|██████████████████████████████▌          | 224/300 [11:45<03:58,  3.13s/it]"
     ]
    },
    {
     "name": "stdout",
     "output_type": "stream",
     "text": [
      "[225,   100] \t Loss: 3987.064 \t T: 0.011\n",
      "[225,   200] \t Loss: 3972.805 \t T: 0.011\n",
      "[225,   300] \t Loss: 4015.692 \t T: 0.011\n",
      "[225,   400] \t Loss: 3976.624 \t T: 0.011\n"
     ]
    },
    {
     "name": "stderr",
     "output_type": "stream",
     "text": [
      " 75%|██████████████████████████████▊          | 225/300 [11:49<03:56,  3.15s/it]"
     ]
    },
    {
     "name": "stdout",
     "output_type": "stream",
     "text": [
      "[226,   100] \t Loss: 3983.869 \t T: 0.010\n",
      "[226,   200] \t Loss: 3999.565 \t T: 0.010\n",
      "[226,   300] \t Loss: 3969.600 \t T: 0.010\n",
      "[226,   400] \t Loss: 3976.250 \t T: 0.010\n"
     ]
    },
    {
     "name": "stderr",
     "output_type": "stream",
     "text": [
      " 75%|██████████████████████████████▉          | 226/300 [11:52<03:52,  3.15s/it]"
     ]
    },
    {
     "name": "stdout",
     "output_type": "stream",
     "text": [
      "[227,   100] \t Loss: 3977.778 \t T: 0.010\n",
      "[227,   200] \t Loss: 3993.910 \t T: 0.010\n",
      "[227,   300] \t Loss: 3987.597 \t T: 0.010\n",
      "[227,   400] \t Loss: 3973.901 \t T: 0.010\n"
     ]
    },
    {
     "name": "stderr",
     "output_type": "stream",
     "text": [
      " 76%|███████████████████████████████          | 227/300 [11:55<03:48,  3.13s/it]"
     ]
    },
    {
     "name": "stdout",
     "output_type": "stream",
     "text": [
      "[228,   100] \t Loss: 3980.266 \t T: 0.010\n",
      "[228,   200] \t Loss: 3993.900 \t T: 0.010\n",
      "[228,   300] \t Loss: 3990.643 \t T: 0.010\n",
      "[228,   400] \t Loss: 3941.033 \t T: 0.010\n"
     ]
    },
    {
     "name": "stderr",
     "output_type": "stream",
     "text": [
      " 76%|███████████████████████████████▏         | 228/300 [11:58<03:45,  3.14s/it]"
     ]
    },
    {
     "name": "stdout",
     "output_type": "stream",
     "text": [
      "[229,   100] \t Loss: 4012.043 \t T: 0.010\n",
      "[229,   200] \t Loss: 3970.983 \t T: 0.010\n",
      "[229,   300] \t Loss: 3980.870 \t T: 0.010\n",
      "[229,   400] \t Loss: 3954.155 \t T: 0.010\n"
     ]
    },
    {
     "name": "stderr",
     "output_type": "stream",
     "text": [
      " 76%|███████████████████████████████▎         | 229/300 [12:01<03:41,  3.11s/it]"
     ]
    },
    {
     "name": "stdout",
     "output_type": "stream",
     "text": [
      "[230,   100] \t Loss: 3983.990 \t T: 0.010\n",
      "[230,   200] \t Loss: 3952.766 \t T: 0.010\n",
      "[230,   300] \t Loss: 3979.011 \t T: 0.010\n",
      "[230,   400] \t Loss: 3980.384 \t T: 0.010\n"
     ]
    },
    {
     "name": "stderr",
     "output_type": "stream",
     "text": [
      " 77%|███████████████████████████████▍         | 230/300 [12:04<03:38,  3.13s/it]"
     ]
    },
    {
     "name": "stdout",
     "output_type": "stream",
     "text": [
      "[231,   100] \t Loss: 3970.911 \t T: 0.010\n",
      "[231,   200] \t Loss: 3974.403 \t T: 0.010\n",
      "[231,   300] \t Loss: 3979.778 \t T: 0.010\n",
      "[231,   400] \t Loss: 3976.699 \t T: 0.010\n"
     ]
    },
    {
     "name": "stderr",
     "output_type": "stream",
     "text": [
      " 77%|███████████████████████████████▌         | 231/300 [12:07<03:35,  3.12s/it]"
     ]
    },
    {
     "name": "stdout",
     "output_type": "stream",
     "text": [
      "[232,   100] \t Loss: 3957.102 \t T: 0.010\n",
      "[232,   200] \t Loss: 3997.593 \t T: 0.010\n",
      "[232,   300] \t Loss: 3980.685 \t T: 0.010\n",
      "[232,   400] \t Loss: 3979.508 \t T: 0.010\n"
     ]
    },
    {
     "name": "stderr",
     "output_type": "stream",
     "text": [
      " 77%|███████████████████████████████▋         | 232/300 [12:10<03:32,  3.12s/it]"
     ]
    },
    {
     "name": "stdout",
     "output_type": "stream",
     "text": [
      "[233,   100] \t Loss: 3970.172 \t T: 0.010\n",
      "[233,   200] \t Loss: 3964.354 \t T: 0.010\n",
      "[233,   300] \t Loss: 3992.593 \t T: 0.010\n",
      "[233,   400] \t Loss: 3978.101 \t T: 0.010\n"
     ]
    },
    {
     "name": "stderr",
     "output_type": "stream",
     "text": [
      " 78%|███████████████████████████████▊         | 233/300 [12:13<03:28,  3.11s/it]"
     ]
    },
    {
     "name": "stdout",
     "output_type": "stream",
     "text": [
      "[234,   100] \t Loss: 3989.627 \t T: 0.010\n",
      "[234,   200] \t Loss: 3981.615 \t T: 0.010\n",
      "[234,   300] \t Loss: 3960.846 \t T: 0.010\n",
      "[234,   400] \t Loss: 3969.624 \t T: 0.010\n"
     ]
    },
    {
     "name": "stderr",
     "output_type": "stream",
     "text": [
      " 78%|███████████████████████████████▉         | 234/300 [12:17<03:34,  3.24s/it]"
     ]
    },
    {
     "name": "stdout",
     "output_type": "stream",
     "text": [
      "[235,   100] \t Loss: 3973.854 \t T: 0.010\n",
      "[235,   200] \t Loss: 3985.054 \t T: 0.010\n",
      "[235,   300] \t Loss: 3948.449 \t T: 0.010\n",
      "[235,   400] \t Loss: 3982.267 \t T: 0.010\n"
     ]
    },
    {
     "name": "stderr",
     "output_type": "stream",
     "text": [
      " 78%|████████████████████████████████         | 235/300 [12:20<03:29,  3.23s/it]"
     ]
    },
    {
     "name": "stdout",
     "output_type": "stream",
     "text": [
      "[236,   100] \t Loss: 3955.191 \t T: 0.010\n",
      "[236,   200] \t Loss: 3968.795 \t T: 0.010\n",
      "[236,   300] \t Loss: 3989.504 \t T: 0.010\n",
      "[236,   400] \t Loss: 3965.013 \t T: 0.010\n"
     ]
    },
    {
     "name": "stderr",
     "output_type": "stream",
     "text": [
      " 79%|████████████████████████████████▎        | 236/300 [12:23<03:25,  3.21s/it]"
     ]
    },
    {
     "name": "stdout",
     "output_type": "stream",
     "text": [
      "[237,   100] \t Loss: 3987.723 \t T: 0.010\n",
      "[237,   200] \t Loss: 3963.688 \t T: 0.010\n",
      "[237,   300] \t Loss: 3953.336 \t T: 0.010\n",
      "[237,   400] \t Loss: 3972.143 \t T: 0.010\n"
     ]
    },
    {
     "name": "stderr",
     "output_type": "stream",
     "text": [
      " 79%|████████████████████████████████▍        | 237/300 [12:27<03:21,  3.20s/it]"
     ]
    },
    {
     "name": "stdout",
     "output_type": "stream",
     "text": [
      "[238,   100] \t Loss: 3956.329 \t T: 0.010\n",
      "[238,   200] \t Loss: 3972.249 \t T: 0.010\n",
      "[238,   300] \t Loss: 4006.928 \t T: 0.010\n",
      "[238,   400] \t Loss: 3956.121 \t T: 0.010\n"
     ]
    },
    {
     "name": "stderr",
     "output_type": "stream",
     "text": [
      " 79%|████████████████████████████████▌        | 238/300 [12:30<03:20,  3.23s/it]"
     ]
    },
    {
     "name": "stdout",
     "output_type": "stream",
     "text": [
      "[239,   100] \t Loss: 3961.959 \t T: 0.010\n",
      "[239,   200] \t Loss: 3952.812 \t T: 0.010\n",
      "[239,   300] \t Loss: 3968.617 \t T: 0.010\n",
      "[239,   400] \t Loss: 3957.988 \t T: 0.010\n"
     ]
    },
    {
     "name": "stderr",
     "output_type": "stream",
     "text": [
      " 80%|████████████████████████████████▋        | 239/300 [12:33<03:17,  3.23s/it]"
     ]
    },
    {
     "name": "stdout",
     "output_type": "stream",
     "text": [
      "[240,   100] \t Loss: 3935.166 \t T: 0.010\n",
      "[240,   200] \t Loss: 3979.224 \t T: 0.010\n",
      "[240,   300] \t Loss: 3985.496 \t T: 0.010\n",
      "[240,   400] \t Loss: 3970.867 \t T: 0.010\n"
     ]
    },
    {
     "name": "stderr",
     "output_type": "stream",
     "text": [
      " 80%|████████████████████████████████▊        | 240/300 [12:36<03:13,  3.22s/it]"
     ]
    },
    {
     "name": "stdout",
     "output_type": "stream",
     "text": [
      "[241,   100] \t Loss: 3955.844 \t T: 0.010\n",
      "[241,   200] \t Loss: 3956.511 \t T: 0.010\n",
      "[241,   300] \t Loss: 3952.129 \t T: 0.010\n",
      "[241,   400] \t Loss: 3980.488 \t T: 0.010\n"
     ]
    },
    {
     "name": "stderr",
     "output_type": "stream",
     "text": [
      " 80%|████████████████████████████████▉        | 241/300 [12:39<03:09,  3.21s/it]"
     ]
    },
    {
     "name": "stdout",
     "output_type": "stream",
     "text": [
      "[242,   100] \t Loss: 3981.359 \t T: 0.010\n",
      "[242,   200] \t Loss: 3936.963 \t T: 0.010\n",
      "[242,   300] \t Loss: 3979.892 \t T: 0.010\n",
      "[242,   400] \t Loss: 3937.814 \t T: 0.010\n"
     ]
    },
    {
     "name": "stderr",
     "output_type": "stream",
     "text": [
      " 81%|█████████████████████████████████        | 242/300 [12:43<03:05,  3.19s/it]"
     ]
    },
    {
     "name": "stdout",
     "output_type": "stream",
     "text": [
      "[243,   100] \t Loss: 3954.045 \t T: 0.010\n",
      "[243,   200] \t Loss: 3974.809 \t T: 0.010\n",
      "[243,   300] \t Loss: 3956.962 \t T: 0.010\n",
      "[243,   400] \t Loss: 3973.200 \t T: 0.010\n"
     ]
    },
    {
     "name": "stderr",
     "output_type": "stream",
     "text": [
      " 81%|█████████████████████████████████▏       | 243/300 [12:46<03:01,  3.18s/it]"
     ]
    },
    {
     "name": "stdout",
     "output_type": "stream",
     "text": [
      "[244,   100] \t Loss: 3960.999 \t T: 0.010\n",
      "[244,   200] \t Loss: 3964.579 \t T: 0.010\n",
      "[244,   300] \t Loss: 3954.864 \t T: 0.010\n",
      "[244,   400] \t Loss: 3978.860 \t T: 0.010\n"
     ]
    },
    {
     "name": "stderr",
     "output_type": "stream",
     "text": [
      " 81%|█████████████████████████████████▎       | 244/300 [12:49<02:58,  3.19s/it]"
     ]
    },
    {
     "name": "stdout",
     "output_type": "stream",
     "text": [
      "[245,   100] \t Loss: 3961.754 \t T: 0.010\n",
      "[245,   200] \t Loss: 3961.895 \t T: 0.010\n",
      "[245,   300] \t Loss: 3974.674 \t T: 0.010\n",
      "[245,   400] \t Loss: 3961.533 \t T: 0.010\n"
     ]
    },
    {
     "name": "stderr",
     "output_type": "stream",
     "text": [
      " 82%|█████████████████████████████████▍       | 245/300 [12:52<02:56,  3.22s/it]"
     ]
    },
    {
     "name": "stdout",
     "output_type": "stream",
     "text": [
      "[246,   100] \t Loss: 3950.509 \t T: 0.010\n",
      "[246,   200] \t Loss: 3972.275 \t T: 0.010\n",
      "[246,   300] \t Loss: 3944.848 \t T: 0.010\n",
      "[246,   400] \t Loss: 3981.011 \t T: 0.010\n"
     ]
    },
    {
     "name": "stderr",
     "output_type": "stream",
     "text": [
      " 82%|█████████████████████████████████▌       | 246/300 [12:55<02:54,  3.22s/it]"
     ]
    },
    {
     "name": "stdout",
     "output_type": "stream",
     "text": [
      "[247,   100] \t Loss: 3957.552 \t T: 0.010\n",
      "[247,   200] \t Loss: 3951.049 \t T: 0.010\n",
      "[247,   300] \t Loss: 3957.064 \t T: 0.010\n",
      "[247,   400] \t Loss: 3939.843 \t T: 0.010\n"
     ]
    },
    {
     "name": "stderr",
     "output_type": "stream",
     "text": [
      " 82%|█████████████████████████████████▊       | 247/300 [12:59<02:52,  3.25s/it]"
     ]
    },
    {
     "name": "stdout",
     "output_type": "stream",
     "text": [
      "[248,   100] \t Loss: 3943.989 \t T: 0.010\n",
      "[248,   200] \t Loss: 3958.549 \t T: 0.010\n",
      "[248,   300] \t Loss: 3957.770 \t T: 0.010\n",
      "[248,   400] \t Loss: 3973.253 \t T: 0.010\n"
     ]
    },
    {
     "name": "stderr",
     "output_type": "stream",
     "text": [
      " 83%|█████████████████████████████████▉       | 248/300 [13:02<02:49,  3.25s/it]"
     ]
    },
    {
     "name": "stdout",
     "output_type": "stream",
     "text": [
      "[249,   100] \t Loss: 3974.122 \t T: 0.010\n",
      "[249,   200] \t Loss: 3952.250 \t T: 0.010\n",
      "[249,   300] \t Loss: 3972.260 \t T: 0.010\n",
      "[249,   400] \t Loss: 3939.539 \t T: 0.010\n"
     ]
    },
    {
     "name": "stderr",
     "output_type": "stream",
     "text": [
      " 83%|██████████████████████████████████       | 249/300 [13:05<02:44,  3.22s/it]"
     ]
    },
    {
     "name": "stdout",
     "output_type": "stream",
     "text": [
      "[250,   100] \t Loss: 3980.007 \t T: 0.010\n",
      "[250,   200] \t Loss: 3949.857 \t T: 0.010\n",
      "[250,   300] \t Loss: 3929.524 \t T: 0.010\n",
      "[250,   400] \t Loss: 3959.758 \t T: 0.010\n"
     ]
    },
    {
     "name": "stderr",
     "output_type": "stream",
     "text": [
      " 83%|██████████████████████████████████▏      | 250/300 [13:08<02:39,  3.19s/it]"
     ]
    },
    {
     "name": "stdout",
     "output_type": "stream",
     "text": [
      "[251,   100] \t Loss: 3944.159 \t T: 0.010\n",
      "[251,   200] \t Loss: 3931.814 \t T: 0.010\n",
      "[251,   300] \t Loss: 3976.312 \t T: 0.010\n",
      "[251,   400] \t Loss: 3959.851 \t T: 0.010\n"
     ]
    },
    {
     "name": "stderr",
     "output_type": "stream",
     "text": [
      " 84%|██████████████████████████████████▎      | 251/300 [13:11<02:35,  3.18s/it]"
     ]
    },
    {
     "name": "stdout",
     "output_type": "stream",
     "text": [
      "[252,   100] \t Loss: 3941.097 \t T: 0.010\n",
      "[252,   200] \t Loss: 3993.371 \t T: 0.010\n",
      "[252,   300] \t Loss: 3979.288 \t T: 0.010\n",
      "[252,   400] \t Loss: 3918.381 \t T: 0.010\n"
     ]
    },
    {
     "name": "stderr",
     "output_type": "stream",
     "text": [
      " 84%|██████████████████████████████████▍      | 252/300 [13:15<02:33,  3.20s/it]"
     ]
    },
    {
     "name": "stdout",
     "output_type": "stream",
     "text": [
      "[253,   100] \t Loss: 3933.970 \t T: 0.010\n",
      "[253,   200] \t Loss: 3951.356 \t T: 0.010\n",
      "[253,   300] \t Loss: 3952.212 \t T: 0.010\n",
      "[253,   400] \t Loss: 3972.891 \t T: 0.010\n"
     ]
    },
    {
     "name": "stderr",
     "output_type": "stream",
     "text": [
      " 84%|██████████████████████████████████▌      | 253/300 [13:18<02:30,  3.20s/it]"
     ]
    },
    {
     "name": "stdout",
     "output_type": "stream",
     "text": [
      "[254,   100] \t Loss: 3947.227 \t T: 0.010\n",
      "[254,   200] \t Loss: 3960.587 \t T: 0.010\n",
      "[254,   300] \t Loss: 3970.105 \t T: 0.010\n",
      "[254,   400] \t Loss: 3936.331 \t T: 0.010\n"
     ]
    },
    {
     "name": "stderr",
     "output_type": "stream",
     "text": [
      " 85%|██████████████████████████████████▋      | 254/300 [13:21<02:28,  3.22s/it]"
     ]
    },
    {
     "name": "stdout",
     "output_type": "stream",
     "text": [
      "[255,   100] \t Loss: 3964.270 \t T: 0.010\n",
      "[255,   200] \t Loss: 3959.416 \t T: 0.010\n",
      "[255,   300] \t Loss: 3966.979 \t T: 0.010\n",
      "[255,   400] \t Loss: 3947.791 \t T: 0.010\n"
     ]
    },
    {
     "name": "stderr",
     "output_type": "stream",
     "text": [
      " 85%|██████████████████████████████████▊      | 255/300 [13:24<02:23,  3.19s/it]"
     ]
    },
    {
     "name": "stdout",
     "output_type": "stream",
     "text": [
      "[256,   100] \t Loss: 3985.757 \t T: 0.010\n",
      "[256,   200] \t Loss: 3937.514 \t T: 0.010\n",
      "[256,   300] \t Loss: 3957.223 \t T: 0.010\n",
      "[256,   400] \t Loss: 3932.127 \t T: 0.010\n"
     ]
    },
    {
     "name": "stderr",
     "output_type": "stream",
     "text": [
      " 85%|██████████████████████████████████▉      | 256/300 [13:27<02:19,  3.17s/it]"
     ]
    },
    {
     "name": "stdout",
     "output_type": "stream",
     "text": [
      "[257,   100] \t Loss: 3947.058 \t T: 0.010\n",
      "[257,   200] \t Loss: 3959.760 \t T: 0.010\n",
      "[257,   300] \t Loss: 3946.085 \t T: 0.010\n",
      "[257,   400] \t Loss: 3941.637 \t T: 0.010\n"
     ]
    },
    {
     "name": "stderr",
     "output_type": "stream",
     "text": [
      " 86%|███████████████████████████████████      | 257/300 [13:31<02:17,  3.20s/it]"
     ]
    },
    {
     "name": "stdout",
     "output_type": "stream",
     "text": [
      "[258,   100] \t Loss: 3931.001 \t T: 0.010\n",
      "[258,   200] \t Loss: 3947.853 \t T: 0.010\n",
      "[258,   300] \t Loss: 3958.826 \t T: 0.010\n",
      "[258,   400] \t Loss: 3912.961 \t T: 0.010\n"
     ]
    },
    {
     "name": "stderr",
     "output_type": "stream",
     "text": [
      " 86%|███████████████████████████████████▎     | 258/300 [13:34<02:14,  3.20s/it]"
     ]
    },
    {
     "name": "stdout",
     "output_type": "stream",
     "text": [
      "[259,   100] \t Loss: 3948.465 \t T: 0.010\n",
      "[259,   200] \t Loss: 3960.985 \t T: 0.010\n",
      "[259,   300] \t Loss: 3908.554 \t T: 0.010\n",
      "[259,   400] \t Loss: 3946.241 \t T: 0.010\n"
     ]
    },
    {
     "name": "stderr",
     "output_type": "stream",
     "text": [
      " 86%|███████████████████████████████████▍     | 259/300 [13:37<02:12,  3.23s/it]"
     ]
    },
    {
     "name": "stdout",
     "output_type": "stream",
     "text": [
      "[260,   100] \t Loss: 3970.463 \t T: 0.010\n",
      "[260,   200] \t Loss: 3945.710 \t T: 0.010\n",
      "[260,   300] \t Loss: 3967.221 \t T: 0.010\n",
      "[260,   400] \t Loss: 3923.228 \t T: 0.010\n"
     ]
    },
    {
     "name": "stderr",
     "output_type": "stream",
     "text": [
      " 87%|███████████████████████████████████▌     | 260/300 [13:41<02:11,  3.29s/it]"
     ]
    },
    {
     "name": "stdout",
     "output_type": "stream",
     "text": [
      "[261,   100] \t Loss: 3940.852 \t T: 0.010\n",
      "[261,   200] \t Loss: 3929.280 \t T: 0.010\n",
      "[261,   300] \t Loss: 3932.002 \t T: 0.010\n",
      "[261,   400] \t Loss: 3974.625 \t T: 0.010\n"
     ]
    },
    {
     "name": "stderr",
     "output_type": "stream",
     "text": [
      " 87%|███████████████████████████████████▋     | 261/300 [13:44<02:07,  3.27s/it]"
     ]
    },
    {
     "name": "stdout",
     "output_type": "stream",
     "text": [
      "[262,   100] \t Loss: 3936.840 \t T: 0.010\n",
      "[262,   200] \t Loss: 3944.773 \t T: 0.010\n",
      "[262,   300] \t Loss: 3967.126 \t T: 0.010\n",
      "[262,   400] \t Loss: 3969.125 \t T: 0.010\n"
     ]
    },
    {
     "name": "stderr",
     "output_type": "stream",
     "text": [
      " 87%|███████████████████████████████████▊     | 262/300 [13:47<02:02,  3.22s/it]"
     ]
    },
    {
     "name": "stdout",
     "output_type": "stream",
     "text": [
      "[263,   100] \t Loss: 3961.110 \t T: 0.010\n",
      "[263,   200] \t Loss: 3939.948 \t T: 0.010\n",
      "[263,   300] \t Loss: 3941.462 \t T: 0.010\n",
      "[263,   400] \t Loss: 3943.717 \t T: 0.010\n"
     ]
    },
    {
     "name": "stderr",
     "output_type": "stream",
     "text": [
      " 88%|███████████████████████████████████▉     | 263/300 [13:50<01:58,  3.21s/it]"
     ]
    },
    {
     "name": "stdout",
     "output_type": "stream",
     "text": [
      "[264,   100] \t Loss: 3931.416 \t T: 0.010\n",
      "[264,   200] \t Loss: 3964.926 \t T: 0.010\n",
      "[264,   300] \t Loss: 3929.117 \t T: 0.010\n",
      "[264,   400] \t Loss: 3947.130 \t T: 0.010\n"
     ]
    },
    {
     "name": "stderr",
     "output_type": "stream",
     "text": [
      " 88%|████████████████████████████████████     | 264/300 [13:53<01:55,  3.20s/it]"
     ]
    },
    {
     "name": "stdout",
     "output_type": "stream",
     "text": [
      "[265,   100] \t Loss: 3980.544 \t T: 0.010\n",
      "[265,   200] \t Loss: 3953.398 \t T: 0.010\n",
      "[265,   300] \t Loss: 3945.512 \t T: 0.010\n",
      "[265,   400] \t Loss: 3903.351 \t T: 0.010\n"
     ]
    },
    {
     "name": "stderr",
     "output_type": "stream",
     "text": [
      " 88%|████████████████████████████████████▏    | 265/300 [13:57<01:51,  3.20s/it]"
     ]
    },
    {
     "name": "stdout",
     "output_type": "stream",
     "text": [
      "[266,   100] \t Loss: 3964.950 \t T: 0.010\n",
      "[266,   200] \t Loss: 3943.155 \t T: 0.010\n",
      "[266,   300] \t Loss: 3932.049 \t T: 0.010\n",
      "[266,   400] \t Loss: 3951.608 \t T: 0.010\n"
     ]
    },
    {
     "name": "stderr",
     "output_type": "stream",
     "text": [
      " 89%|████████████████████████████████████▎    | 266/300 [14:00<01:49,  3.23s/it]"
     ]
    },
    {
     "name": "stdout",
     "output_type": "stream",
     "text": [
      "[267,   100] \t Loss: 3927.225 \t T: 0.010\n",
      "[267,   200] \t Loss: 3965.882 \t T: 0.010\n",
      "[267,   300] \t Loss: 3942.729 \t T: 0.010\n",
      "[267,   400] \t Loss: 3919.735 \t T: 0.010\n"
     ]
    },
    {
     "name": "stderr",
     "output_type": "stream",
     "text": [
      " 89%|████████████████████████████████████▍    | 267/300 [14:03<01:46,  3.21s/it]"
     ]
    },
    {
     "name": "stdout",
     "output_type": "stream",
     "text": [
      "[268,   100] \t Loss: 3934.410 \t T: 0.010\n",
      "[268,   200] \t Loss: 3950.632 \t T: 0.010\n",
      "[268,   300] \t Loss: 3932.726 \t T: 0.010\n",
      "[268,   400] \t Loss: 3943.642 \t T: 0.010\n"
     ]
    },
    {
     "name": "stderr",
     "output_type": "stream",
     "text": [
      " 89%|████████████████████████████████████▋    | 268/300 [14:06<01:42,  3.20s/it]"
     ]
    },
    {
     "name": "stdout",
     "output_type": "stream",
     "text": [
      "[269,   100] \t Loss: 3971.985 \t T: 0.010\n",
      "[269,   200] \t Loss: 3978.277 \t T: 0.010\n",
      "[269,   300] \t Loss: 3907.404 \t T: 0.010\n",
      "[269,   400] \t Loss: 3939.323 \t T: 0.010\n"
     ]
    },
    {
     "name": "stderr",
     "output_type": "stream",
     "text": [
      " 90%|████████████████████████████████████▊    | 269/300 [14:09<01:38,  3.17s/it]"
     ]
    },
    {
     "name": "stdout",
     "output_type": "stream",
     "text": [
      "[270,   100] \t Loss: 3949.726 \t T: 0.010\n",
      "[270,   200] \t Loss: 3942.292 \t T: 0.010\n",
      "[270,   300] \t Loss: 3955.293 \t T: 0.010\n",
      "[270,   400] \t Loss: 3914.730 \t T: 0.010\n"
     ]
    },
    {
     "name": "stderr",
     "output_type": "stream",
     "text": [
      " 90%|████████████████████████████████████▉    | 270/300 [14:12<01:34,  3.14s/it]"
     ]
    },
    {
     "name": "stdout",
     "output_type": "stream",
     "text": [
      "[271,   100] \t Loss: 3933.938 \t T: 0.010\n",
      "[271,   200] \t Loss: 3942.862 \t T: 0.010\n",
      "[271,   300] \t Loss: 3957.047 \t T: 0.010\n",
      "[271,   400] \t Loss: 3949.889 \t T: 0.010\n"
     ]
    },
    {
     "name": "stderr",
     "output_type": "stream",
     "text": [
      " 90%|█████████████████████████████████████    | 271/300 [14:15<01:30,  3.13s/it]"
     ]
    },
    {
     "name": "stdout",
     "output_type": "stream",
     "text": [
      "[272,   100] \t Loss: 3940.511 \t T: 0.010\n",
      "[272,   200] \t Loss: 3928.440 \t T: 0.010\n",
      "[272,   300] \t Loss: 3935.532 \t T: 0.010\n",
      "[272,   400] \t Loss: 3927.451 \t T: 0.010\n"
     ]
    },
    {
     "name": "stderr",
     "output_type": "stream",
     "text": [
      " 91%|█████████████████████████████████████▏   | 272/300 [14:19<01:27,  3.12s/it]"
     ]
    },
    {
     "name": "stdout",
     "output_type": "stream",
     "text": [
      "[273,   100] \t Loss: 3939.146 \t T: 0.010\n",
      "[273,   200] \t Loss: 3942.779 \t T: 0.010\n",
      "[273,   300] \t Loss: 3923.757 \t T: 0.010\n",
      "[273,   400] \t Loss: 3941.112 \t T: 0.010\n"
     ]
    },
    {
     "name": "stderr",
     "output_type": "stream",
     "text": [
      " 91%|█████████████████████████████████████▎   | 273/300 [14:22<01:24,  3.13s/it]"
     ]
    },
    {
     "name": "stdout",
     "output_type": "stream",
     "text": [
      "[274,   100] \t Loss: 3928.505 \t T: 0.010\n",
      "[274,   200] \t Loss: 3969.394 \t T: 0.010\n",
      "[274,   300] \t Loss: 3924.336 \t T: 0.010\n",
      "[274,   400] \t Loss: 3932.493 \t T: 0.010\n"
     ]
    },
    {
     "name": "stderr",
     "output_type": "stream",
     "text": [
      " 91%|█████████████████████████████████████▍   | 274/300 [14:25<01:21,  3.15s/it]"
     ]
    },
    {
     "name": "stdout",
     "output_type": "stream",
     "text": [
      "[275,   100] \t Loss: 3939.918 \t T: 0.010\n",
      "[275,   200] \t Loss: 3929.692 \t T: 0.010\n",
      "[275,   300] \t Loss: 3939.304 \t T: 0.010\n",
      "[275,   400] \t Loss: 3921.011 \t T: 0.010\n"
     ]
    },
    {
     "name": "stderr",
     "output_type": "stream",
     "text": [
      " 92%|█████████████████████████████████████▌   | 275/300 [14:28<01:19,  3.16s/it]"
     ]
    },
    {
     "name": "stdout",
     "output_type": "stream",
     "text": [
      "[276,   100] \t Loss: 3946.514 \t T: 0.010\n",
      "[276,   200] \t Loss: 3922.478 \t T: 0.010\n",
      "[276,   300] \t Loss: 3950.491 \t T: 0.010\n",
      "[276,   400] \t Loss: 3914.010 \t T: 0.010\n"
     ]
    },
    {
     "name": "stderr",
     "output_type": "stream",
     "text": [
      " 92%|█████████████████████████████████████▋   | 276/300 [14:31<01:15,  3.15s/it]"
     ]
    },
    {
     "name": "stdout",
     "output_type": "stream",
     "text": [
      "[277,   100] \t Loss: 3916.479 \t T: 0.010\n",
      "[277,   200] \t Loss: 3908.300 \t T: 0.010\n",
      "[277,   300] \t Loss: 3963.819 \t T: 0.010\n",
      "[277,   400] \t Loss: 3946.853 \t T: 0.010\n"
     ]
    },
    {
     "name": "stderr",
     "output_type": "stream",
     "text": [
      " 92%|█████████████████████████████████████▊   | 277/300 [14:35<01:13,  3.20s/it]"
     ]
    },
    {
     "name": "stdout",
     "output_type": "stream",
     "text": [
      "[278,   100] \t Loss: 3928.813 \t T: 0.010\n",
      "[278,   200] \t Loss: 3940.313 \t T: 0.010\n",
      "[278,   300] \t Loss: 3961.986 \t T: 0.010\n",
      "[278,   400] \t Loss: 3890.504 \t T: 0.010\n"
     ]
    },
    {
     "name": "stderr",
     "output_type": "stream",
     "text": [
      " 93%|█████████████████████████████████████▉   | 278/300 [14:38<01:10,  3.23s/it]"
     ]
    },
    {
     "name": "stdout",
     "output_type": "stream",
     "text": [
      "[279,   100] \t Loss: 3914.882 \t T: 0.010\n",
      "[279,   200] \t Loss: 3943.871 \t T: 0.010\n",
      "[279,   300] \t Loss: 3925.556 \t T: 0.010\n",
      "[279,   400] \t Loss: 3933.232 \t T: 0.010\n"
     ]
    },
    {
     "name": "stderr",
     "output_type": "stream",
     "text": [
      " 93%|██████████████████████████████████████▏  | 279/300 [14:41<01:08,  3.26s/it]"
     ]
    },
    {
     "name": "stdout",
     "output_type": "stream",
     "text": [
      "[280,   100] \t Loss: 3933.368 \t T: 0.010\n",
      "[280,   200] \t Loss: 3930.883 \t T: 0.010\n",
      "[280,   300] \t Loss: 3931.715 \t T: 0.010\n",
      "[280,   400] \t Loss: 3926.045 \t T: 0.010\n"
     ]
    },
    {
     "name": "stderr",
     "output_type": "stream",
     "text": [
      " 93%|██████████████████████████████████████▎  | 280/300 [14:44<01:04,  3.21s/it]"
     ]
    },
    {
     "name": "stdout",
     "output_type": "stream",
     "text": [
      "[281,   100] \t Loss: 3944.824 \t T: 0.010\n",
      "[281,   200] \t Loss: 3953.442 \t T: 0.010\n",
      "[281,   300] \t Loss: 3949.154 \t T: 0.010\n",
      "[281,   400] \t Loss: 3922.922 \t T: 0.010\n"
     ]
    },
    {
     "name": "stderr",
     "output_type": "stream",
     "text": [
      " 94%|██████████████████████████████████████▍  | 281/300 [14:47<01:00,  3.19s/it]"
     ]
    },
    {
     "name": "stdout",
     "output_type": "stream",
     "text": [
      "[282,   100] \t Loss: 3927.546 \t T: 0.010\n",
      "[282,   200] \t Loss: 3924.893 \t T: 0.010\n",
      "[282,   300] \t Loss: 3917.794 \t T: 0.010\n",
      "[282,   400] \t Loss: 3936.298 \t T: 0.010\n"
     ]
    },
    {
     "name": "stderr",
     "output_type": "stream",
     "text": [
      " 94%|██████████████████████████████████████▌  | 282/300 [14:50<00:57,  3.17s/it]"
     ]
    },
    {
     "name": "stdout",
     "output_type": "stream",
     "text": [
      "[283,   100] \t Loss: 3931.484 \t T: 0.010\n",
      "[283,   200] \t Loss: 3939.132 \t T: 0.010\n",
      "[283,   300] \t Loss: 3911.050 \t T: 0.010\n",
      "[283,   400] \t Loss: 3916.328 \t T: 0.010\n"
     ]
    },
    {
     "name": "stderr",
     "output_type": "stream",
     "text": [
      " 94%|██████████████████████████████████████▋  | 283/300 [14:54<00:53,  3.16s/it]"
     ]
    },
    {
     "name": "stdout",
     "output_type": "stream",
     "text": [
      "[284,   100] \t Loss: 3903.176 \t T: 0.010\n",
      "[284,   200] \t Loss: 3950.398 \t T: 0.010\n",
      "[284,   300] \t Loss: 3908.791 \t T: 0.010\n",
      "[284,   400] \t Loss: 3946.396 \t T: 0.010\n"
     ]
    },
    {
     "name": "stderr",
     "output_type": "stream",
     "text": [
      " 95%|██████████████████████████████████████▊  | 284/300 [14:57<00:50,  3.15s/it]"
     ]
    },
    {
     "name": "stdout",
     "output_type": "stream",
     "text": [
      "[285,   100] \t Loss: 3905.108 \t T: 0.010\n",
      "[285,   200] \t Loss: 3931.350 \t T: 0.010\n",
      "[285,   300] \t Loss: 3950.704 \t T: 0.010\n",
      "[285,   400] \t Loss: 3930.375 \t T: 0.010\n"
     ]
    },
    {
     "name": "stderr",
     "output_type": "stream",
     "text": [
      " 95%|██████████████████████████████████████▉  | 285/300 [15:00<00:47,  3.17s/it]"
     ]
    },
    {
     "name": "stdout",
     "output_type": "stream",
     "text": [
      "[286,   100] \t Loss: 3917.290 \t T: 0.010\n",
      "[286,   200] \t Loss: 3911.686 \t T: 0.010\n",
      "[286,   300] \t Loss: 3954.386 \t T: 0.010\n",
      "[286,   400] \t Loss: 3936.127 \t T: 0.010\n"
     ]
    },
    {
     "name": "stderr",
     "output_type": "stream",
     "text": [
      " 95%|███████████████████████████████████████  | 286/300 [15:03<00:45,  3.21s/it]"
     ]
    },
    {
     "name": "stdout",
     "output_type": "stream",
     "text": [
      "[287,   100] \t Loss: 3917.870 \t T: 0.010\n",
      "[287,   200] \t Loss: 3940.206 \t T: 0.010\n",
      "[287,   300] \t Loss: 3940.901 \t T: 0.010\n",
      "[287,   400] \t Loss: 3894.747 \t T: 0.010\n"
     ]
    },
    {
     "name": "stderr",
     "output_type": "stream",
     "text": [
      " 96%|███████████████████████████████████████▏ | 287/300 [15:07<00:42,  3.24s/it]"
     ]
    },
    {
     "name": "stdout",
     "output_type": "stream",
     "text": [
      "[288,   100] \t Loss: 3951.532 \t T: 0.010\n",
      "[288,   200] \t Loss: 3901.451 \t T: 0.010\n",
      "[288,   300] \t Loss: 3926.335 \t T: 0.010\n",
      "[288,   400] \t Loss: 3934.069 \t T: 0.010\n"
     ]
    },
    {
     "name": "stderr",
     "output_type": "stream",
     "text": [
      " 96%|███████████████████████████████████████▎ | 288/300 [15:10<00:38,  3.24s/it]"
     ]
    },
    {
     "name": "stdout",
     "output_type": "stream",
     "text": [
      "[289,   100] \t Loss: 3932.945 \t T: 0.010\n",
      "[289,   200] \t Loss: 3936.985 \t T: 0.010\n",
      "[289,   300] \t Loss: 3915.334 \t T: 0.010\n",
      "[289,   400] \t Loss: 3905.321 \t T: 0.010\n"
     ]
    },
    {
     "name": "stderr",
     "output_type": "stream",
     "text": [
      " 96%|███████████████████████████████████████▍ | 289/300 [15:13<00:36,  3.27s/it]"
     ]
    },
    {
     "name": "stdout",
     "output_type": "stream",
     "text": [
      "[290,   100] \t Loss: 3921.909 \t T: 0.010\n",
      "[290,   200] \t Loss: 3919.588 \t T: 0.010\n",
      "[290,   300] \t Loss: 3960.605 \t T: 0.010\n",
      "[290,   400] \t Loss: 3913.681 \t T: 0.010\n"
     ]
    },
    {
     "name": "stderr",
     "output_type": "stream",
     "text": [
      " 97%|███████████████████████████████████████▋ | 290/300 [15:17<00:32,  3.29s/it]"
     ]
    },
    {
     "name": "stdout",
     "output_type": "stream",
     "text": [
      "[291,   100] \t Loss: 3913.562 \t T: 0.010\n",
      "[291,   200] \t Loss: 3939.400 \t T: 0.010\n",
      "[291,   300] \t Loss: 3937.120 \t T: 0.010\n",
      "[291,   400] \t Loss: 3957.771 \t T: 0.010\n"
     ]
    },
    {
     "name": "stderr",
     "output_type": "stream",
     "text": [
      " 97%|███████████████████████████████████████▊ | 291/300 [15:20<00:29,  3.24s/it]"
     ]
    },
    {
     "name": "stdout",
     "output_type": "stream",
     "text": [
      "[292,   100] \t Loss: 3929.499 \t T: 0.010\n",
      "[292,   200] \t Loss: 3927.975 \t T: 0.010\n",
      "[292,   300] \t Loss: 3924.008 \t T: 0.010\n",
      "[292,   400] \t Loss: 3919.810 \t T: 0.010\n"
     ]
    },
    {
     "name": "stderr",
     "output_type": "stream",
     "text": [
      " 97%|███████████████████████████████████████▉ | 292/300 [15:23<00:26,  3.30s/it]"
     ]
    },
    {
     "name": "stdout",
     "output_type": "stream",
     "text": [
      "[293,   100] \t Loss: 3948.856 \t T: 0.010\n",
      "[293,   200] \t Loss: 3906.917 \t T: 0.010\n",
      "[293,   300] \t Loss: 3926.785 \t T: 0.010\n",
      "[293,   400] \t Loss: 3946.275 \t T: 0.010\n"
     ]
    },
    {
     "name": "stderr",
     "output_type": "stream",
     "text": [
      " 98%|████████████████████████████████████████ | 293/300 [15:26<00:23,  3.31s/it]"
     ]
    },
    {
     "name": "stdout",
     "output_type": "stream",
     "text": [
      "[294,   100] \t Loss: 3944.850 \t T: 0.010\n",
      "[294,   200] \t Loss: 3933.103 \t T: 0.010\n",
      "[294,   300] \t Loss: 3908.529 \t T: 0.010\n",
      "[294,   400] \t Loss: 3918.718 \t T: 0.010\n"
     ]
    },
    {
     "name": "stderr",
     "output_type": "stream",
     "text": [
      " 98%|████████████████████████████████████████▏| 294/300 [15:30<00:19,  3.28s/it]"
     ]
    },
    {
     "name": "stdout",
     "output_type": "stream",
     "text": [
      "[295,   100] \t Loss: 3933.819 \t T: 0.010\n",
      "[295,   200] \t Loss: 3923.335 \t T: 0.010\n",
      "[295,   300] \t Loss: 3906.558 \t T: 0.010\n",
      "[295,   400] \t Loss: 3914.214 \t T: 0.010\n"
     ]
    },
    {
     "name": "stderr",
     "output_type": "stream",
     "text": [
      " 98%|████████████████████████████████████████▎| 295/300 [15:33<00:16,  3.30s/it]"
     ]
    },
    {
     "name": "stdout",
     "output_type": "stream",
     "text": [
      "[296,   100] \t Loss: 3933.015 \t T: 0.010\n",
      "[296,   200] \t Loss: 3909.331 \t T: 0.010\n",
      "[296,   300] \t Loss: 3951.457 \t T: 0.010\n",
      "[296,   400] \t Loss: 3904.781 \t T: 0.010\n"
     ]
    },
    {
     "name": "stderr",
     "output_type": "stream",
     "text": [
      " 99%|████████████████████████████████████████▍| 296/300 [15:36<00:13,  3.28s/it]"
     ]
    },
    {
     "name": "stdout",
     "output_type": "stream",
     "text": [
      "[297,   100] \t Loss: 3897.035 \t T: 0.010\n",
      "[297,   200] \t Loss: 3919.280 \t T: 0.010\n",
      "[297,   300] \t Loss: 3929.692 \t T: 0.010\n",
      "[297,   400] \t Loss: 3925.138 \t T: 0.010\n"
     ]
    },
    {
     "name": "stderr",
     "output_type": "stream",
     "text": [
      " 99%|████████████████████████████████████████▌| 297/300 [15:39<00:09,  3.23s/it]"
     ]
    },
    {
     "name": "stdout",
     "output_type": "stream",
     "text": [
      "[298,   100] \t Loss: 3946.163 \t T: 0.010\n",
      "[298,   200] \t Loss: 3909.600 \t T: 0.010\n",
      "[298,   300] \t Loss: 3924.082 \t T: 0.010\n",
      "[298,   400] \t Loss: 3911.256 \t T: 0.010\n"
     ]
    },
    {
     "name": "stderr",
     "output_type": "stream",
     "text": [
      " 99%|████████████████████████████████████████▋| 298/300 [15:42<00:06,  3.19s/it]"
     ]
    },
    {
     "name": "stdout",
     "output_type": "stream",
     "text": [
      "[299,   100] \t Loss: 3938.318 \t T: 0.010\n",
      "[299,   200] \t Loss: 3928.655 \t T: 0.010\n",
      "[299,   300] \t Loss: 3911.379 \t T: 0.010\n",
      "[299,   400] \t Loss: 3913.230 \t T: 0.010\n"
     ]
    },
    {
     "name": "stderr",
     "output_type": "stream",
     "text": [
      "100%|████████████████████████████████████████▊| 299/300 [15:46<00:03,  3.17s/it]"
     ]
    },
    {
     "name": "stdout",
     "output_type": "stream",
     "text": [
      "[300,   100] \t Loss: 3922.126 \t T: 0.010\n",
      "[300,   200] \t Loss: 3914.424 \t T: 0.010\n",
      "[300,   300] \t Loss: 3952.996 \t T: 0.010\n",
      "[300,   400] \t Loss: 3934.375 \t T: 0.010\n"
     ]
    },
    {
     "name": "stderr",
     "output_type": "stream",
     "text": [
      "100%|█████████████████████████████████████████| 300/300 [15:49<00:00,  3.16s/it]"
     ]
    },
    {
     "name": "stdout",
     "output_type": "stream",
     "text": [
      "Finished Training.\n",
      "Saved model parameters to disk.\n",
      "\n",
      "====================================================================================================\n",
      "\n"
     ]
    },
    {
     "name": "stderr",
     "output_type": "stream",
     "text": [
      "\n"
     ]
    }
   ],
   "source": [
    "for k in range(1, n_models + 1):\n",
    "    print(f\"Model number {k}...\")\n",
    "    # model = Autoencoder(latent_dims, **modes_dict[mode])\n",
    "    \n",
    "    model, loss = train_mars(k, latent_dims, mode, load=False)\n",
    "    \n",
    "    losses.append(loss)\n",
    "    models.append(model)\n",
    "    \n",
    "    print()\n",
    "    print(100*'=')\n",
    "    print()"
   ]
  },
  {
   "cell_type": "markdown",
   "metadata": {},
   "source": [
    "### Compression info"
   ]
  },
  {
   "cell_type": "code",
   "execution_count": 11,
   "metadata": {},
   "outputs": [],
   "source": [
    "def get_comp_info(model):\n",
    "    \"Plot model masks probabilities, print compression info and return total compression.\"\n",
    "    MARS_layers = [l for l in model.modules() if isinstance(l, MARS)]\n",
    "    \n",
    "    ranks_list = []\n",
    "    totals, dofs = [], []\n",
    "\n",
    "    for l in MARS_layers:\n",
    "        print(\"Layer: \", l.tensorized_model)\n",
    "        phi_logits_list = l.phi_logits_list\n",
    "        F = l.F\n",
    "        eval_logits_threshold = l.eval_logits_threshold\n",
    "        p_threshold = F(torch.tensor(eval_logits_threshold)).item()\n",
    "        ranks = []\n",
    "\n",
    "        for m, logits in enumerate(phi_logits_list, 1):\n",
    "            logits = logits.detach().cpu()\n",
    "            probs = F(logits).data.numpy()\n",
    "            \n",
    "            plt.title(f\"Mask {m}\")\n",
    "            plt.bar(np.arange(1, len(probs) + 1), probs)\n",
    "            plt.xlabel('Rank')\n",
    "            plt.ylabel(r'$\\phi$ value')\n",
    "            plt.hlines(p_threshold, 0, len(probs) + 1, linestyles='--')\n",
    "            plt.text(0, p_threshold * 1.05, 'Rounding threshold')\n",
    "            plt.show()\n",
    "\n",
    "            rank = (logits > eval_logits_threshold).sum().item()\n",
    "            print(\"#nz ranks: {0}/{1}\".format(rank, len(logits)))\n",
    "            ranks.append(rank)\n",
    "\n",
    "        ranks_list.append(ranks)\n",
    "        print()\n",
    "        \n",
    "        dofs.append(l.tensorized_model.calc_dof(ranks))\n",
    "        totals.append(l.tensorized_model.total)\n",
    "        comp = totals[-1] / dofs[-1]\n",
    "        \n",
    "        print(\"Compression:\\t%.3f\" % comp)\n",
    "        print(100*\"=\")\n",
    "\n",
    "    all_params = sum(p.numel() for p in model.parameters())\n",
    "    mars_params = sum(logits.numel() for l in MARS_layers for logits in l.phi_logits_list)\n",
    "    mars_params += sum(l.tensorized_model.calc_dof() for l in MARS_layers)\n",
    "    other_params = all_params - mars_params\n",
    "    \n",
    "    total_comp = (other_params + sum(totals)) / (other_params + sum(dofs))\n",
    "    print(\"Total compression:\\t%.3f\" % total_comp)\n",
    "    \n",
    "    return total_comp"
   ]
  },
  {
   "cell_type": "code",
   "execution_count": 12,
   "metadata": {
    "scrolled": true
   },
   "outputs": [
    {
     "name": "stdout",
     "output_type": "stream",
     "text": [
      "Model number 1...\n",
      "\n",
      "Layer:  Factorized Linear: [784, 512] -> [784, 100]-[100, 512]\n"
     ]
    },
    {
     "data": {
      "image/png": "[encoded data removed]",
      "text/plain": [
       "<Figure size 1280x960 with 1 Axes>"
      ]
     },
     "metadata": {},
     "output_type": "display_data"
    },
    {
     "name": "stdout",
     "output_type": "stream",
     "text": [
      "#nz ranks: 67/100\n",
      "\n",
      "Compression:\t4.623\n",
      "====================================================================================================\n",
      "Layer:  Factorized Linear: [512, 784] -> [512, 100]-[100, 784]\n"
     ]
    },
    {
     "data": {
      "image/png": "[encoded data removed]",
      "text/plain": [
       "<Figure size 1280x960 with 1 Axes>"
      ]
     },
     "metadata": {},
     "output_type": "display_data"
    },
    {
     "name": "stdout",
     "output_type": "stream",
     "text": [
      "#nz ranks: 93/100\n",
      "\n",
      "Compression:\t3.330\n",
      "====================================================================================================\n",
      "Total compression:\t3.819\n",
      "\n",
      "\n",
      "----------------------------------------------------------------------------------------------------\n",
      "----------------------------------------------------------------------------------------------------\n",
      "----------------------------------------------------------------------------------------------------\n",
      "\n",
      "\n"
     ]
    }
   ],
   "source": [
    "comps = []\n",
    "\n",
    "for k, model in enumerate(models, 1):\n",
    "    print(f\"Model number {k}...\")\n",
    "    print()\n",
    "    comps.append(get_comp_info(model))\n",
    "    print()\n",
    "    print()\n",
    "    print(100*'-')\n",
    "    print(100*'-')\n",
    "    print(100*'-')\n",
    "    print()\n",
    "    print()"
   ]
  },
  {
   "cell_type": "markdown",
   "metadata": {},
   "source": [
    "Next, we will write some code to train the autoencoder on the MNIST dataset."
   ]
  },
  {
   "cell_type": "markdown",
   "metadata": {},
   "source": [
    "What should we look at once we've trained an autoencoder? I think that the following things are useful:\n",
    "\n",
    "1. Look at the latent space. If the latent space is 2-dimensional, then we can transform a batch of inputs $x$ using the encoder and make a scatterplot of the output vectors. Since we also have access to labels for MNIST, we can colour code the outputs to see what they look like.\n",
    "2. Sample the latent space to produce output. If the latent space is 2-dimensional, we can sample latent vectors $z$ from the latent space over a uniform grid and plot the decoded latent vectors on a grid."
   ]
  },
  {
   "cell_type": "code",
   "execution_count": 13,
   "metadata": {},
   "outputs": [],
   "source": [
    "def plot_latent(autoencoder, data, num_batches=100):\n",
    "    for i, (x, y) in enumerate(data):\n",
    "        z = autoencoder.encoder(x.to(device))\n",
    "        z = z.to('cpu').detach().numpy()\n",
    "        plt.scatter(z[:, 0], z[:, 1], c=y, cmap='tab10')\n",
    "        if i > num_batches:\n",
    "            plt.colorbar()\n",
    "            plt.savefig(\"images/FactorizedAE-Hard-latent\")\n",
    "            break"
   ]
  },
  {
   "cell_type": "markdown",
   "metadata": {},
   "source": [
    "The resulting latent vectors cluster similar digits together. We can also sample uniformly from the latent space and see how the decoder reconstructs inputs from arbitrary latent vectors."
   ]
  },
  {
   "cell_type": "code",
   "execution_count": 14,
   "metadata": {},
   "outputs": [
    {
     "data": {
      "image/png": "[encoded data removed]",
      "text/plain": [
       "<Figure size 1280x960 with 2 Axes>"
      ]
     },
     "metadata": {},
     "output_type": "display_data"
    }
   ],
   "source": [
    "plot_latent(models[0], data)"
   ]
  },
  {
   "cell_type": "code",
   "execution_count": 15,
   "metadata": {},
   "outputs": [],
   "source": [
    "def plot_reconstructed(autoencoder, r0=(-5, 10), r1=(-10, 5), n=12):\n",
    "    w = 28\n",
    "    img = np.zeros((n*w, n*w))\n",
    "    for i, y in enumerate(np.linspace(*r1, n)):\n",
    "        for j, x in enumerate(np.linspace(*r0, n)):\n",
    "            z = torch.Tensor([[x, y]]).to(device)\n",
    "            x_hat = autoencoder.decoder(z)\n",
    "            x_hat = x_hat.reshape(28, 28).to('cpu').detach().numpy()\n",
    "            img[(n-1-i)*w:(n-1-i+1)*w, j*w:(j+1)*w] = x_hat\n",
    "    plt.imshow(img, extent=[*r0, *r1])\n",
    "    plt.savefig(\"images/FactorizedAE-Hard-reconstructed\")"
   ]
  },
  {
   "cell_type": "code",
   "execution_count": 16,
   "metadata": {},
   "outputs": [
    {
     "data": {
      "image/png": "[encoded data removed]",
      "text/plain": [
       "<Figure size 1280x960 with 1 Axes>"
      ]
     },
     "metadata": {},
     "output_type": "display_data"
    }
   ],
   "source": [
    "plot_reconstructed(models[0])"
   ]
  },
  {
   "cell_type": "markdown",
   "metadata": {},
   "source": [
    "## Time"
   ]
  },
  {
   "cell_type": "code",
   "execution_count": 17,
   "metadata": {},
   "outputs": [],
   "source": [
    "batch = next(iter(data))[0]"
   ]
  },
  {
   "cell_type": "code",
   "execution_count": 19,
   "metadata": {},
   "outputs": [
    {
     "name": "stdout",
     "output_type": "stream",
     "text": [
      "615 µs ± 3.61 µs per loop (mean ± std. dev. of 7 runs, 1,000 loops each)\n"
     ]
    }
   ],
   "source": [
    "%timeit models[0](batch)"
   ]
  },
  {
   "cell_type": "code",
   "execution_count": null,
   "metadata": {},
   "outputs": [],
   "source": []
  }
 ],
 "metadata": {
  "kernelspec": {
   "display_name": "torch-tensor",
   "language": "python",
   "name": "torch-tensor"
  },
  "language_info": {
   "codemirror_mode": {
    "name": "ipython",
    "version": 3
   },
   "file_extension": ".py",
   "mimetype": "text/x-python",
   "name": "python",
   "nbconvert_exporter": "python",
   "pygments_lexer": "ipython3",
   "version": "3.11.0"
  }
 },
 "nbformat": 4,
 "nbformat_minor": 4
}
